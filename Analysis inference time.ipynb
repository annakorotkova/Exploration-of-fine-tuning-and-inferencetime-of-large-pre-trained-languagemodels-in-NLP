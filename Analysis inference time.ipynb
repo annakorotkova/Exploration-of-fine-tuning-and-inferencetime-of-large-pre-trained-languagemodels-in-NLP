{
 "cells": [
  {
   "cell_type": "markdown",
   "metadata": {},
   "source": [
    "### Analysis  of inference time"
   ]
  },
  {
   "cell_type": "code",
   "execution_count": 2,
   "metadata": {
    "colab": {},
    "colab_type": "code",
    "id": "N8YMThFjBvSg",
    "scrolled": false
   },
   "outputs": [],
   "source": [
    "# load important modules\n",
    "\n",
    "import pandas as pd\n",
    "import numpy as np \n",
    "import matplotlib.pyplot as plt\n",
    "import seaborn as sns\n",
    "from collections import defaultdict\n",
    "import math"
   ]
  },
  {
   "cell_type": "code",
   "execution_count": 3,
   "metadata": {},
   "outputs": [],
   "source": [
    "# Load the datasets into a pandas dataframe.\n",
    "\n",
    "## WNLI\n",
    "wnli_uncased = pd.read_csv(\"C:/Users/annko/Documents/Masterthesis/wandb/inference time/WNLI_uncased.csv\", \n",
    "                   delimiter=',', decimal=',', index_col = 0)\n",
    "\n",
    "## RTE\n",
    "rte_uncased = pd.read_csv(\"C:/Users/annko/Documents/Masterthesis/wandb/inference time/RTE_uncased.csv\", \n",
    "                   delimiter=',', decimal=',', index_col = 0)\n",
    "\n",
    "rte_cased = pd.read_csv(\"C:/Users/annko/Documents/Masterthesis/wandb/inference time/RTE_cased.csv\", \n",
    "                   delimiter=',', decimal=',', index_col = 0)\n",
    "\n",
    "## MRPC\n",
    "mrpc_all = pd.read_csv(\"C:/Users/annko/Documents/Masterthesis/wandb/inference time/MRPC_all.csv\", \n",
    "                   delimiter=',', decimal=',', index_col = 0)\n",
    "\n",
    "## CoLA\n",
    "cola_all = pd.read_csv(\"C:/Users/annko/Documents/Masterthesis/wandb/inference time/CoLa_all.csv\", \n",
    "                   delimiter=',', decimal=',', index_col = 0)\n",
    "\n",
    "## SST-B\n",
    "stsb_all = pd.read_csv(\"C:/Users/annko/Documents/Masterthesis/wandb/inference time/STS-B_all.csv\", \n",
    "                   delimiter=',', decimal=',', index_col = 0)\n",
    "\n",
    "data = pd.concat([wnli_uncased, rte_uncased, rte_cased, mrpc_all, cola_all, stsb_all])"
   ]
  },
  {
   "cell_type": "code",
   "execution_count": 4,
   "metadata": {
    "colab": {
     "base_uri": "https://localhost:8080/",
     "height": 35
    },
    "colab_type": "code",
    "id": "VEI0ZBrrC81W",
    "outputId": "b2597b69-bf02-4918-ae2c-485abfbca777"
   },
   "outputs": [
    {
     "name": "stdout",
     "output_type": "stream",
     "text": [
      "(297, 18)\n"
     ]
    },
    {
     "data": {
      "text/html": [
       "<div>\n",
       "<style scoped>\n",
       "    .dataframe tbody tr th:only-of-type {\n",
       "        vertical-align: middle;\n",
       "    }\n",
       "\n",
       "    .dataframe tbody tr th {\n",
       "        vertical-align: top;\n",
       "    }\n",
       "\n",
       "    .dataframe thead th {\n",
       "        text-align: right;\n",
       "    }\n",
       "</style>\n",
       "<table border=\"1\" class=\"dataframe\">\n",
       "  <thead>\n",
       "    <tr style=\"text-align: right;\">\n",
       "      <th></th>\n",
       "      <th>State</th>\n",
       "      <th>task_name</th>\n",
       "      <th>model_name_or_path</th>\n",
       "      <th>learning_rate</th>\n",
       "      <th>per_device_eval_batch_size</th>\n",
       "      <th>max_seq_length</th>\n",
       "      <th>eval_steps</th>\n",
       "      <th>eval_acc</th>\n",
       "      <th>eval_loss</th>\n",
       "      <th>eval_corr</th>\n",
       "      <th>eval_f1</th>\n",
       "      <th>eval_mcc</th>\n",
       "      <th>eval_pearson</th>\n",
       "      <th>eval_spearmanr</th>\n",
       "      <th>inference_time_list</th>\n",
       "      <th>finetuning_iters</th>\n",
       "      <th>weight_decay</th>\n",
       "      <th>per_device_train_batch_size</th>\n",
       "    </tr>\n",
       "  </thead>\n",
       "  <tbody>\n",
       "    <tr>\n",
       "      <th>0</th>\n",
       "      <td>finished</td>\n",
       "      <td>WNLI</td>\n",
       "      <td>xlnet-base-cased</td>\n",
       "      <td>0.00005</td>\n",
       "      <td>32</td>\n",
       "      <td>512</td>\n",
       "      <td>1000</td>\n",
       "      <td>0.5633802816901409</td>\n",
       "      <td>0.6876857082049052</td>\n",
       "      <td>NaN</td>\n",
       "      <td>NaN</td>\n",
       "      <td>NaN</td>\n",
       "      <td>NaN</td>\n",
       "      <td>NaN</td>\n",
       "      <td>[27.37428379058838,29.795268535614017,8.499287...</td>\n",
       "      <td>1</td>\n",
       "      <td>0.01</td>\n",
       "      <td>32</td>\n",
       "    </tr>\n",
       "    <tr>\n",
       "      <th>1</th>\n",
       "      <td>finished</td>\n",
       "      <td>WNLI</td>\n",
       "      <td>xlnet-base-cased</td>\n",
       "      <td>0.00005</td>\n",
       "      <td>16</td>\n",
       "      <td>512</td>\n",
       "      <td>1000</td>\n",
       "      <td>0.5633802816901409</td>\n",
       "      <td>0.6922690868377686</td>\n",
       "      <td>NaN</td>\n",
       "      <td>NaN</td>\n",
       "      <td>NaN</td>\n",
       "      <td>NaN</td>\n",
       "      <td>NaN</td>\n",
       "      <td>[15.803596496582031,16.847050189971924,18.1047...</td>\n",
       "      <td>1</td>\n",
       "      <td>0.01</td>\n",
       "      <td>32</td>\n",
       "    </tr>\n",
       "    <tr>\n",
       "      <th>2</th>\n",
       "      <td>finished</td>\n",
       "      <td>WNLI</td>\n",
       "      <td>xlnet-base-cased</td>\n",
       "      <td>0.00005</td>\n",
       "      <td>8</td>\n",
       "      <td>512</td>\n",
       "      <td>1000</td>\n",
       "      <td>0.5633802816901409</td>\n",
       "      <td>0.6953247057067024</td>\n",
       "      <td>NaN</td>\n",
       "      <td>NaN</td>\n",
       "      <td>NaN</td>\n",
       "      <td>NaN</td>\n",
       "      <td>NaN</td>\n",
       "      <td>[8.346511363983154,9.028968334197998,9.0649039...</td>\n",
       "      <td>1</td>\n",
       "      <td>0.01</td>\n",
       "      <td>32</td>\n",
       "    </tr>\n",
       "    <tr>\n",
       "      <th>3</th>\n",
       "      <td>finished</td>\n",
       "      <td>WNLI</td>\n",
       "      <td>albert-base-v1</td>\n",
       "      <td>0.00005</td>\n",
       "      <td>32</td>\n",
       "      <td>512</td>\n",
       "      <td>1000</td>\n",
       "      <td>0.5352112676056338</td>\n",
       "      <td>0.7054780324300131</td>\n",
       "      <td>NaN</td>\n",
       "      <td>NaN</td>\n",
       "      <td>NaN</td>\n",
       "      <td>NaN</td>\n",
       "      <td>NaN</td>\n",
       "      <td>[7.800238132476807,7.557276248931885,1.7162435...</td>\n",
       "      <td>1</td>\n",
       "      <td>0.01</td>\n",
       "      <td>32</td>\n",
       "    </tr>\n",
       "    <tr>\n",
       "      <th>4</th>\n",
       "      <td>finished</td>\n",
       "      <td>WNLI</td>\n",
       "      <td>albert-base-v1</td>\n",
       "      <td>0.00005</td>\n",
       "      <td>16</td>\n",
       "      <td>512</td>\n",
       "      <td>1000</td>\n",
       "      <td>0.5352112676056338</td>\n",
       "      <td>0.7036268472671509</td>\n",
       "      <td>NaN</td>\n",
       "      <td>NaN</td>\n",
       "      <td>NaN</td>\n",
       "      <td>NaN</td>\n",
       "      <td>NaN</td>\n",
       "      <td>[3.5223352909088135,3.8956010341644287,3.68044...</td>\n",
       "      <td>1</td>\n",
       "      <td>0.01</td>\n",
       "      <td>32</td>\n",
       "    </tr>\n",
       "  </tbody>\n",
       "</table>\n",
       "</div>"
      ],
      "text/plain": [
       "      State task_name model_name_or_path learning_rate  \\\n",
       "0  finished      WNLI   xlnet-base-cased       0.00005   \n",
       "1  finished      WNLI   xlnet-base-cased       0.00005   \n",
       "2  finished      WNLI   xlnet-base-cased       0.00005   \n",
       "3  finished      WNLI     albert-base-v1       0.00005   \n",
       "4  finished      WNLI     albert-base-v1       0.00005   \n",
       "\n",
       "   per_device_eval_batch_size  max_seq_length  eval_steps            eval_acc  \\\n",
       "0                          32             512        1000  0.5633802816901409   \n",
       "1                          16             512        1000  0.5633802816901409   \n",
       "2                           8             512        1000  0.5633802816901409   \n",
       "3                          32             512        1000  0.5352112676056338   \n",
       "4                          16             512        1000  0.5352112676056338   \n",
       "\n",
       "            eval_loss eval_corr eval_f1 eval_mcc eval_pearson eval_spearmanr  \\\n",
       "0  0.6876857082049052       NaN     NaN      NaN          NaN            NaN   \n",
       "1  0.6922690868377686       NaN     NaN      NaN          NaN            NaN   \n",
       "2  0.6953247057067024       NaN     NaN      NaN          NaN            NaN   \n",
       "3  0.7054780324300131       NaN     NaN      NaN          NaN            NaN   \n",
       "4  0.7036268472671509       NaN     NaN      NaN          NaN            NaN   \n",
       "\n",
       "                                 inference_time_list  finetuning_iters  \\\n",
       "0  [27.37428379058838,29.795268535614017,8.499287...                 1   \n",
       "1  [15.803596496582031,16.847050189971924,18.1047...                 1   \n",
       "2  [8.346511363983154,9.028968334197998,9.0649039...                 1   \n",
       "3  [7.800238132476807,7.557276248931885,1.7162435...                 1   \n",
       "4  [3.5223352909088135,3.8956010341644287,3.68044...                 1   \n",
       "\n",
       "  weight_decay  per_device_train_batch_size  \n",
       "0         0.01                           32  \n",
       "1         0.01                           32  \n",
       "2         0.01                           32  \n",
       "3         0.01                           32  \n",
       "4         0.01                           32  "
      ]
     },
     "execution_count": 4,
     "metadata": {},
     "output_type": "execute_result"
    }
   ],
   "source": [
    "# only regard important variables\n",
    "data2 = data[['State', 'task_name', 'model_name_or_path', 'learning_rate', 'per_device_eval_batch_size', 'max_seq_length', \n",
    "              'eval_steps', 'eval_acc', 'eval_loss', 'eval_corr', 'eval_f1', 'eval_mcc', 'eval_pearson', 'eval_spearmanr',\n",
    "              'inference_time_list', 'weight_decay', 'loss', 'per_device_train_batch_size']]\n",
    "data2.index = range(0,len(data2))\n",
    "print(data2.shape)\n",
    "data2.head()"
   ]
  },
  {
   "cell_type": "code",
   "execution_count": 5,
   "metadata": {},
   "outputs": [
    {
     "name": "stderr",
     "output_type": "stream",
     "text": [
      "C:\\Users\\annko\\anaconda3\\lib\\site-packages\\pandas\\core\\indexing.py:845: SettingWithCopyWarning: \n",
      "A value is trying to be set on a copy of a slice from a DataFrame.\n",
      "Try using .loc[row_indexer,col_indexer] = value instead\n",
      "\n",
      "See the caveats in the documentation: https://pandas.pydata.org/pandas-docs/stable/user_guide/indexing.html#returning-a-view-versus-a-copy\n",
      "  self.obj[key] = _infer_fill_value(value)\n",
      "C:\\Users\\annko\\anaconda3\\lib\\site-packages\\pandas\\core\\indexing.py:966: SettingWithCopyWarning: \n",
      "A value is trying to be set on a copy of a slice from a DataFrame.\n",
      "Try using .loc[row_indexer,col_indexer] = value instead\n",
      "\n",
      "See the caveats in the documentation: https://pandas.pydata.org/pandas-docs/stable/user_guide/indexing.html#returning-a-view-versus-a-copy\n",
      "  self.obj[item] = s\n"
     ]
    }
   ],
   "source": [
    "# add column with number of observations!!\n",
    "data2.loc[(data2.task_name == 'WNLI'), 'num_examples'] = 71\n",
    "data2.loc[(data2.task_name == 'RTE'), 'num_examples'] = 277\n",
    "data2.loc[(data2.task_name == 'MRPC'), 'num_examples'] = 408\n",
    "data2.loc[(data2.task_name == 'CoLA'), 'num_examples'] = 1043\n",
    "data2.loc[(data2.task_name == 'STS-B'), 'num_examples'] = 1500"
   ]
  },
  {
   "cell_type": "code",
   "execution_count": 39,
   "metadata": {
    "colab": {
     "base_uri": "https://localhost:8080/",
     "height": 220
    },
    "colab_type": "code",
    "id": "TEtCeGqw2ti2",
    "outputId": "0eac272e-6c76-4839-e65b-8c2f27dcb931"
   },
   "outputs": [
    {
     "data": {
      "text/plain": [
       "267"
      ]
     },
     "execution_count": 39,
     "metadata": {},
     "output_type": "execute_result"
    }
   ],
   "source": [
    "# there are some runs in the dataset that failed/crashed --> only include finished runs\n",
    "data3 = data2.loc[data2.State == 'finished']\n",
    "\n",
    "data3.shape[0] # number of examples"
   ]
  },
  {
   "cell_type": "code",
   "execution_count": 7,
   "metadata": {
    "colab": {
     "base_uri": "https://localhost:8080/",
     "height": 295
    },
    "colab_type": "code",
    "id": "OIp_Yl7JDd9l",
    "outputId": "8a9c22f0-6d21-4fd9-e169-0716606f2f56"
   },
   "outputs": [
    {
     "data": {
      "text/html": [
       "<div>\n",
       "<style scoped>\n",
       "    .dataframe tbody tr th:only-of-type {\n",
       "        vertical-align: middle;\n",
       "    }\n",
       "\n",
       "    .dataframe tbody tr th {\n",
       "        vertical-align: top;\n",
       "    }\n",
       "\n",
       "    .dataframe thead th {\n",
       "        text-align: right;\n",
       "    }\n",
       "</style>\n",
       "<table border=\"1\" class=\"dataframe\">\n",
       "  <thead>\n",
       "    <tr style=\"text-align: right;\">\n",
       "      <th></th>\n",
       "      <th>per_device_eval_batch_size</th>\n",
       "      <th>max_seq_length</th>\n",
       "      <th>eval_steps</th>\n",
       "      <th>finetuning_iters</th>\n",
       "      <th>per_device_train_batch_size</th>\n",
       "      <th>num_examples</th>\n",
       "    </tr>\n",
       "  </thead>\n",
       "  <tbody>\n",
       "    <tr>\n",
       "      <th>count</th>\n",
       "      <td>267.000000</td>\n",
       "      <td>267.000000</td>\n",
       "      <td>267.0</td>\n",
       "      <td>267.0</td>\n",
       "      <td>267.0</td>\n",
       "      <td>267.000000</td>\n",
       "    </tr>\n",
       "    <tr>\n",
       "      <th>mean</th>\n",
       "      <td>18.666667</td>\n",
       "      <td>303.460674</td>\n",
       "      <td>1000.0</td>\n",
       "      <td>1.0</td>\n",
       "      <td>32.0</td>\n",
       "      <td>654.168539</td>\n",
       "    </tr>\n",
       "    <tr>\n",
       "      <th>std</th>\n",
       "      <td>9.996491</td>\n",
       "      <td>161.278193</td>\n",
       "      <td>0.0</td>\n",
       "      <td>0.0</td>\n",
       "      <td>0.0</td>\n",
       "      <td>509.591770</td>\n",
       "    </tr>\n",
       "    <tr>\n",
       "      <th>min</th>\n",
       "      <td>8.000000</td>\n",
       "      <td>128.000000</td>\n",
       "      <td>1000.0</td>\n",
       "      <td>1.0</td>\n",
       "      <td>32.0</td>\n",
       "      <td>71.000000</td>\n",
       "    </tr>\n",
       "    <tr>\n",
       "      <th>25%</th>\n",
       "      <td>8.000000</td>\n",
       "      <td>128.000000</td>\n",
       "      <td>1000.0</td>\n",
       "      <td>1.0</td>\n",
       "      <td>32.0</td>\n",
       "      <td>277.000000</td>\n",
       "    </tr>\n",
       "    <tr>\n",
       "      <th>50%</th>\n",
       "      <td>16.000000</td>\n",
       "      <td>256.000000</td>\n",
       "      <td>1000.0</td>\n",
       "      <td>1.0</td>\n",
       "      <td>32.0</td>\n",
       "      <td>408.000000</td>\n",
       "    </tr>\n",
       "    <tr>\n",
       "      <th>75%</th>\n",
       "      <td>32.000000</td>\n",
       "      <td>512.000000</td>\n",
       "      <td>1000.0</td>\n",
       "      <td>1.0</td>\n",
       "      <td>32.0</td>\n",
       "      <td>1043.000000</td>\n",
       "    </tr>\n",
       "    <tr>\n",
       "      <th>max</th>\n",
       "      <td>32.000000</td>\n",
       "      <td>512.000000</td>\n",
       "      <td>1000.0</td>\n",
       "      <td>1.0</td>\n",
       "      <td>32.0</td>\n",
       "      <td>1500.000000</td>\n",
       "    </tr>\n",
       "  </tbody>\n",
       "</table>\n",
       "</div>"
      ],
      "text/plain": [
       "       per_device_eval_batch_size  max_seq_length  eval_steps  \\\n",
       "count                  267.000000      267.000000       267.0   \n",
       "mean                    18.666667      303.460674      1000.0   \n",
       "std                      9.996491      161.278193         0.0   \n",
       "min                      8.000000      128.000000      1000.0   \n",
       "25%                      8.000000      128.000000      1000.0   \n",
       "50%                     16.000000      256.000000      1000.0   \n",
       "75%                     32.000000      512.000000      1000.0   \n",
       "max                     32.000000      512.000000      1000.0   \n",
       "\n",
       "       finetuning_iters  per_device_train_batch_size  num_examples  \n",
       "count             267.0                        267.0    267.000000  \n",
       "mean                1.0                         32.0    654.168539  \n",
       "std                 0.0                          0.0    509.591770  \n",
       "min                 1.0                         32.0     71.000000  \n",
       "25%                 1.0                         32.0    277.000000  \n",
       "50%                 1.0                         32.0    408.000000  \n",
       "75%                 1.0                         32.0   1043.000000  \n",
       "max                 1.0                         32.0   1500.000000  "
      ]
     },
     "execution_count": 7,
     "metadata": {},
     "output_type": "execute_result"
    }
   ],
   "source": [
    "# Describe respective variables \n",
    "data3.describe()"
   ]
  },
  {
   "cell_type": "code",
   "execution_count": 8,
   "metadata": {},
   "outputs": [
    {
     "name": "stdout",
     "output_type": "stream",
     "text": [
      "<class 'pandas.core.frame.DataFrame'>\n",
      "Int64Index: 267 entries, 0 to 296\n",
      "Data columns (total 19 columns):\n",
      " #   Column                       Non-Null Count  Dtype  \n",
      "---  ------                       --------------  -----  \n",
      " 0   State                        267 non-null    object \n",
      " 1   task_name                    267 non-null    object \n",
      " 2   model_name_or_path           267 non-null    object \n",
      " 3   learning_rate                267 non-null    object \n",
      " 4   per_device_eval_batch_size   267 non-null    int64  \n",
      " 5   max_seq_length               267 non-null    int64  \n",
      " 6   eval_steps                   267 non-null    int64  \n",
      " 7   eval_acc                     159 non-null    object \n",
      " 8   eval_loss                    267 non-null    object \n",
      " 9   eval_corr                    45 non-null     object \n",
      " 10  eval_f1                      51 non-null     object \n",
      " 11  eval_mcc                     63 non-null     object \n",
      " 12  eval_pearson                 45 non-null     object \n",
      " 13  eval_spearmanr               45 non-null     object \n",
      " 14  inference_time_list          267 non-null    object \n",
      " 15  finetuning_iters             267 non-null    int64  \n",
      " 16  weight_decay                 267 non-null    object \n",
      " 17  per_device_train_batch_size  267 non-null    int64  \n",
      " 18  num_examples                 267 non-null    float64\n",
      "dtypes: float64(1), int64(5), object(13)\n",
      "memory usage: 41.7+ KB\n"
     ]
    }
   ],
   "source": [
    "# Regard info of several features (need to change the type of several variables)\n",
    "data3.info()"
   ]
  },
  {
   "cell_type": "code",
   "execution_count": 9,
   "metadata": {},
   "outputs": [],
   "source": [
    "# change the format of the inferece list in order to ba able to work with it\n",
    "def timelist_transform(data = data3.inference_time_list):\n",
    "    \n",
    "    # save transformed results in defaultdict\n",
    "    time_dict = defaultdict(list)\n",
    "    counter = 0\n",
    "    \n",
    "    for row in data:\n",
    "        time_list = []\n",
    "        for i in row.strip('][').split(','):\n",
    "            time_list.append(float(i))\n",
    "        time_dict[data3.index[counter]] = time_list\n",
    "        counter += 1\n",
    "        \n",
    "    return time_dict"
   ]
  },
  {
   "cell_type": "code",
   "execution_count": 10,
   "metadata": {},
   "outputs": [
    {
     "name": "stderr",
     "output_type": "stream",
     "text": [
      "C:\\Users\\annko\\anaconda3\\lib\\site-packages\\pandas\\core\\indexing.py:966: SettingWithCopyWarning: \n",
      "A value is trying to be set on a copy of a slice from a DataFrame.\n",
      "Try using .loc[row_indexer,col_indexer] = value instead\n",
      "\n",
      "See the caveats in the documentation: https://pandas.pydata.org/pandas-docs/stable/user_guide/indexing.html#returning-a-view-versus-a-copy\n",
      "  self.obj[item] = s\n"
     ]
    }
   ],
   "source": [
    "# add transformed lists to dataframe\n",
    "inference_dict = timelist_transform(data3.inference_time_list)\n",
    "data3.loc[:,'inference_time_list'] = data3.index.map(inference_dict)"
   ]
  },
  {
   "cell_type": "code",
   "execution_count": 11,
   "metadata": {},
   "outputs": [
    {
     "name": "stdout",
     "output_type": "stream",
     "text": [
      "<class 'list'>\n",
      "<class 'float'>\n"
     ]
    }
   ],
   "source": [
    "# check if type conversion succeeded\n",
    "print(type(data3.inference_time_list[9])) # list\n",
    "print(type(data3.inference_time_list[9][1])) #float"
   ]
  },
  {
   "cell_type": "code",
   "execution_count": 13,
   "metadata": {},
   "outputs": [
    {
     "name": "stderr",
     "output_type": "stream",
     "text": [
      "<ipython-input-13-78df7a6b1ef9>:2: SettingWithCopyWarning: \n",
      "A value is trying to be set on a copy of a slice from a DataFrame.\n",
      "Try using .loc[row_indexer,col_indexer] = value instead\n",
      "\n",
      "See the caveats in the documentation: https://pandas.pydata.org/pandas-docs/stable/user_guide/indexing.html#returning-a-view-versus-a-copy\n",
      "  data3['inference_time_number'] = data3.loc[:,'inference_time_list'].apply(lambda x: len(x))\n"
     ]
    }
   ],
   "source": [
    "# add number of measurements for the inference time\n",
    "data3['inference_time_number'] = data3.loc[:,'inference_time_list'].apply(lambda x: len(x))"
   ]
  },
  {
   "cell_type": "code",
   "execution_count": 14,
   "metadata": {
    "colab": {
     "base_uri": "https://localhost:8080/",
     "height": 299
    },
    "colab_type": "code",
    "id": "LqMSk8FSPwJA",
    "outputId": "b10ec5b1-f96b-46f4-873a-4653e95aff1a"
   },
   "outputs": [],
   "source": [
    "# change variable types\n",
    "data3.loc[:,'model_name_or_path'] = data3.loc[:,'model_name_or_path'].astype('category')\n",
    "data3.loc[:,'task_name'] = data3.loc[:,'task_name'].astype('category')\n",
    "data3.loc[:,'learning_rate'] = data3.loc[:,'learning_rate'].astype('float64')\n",
    "data3.loc[:,'eval_acc'] = data3.loc[:,'eval_acc'].astype('float64')\n",
    "data3.loc[:,'eval_loss'] = data3.loc[:,'eval_loss'].astype('float64')\n",
    "data3.loc[:,'num_examples'] = data3.loc[:,'num_examples'].astype('int64')"
   ]
  },
  {
   "cell_type": "code",
   "execution_count": 15,
   "metadata": {},
   "outputs": [
    {
     "name": "stdout",
     "output_type": "stream",
     "text": [
      "0    [27.37428379058838, 29.795268535614017, 8.4992...\n",
      "1    [15.803596496582031, 16.847050189971924, 18.10...\n",
      "2    [8.346511363983154, 9.028968334197998, 9.06490...\n",
      "3    [7.800238132476807, 7.557276248931885, 1.71624...\n",
      "4    [3.5223352909088135, 3.8956010341644287, 3.680...\n",
      "Name: inference_time_list, dtype: object\n",
      "0      8.499288\n",
      "1      8.176691\n",
      "2      8.039012\n",
      "3      1.716244\n",
      "4      0.937934\n",
      "         ...   \n",
      "289    0.197364\n",
      "290    0.091762\n",
      "294    0.803784\n",
      "295    0.423499\n",
      "296    0.145182\n",
      "Name: inference_time_list, Length: 267, dtype: float64\n"
     ]
    },
    {
     "name": "stderr",
     "output_type": "stream",
     "text": [
      "<ipython-input-15-5257d1ec6e17>:7: SettingWithCopyWarning: \n",
      "A value is trying to be set on a copy of a slice from a DataFrame.\n",
      "Try using .loc[row_indexer,col_indexer] = value instead\n",
      "\n",
      "See the caveats in the documentation: https://pandas.pydata.org/pandas-docs/stable/user_guide/indexing.html#returning-a-view-versus-a-copy\n",
      "  data3['inference_time'] = data3.loc[:,'inference_time_list'].apply(lambda x: min(x))\n"
     ]
    }
   ],
   "source": [
    "# calculate minimal inference_time\n",
    "#data3['inference_time'] = \n",
    "print(data3.loc[:,'inference_time_list'].head())\n",
    "print(data3.loc[:,'inference_time_list'].apply(lambda x: x.pop()))  # delete last element of inference time list\n",
    "# because there are less elements -> smaller batch size\n",
    "\n",
    "data3['inference_time'] = data3.loc[:,'inference_time_list'].apply(lambda x: min(x))"
   ]
  },
  {
   "cell_type": "code",
   "execution_count": 16,
   "metadata": {},
   "outputs": [
    {
     "name": "stdout",
     "output_type": "stream",
     "text": [
      "Maximal inference time\n",
      " \n",
      "State                                                         finished\n",
      "task_name                                                         WNLI\n",
      "model_name_or_path                                    xlnet-base-cased\n",
      "learning_rate                                                    5e-05\n",
      "per_device_eval_batch_size                                          32\n",
      "max_seq_length                                                     512\n",
      "eval_steps                                                        1000\n",
      "eval_acc                                                       0.56338\n",
      "eval_loss                                                     0.687686\n",
      "eval_corr                                                          NaN\n",
      "eval_f1                                                            NaN\n",
      "eval_mcc                                                           NaN\n",
      "eval_pearson                                                       NaN\n",
      "eval_spearmanr                                                     NaN\n",
      "inference_time_list            [27.37428379058838, 29.795268535614017]\n",
      "finetuning_iters                                                     1\n",
      "weight_decay                                                      0.01\n",
      "per_device_train_batch_size                                         32\n",
      "num_examples                                                        71\n",
      "inference_time_number                                                3\n",
      "inference_time                                                 27.3743\n",
      "Name: 0, dtype: object\n",
      " \n",
      "Minimal inference time\n",
      " \n",
      "State                                                                   finished\n",
      "task_name                                                                   CoLA\n",
      "model_name_or_path                                         distilbert-base-cased\n",
      "learning_rate                                                              1e-05\n",
      "per_device_eval_batch_size                                                     8\n",
      "max_seq_length                                                               128\n",
      "eval_steps                                                                  1000\n",
      "eval_acc                                                                     NaN\n",
      "eval_loss                                                               0.550026\n",
      "eval_corr                                                                    NaN\n",
      "eval_f1                                                                      NaN\n",
      "eval_mcc                                                      0.2260831198515493\n",
      "eval_pearson                                                                 NaN\n",
      "eval_spearmanr                                                               NaN\n",
      "inference_time_list            [0.21116399765014648, 0.09392714500427246, 0.0...\n",
      "finetuning_iters                                                               1\n",
      "weight_decay                                                                0.01\n",
      "per_device_train_batch_size                                                   32\n",
      "num_examples                                                                1043\n",
      "inference_time_number                                                        131\n",
      "inference_time                                                          0.091526\n",
      "Name: 224, dtype: object\n"
     ]
    }
   ],
   "source": [
    "# print maximal inference time (with respective hyperparameters)\n",
    "print('Maximal inference time')\n",
    "print(' ')\n",
    "print(data3.loc[data3.inference_time.idxmax(axis=0),:])\n",
    "# minimal inference time\n",
    "print(' ')\n",
    "print('Minimal inference time')\n",
    "print(' ')\n",
    "print(data3.loc[data3.inference_time.idxmin(axis=0),:])"
   ]
  },
  {
   "cell_type": "code",
   "execution_count": 17,
   "metadata": {},
   "outputs": [
    {
     "data": {
      "text/html": [
       "<div>\n",
       "<style scoped>\n",
       "    .dataframe tbody tr th:only-of-type {\n",
       "        vertical-align: middle;\n",
       "    }\n",
       "\n",
       "    .dataframe tbody tr th {\n",
       "        vertical-align: top;\n",
       "    }\n",
       "\n",
       "    .dataframe thead th {\n",
       "        text-align: right;\n",
       "    }\n",
       "</style>\n",
       "<table border=\"1\" class=\"dataframe\">\n",
       "  <thead>\n",
       "    <tr style=\"text-align: right;\">\n",
       "      <th></th>\n",
       "      <th>State</th>\n",
       "      <th>task_name</th>\n",
       "      <th>model_name_or_path</th>\n",
       "      <th>learning_rate</th>\n",
       "      <th>per_device_eval_batch_size</th>\n",
       "      <th>max_seq_length</th>\n",
       "      <th>eval_steps</th>\n",
       "      <th>eval_acc</th>\n",
       "      <th>eval_loss</th>\n",
       "      <th>eval_corr</th>\n",
       "      <th>...</th>\n",
       "      <th>eval_mcc</th>\n",
       "      <th>eval_pearson</th>\n",
       "      <th>eval_spearmanr</th>\n",
       "      <th>inference_time_list</th>\n",
       "      <th>finetuning_iters</th>\n",
       "      <th>weight_decay</th>\n",
       "      <th>per_device_train_batch_size</th>\n",
       "      <th>num_examples</th>\n",
       "      <th>inference_time_number</th>\n",
       "      <th>inference_time</th>\n",
       "    </tr>\n",
       "  </thead>\n",
       "  <tbody>\n",
       "    <tr>\n",
       "      <th>0</th>\n",
       "      <td>finished</td>\n",
       "      <td>WNLI</td>\n",
       "      <td>xlnet-base-cased</td>\n",
       "      <td>0.00005</td>\n",
       "      <td>32</td>\n",
       "      <td>512</td>\n",
       "      <td>1000</td>\n",
       "      <td>0.563380</td>\n",
       "      <td>0.687686</td>\n",
       "      <td>NaN</td>\n",
       "      <td>...</td>\n",
       "      <td>NaN</td>\n",
       "      <td>NaN</td>\n",
       "      <td>NaN</td>\n",
       "      <td>[27.37428379058838, 29.795268535614017]</td>\n",
       "      <td>1</td>\n",
       "      <td>0.01</td>\n",
       "      <td>32</td>\n",
       "      <td>71</td>\n",
       "      <td>3</td>\n",
       "      <td>27.374284</td>\n",
       "    </tr>\n",
       "    <tr>\n",
       "      <th>1</th>\n",
       "      <td>finished</td>\n",
       "      <td>WNLI</td>\n",
       "      <td>xlnet-base-cased</td>\n",
       "      <td>0.00005</td>\n",
       "      <td>16</td>\n",
       "      <td>512</td>\n",
       "      <td>1000</td>\n",
       "      <td>0.563380</td>\n",
       "      <td>0.692269</td>\n",
       "      <td>NaN</td>\n",
       "      <td>...</td>\n",
       "      <td>NaN</td>\n",
       "      <td>NaN</td>\n",
       "      <td>NaN</td>\n",
       "      <td>[15.803596496582031, 16.847050189971924, 18.10...</td>\n",
       "      <td>1</td>\n",
       "      <td>0.01</td>\n",
       "      <td>32</td>\n",
       "      <td>71</td>\n",
       "      <td>5</td>\n",
       "      <td>15.803596</td>\n",
       "    </tr>\n",
       "    <tr>\n",
       "      <th>2</th>\n",
       "      <td>finished</td>\n",
       "      <td>WNLI</td>\n",
       "      <td>xlnet-base-cased</td>\n",
       "      <td>0.00005</td>\n",
       "      <td>8</td>\n",
       "      <td>512</td>\n",
       "      <td>1000</td>\n",
       "      <td>0.563380</td>\n",
       "      <td>0.695325</td>\n",
       "      <td>NaN</td>\n",
       "      <td>...</td>\n",
       "      <td>NaN</td>\n",
       "      <td>NaN</td>\n",
       "      <td>NaN</td>\n",
       "      <td>[8.346511363983154, 9.028968334197998, 9.06490...</td>\n",
       "      <td>1</td>\n",
       "      <td>0.01</td>\n",
       "      <td>32</td>\n",
       "      <td>71</td>\n",
       "      <td>9</td>\n",
       "      <td>8.346511</td>\n",
       "    </tr>\n",
       "    <tr>\n",
       "      <th>3</th>\n",
       "      <td>finished</td>\n",
       "      <td>WNLI</td>\n",
       "      <td>albert-base-v1</td>\n",
       "      <td>0.00005</td>\n",
       "      <td>32</td>\n",
       "      <td>512</td>\n",
       "      <td>1000</td>\n",
       "      <td>0.535211</td>\n",
       "      <td>0.705478</td>\n",
       "      <td>NaN</td>\n",
       "      <td>...</td>\n",
       "      <td>NaN</td>\n",
       "      <td>NaN</td>\n",
       "      <td>NaN</td>\n",
       "      <td>[7.800238132476807, 7.557276248931885]</td>\n",
       "      <td>1</td>\n",
       "      <td>0.01</td>\n",
       "      <td>32</td>\n",
       "      <td>71</td>\n",
       "      <td>3</td>\n",
       "      <td>7.557276</td>\n",
       "    </tr>\n",
       "    <tr>\n",
       "      <th>4</th>\n",
       "      <td>finished</td>\n",
       "      <td>WNLI</td>\n",
       "      <td>albert-base-v1</td>\n",
       "      <td>0.00005</td>\n",
       "      <td>16</td>\n",
       "      <td>512</td>\n",
       "      <td>1000</td>\n",
       "      <td>0.535211</td>\n",
       "      <td>0.703627</td>\n",
       "      <td>NaN</td>\n",
       "      <td>...</td>\n",
       "      <td>NaN</td>\n",
       "      <td>NaN</td>\n",
       "      <td>NaN</td>\n",
       "      <td>[3.5223352909088135, 3.8956010341644287, 3.680...</td>\n",
       "      <td>1</td>\n",
       "      <td>0.01</td>\n",
       "      <td>32</td>\n",
       "      <td>71</td>\n",
       "      <td>5</td>\n",
       "      <td>3.522335</td>\n",
       "    </tr>\n",
       "  </tbody>\n",
       "</table>\n",
       "<p>5 rows × 21 columns</p>\n",
       "</div>"
      ],
      "text/plain": [
       "      State task_name model_name_or_path  learning_rate  \\\n",
       "0  finished      WNLI   xlnet-base-cased        0.00005   \n",
       "1  finished      WNLI   xlnet-base-cased        0.00005   \n",
       "2  finished      WNLI   xlnet-base-cased        0.00005   \n",
       "3  finished      WNLI     albert-base-v1        0.00005   \n",
       "4  finished      WNLI     albert-base-v1        0.00005   \n",
       "\n",
       "   per_device_eval_batch_size  max_seq_length  eval_steps  eval_acc  \\\n",
       "0                          32             512        1000  0.563380   \n",
       "1                          16             512        1000  0.563380   \n",
       "2                           8             512        1000  0.563380   \n",
       "3                          32             512        1000  0.535211   \n",
       "4                          16             512        1000  0.535211   \n",
       "\n",
       "   eval_loss eval_corr  ... eval_mcc eval_pearson eval_spearmanr  \\\n",
       "0   0.687686       NaN  ...      NaN          NaN            NaN   \n",
       "1   0.692269       NaN  ...      NaN          NaN            NaN   \n",
       "2   0.695325       NaN  ...      NaN          NaN            NaN   \n",
       "3   0.705478       NaN  ...      NaN          NaN            NaN   \n",
       "4   0.703627       NaN  ...      NaN          NaN            NaN   \n",
       "\n",
       "                                 inference_time_list finetuning_iters  \\\n",
       "0            [27.37428379058838, 29.795268535614017]                1   \n",
       "1  [15.803596496582031, 16.847050189971924, 18.10...                1   \n",
       "2  [8.346511363983154, 9.028968334197998, 9.06490...                1   \n",
       "3             [7.800238132476807, 7.557276248931885]                1   \n",
       "4  [3.5223352909088135, 3.8956010341644287, 3.680...                1   \n",
       "\n",
       "   weight_decay per_device_train_batch_size  num_examples  \\\n",
       "0          0.01                          32            71   \n",
       "1          0.01                          32            71   \n",
       "2          0.01                          32            71   \n",
       "3          0.01                          32            71   \n",
       "4          0.01                          32            71   \n",
       "\n",
       "   inference_time_number  inference_time  \n",
       "0                      3       27.374284  \n",
       "1                      5       15.803596  \n",
       "2                      9        8.346511  \n",
       "3                      3        7.557276  \n",
       "4                      5        3.522335  \n",
       "\n",
       "[5 rows x 21 columns]"
      ]
     },
     "execution_count": 17,
     "metadata": {},
     "output_type": "execute_result"
    }
   ],
   "source": [
    "data3.head()"
   ]
  },
  {
   "cell_type": "code",
   "execution_count": 18,
   "metadata": {
    "scrolled": true
   },
   "outputs": [
    {
     "data": {
      "text/plain": [
       "count    267.000000\n",
       "mean       1.974390\n",
       "std        3.734141\n",
       "min        0.091526\n",
       "25%        0.319447\n",
       "50%        0.628010\n",
       "75%        1.899108\n",
       "max       27.374284\n",
       "Name: inference_time, dtype: float64"
      ]
     },
     "execution_count": 18,
     "metadata": {},
     "output_type": "execute_result"
    }
   ],
   "source": [
    "data3.inference_time.describe()"
   ]
  },
  {
   "cell_type": "code",
   "execution_count": 19,
   "metadata": {},
   "outputs": [
    {
     "name": "stderr",
     "output_type": "stream",
     "text": [
      "<ipython-input-19-a456ac0fcbef>:1: SettingWithCopyWarning: \n",
      "A value is trying to be set on a copy of a slice from a DataFrame.\n",
      "Try using .loc[row_indexer,col_indexer] = value instead\n",
      "\n",
      "See the caveats in the documentation: https://pandas.pydata.org/pandas-docs/stable/user_guide/indexing.html#returning-a-view-versus-a-copy\n",
      "  data3['number_batches'] = data3.num_examples/data3.per_device_eval_batch_size\n"
     ]
    }
   ],
   "source": [
    "data3['number_batches'] = data3.num_examples/data3.per_device_eval_batch_size"
   ]
  },
  {
   "cell_type": "code",
   "execution_count": 20,
   "metadata": {
    "scrolled": false
   },
   "outputs": [
    {
     "data": {
      "text/html": [
       "<div>\n",
       "<style scoped>\n",
       "    .dataframe tbody tr th:only-of-type {\n",
       "        vertical-align: middle;\n",
       "    }\n",
       "\n",
       "    .dataframe tbody tr th {\n",
       "        vertical-align: top;\n",
       "    }\n",
       "\n",
       "    .dataframe thead th {\n",
       "        text-align: right;\n",
       "    }\n",
       "</style>\n",
       "<table border=\"1\" class=\"dataframe\">\n",
       "  <thead>\n",
       "    <tr style=\"text-align: right;\">\n",
       "      <th></th>\n",
       "      <th></th>\n",
       "      <th></th>\n",
       "      <th>count</th>\n",
       "      <th>mean</th>\n",
       "      <th>std</th>\n",
       "      <th>min</th>\n",
       "      <th>25%</th>\n",
       "      <th>50%</th>\n",
       "      <th>75%</th>\n",
       "      <th>max</th>\n",
       "    </tr>\n",
       "    <tr>\n",
       "      <th>per_device_eval_batch_size</th>\n",
       "      <th>num_examples</th>\n",
       "      <th>number_batches</th>\n",
       "      <th></th>\n",
       "      <th></th>\n",
       "      <th></th>\n",
       "      <th></th>\n",
       "      <th></th>\n",
       "      <th></th>\n",
       "      <th></th>\n",
       "      <th></th>\n",
       "    </tr>\n",
       "  </thead>\n",
       "  <tbody>\n",
       "    <tr>\n",
       "      <th rowspan=\"5\" valign=\"top\">8</th>\n",
       "      <th>71</th>\n",
       "      <th>8.87500</th>\n",
       "      <td>15.0</td>\n",
       "      <td>9.0</td>\n",
       "      <td>0.0</td>\n",
       "      <td>9.0</td>\n",
       "      <td>9.0</td>\n",
       "      <td>9.0</td>\n",
       "      <td>9.0</td>\n",
       "      <td>9.0</td>\n",
       "    </tr>\n",
       "    <tr>\n",
       "      <th>277</th>\n",
       "      <th>34.62500</th>\n",
       "      <td>21.0</td>\n",
       "      <td>35.0</td>\n",
       "      <td>0.0</td>\n",
       "      <td>35.0</td>\n",
       "      <td>35.0</td>\n",
       "      <td>35.0</td>\n",
       "      <td>35.0</td>\n",
       "      <td>35.0</td>\n",
       "    </tr>\n",
       "    <tr>\n",
       "      <th>408</th>\n",
       "      <th>51.00000</th>\n",
       "      <td>17.0</td>\n",
       "      <td>51.0</td>\n",
       "      <td>0.0</td>\n",
       "      <td>51.0</td>\n",
       "      <td>51.0</td>\n",
       "      <td>51.0</td>\n",
       "      <td>51.0</td>\n",
       "      <td>51.0</td>\n",
       "    </tr>\n",
       "    <tr>\n",
       "      <th>1043</th>\n",
       "      <th>130.37500</th>\n",
       "      <td>21.0</td>\n",
       "      <td>131.0</td>\n",
       "      <td>0.0</td>\n",
       "      <td>131.0</td>\n",
       "      <td>131.0</td>\n",
       "      <td>131.0</td>\n",
       "      <td>131.0</td>\n",
       "      <td>131.0</td>\n",
       "    </tr>\n",
       "    <tr>\n",
       "      <th>1500</th>\n",
       "      <th>187.50000</th>\n",
       "      <td>15.0</td>\n",
       "      <td>188.0</td>\n",
       "      <td>0.0</td>\n",
       "      <td>188.0</td>\n",
       "      <td>188.0</td>\n",
       "      <td>188.0</td>\n",
       "      <td>188.0</td>\n",
       "      <td>188.0</td>\n",
       "    </tr>\n",
       "    <tr>\n",
       "      <th rowspan=\"5\" valign=\"top\">16</th>\n",
       "      <th>71</th>\n",
       "      <th>4.43750</th>\n",
       "      <td>15.0</td>\n",
       "      <td>5.0</td>\n",
       "      <td>0.0</td>\n",
       "      <td>5.0</td>\n",
       "      <td>5.0</td>\n",
       "      <td>5.0</td>\n",
       "      <td>5.0</td>\n",
       "      <td>5.0</td>\n",
       "    </tr>\n",
       "    <tr>\n",
       "      <th>277</th>\n",
       "      <th>17.31250</th>\n",
       "      <td>21.0</td>\n",
       "      <td>18.0</td>\n",
       "      <td>0.0</td>\n",
       "      <td>18.0</td>\n",
       "      <td>18.0</td>\n",
       "      <td>18.0</td>\n",
       "      <td>18.0</td>\n",
       "      <td>18.0</td>\n",
       "    </tr>\n",
       "    <tr>\n",
       "      <th>408</th>\n",
       "      <th>25.50000</th>\n",
       "      <td>17.0</td>\n",
       "      <td>26.0</td>\n",
       "      <td>0.0</td>\n",
       "      <td>26.0</td>\n",
       "      <td>26.0</td>\n",
       "      <td>26.0</td>\n",
       "      <td>26.0</td>\n",
       "      <td>26.0</td>\n",
       "    </tr>\n",
       "    <tr>\n",
       "      <th>1043</th>\n",
       "      <th>65.18750</th>\n",
       "      <td>21.0</td>\n",
       "      <td>66.0</td>\n",
       "      <td>0.0</td>\n",
       "      <td>66.0</td>\n",
       "      <td>66.0</td>\n",
       "      <td>66.0</td>\n",
       "      <td>66.0</td>\n",
       "      <td>66.0</td>\n",
       "    </tr>\n",
       "    <tr>\n",
       "      <th>1500</th>\n",
       "      <th>93.75000</th>\n",
       "      <td>15.0</td>\n",
       "      <td>94.0</td>\n",
       "      <td>0.0</td>\n",
       "      <td>94.0</td>\n",
       "      <td>94.0</td>\n",
       "      <td>94.0</td>\n",
       "      <td>94.0</td>\n",
       "      <td>94.0</td>\n",
       "    </tr>\n",
       "    <tr>\n",
       "      <th rowspan=\"5\" valign=\"top\">32</th>\n",
       "      <th>71</th>\n",
       "      <th>2.21875</th>\n",
       "      <td>15.0</td>\n",
       "      <td>3.0</td>\n",
       "      <td>0.0</td>\n",
       "      <td>3.0</td>\n",
       "      <td>3.0</td>\n",
       "      <td>3.0</td>\n",
       "      <td>3.0</td>\n",
       "      <td>3.0</td>\n",
       "    </tr>\n",
       "    <tr>\n",
       "      <th>277</th>\n",
       "      <th>8.65625</th>\n",
       "      <td>21.0</td>\n",
       "      <td>9.0</td>\n",
       "      <td>0.0</td>\n",
       "      <td>9.0</td>\n",
       "      <td>9.0</td>\n",
       "      <td>9.0</td>\n",
       "      <td>9.0</td>\n",
       "      <td>9.0</td>\n",
       "    </tr>\n",
       "    <tr>\n",
       "      <th>408</th>\n",
       "      <th>12.75000</th>\n",
       "      <td>17.0</td>\n",
       "      <td>13.0</td>\n",
       "      <td>0.0</td>\n",
       "      <td>13.0</td>\n",
       "      <td>13.0</td>\n",
       "      <td>13.0</td>\n",
       "      <td>13.0</td>\n",
       "      <td>13.0</td>\n",
       "    </tr>\n",
       "    <tr>\n",
       "      <th>1043</th>\n",
       "      <th>32.59375</th>\n",
       "      <td>21.0</td>\n",
       "      <td>33.0</td>\n",
       "      <td>0.0</td>\n",
       "      <td>33.0</td>\n",
       "      <td>33.0</td>\n",
       "      <td>33.0</td>\n",
       "      <td>33.0</td>\n",
       "      <td>33.0</td>\n",
       "    </tr>\n",
       "    <tr>\n",
       "      <th>1500</th>\n",
       "      <th>46.87500</th>\n",
       "      <td>15.0</td>\n",
       "      <td>47.0</td>\n",
       "      <td>0.0</td>\n",
       "      <td>47.0</td>\n",
       "      <td>47.0</td>\n",
       "      <td>47.0</td>\n",
       "      <td>47.0</td>\n",
       "      <td>47.0</td>\n",
       "    </tr>\n",
       "  </tbody>\n",
       "</table>\n",
       "</div>"
      ],
      "text/plain": [
       "                                                        count   mean  std  \\\n",
       "per_device_eval_batch_size num_examples number_batches                      \n",
       "8                          71           8.87500          15.0    9.0  0.0   \n",
       "                           277          34.62500         21.0   35.0  0.0   \n",
       "                           408          51.00000         17.0   51.0  0.0   \n",
       "                           1043         130.37500        21.0  131.0  0.0   \n",
       "                           1500         187.50000        15.0  188.0  0.0   \n",
       "16                         71           4.43750          15.0    5.0  0.0   \n",
       "                           277          17.31250         21.0   18.0  0.0   \n",
       "                           408          25.50000         17.0   26.0  0.0   \n",
       "                           1043         65.18750         21.0   66.0  0.0   \n",
       "                           1500         93.75000         15.0   94.0  0.0   \n",
       "32                         71           2.21875          15.0    3.0  0.0   \n",
       "                           277          8.65625          21.0    9.0  0.0   \n",
       "                           408          12.75000         17.0   13.0  0.0   \n",
       "                           1043         32.59375         21.0   33.0  0.0   \n",
       "                           1500         46.87500         15.0   47.0  0.0   \n",
       "\n",
       "                                                          min    25%    50%  \\\n",
       "per_device_eval_batch_size num_examples number_batches                        \n",
       "8                          71           8.87500           9.0    9.0    9.0   \n",
       "                           277          34.62500         35.0   35.0   35.0   \n",
       "                           408          51.00000         51.0   51.0   51.0   \n",
       "                           1043         130.37500       131.0  131.0  131.0   \n",
       "                           1500         187.50000       188.0  188.0  188.0   \n",
       "16                         71           4.43750           5.0    5.0    5.0   \n",
       "                           277          17.31250         18.0   18.0   18.0   \n",
       "                           408          25.50000         26.0   26.0   26.0   \n",
       "                           1043         65.18750         66.0   66.0   66.0   \n",
       "                           1500         93.75000         94.0   94.0   94.0   \n",
       "32                         71           2.21875           3.0    3.0    3.0   \n",
       "                           277          8.65625           9.0    9.0    9.0   \n",
       "                           408          12.75000         13.0   13.0   13.0   \n",
       "                           1043         32.59375         33.0   33.0   33.0   \n",
       "                           1500         46.87500         47.0   47.0   47.0   \n",
       "\n",
       "                                                          75%    max  \n",
       "per_device_eval_batch_size num_examples number_batches                \n",
       "8                          71           8.87500           9.0    9.0  \n",
       "                           277          34.62500         35.0   35.0  \n",
       "                           408          51.00000         51.0   51.0  \n",
       "                           1043         130.37500       131.0  131.0  \n",
       "                           1500         187.50000       188.0  188.0  \n",
       "16                         71           4.43750           5.0    5.0  \n",
       "                           277          17.31250         18.0   18.0  \n",
       "                           408          25.50000         26.0   26.0  \n",
       "                           1043         65.18750         66.0   66.0  \n",
       "                           1500         93.75000         94.0   94.0  \n",
       "32                         71           2.21875           3.0    3.0  \n",
       "                           277          8.65625           9.0    9.0  \n",
       "                           408          12.75000         13.0   13.0  \n",
       "                           1043         32.59375         33.0   33.0  \n",
       "                           1500         46.87500         47.0   47.0  "
      ]
     },
     "execution_count": 20,
     "metadata": {},
     "output_type": "execute_result"
    }
   ],
   "source": [
    "data3.groupby(['per_device_eval_batch_size', 'num_examples', 'number_batches']).inference_time_number.describe()"
   ]
  },
  {
   "cell_type": "code",
   "execution_count": 21,
   "metadata": {},
   "outputs": [],
   "source": [
    "median = data3.inference_time.median()\n",
    "upper_quartile = data3.inference_time.quantile(0.75)\n",
    "lower_quartile = data3.inference_time.quantile(0.25)\n",
    "maximum = data3.inference_time.max()\n",
    "\n",
    "iqr = upper_quartile - lower_quartile\n",
    "upper_whisker = data3.inference_time[data3.inference_time<=upper_quartile+1.5*iqr].max()\n",
    "lower_whisker = data3.inference_time[data3.inference_time>=lower_quartile-1.5*iqr].min()"
   ]
  },
  {
   "cell_type": "code",
   "execution_count": 22,
   "metadata": {
    "scrolled": true
   },
   "outputs": [
    {
     "name": "stdout",
     "output_type": "stream",
     "text": [
      "Minimum:  0.09152603149414062\n",
      "Lower whisker:  0.09152603149414062\n",
      "Median:  0.6280100345611572\n",
      "Upper whisker:  3.832861185073853\n",
      "Maximum:  27.37428379058838\n"
     ]
    }
   ],
   "source": [
    "print(\"Minimum: \", data3.inference_time.min())\n",
    "print(\"Lower whisker: \", lower_whisker)\n",
    "print(\"Median: \", median)\n",
    "print(\"Upper whisker: \", upper_whisker)\n",
    "print(\"Maximum: \", maximum)"
   ]
  },
  {
   "cell_type": "code",
   "execution_count": 23,
   "metadata": {
    "scrolled": false
   },
   "outputs": [
    {
     "data": {
      "image/png": "[encoded data removed]",
      "text/plain": [
       "<Figure size 720x576 with 1 Axes>"
      ]
     },
     "metadata": {
      "needs_background": "light"
     },
     "output_type": "display_data"
    }
   ],
   "source": [
    "## Boxplots of fine-tuning, gouped by learning rate\n",
    "\n",
    "plt.figure(figsize = (10, 8))\n",
    "ax = sns.boxplot(y = 'inference_time', data = data3)\n",
    "ax.set_yticks([0, math.ceil(upper_whisker), 5, 10, 15, 20, 25, math.ceil(maximum)])\n",
    "plt.ylabel('inference time', fontsize = 16)\n",
    "plt.title('Boxplot of inference time', fontsize = 18)\n",
    "plt.setp(ax.get_yticklabels(), rotation='horizontal', fontsize=16)\n",
    "plt.show()\n",
    "ax.figure.savefig('inference_time_boxplot.png')"
   ]
  },
  {
   "cell_type": "code",
   "execution_count": 24,
   "metadata": {},
   "outputs": [
    {
     "data": {
      "image/png": "[encoded data removed]",
      "text/plain": [
       "<Figure size 720x576 with 1 Axes>"
      ]
     },
     "metadata": {
      "needs_background": "light"
     },
     "output_type": "display_data"
    }
   ],
   "source": [
    "# Plot density of fine-tuning time \n",
    "\n",
    "plt.figure(figsize = (10, 8))\n",
    "data3.inference_time.plot(kind = 'kde', grid = True,linestyle = '-')\n",
    "plt.xlabel('inference_time', fontsize = 12)\n",
    "plt.ylabel('Density', fontsize = 12)\n",
    "plt.title('Density of inference time', fontsize = 12)\n",
    "plt.setp(ax.get_xticklabels(), rotation='horizontal', fontsize=12)\n",
    "plt.setp(ax.get_yticklabels(), rotation='horizontal', fontsize=12)\n",
    "plt.show()"
   ]
  },
  {
   "cell_type": "code",
   "execution_count": 25,
   "metadata": {},
   "outputs": [
    {
     "data": {
      "image/png": "[encoded data removed]",
      "text/plain": [
       "<Figure size 720x576 with 1 Axes>"
      ]
     },
     "metadata": {
      "needs_background": "light"
     },
     "output_type": "display_data"
    }
   ],
   "source": [
    "# bins = number of bar in figure\n",
    "\n",
    "plt.figure(figsize = (10, 8))\n",
    "ax = data3.inference_time.plot(kind = 'hist', bins = 30)\n",
    "ax.set_xticks([0, 1, 3, 5, 10, 15, 20, 25])\n",
    "plt.xlabel('inference time', fontsize = 16)\n",
    "plt.ylabel('Frequency', fontsize = 16)\n",
    "plt.title('Frequency of inference time', fontsize = 18)\n",
    "plt.setp(ax.get_xticklabels(), rotation='horizontal', fontsize=16)\n",
    "plt.setp(ax.get_yticklabels(), rotation='horizontal', fontsize=16)\n",
    "plt.show()\n",
    "ax.figure.savefig('inference_time_hist.png')"
   ]
  },
  {
   "cell_type": "code",
   "execution_count": 26,
   "metadata": {},
   "outputs": [
    {
     "name": "stdout",
     "output_type": "stream",
     "text": [
      "[193  32  15   3   3   9   2   0   3   0   0   2   0   1   2   0   0   0\n",
      "   0   2] [ 0.09152603  1.45566392  2.81980181  4.1839397   5.54807758  6.91221547\n",
      "  8.27635336  9.64049125 11.00462914 12.36876702 13.73290491 15.0970428\n",
      " 16.46118069 17.82531857 19.18945646 20.55359435 21.91773224 23.28187013\n",
      " 24.64600801 26.0101459  27.37428379]\n"
     ]
    }
   ],
   "source": [
    "counts, bin_edges = np.histogram(data3.inference_time, bins=20)\n",
    "print(counts, bin_edges)"
   ]
  },
  {
   "cell_type": "markdown",
   "metadata": {
    "colab_type": "text",
    "id": "LFd1wN5AQCcj"
   },
   "source": [
    "#### Plot correlations"
   ]
  },
  {
   "cell_type": "code",
   "execution_count": 27,
   "metadata": {
    "colab": {
     "base_uri": "https://localhost:8080/",
     "height": 369
    },
    "colab_type": "code",
    "id": "MIEkkfmfQRP_",
    "outputId": "936c8ccd-6260-49cf-cc26-b61088322b7d"
   },
   "outputs": [
    {
     "name": "stdout",
     "output_type": "stream",
     "text": [
      "      State task_name model_name_or_path  learning_rate  \\\n",
      "0  finished      WNLI   xlnet-base-cased        0.00005   \n",
      "1  finished      WNLI   xlnet-base-cased        0.00005   \n",
      "2  finished      WNLI   xlnet-base-cased        0.00005   \n",
      "3  finished      WNLI     albert-base-v1        0.00005   \n",
      "4  finished      WNLI     albert-base-v1        0.00005   \n",
      "\n",
      "   per_device_eval_batch_size  max_seq_length  eval_steps  eval_acc  \\\n",
      "0                          32             512        1000  0.563380   \n",
      "1                          16             512        1000  0.563380   \n",
      "2                           8             512        1000  0.563380   \n",
      "3                          32             512        1000  0.535211   \n",
      "4                          16             512        1000  0.535211   \n",
      "\n",
      "   eval_loss eval_corr  ... eval_spearmanr  \\\n",
      "0   0.687686       NaN  ...            NaN   \n",
      "1   0.692269       NaN  ...            NaN   \n",
      "2   0.695325       NaN  ...            NaN   \n",
      "3   0.705478       NaN  ...            NaN   \n",
      "4   0.703627       NaN  ...            NaN   \n",
      "\n",
      "                                 inference_time_list finetuning_iters  \\\n",
      "0            [27.37428379058838, 29.795268535614017]                1   \n",
      "1  [15.803596496582031, 16.847050189971924, 18.10...                1   \n",
      "2  [8.346511363983154, 9.028968334197998, 9.06490...                1   \n",
      "3             [7.800238132476807, 7.557276248931885]                1   \n",
      "4  [3.5223352909088135, 3.8956010341644287, 3.680...                1   \n",
      "\n",
      "  weight_decay per_device_train_batch_size  num_examples  \\\n",
      "0         0.01                          32            71   \n",
      "1         0.01                          32            71   \n",
      "2         0.01                          32            71   \n",
      "3         0.01                          32            71   \n",
      "4         0.01                          32            71   \n",
      "\n",
      "  inference_time_number  inference_time  number_batches  tokens_per_batch  \n",
      "0                     3       27.374284         2.21875             16384  \n",
      "1                     5       15.803596         4.43750              8192  \n",
      "2                     9        8.346511         8.87500              4096  \n",
      "3                     3        7.557276         2.21875             16384  \n",
      "4                     5        3.522335         4.43750              8192  \n",
      "\n",
      "[5 rows x 23 columns]\n",
      "Correlation between learning rate and inference time:  0.09954652616589978\n",
      "Correlation between batch size and inference time:  0.27615342436866214\n",
      "Correlation between maximum sequence length and inference time:  0.418042415665772\n",
      "Correlation between tokens per batch and inference time:  0.5260161590438871\n",
      "Correlation between accuracy and inference time:  nan\n"
     ]
    },
    {
     "name": "stderr",
     "output_type": "stream",
     "text": [
      "C:\\Users\\annko\\anaconda3\\lib\\site-packages\\pandas\\core\\indexing.py:845: SettingWithCopyWarning: \n",
      "A value is trying to be set on a copy of a slice from a DataFrame.\n",
      "Try using .loc[row_indexer,col_indexer] = value instead\n",
      "\n",
      "See the caveats in the documentation: https://pandas.pydata.org/pandas-docs/stable/user_guide/indexing.html#returning-a-view-versus-a-copy\n",
      "  self.obj[key] = _infer_fill_value(value)\n",
      "C:\\Users\\annko\\anaconda3\\lib\\site-packages\\pandas\\core\\indexing.py:966: SettingWithCopyWarning: \n",
      "A value is trying to be set on a copy of a slice from a DataFrame.\n",
      "Try using .loc[row_indexer,col_indexer] = value instead\n",
      "\n",
      "See the caveats in the documentation: https://pandas.pydata.org/pandas-docs/stable/user_guide/indexing.html#returning-a-view-versus-a-copy\n",
      "  self.obj[item] = s\n"
     ]
    }
   ],
   "source": [
    "corr_lr_time = np.corrcoef(data3.learning_rate, data3.inference_time)\n",
    "corr_bs_time = np.corrcoef(data3.per_device_eval_batch_size, data3.inference_time)\n",
    "corr_len_time = np.corrcoef(data3.max_seq_length, data3.inference_time)\n",
    "#corr_model_time = np.corrcoef(wnli3.model_name_or_path, wnli3.inference_time)\n",
    "corr_acc_time = np.corrcoef(data3.eval_acc, data3.inference_time)\n",
    "\n",
    "## add tokens per batch in data frame\n",
    "data3.loc[:,'tokens_per_batch'] = data3.apply(lambda row: (row['per_device_eval_batch_size']*row['max_seq_length']), axis=1)\n",
    "# see if new column was added\n",
    "print(data3.head())\n",
    "\n",
    "corr_tok_time = np.corrcoef(data3.tokens_per_batch, data3.inference_time)\n",
    "\n",
    "print('Correlation between learning rate and inference time: ', corr_lr_time[1][0])\n",
    "print('Correlation between batch size and inference time: ', corr_bs_time[1][0])\n",
    "print('Correlation between maximum sequence length and inference time: ', corr_len_time[1][0])\n",
    "print('Correlation between tokens per batch and inference time: ', corr_tok_time[1][0])\n",
    "#print('Correlation between model type and inference time: ', corr_model_time[1][0])\n",
    "print('Correlation between accuracy and inference time: ', corr_acc_time[1][0])"
   ]
  },
  {
   "cell_type": "code",
   "execution_count": 28,
   "metadata": {
    "colab": {
     "base_uri": "https://localhost:8080/",
     "height": 346
    },
    "colab_type": "code",
    "id": "1cXgNLWNdl4I",
    "outputId": "a4251f65-fbf9-45f2-b279-66aaf2257f3e"
   },
   "outputs": [
    {
     "data": {
      "text/html": [
       "<div>\n",
       "<style scoped>\n",
       "    .dataframe tbody tr th:only-of-type {\n",
       "        vertical-align: middle;\n",
       "    }\n",
       "\n",
       "    .dataframe tbody tr th {\n",
       "        vertical-align: top;\n",
       "    }\n",
       "\n",
       "    .dataframe thead th {\n",
       "        text-align: right;\n",
       "    }\n",
       "</style>\n",
       "<table border=\"1\" class=\"dataframe\">\n",
       "  <thead>\n",
       "    <tr style=\"text-align: right;\">\n",
       "      <th></th>\n",
       "      <th>per_device_eval_batch_size</th>\n",
       "      <th>max_seq_length</th>\n",
       "      <th>num_examples</th>\n",
       "      <th>inference_time</th>\n",
       "    </tr>\n",
       "  </thead>\n",
       "  <tbody>\n",
       "    <tr>\n",
       "      <th>per_device_eval_batch_size</th>\n",
       "      <td>1.000000e+00</td>\n",
       "      <td>3.605324e-17</td>\n",
       "      <td>-9.396727e-18</td>\n",
       "      <td>0.276153</td>\n",
       "    </tr>\n",
       "    <tr>\n",
       "      <th>max_seq_length</th>\n",
       "      <td>3.605324e-17</td>\n",
       "      <td>1.000000e+00</td>\n",
       "      <td>-1.441328e-02</td>\n",
       "      <td>0.418042</td>\n",
       "    </tr>\n",
       "    <tr>\n",
       "      <th>num_examples</th>\n",
       "      <td>-9.396727e-18</td>\n",
       "      <td>-1.441328e-02</td>\n",
       "      <td>1.000000e+00</td>\n",
       "      <td>-0.079428</td>\n",
       "    </tr>\n",
       "    <tr>\n",
       "      <th>inference_time</th>\n",
       "      <td>2.761534e-01</td>\n",
       "      <td>4.180424e-01</td>\n",
       "      <td>-7.942837e-02</td>\n",
       "      <td>1.000000</td>\n",
       "    </tr>\n",
       "  </tbody>\n",
       "</table>\n",
       "</div>"
      ],
      "text/plain": [
       "                            per_device_eval_batch_size  max_seq_length  \\\n",
       "per_device_eval_batch_size                1.000000e+00    3.605324e-17   \n",
       "max_seq_length                            3.605324e-17    1.000000e+00   \n",
       "num_examples                             -9.396727e-18   -1.441328e-02   \n",
       "inference_time                            2.761534e-01    4.180424e-01   \n",
       "\n",
       "                            num_examples  inference_time  \n",
       "per_device_eval_batch_size -9.396727e-18        0.276153  \n",
       "max_seq_length             -1.441328e-02        0.418042  \n",
       "num_examples                1.000000e+00       -0.079428  \n",
       "inference_time             -7.942837e-02        1.000000  "
      ]
     },
     "execution_count": 28,
     "metadata": {},
     "output_type": "execute_result"
    }
   ],
   "source": [
    "# Correlation matrix with all features\n",
    "data_sub = data3[[\"per_device_eval_batch_size\", \"max_seq_length\", \"num_examples\", \"inference_time\"]] \n",
    "                    # \"eval_acc\", \"eval_loss\", \"learning_rate\",\n",
    "data_sub.corr()"
   ]
  },
  {
   "cell_type": "code",
   "execution_count": 29,
   "metadata": {},
   "outputs": [
    {
     "name": "stderr",
     "output_type": "stream",
     "text": [
      "C:\\Users\\annko\\anaconda3\\lib\\site-packages\\pandas\\core\\indexing.py:966: SettingWithCopyWarning: \n",
      "A value is trying to be set on a copy of a slice from a DataFrame.\n",
      "Try using .loc[row_indexer,col_indexer] = value instead\n",
      "\n",
      "See the caveats in the documentation: https://pandas.pydata.org/pandas-docs/stable/user_guide/indexing.html#returning-a-view-versus-a-copy\n",
      "  self.obj[item] = s\n"
     ]
    }
   ],
   "source": [
    "# learning rate value of MRPC was not recognized properly -> added manually\n",
    "data3.loc[(data3.task_name == 'MRPC'), 'learning_rate'] = 3e-5"
   ]
  },
  {
   "cell_type": "code",
   "execution_count": 30,
   "metadata": {},
   "outputs": [
    {
     "data": {
      "text/plain": [
       "Index(['per_device_eval_batch_size', 'max_seq_length', 'num_examples',\n",
       "       'inference_time'],\n",
       "      dtype='object')"
      ]
     },
     "execution_count": 30,
     "metadata": {},
     "output_type": "execute_result"
    }
   ],
   "source": [
    "data_sub.columns"
   ]
  },
  {
   "cell_type": "code",
   "execution_count": 29,
   "metadata": {
    "colab": {
     "base_uri": "https://localhost:8080/",
     "height": 238
    },
    "colab_type": "code",
    "id": "5e4yGjESeObI",
    "outputId": "9c15fca6-2db1-47e0-c6e4-e7208347122a",
    "scrolled": false
   },
   "outputs": [
    {
     "data": {
      "image/png": "[encoded data removed]",
      "text/plain": [
       "<Figure size 792x792 with 2 Axes>"
      ]
     },
     "metadata": {
      "needs_background": "light"
     },
     "output_type": "display_data"
    }
   ],
   "source": [
    "# correlation matrix plot\n",
    "plt.rcParams['font.size'] = 16\n",
    "plt.figure(figsize=(11,11))\n",
    "ht = sns.heatmap(data_sub.corr(), annot=True, linewidths=.5, fmt= '.2f', cmap=\"YlGnBu\", annot_kws={'size':18})\n",
    "plt.xticks(np.arange(len(data_sub.columns))+0.5, labels = ['batch size', 'sequence length', 'task size', 'inference time' ], fontsize = 16, \n",
    "           rotation=45)\n",
    "plt.yticks(np.arange(len(data_sub.columns))+0.5, labels = ['batch size', 'sequence length', 'task size', 'inference time' ], fontsize = 16)\n",
    "plt.title('Correlation plot', fontsize = 18)\n",
    "plt.show()\n",
    "ht.figure.savefig('inference_correlation_plot.png', bbox_inches='tight')"
   ]
  },
  {
   "cell_type": "code",
   "execution_count": 30,
   "metadata": {
    "colab": {
     "base_uri": "https://localhost:8080/",
     "height": 543
    },
    "colab_type": "code",
    "id": "Ahe3OG9KgM3U",
    "outputId": "dc3fab57-b4d9-4e12-9c59-e143ba27ca04"
   },
   "outputs": [
    {
     "data": {
      "image/png": "[encoded data removed]",
      "text/plain": [
       "<Figure size 720x576 with 1 Axes>"
      ]
     },
     "metadata": {
      "needs_background": "light"
     },
     "output_type": "display_data"
    }
   ],
   "source": [
    "## Boxplots of fine-tuning, gouped by learning rate\n",
    "\n",
    "plt.figure(figsize = (10, 8))\n",
    "ax = sns.boxplot(x = 'learning_rate', y = 'inference_time', hue = 'task_name', data = data3, dodge = False)\n",
    "plt.ylabel('inference time', fontsize = 16)\n",
    "plt.xlabel('learning rate', fontsize = 16)\n",
    "plt.title('Boxplot of inference time by learning rate', fontsize = 18)\n",
    "plt.setp(ax.get_xticklabels(), rotation='horizontal', fontsize=16)\n",
    "plt.setp(ax.get_yticklabels(), rotation='horizontal', fontsize=16)\n",
    "plt.show()\n",
    "#ax.figure.savefig('inference_time_hist.png')"
   ]
  },
  {
   "cell_type": "code",
   "execution_count": 31,
   "metadata": {},
   "outputs": [
    {
     "data": {
      "image/png": "[encoded data removed]",
      "text/plain": [
       "<Figure size 720x576 with 1 Axes>"
      ]
     },
     "metadata": {
      "needs_background": "light"
     },
     "output_type": "display_data"
    }
   ],
   "source": [
    "## Boxplots of fine-tuning, gouped by task_name\n",
    "\n",
    "plt.figure(figsize = (10, 8))\n",
    "ax = sns.boxplot(x = 'task_name', y = 'inference_time', data = data3)\n",
    "plt.ylabel('inference time', fontsize = 16)\n",
    "plt.xlabel('task name', fontsize = 16)\n",
    "plt.title('Boxplot of inference time by task name', fontsize = 18)\n",
    "plt.setp(ax.get_xticklabels(), rotation='horizontal', fontsize=16)\n",
    "plt.setp(ax.get_yticklabels(), rotation='horizontal', fontsize=16)\n",
    "plt.show()\n",
    "ax.figure.savefig('inference_time_task.png')"
   ]
  },
  {
   "cell_type": "code",
   "execution_count": 32,
   "metadata": {},
   "outputs": [
    {
     "data": {
      "text/html": [
       "<div>\n",
       "<style scoped>\n",
       "    .dataframe tbody tr th:only-of-type {\n",
       "        vertical-align: middle;\n",
       "    }\n",
       "\n",
       "    .dataframe tbody tr th {\n",
       "        vertical-align: top;\n",
       "    }\n",
       "\n",
       "    .dataframe thead th {\n",
       "        text-align: right;\n",
       "    }\n",
       "</style>\n",
       "<table border=\"1\" class=\"dataframe\">\n",
       "  <thead>\n",
       "    <tr style=\"text-align: right;\">\n",
       "      <th></th>\n",
       "      <th>count</th>\n",
       "      <th>mean</th>\n",
       "      <th>std</th>\n",
       "      <th>min</th>\n",
       "      <th>25%</th>\n",
       "      <th>50%</th>\n",
       "      <th>75%</th>\n",
       "      <th>max</th>\n",
       "    </tr>\n",
       "    <tr>\n",
       "      <th>task_name</th>\n",
       "      <th></th>\n",
       "      <th></th>\n",
       "      <th></th>\n",
       "      <th></th>\n",
       "      <th></th>\n",
       "      <th></th>\n",
       "      <th></th>\n",
       "      <th></th>\n",
       "    </tr>\n",
       "  </thead>\n",
       "  <tbody>\n",
       "    <tr>\n",
       "      <th>CoLA</th>\n",
       "      <td>63.0</td>\n",
       "      <td>1.490838</td>\n",
       "      <td>2.882897</td>\n",
       "      <td>0.091526</td>\n",
       "      <td>0.310897</td>\n",
       "      <td>0.563840</td>\n",
       "      <td>1.373041</td>\n",
       "      <td>18.842612</td>\n",
       "    </tr>\n",
       "    <tr>\n",
       "      <th>MRPC</th>\n",
       "      <td>51.0</td>\n",
       "      <td>1.790568</td>\n",
       "      <td>3.334485</td>\n",
       "      <td>0.095592</td>\n",
       "      <td>0.324822</td>\n",
       "      <td>0.648757</td>\n",
       "      <td>1.434170</td>\n",
       "      <td>19.563092</td>\n",
       "    </tr>\n",
       "    <tr>\n",
       "      <th>RTE</th>\n",
       "      <td>63.0</td>\n",
       "      <td>2.217525</td>\n",
       "      <td>4.146957</td>\n",
       "      <td>0.095470</td>\n",
       "      <td>0.326230</td>\n",
       "      <td>0.618110</td>\n",
       "      <td>2.272805</td>\n",
       "      <td>26.955771</td>\n",
       "    </tr>\n",
       "    <tr>\n",
       "      <th>STS-B</th>\n",
       "      <td>45.0</td>\n",
       "      <td>1.809717</td>\n",
       "      <td>3.366402</td>\n",
       "      <td>0.093888</td>\n",
       "      <td>0.310691</td>\n",
       "      <td>0.653273</td>\n",
       "      <td>1.388232</td>\n",
       "      <td>19.205167</td>\n",
       "    </tr>\n",
       "    <tr>\n",
       "      <th>WNLI</th>\n",
       "      <td>45.0</td>\n",
       "      <td>2.683981</td>\n",
       "      <td>4.835715</td>\n",
       "      <td>0.092698</td>\n",
       "      <td>0.374143</td>\n",
       "      <td>0.690526</td>\n",
       "      <td>2.769030</td>\n",
       "      <td>27.374284</td>\n",
       "    </tr>\n",
       "  </tbody>\n",
       "</table>\n",
       "</div>"
      ],
      "text/plain": [
       "           count      mean       std       min       25%       50%       75%  \\\n",
       "task_name                                                                      \n",
       "CoLA        63.0  1.490838  2.882897  0.091526  0.310897  0.563840  1.373041   \n",
       "MRPC        51.0  1.790568  3.334485  0.095592  0.324822  0.648757  1.434170   \n",
       "RTE         63.0  2.217525  4.146957  0.095470  0.326230  0.618110  2.272805   \n",
       "STS-B       45.0  1.809717  3.366402  0.093888  0.310691  0.653273  1.388232   \n",
       "WNLI        45.0  2.683981  4.835715  0.092698  0.374143  0.690526  2.769030   \n",
       "\n",
       "                 max  \n",
       "task_name             \n",
       "CoLA       18.842612  \n",
       "MRPC       19.563092  \n",
       "RTE        26.955771  \n",
       "STS-B      19.205167  \n",
       "WNLI       27.374284  "
      ]
     },
     "execution_count": 32,
     "metadata": {},
     "output_type": "execute_result"
    }
   ],
   "source": [
    "data3.groupby('task_name').inference_time.describe()"
   ]
  },
  {
   "cell_type": "code",
   "execution_count": 33,
   "metadata": {},
   "outputs": [
    {
     "data": {
      "text/html": [
       "<div>\n",
       "<style scoped>\n",
       "    .dataframe tbody tr th:only-of-type {\n",
       "        vertical-align: middle;\n",
       "    }\n",
       "\n",
       "    .dataframe tbody tr th {\n",
       "        vertical-align: top;\n",
       "    }\n",
       "\n",
       "    .dataframe thead th {\n",
       "        text-align: right;\n",
       "    }\n",
       "</style>\n",
       "<table border=\"1\" class=\"dataframe\">\n",
       "  <thead>\n",
       "    <tr style=\"text-align: right;\">\n",
       "      <th></th>\n",
       "      <th>count</th>\n",
       "      <th>mean</th>\n",
       "      <th>std</th>\n",
       "      <th>min</th>\n",
       "      <th>25%</th>\n",
       "      <th>50%</th>\n",
       "      <th>75%</th>\n",
       "      <th>max</th>\n",
       "    </tr>\n",
       "    <tr>\n",
       "      <th>task_name</th>\n",
       "      <th></th>\n",
       "      <th></th>\n",
       "      <th></th>\n",
       "      <th></th>\n",
       "      <th></th>\n",
       "      <th></th>\n",
       "      <th></th>\n",
       "      <th></th>\n",
       "    </tr>\n",
       "  </thead>\n",
       "  <tbody>\n",
       "    <tr>\n",
       "      <th>CoLA</th>\n",
       "      <td>36.0</td>\n",
       "      <td>2.028410</td>\n",
       "      <td>3.691562</td>\n",
       "      <td>0.092450</td>\n",
       "      <td>0.335937</td>\n",
       "      <td>0.585906</td>\n",
       "      <td>1.992505</td>\n",
       "      <td>18.842612</td>\n",
       "    </tr>\n",
       "    <tr>\n",
       "      <th>MRPC</th>\n",
       "      <td>36.0</td>\n",
       "      <td>2.133130</td>\n",
       "      <td>3.903808</td>\n",
       "      <td>0.095592</td>\n",
       "      <td>0.326205</td>\n",
       "      <td>0.647629</td>\n",
       "      <td>2.021783</td>\n",
       "      <td>19.563092</td>\n",
       "    </tr>\n",
       "    <tr>\n",
       "      <th>RTE</th>\n",
       "      <td>36.0</td>\n",
       "      <td>2.855300</td>\n",
       "      <td>5.177061</td>\n",
       "      <td>0.097367</td>\n",
       "      <td>0.328523</td>\n",
       "      <td>0.725757</td>\n",
       "      <td>3.155621</td>\n",
       "      <td>26.955771</td>\n",
       "    </tr>\n",
       "    <tr>\n",
       "      <th>STS-B</th>\n",
       "      <td>36.0</td>\n",
       "      <td>2.040408</td>\n",
       "      <td>3.718444</td>\n",
       "      <td>0.093888</td>\n",
       "      <td>0.308234</td>\n",
       "      <td>0.674409</td>\n",
       "      <td>2.087234</td>\n",
       "      <td>19.205167</td>\n",
       "    </tr>\n",
       "    <tr>\n",
       "      <th>WNLI</th>\n",
       "      <td>36.0</td>\n",
       "      <td>2.899120</td>\n",
       "      <td>5.277764</td>\n",
       "      <td>0.092698</td>\n",
       "      <td>0.367639</td>\n",
       "      <td>0.714683</td>\n",
       "      <td>2.936558</td>\n",
       "      <td>27.374284</td>\n",
       "    </tr>\n",
       "  </tbody>\n",
       "</table>\n",
       "</div>"
      ],
      "text/plain": [
       "           count      mean       std       min       25%       50%       75%  \\\n",
       "task_name                                                                      \n",
       "CoLA        36.0  2.028410  3.691562  0.092450  0.335937  0.585906  1.992505   \n",
       "MRPC        36.0  2.133130  3.903808  0.095592  0.326205  0.647629  2.021783   \n",
       "RTE         36.0  2.855300  5.177061  0.097367  0.328523  0.725757  3.155621   \n",
       "STS-B       36.0  2.040408  3.718444  0.093888  0.308234  0.674409  2.087234   \n",
       "WNLI        36.0  2.899120  5.277764  0.092698  0.367639  0.714683  2.936558   \n",
       "\n",
       "                 max  \n",
       "task_name             \n",
       "CoLA       18.842612  \n",
       "MRPC       19.563092  \n",
       "RTE        26.955771  \n",
       "STS-B      19.205167  \n",
       "WNLI       27.374284  "
      ]
     },
     "execution_count": 33,
     "metadata": {},
     "output_type": "execute_result"
    }
   ],
   "source": [
    "# For a fair comparison the models albert-base-v1, distilbert-base-cased and bert-base-cased are not regarded in the following \n",
    "data3[(data3.model_name_or_path != 'albert-base-v1') & (data3.model_name_or_path != 'distilbert-base-cased') \n",
    "      & (data3.model_name_or_path != 'bert-base-cased')].groupby('task_name').inference_time.describe()"
   ]
  },
  {
   "cell_type": "code",
   "execution_count": 34,
   "metadata": {},
   "outputs": [
    {
     "data": {
      "image/png": "[encoded data removed]",
      "text/plain": [
       "<Figure size 720x576 with 1 Axes>"
      ]
     },
     "metadata": {
      "needs_background": "light"
     },
     "output_type": "display_data"
    }
   ],
   "source": [
    "## Boxplots of fine-tuning, gouped by number pf examples\n",
    "\n",
    "plt.figure(figsize = (10, 8))\n",
    "my_pal = {\"WNLI\": \"#ffff33\", \"STS-B\": \"#ff7f00\", \"RTE\": \"#4daf4a\", \"MRPC\": \"#377eb8\", \"CoLA\": \"#e41a1c\"}\n",
    "ax = sns.boxplot(x = 'num_examples', y = 'inference_time', data = data3, hue = 'task_name', dodge=False, \n",
    "                 palette = my_pal)\n",
    "plt.legend(loc='upper right')\n",
    "plt.ylabel('inference time', fontsize = 16)\n",
    "plt.xlabel('number of examples', fontsize = 16)\n",
    "plt.title('Boxplot of inference time by number of examples', fontsize = 18) \n",
    "plt.setp(ax.get_xticklabels(), rotation='horizontal', fontsize=16)\n",
    "plt.setp(ax.get_yticklabels(), rotation='horizontal', fontsize=16)\n",
    "plt.show()\n",
    "ax.figure.savefig('inference_time_number.png')"
   ]
  },
  {
   "cell_type": "code",
   "execution_count": 35,
   "metadata": {
    "colab": {
     "base_uri": "https://localhost:8080/",
     "height": 598
    },
    "colab_type": "code",
    "id": "2WSBH9gYhN0W",
    "outputId": "68d48a76-d0a7-45e0-b0ae-30f0005a7990"
   },
   "outputs": [
    {
     "data": {
      "image/png": "[encoded data removed]",
      "text/plain": [
       "<Figure size 720x576 with 1 Axes>"
      ]
     },
     "metadata": {
      "needs_background": "light"
     },
     "output_type": "display_data"
    }
   ],
   "source": [
    "## Boxplots of fine-tuning, grouped by batch size\n",
    "\n",
    "plt.figure(figsize = (10, 8))\n",
    "ax = sns.boxplot(x = 'per_device_eval_batch_size', y = 'inference_time', data = data3, palette = sns.color_palette('YlOrBr'))\n",
    "plt.ylabel('inference time', fontsize = 16)\n",
    "plt.xlabel('batch size', fontsize = 16)\n",
    "plt.title('Boxplot of inference time by batch size', fontsize = 18)\n",
    "plt.setp(ax.get_xticklabels(), rotation='horizontal', fontsize=16)\n",
    "plt.setp(ax.get_yticklabels(), rotation='horizontal', fontsize=16)\n",
    "plt.show()\n",
    "ax.figure.savefig('inference_time_batch_size.png')"
   ]
  },
  {
   "cell_type": "code",
   "execution_count": 36,
   "metadata": {},
   "outputs": [
    {
     "data": {
      "text/html": [
       "<div>\n",
       "<style scoped>\n",
       "    .dataframe tbody tr th:only-of-type {\n",
       "        vertical-align: middle;\n",
       "    }\n",
       "\n",
       "    .dataframe tbody tr th {\n",
       "        vertical-align: top;\n",
       "    }\n",
       "\n",
       "    .dataframe thead th {\n",
       "        text-align: right;\n",
       "    }\n",
       "</style>\n",
       "<table border=\"1\" class=\"dataframe\">\n",
       "  <thead>\n",
       "    <tr style=\"text-align: right;\">\n",
       "      <th></th>\n",
       "      <th>count</th>\n",
       "      <th>mean</th>\n",
       "      <th>std</th>\n",
       "      <th>min</th>\n",
       "      <th>25%</th>\n",
       "      <th>50%</th>\n",
       "      <th>75%</th>\n",
       "      <th>max</th>\n",
       "    </tr>\n",
       "    <tr>\n",
       "      <th>per_device_eval_batch_size</th>\n",
       "      <th></th>\n",
       "      <th></th>\n",
       "      <th></th>\n",
       "      <th></th>\n",
       "      <th></th>\n",
       "      <th></th>\n",
       "      <th></th>\n",
       "      <th></th>\n",
       "    </tr>\n",
       "  </thead>\n",
       "  <tbody>\n",
       "    <tr>\n",
       "      <th>8</th>\n",
       "      <td>89.0</td>\n",
       "      <td>0.854028</td>\n",
       "      <td>1.706136</td>\n",
       "      <td>0.091526</td>\n",
       "      <td>0.186230</td>\n",
       "      <td>0.319323</td>\n",
       "      <td>0.67533</td>\n",
       "      <td>8.346511</td>\n",
       "    </tr>\n",
       "    <tr>\n",
       "      <th>16</th>\n",
       "      <td>89.0</td>\n",
       "      <td>1.729359</td>\n",
       "      <td>3.022269</td>\n",
       "      <td>0.144093</td>\n",
       "      <td>0.343626</td>\n",
       "      <td>0.608390</td>\n",
       "      <td>1.37256</td>\n",
       "      <td>15.803596</td>\n",
       "    </tr>\n",
       "    <tr>\n",
       "      <th>32</th>\n",
       "      <td>89.0</td>\n",
       "      <td>3.339784</td>\n",
       "      <td>5.185330</td>\n",
       "      <td>0.249477</td>\n",
       "      <td>0.614942</td>\n",
       "      <td>1.942168</td>\n",
       "      <td>2.69934</td>\n",
       "      <td>27.374284</td>\n",
       "    </tr>\n",
       "  </tbody>\n",
       "</table>\n",
       "</div>"
      ],
      "text/plain": [
       "                            count      mean       std       min       25%  \\\n",
       "per_device_eval_batch_size                                                  \n",
       "8                            89.0  0.854028  1.706136  0.091526  0.186230   \n",
       "16                           89.0  1.729359  3.022269  0.144093  0.343626   \n",
       "32                           89.0  3.339784  5.185330  0.249477  0.614942   \n",
       "\n",
       "                                 50%      75%        max  \n",
       "per_device_eval_batch_size                                \n",
       "8                           0.319323  0.67533   8.346511  \n",
       "16                          0.608390  1.37256  15.803596  \n",
       "32                          1.942168  2.69934  27.374284  "
      ]
     },
     "execution_count": 36,
     "metadata": {},
     "output_type": "execute_result"
    }
   ],
   "source": [
    "data3.groupby('per_device_eval_batch_size').inference_time.describe()"
   ]
  },
  {
   "cell_type": "code",
   "execution_count": 37,
   "metadata": {},
   "outputs": [
    {
     "data": {
      "text/html": [
       "<div>\n",
       "<style scoped>\n",
       "    .dataframe tbody tr th:only-of-type {\n",
       "        vertical-align: middle;\n",
       "    }\n",
       "\n",
       "    .dataframe tbody tr th {\n",
       "        vertical-align: top;\n",
       "    }\n",
       "\n",
       "    .dataframe thead th {\n",
       "        text-align: right;\n",
       "    }\n",
       "</style>\n",
       "<table border=\"1\" class=\"dataframe\">\n",
       "  <thead>\n",
       "    <tr style=\"text-align: right;\">\n",
       "      <th></th>\n",
       "      <th>count</th>\n",
       "      <th>mean</th>\n",
       "      <th>std</th>\n",
       "      <th>min</th>\n",
       "      <th>25%</th>\n",
       "      <th>50%</th>\n",
       "      <th>75%</th>\n",
       "      <th>max</th>\n",
       "    </tr>\n",
       "    <tr>\n",
       "      <th>per_device_eval_batch_size</th>\n",
       "      <th></th>\n",
       "      <th></th>\n",
       "      <th></th>\n",
       "      <th></th>\n",
       "      <th></th>\n",
       "      <th></th>\n",
       "      <th></th>\n",
       "      <th></th>\n",
       "    </tr>\n",
       "  </thead>\n",
       "  <tbody>\n",
       "    <tr>\n",
       "      <th>8</th>\n",
       "      <td>15.0</td>\n",
       "      <td>1.097115</td>\n",
       "      <td>2.081852</td>\n",
       "      <td>0.092698</td>\n",
       "      <td>0.195790</td>\n",
       "      <td>0.324292</td>\n",
       "      <td>0.930551</td>\n",
       "      <td>8.346511</td>\n",
       "    </tr>\n",
       "    <tr>\n",
       "      <th>16</th>\n",
       "      <td>15.0</td>\n",
       "      <td>2.370090</td>\n",
       "      <td>3.969278</td>\n",
       "      <td>0.150897</td>\n",
       "      <td>0.395829</td>\n",
       "      <td>0.648036</td>\n",
       "      <td>3.477304</td>\n",
       "      <td>15.803596</td>\n",
       "    </tr>\n",
       "    <tr>\n",
       "      <th>32</th>\n",
       "      <td>15.0</td>\n",
       "      <td>4.584739</td>\n",
       "      <td>6.835877</td>\n",
       "      <td>0.310802</td>\n",
       "      <td>0.831855</td>\n",
       "      <td>2.630567</td>\n",
       "      <td>6.304199</td>\n",
       "      <td>27.374284</td>\n",
       "    </tr>\n",
       "  </tbody>\n",
       "</table>\n",
       "</div>"
      ],
      "text/plain": [
       "                            count      mean       std       min       25%  \\\n",
       "per_device_eval_batch_size                                                  \n",
       "8                            15.0  1.097115  2.081852  0.092698  0.195790   \n",
       "16                           15.0  2.370090  3.969278  0.150897  0.395829   \n",
       "32                           15.0  4.584739  6.835877  0.310802  0.831855   \n",
       "\n",
       "                                 50%       75%        max  \n",
       "per_device_eval_batch_size                                 \n",
       "8                           0.324292  0.930551   8.346511  \n",
       "16                          0.648036  3.477304  15.803596  \n",
       "32                          2.630567  6.304199  27.374284  "
      ]
     },
     "execution_count": 37,
     "metadata": {},
     "output_type": "execute_result"
    }
   ],
   "source": [
    "## für einen fairen Vergleich SST-2 und MRPC nicht mit reinnehmen (da albert für seq len = 512 gecrashed und \n",
    "# MRPC für bert-cased und distilbert-cased mit 128 und 256 failed)\n",
    "data3[(data3.task_name == 'WNLI')].groupby('per_device_eval_batch_size').inference_time.describe()"
   ]
  },
  {
   "cell_type": "code",
   "execution_count": 38,
   "metadata": {
    "colab": {
     "base_uri": "https://localhost:8080/",
     "height": 598
    },
    "colab_type": "code",
    "id": "GzWbmJGnhwTl",
    "outputId": "9be0ef3c-3a70-4e87-fef5-26caa8659e8c"
   },
   "outputs": [
    {
     "data": {
      "image/png": "[encoded data removed]",
      "text/plain": [
       "<Figure size 720x576 with 1 Axes>"
      ]
     },
     "metadata": {
      "needs_background": "light"
     },
     "output_type": "display_data"
    }
   ],
   "source": [
    "#### Boxplots of fine-tuning, gouped by max sequence length\n",
    "\n",
    "plt.figure(figsize = (10, 8))\n",
    "ax = sns.boxplot(x = 'max_seq_length', y = 'inference_time', data = data3, palette = sns.color_palette('rocket_r'))\n",
    "plt.xlabel('maximum sequence length', fontsize = 16)\n",
    "plt.ylabel('inference time', fontsize = 16)\n",
    "plt.title('Boxplot of inference time by maximum sequence length', fontsize = 18)\n",
    "plt.setp(ax.get_xticklabels(), rotation='horizontal', fontsize=16)\n",
    "plt.setp(ax.get_yticklabels(), rotation='horizontal', fontsize=16)\n",
    "plt.show()\n",
    "ax.figure.savefig('inference_time_seq_length.png')"
   ]
  },
  {
   "cell_type": "code",
   "execution_count": 39,
   "metadata": {},
   "outputs": [
    {
     "data": {
      "text/html": [
       "<div>\n",
       "<style scoped>\n",
       "    .dataframe tbody tr th:only-of-type {\n",
       "        vertical-align: middle;\n",
       "    }\n",
       "\n",
       "    .dataframe tbody tr th {\n",
       "        vertical-align: top;\n",
       "    }\n",
       "\n",
       "    .dataframe thead th {\n",
       "        text-align: right;\n",
       "    }\n",
       "</style>\n",
       "<table border=\"1\" class=\"dataframe\">\n",
       "  <thead>\n",
       "    <tr style=\"text-align: right;\">\n",
       "      <th></th>\n",
       "      <th>count</th>\n",
       "      <th>mean</th>\n",
       "      <th>std</th>\n",
       "      <th>min</th>\n",
       "      <th>25%</th>\n",
       "      <th>50%</th>\n",
       "      <th>75%</th>\n",
       "      <th>max</th>\n",
       "    </tr>\n",
       "    <tr>\n",
       "      <th>max_seq_length</th>\n",
       "      <th></th>\n",
       "      <th></th>\n",
       "      <th></th>\n",
       "      <th></th>\n",
       "      <th></th>\n",
       "      <th></th>\n",
       "      <th></th>\n",
       "      <th></th>\n",
       "    </tr>\n",
       "  </thead>\n",
       "  <tbody>\n",
       "    <tr>\n",
       "      <th>128</th>\n",
       "      <td>87.0</td>\n",
       "      <td>0.457988</td>\n",
       "      <td>0.517178</td>\n",
       "      <td>0.091526</td>\n",
       "      <td>0.186052</td>\n",
       "      <td>0.321509</td>\n",
       "      <td>0.551895</td>\n",
       "      <td>2.769030</td>\n",
       "    </tr>\n",
       "    <tr>\n",
       "      <th>256</th>\n",
       "      <td>87.0</td>\n",
       "      <td>1.242161</td>\n",
       "      <td>1.552812</td>\n",
       "      <td>0.150376</td>\n",
       "      <td>0.320631</td>\n",
       "      <td>0.615759</td>\n",
       "      <td>1.306774</td>\n",
       "      <td>9.251770</td>\n",
       "    </tr>\n",
       "    <tr>\n",
       "      <th>512</th>\n",
       "      <td>93.0</td>\n",
       "      <td>4.077948</td>\n",
       "      <td>5.536896</td>\n",
       "      <td>0.286959</td>\n",
       "      <td>0.715284</td>\n",
       "      <td>1.750884</td>\n",
       "      <td>3.739821</td>\n",
       "      <td>27.374284</td>\n",
       "    </tr>\n",
       "  </tbody>\n",
       "</table>\n",
       "</div>"
      ],
      "text/plain": [
       "                count      mean       std       min       25%       50%  \\\n",
       "max_seq_length                                                            \n",
       "128              87.0  0.457988  0.517178  0.091526  0.186052  0.321509   \n",
       "256              87.0  1.242161  1.552812  0.150376  0.320631  0.615759   \n",
       "512              93.0  4.077948  5.536896  0.286959  0.715284  1.750884   \n",
       "\n",
       "                     75%        max  \n",
       "max_seq_length                       \n",
       "128             0.551895   2.769030  \n",
       "256             1.306774   9.251770  \n",
       "512             3.739821  27.374284  "
      ]
     },
     "execution_count": 39,
     "metadata": {},
     "output_type": "execute_result"
    }
   ],
   "source": [
    "data3.groupby('max_seq_length').inference_time.describe()"
   ]
  },
  {
   "cell_type": "code",
   "execution_count": 40,
   "metadata": {},
   "outputs": [
    {
     "data": {
      "text/html": [
       "<div>\n",
       "<style scoped>\n",
       "    .dataframe tbody tr th:only-of-type {\n",
       "        vertical-align: middle;\n",
       "    }\n",
       "\n",
       "    .dataframe tbody tr th {\n",
       "        vertical-align: top;\n",
       "    }\n",
       "\n",
       "    .dataframe thead th {\n",
       "        text-align: right;\n",
       "    }\n",
       "</style>\n",
       "<table border=\"1\" class=\"dataframe\">\n",
       "  <thead>\n",
       "    <tr style=\"text-align: right;\">\n",
       "      <th></th>\n",
       "      <th>count</th>\n",
       "      <th>mean</th>\n",
       "      <th>std</th>\n",
       "      <th>min</th>\n",
       "      <th>25%</th>\n",
       "      <th>50%</th>\n",
       "      <th>75%</th>\n",
       "      <th>max</th>\n",
       "    </tr>\n",
       "    <tr>\n",
       "      <th>max_seq_length</th>\n",
       "      <th></th>\n",
       "      <th></th>\n",
       "      <th></th>\n",
       "      <th></th>\n",
       "      <th></th>\n",
       "      <th></th>\n",
       "      <th></th>\n",
       "      <th></th>\n",
       "    </tr>\n",
       "  </thead>\n",
       "  <tbody>\n",
       "    <tr>\n",
       "      <th>128</th>\n",
       "      <td>72.0</td>\n",
       "      <td>0.457633</td>\n",
       "      <td>0.531975</td>\n",
       "      <td>0.091526</td>\n",
       "      <td>0.185808</td>\n",
       "      <td>0.316467</td>\n",
       "      <td>0.551778</td>\n",
       "      <td>2.769030</td>\n",
       "    </tr>\n",
       "    <tr>\n",
       "      <th>256</th>\n",
       "      <td>72.0</td>\n",
       "      <td>1.174064</td>\n",
       "      <td>1.348102</td>\n",
       "      <td>0.150376</td>\n",
       "      <td>0.318750</td>\n",
       "      <td>0.601432</td>\n",
       "      <td>1.299718</td>\n",
       "      <td>5.581477</td>\n",
       "    </tr>\n",
       "    <tr>\n",
       "      <th>512</th>\n",
       "      <td>72.0</td>\n",
       "      <td>4.421681</td>\n",
       "      <td>5.764488</td>\n",
       "      <td>0.286959</td>\n",
       "      <td>1.254267</td>\n",
       "      <td>2.160660</td>\n",
       "      <td>6.682378</td>\n",
       "      <td>27.374284</td>\n",
       "    </tr>\n",
       "  </tbody>\n",
       "</table>\n",
       "</div>"
      ],
      "text/plain": [
       "                count      mean       std       min       25%       50%  \\\n",
       "max_seq_length                                                            \n",
       "128              72.0  0.457633  0.531975  0.091526  0.185808  0.316467   \n",
       "256              72.0  1.174064  1.348102  0.150376  0.318750  0.601432   \n",
       "512              72.0  4.421681  5.764488  0.286959  1.254267  2.160660   \n",
       "\n",
       "                     75%        max  \n",
       "max_seq_length                       \n",
       "128             0.551778   2.769030  \n",
       "256             1.299718   5.581477  \n",
       "512             6.682378  27.374284  "
      ]
     },
     "execution_count": 40,
     "metadata": {},
     "output_type": "execute_result"
    }
   ],
   "source": [
    "data3[(data3.task_name != 'MRPC')].groupby('max_seq_length').inference_time.describe()"
   ]
  },
  {
   "cell_type": "code",
   "execution_count": 41,
   "metadata": {
    "colab": {
     "base_uri": "https://localhost:8080/",
     "height": 598
    },
    "colab_type": "code",
    "id": "rN9w5Iurh8Qq",
    "outputId": "0375eaec-e997-40f9-fcd1-52c985aa315d"
   },
   "outputs": [
    {
     "data": {
      "image/png": "[encoded data removed]",
      "text/plain": [
       "<Figure size 720x576 with 1 Axes>"
      ]
     },
     "metadata": {
      "needs_background": "light"
     },
     "output_type": "display_data"
    }
   ],
   "source": [
    "## Boxplots of fine-tuning, gouped by tokens per batch\n",
    "\n",
    "plt.figure(figsize = (10, 8))\n",
    "ax = sns.boxplot(x = 'tokens_per_batch', y = 'inference_time', data = data3, palette = sns.color_palette('magma'))\n",
    "plt.ylabel('inference time', fontsize = 16)\n",
    "plt.xlabel('tokens per batch', fontsize = 16)\n",
    "plt.title('Boxplot of inference time by tokens per batch', fontsize = 18)\n",
    "plt.setp(ax.get_xticklabels(), rotation='horizontal', fontsize=16)\n",
    "plt.setp(ax.get_yticklabels(), rotation='horizontal', fontsize=16)\n",
    "plt.show()\n",
    "ax.figure.savefig('inference_time_tokensperbatch.png')"
   ]
  },
  {
   "cell_type": "code",
   "execution_count": 42,
   "metadata": {},
   "outputs": [
    {
     "data": {
      "text/html": [
       "<div>\n",
       "<style scoped>\n",
       "    .dataframe tbody tr th:only-of-type {\n",
       "        vertical-align: middle;\n",
       "    }\n",
       "\n",
       "    .dataframe tbody tr th {\n",
       "        vertical-align: top;\n",
       "    }\n",
       "\n",
       "    .dataframe thead th {\n",
       "        text-align: right;\n",
       "    }\n",
       "</style>\n",
       "<table border=\"1\" class=\"dataframe\">\n",
       "  <thead>\n",
       "    <tr style=\"text-align: right;\">\n",
       "      <th></th>\n",
       "      <th>count</th>\n",
       "      <th>mean</th>\n",
       "      <th>std</th>\n",
       "      <th>min</th>\n",
       "      <th>25%</th>\n",
       "      <th>50%</th>\n",
       "      <th>75%</th>\n",
       "      <th>max</th>\n",
       "    </tr>\n",
       "    <tr>\n",
       "      <th>tokens_per_batch</th>\n",
       "      <th></th>\n",
       "      <th></th>\n",
       "      <th></th>\n",
       "      <th></th>\n",
       "      <th></th>\n",
       "      <th></th>\n",
       "      <th></th>\n",
       "      <th></th>\n",
       "    </tr>\n",
       "  </thead>\n",
       "  <tbody>\n",
       "    <tr>\n",
       "      <th>1024</th>\n",
       "      <td>29.0</td>\n",
       "      <td>0.193460</td>\n",
       "      <td>0.083244</td>\n",
       "      <td>0.091526</td>\n",
       "      <td>0.181052</td>\n",
       "      <td>0.185875</td>\n",
       "      <td>0.196090</td>\n",
       "      <td>0.377701</td>\n",
       "    </tr>\n",
       "    <tr>\n",
       "      <th>2048</th>\n",
       "      <td>58.0</td>\n",
       "      <td>0.343448</td>\n",
       "      <td>0.170019</td>\n",
       "      <td>0.144093</td>\n",
       "      <td>0.301878</td>\n",
       "      <td>0.319447</td>\n",
       "      <td>0.350619</td>\n",
       "      <td>0.781331</td>\n",
       "    </tr>\n",
       "    <tr>\n",
       "      <th>4096</th>\n",
       "      <td>89.0</td>\n",
       "      <td>1.310748</td>\n",
       "      <td>1.745084</td>\n",
       "      <td>0.249477</td>\n",
       "      <td>0.546671</td>\n",
       "      <td>0.631088</td>\n",
       "      <td>1.325540</td>\n",
       "      <td>8.346511</td>\n",
       "    </tr>\n",
       "    <tr>\n",
       "      <th>8192</th>\n",
       "      <td>60.0</td>\n",
       "      <td>2.969557</td>\n",
       "      <td>3.528938</td>\n",
       "      <td>0.501007</td>\n",
       "      <td>1.182948</td>\n",
       "      <td>1.380784</td>\n",
       "      <td>3.437683</td>\n",
       "      <td>15.803596</td>\n",
       "    </tr>\n",
       "    <tr>\n",
       "      <th>16384</th>\n",
       "      <td>31.0</td>\n",
       "      <td>6.671027</td>\n",
       "      <td>7.473922</td>\n",
       "      <td>1.196649</td>\n",
       "      <td>2.559860</td>\n",
       "      <td>2.734550</td>\n",
       "      <td>7.291414</td>\n",
       "      <td>27.374284</td>\n",
       "    </tr>\n",
       "  </tbody>\n",
       "</table>\n",
       "</div>"
      ],
      "text/plain": [
       "                  count      mean       std       min       25%       50%  \\\n",
       "tokens_per_batch                                                            \n",
       "1024               29.0  0.193460  0.083244  0.091526  0.181052  0.185875   \n",
       "2048               58.0  0.343448  0.170019  0.144093  0.301878  0.319447   \n",
       "4096               89.0  1.310748  1.745084  0.249477  0.546671  0.631088   \n",
       "8192               60.0  2.969557  3.528938  0.501007  1.182948  1.380784   \n",
       "16384              31.0  6.671027  7.473922  1.196649  2.559860  2.734550   \n",
       "\n",
       "                       75%        max  \n",
       "tokens_per_batch                       \n",
       "1024              0.196090   0.377701  \n",
       "2048              0.350619   0.781331  \n",
       "4096              1.325540   8.346511  \n",
       "8192              3.437683  15.803596  \n",
       "16384             7.291414  27.374284  "
      ]
     },
     "execution_count": 42,
     "metadata": {},
     "output_type": "execute_result"
    }
   ],
   "source": [
    "data3.groupby('tokens_per_batch').inference_time.describe()"
   ]
  },
  {
   "cell_type": "code",
   "execution_count": 43,
   "metadata": {
    "colab": {
     "base_uri": "https://localhost:8080/",
     "height": 543
    },
    "colab_type": "code",
    "id": "GQJnfm4e9dpA",
    "outputId": "73e997a6-dfb8-4399-8c3b-959585a0b94a"
   },
   "outputs": [
    {
     "data": {
      "image/png": "[encoded data removed]",
      "text/plain": [
       "<Figure size 1728x720 with 1 Axes>"
      ]
     },
     "metadata": {
      "needs_background": "light"
     },
     "output_type": "display_data"
    }
   ],
   "source": [
    "## Boxplots of fine-tuning, gouped by model \n",
    "\n",
    "plt.figure(figsize = (24, 10))\n",
    "ax = sns.boxplot(x = 'model_name_or_path', y = 'inference_time', data = data3, palette = sns.color_palette(\"Set2\"))\n",
    "plt.ylabel('inference time', fontsize = 18)\n",
    "plt.xlabel('model name', fontsize = 18)\n",
    "plt.title('Boxplot of inference time by model', fontsize = 20)\n",
    "plt.setp(ax.get_xticklabels(), rotation=45, fontsize=18)\n",
    "plt.setp(ax.get_yticklabels(), rotation='horizontal', fontsize=18)\n",
    "plt.show()\n",
    "ax.figure.savefig('inference_time_models.png', bbox_inches='tight')"
   ]
  },
  {
   "cell_type": "code",
   "execution_count": null,
   "metadata": {},
   "outputs": [],
   "source": [
    "#### Color palette: https://seaborn.pydata.org/tutorial/color_palettes.html"
   ]
  },
  {
   "cell_type": "code",
   "execution_count": 44,
   "metadata": {},
   "outputs": [
    {
     "data": {
      "text/html": [
       "<div>\n",
       "<style scoped>\n",
       "    .dataframe tbody tr th:only-of-type {\n",
       "        vertical-align: middle;\n",
       "    }\n",
       "\n",
       "    .dataframe tbody tr th {\n",
       "        vertical-align: top;\n",
       "    }\n",
       "\n",
       "    .dataframe thead th {\n",
       "        text-align: right;\n",
       "    }\n",
       "</style>\n",
       "<table border=\"1\" class=\"dataframe\">\n",
       "  <thead>\n",
       "    <tr style=\"text-align: right;\">\n",
       "      <th></th>\n",
       "      <th>count</th>\n",
       "      <th>mean</th>\n",
       "      <th>std</th>\n",
       "      <th>min</th>\n",
       "      <th>25%</th>\n",
       "      <th>50%</th>\n",
       "      <th>75%</th>\n",
       "      <th>max</th>\n",
       "    </tr>\n",
       "    <tr>\n",
       "      <th>model_name_or_path</th>\n",
       "      <th></th>\n",
       "      <th></th>\n",
       "      <th></th>\n",
       "      <th></th>\n",
       "      <th></th>\n",
       "      <th></th>\n",
       "      <th></th>\n",
       "      <th></th>\n",
       "    </tr>\n",
       "  </thead>\n",
       "  <tbody>\n",
       "    <tr>\n",
       "      <th>albert-base-v1</th>\n",
       "      <td>45.0</td>\n",
       "      <td>1.238403</td>\n",
       "      <td>1.616211</td>\n",
       "      <td>0.181698</td>\n",
       "      <td>0.324292</td>\n",
       "      <td>0.633099</td>\n",
       "      <td>1.306758</td>\n",
       "      <td>7.570084</td>\n",
       "    </tr>\n",
       "    <tr>\n",
       "      <th>bert-base-cased</th>\n",
       "      <td>21.0</td>\n",
       "      <td>1.387433</td>\n",
       "      <td>1.529192</td>\n",
       "      <td>0.181052</td>\n",
       "      <td>0.355859</td>\n",
       "      <td>0.658360</td>\n",
       "      <td>1.725559</td>\n",
       "      <td>6.643081</td>\n",
       "    </tr>\n",
       "    <tr>\n",
       "      <th>bert-base-uncased</th>\n",
       "      <td>45.0</td>\n",
       "      <td>1.342396</td>\n",
       "      <td>1.548354</td>\n",
       "      <td>0.183177</td>\n",
       "      <td>0.322229</td>\n",
       "      <td>0.631088</td>\n",
       "      <td>2.024850</td>\n",
       "      <td>7.026921</td>\n",
       "    </tr>\n",
       "    <tr>\n",
       "      <th>distilbert-base-cased</th>\n",
       "      <td>21.0</td>\n",
       "      <td>0.565178</td>\n",
       "      <td>0.585868</td>\n",
       "      <td>0.091526</td>\n",
       "      <td>0.156856</td>\n",
       "      <td>0.296615</td>\n",
       "      <td>0.601720</td>\n",
       "      <td>2.465271</td>\n",
       "    </tr>\n",
       "    <tr>\n",
       "      <th>distilbert-base-uncased</th>\n",
       "      <td>45.0</td>\n",
       "      <td>0.560836</td>\n",
       "      <td>0.636458</td>\n",
       "      <td>0.092450</td>\n",
       "      <td>0.150897</td>\n",
       "      <td>0.287185</td>\n",
       "      <td>0.615949</td>\n",
       "      <td>3.061763</td>\n",
       "    </tr>\n",
       "    <tr>\n",
       "      <th>roberta-base</th>\n",
       "      <td>45.0</td>\n",
       "      <td>1.351498</td>\n",
       "      <td>1.610308</td>\n",
       "      <td>0.183351</td>\n",
       "      <td>0.332005</td>\n",
       "      <td>0.648036</td>\n",
       "      <td>1.787511</td>\n",
       "      <td>7.433448</td>\n",
       "    </tr>\n",
       "    <tr>\n",
       "      <th>xlnet-base-cased</th>\n",
       "      <td>45.0</td>\n",
       "      <td>6.310365</td>\n",
       "      <td>7.164285</td>\n",
       "      <td>0.330621</td>\n",
       "      <td>0.709893</td>\n",
       "      <td>3.473941</td>\n",
       "      <td>8.346511</td>\n",
       "      <td>27.374284</td>\n",
       "    </tr>\n",
       "  </tbody>\n",
       "</table>\n",
       "</div>"
      ],
      "text/plain": [
       "                         count      mean       std       min       25%  \\\n",
       "model_name_or_path                                                       \n",
       "albert-base-v1            45.0  1.238403  1.616211  0.181698  0.324292   \n",
       "bert-base-cased           21.0  1.387433  1.529192  0.181052  0.355859   \n",
       "bert-base-uncased         45.0  1.342396  1.548354  0.183177  0.322229   \n",
       "distilbert-base-cased     21.0  0.565178  0.585868  0.091526  0.156856   \n",
       "distilbert-base-uncased   45.0  0.560836  0.636458  0.092450  0.150897   \n",
       "roberta-base              45.0  1.351498  1.610308  0.183351  0.332005   \n",
       "xlnet-base-cased          45.0  6.310365  7.164285  0.330621  0.709893   \n",
       "\n",
       "                              50%       75%        max  \n",
       "model_name_or_path                                      \n",
       "albert-base-v1           0.633099  1.306758   7.570084  \n",
       "bert-base-cased          0.658360  1.725559   6.643081  \n",
       "bert-base-uncased        0.631088  2.024850   7.026921  \n",
       "distilbert-base-cased    0.296615  0.601720   2.465271  \n",
       "distilbert-base-uncased  0.287185  0.615949   3.061763  \n",
       "roberta-base             0.648036  1.787511   7.433448  \n",
       "xlnet-base-cased         3.473941  8.346511  27.374284  "
      ]
     },
     "execution_count": 44,
     "metadata": {},
     "output_type": "execute_result"
    }
   ],
   "source": [
    "data3.groupby('model_name_or_path').inference_time.describe()"
   ]
  },
  {
   "cell_type": "code",
   "execution_count": 45,
   "metadata": {},
   "outputs": [
    {
     "data": {
      "text/html": [
       "<div>\n",
       "<style scoped>\n",
       "    .dataframe tbody tr th:only-of-type {\n",
       "        vertical-align: middle;\n",
       "    }\n",
       "\n",
       "    .dataframe tbody tr th {\n",
       "        vertical-align: top;\n",
       "    }\n",
       "\n",
       "    .dataframe thead th {\n",
       "        text-align: right;\n",
       "    }\n",
       "</style>\n",
       "<table border=\"1\" class=\"dataframe\">\n",
       "  <thead>\n",
       "    <tr style=\"text-align: right;\">\n",
       "      <th></th>\n",
       "      <th>count</th>\n",
       "      <th>mean</th>\n",
       "      <th>std</th>\n",
       "      <th>min</th>\n",
       "      <th>25%</th>\n",
       "      <th>50%</th>\n",
       "      <th>75%</th>\n",
       "      <th>max</th>\n",
       "    </tr>\n",
       "    <tr>\n",
       "      <th>model_name_or_path</th>\n",
       "      <th></th>\n",
       "      <th></th>\n",
       "      <th></th>\n",
       "      <th></th>\n",
       "      <th></th>\n",
       "      <th></th>\n",
       "      <th></th>\n",
       "      <th></th>\n",
       "    </tr>\n",
       "  </thead>\n",
       "  <tbody>\n",
       "    <tr>\n",
       "      <th>albert-base-v1</th>\n",
       "      <td>18.0</td>\n",
       "      <td>1.306124</td>\n",
       "      <td>1.779709</td>\n",
       "      <td>0.181698</td>\n",
       "      <td>0.338028</td>\n",
       "      <td>0.594692</td>\n",
       "      <td>1.309498</td>\n",
       "      <td>7.570084</td>\n",
       "    </tr>\n",
       "    <tr>\n",
       "      <th>bert-base-cased</th>\n",
       "      <td>18.0</td>\n",
       "      <td>1.365648</td>\n",
       "      <td>1.626966</td>\n",
       "      <td>0.181052</td>\n",
       "      <td>0.341144</td>\n",
       "      <td>0.622629</td>\n",
       "      <td>1.631149</td>\n",
       "      <td>6.643081</td>\n",
       "    </tr>\n",
       "    <tr>\n",
       "      <th>bert-base-uncased</th>\n",
       "      <td>18.0</td>\n",
       "      <td>1.416056</td>\n",
       "      <td>1.649596</td>\n",
       "      <td>0.183177</td>\n",
       "      <td>0.318332</td>\n",
       "      <td>0.617871</td>\n",
       "      <td>1.997976</td>\n",
       "      <td>6.800269</td>\n",
       "    </tr>\n",
       "    <tr>\n",
       "      <th>distilbert-base-cased</th>\n",
       "      <td>18.0</td>\n",
       "      <td>0.540077</td>\n",
       "      <td>0.609357</td>\n",
       "      <td>0.091526</td>\n",
       "      <td>0.151996</td>\n",
       "      <td>0.279043</td>\n",
       "      <td>0.566033</td>\n",
       "      <td>2.465271</td>\n",
       "    </tr>\n",
       "    <tr>\n",
       "      <th>distilbert-base-uncased</th>\n",
       "      <td>18.0</td>\n",
       "      <td>0.616478</td>\n",
       "      <td>0.739974</td>\n",
       "      <td>0.092450</td>\n",
       "      <td>0.150550</td>\n",
       "      <td>0.318891</td>\n",
       "      <td>0.683456</td>\n",
       "      <td>3.061763</td>\n",
       "    </tr>\n",
       "    <tr>\n",
       "      <th>roberta-base</th>\n",
       "      <td>18.0</td>\n",
       "      <td>1.398953</td>\n",
       "      <td>1.762230</td>\n",
       "      <td>0.183351</td>\n",
       "      <td>0.345957</td>\n",
       "      <td>0.602934</td>\n",
       "      <td>1.736749</td>\n",
       "      <td>7.149380</td>\n",
       "    </tr>\n",
       "    <tr>\n",
       "      <th>xlnet-base-cased</th>\n",
       "      <td>18.0</td>\n",
       "      <td>6.335933</td>\n",
       "      <td>7.465759</td>\n",
       "      <td>0.330621</td>\n",
       "      <td>0.706303</td>\n",
       "      <td>3.405902</td>\n",
       "      <td>7.861376</td>\n",
       "      <td>26.955771</td>\n",
       "    </tr>\n",
       "  </tbody>\n",
       "</table>\n",
       "</div>"
      ],
      "text/plain": [
       "                         count      mean       std       min       25%  \\\n",
       "model_name_or_path                                                       \n",
       "albert-base-v1            18.0  1.306124  1.779709  0.181698  0.338028   \n",
       "bert-base-cased           18.0  1.365648  1.626966  0.181052  0.341144   \n",
       "bert-base-uncased         18.0  1.416056  1.649596  0.183177  0.318332   \n",
       "distilbert-base-cased     18.0  0.540077  0.609357  0.091526  0.151996   \n",
       "distilbert-base-uncased   18.0  0.616478  0.739974  0.092450  0.150550   \n",
       "roberta-base              18.0  1.398953  1.762230  0.183351  0.345957   \n",
       "xlnet-base-cased          18.0  6.335933  7.465759  0.330621  0.706303   \n",
       "\n",
       "                              50%       75%        max  \n",
       "model_name_or_path                                      \n",
       "albert-base-v1           0.594692  1.309498   7.570084  \n",
       "bert-base-cased          0.622629  1.631149   6.643081  \n",
       "bert-base-uncased        0.617871  1.997976   6.800269  \n",
       "distilbert-base-cased    0.279043  0.566033   2.465271  \n",
       "distilbert-base-uncased  0.318891  0.683456   3.061763  \n",
       "roberta-base             0.602934  1.736749   7.149380  \n",
       "xlnet-base-cased         3.405902  7.861376  26.955771  "
      ]
     },
     "execution_count": 45,
     "metadata": {},
     "output_type": "execute_result"
    }
   ],
   "source": [
    "# for a fair comparison of models (especially considering cased versions)\n",
    "data3[(data3.task_name == 'CoLA') | (data3.task_name == 'RTE')].groupby('model_name_or_path').inference_time.describe()"
   ]
  },
  {
   "cell_type": "markdown",
   "metadata": {},
   "source": [
    "#### Two-way ANOVA ####"
   ]
  },
  {
   "cell_type": "code",
   "execution_count": 132,
   "metadata": {},
   "outputs": [
    {
     "name": "stdout",
     "output_type": "stream",
     "text": [
      "                                                sum_sq     df           F  \\\n",
      "model_name_or_path                         1068.245934    6.0   29.544623   \n",
      "task_name                                    46.452337    4.0    1.927108   \n",
      "learning_rate                                 6.386303    1.0    1.059761   \n",
      "per_device_eval_batch_size                  282.855069    1.0   46.937766   \n",
      "max_seq_length                              685.478877    1.0  113.750293   \n",
      "per_device_eval_batch_size:max_seq_length   134.057673    1.0   22.245907   \n",
      "Residual                                   1524.621614  253.0         NaN   \n",
      "\n",
      "                                                 PR(>F)  \n",
      "model_name_or_path                         9.542816e-27  \n",
      "task_name                                  1.063973e-01  \n",
      "learning_rate                              3.042528e-01  \n",
      "per_device_eval_batch_size                 5.549676e-11  \n",
      "max_seq_length                             3.567234e-22  \n",
      "per_device_eval_batch_size:max_seq_length  3.968752e-06  \n",
      "Residual                                            NaN  \n"
     ]
    },
    {
     "data": {
      "image/png": "[encoded data removed]",
      "text/plain": [
       "<Figure size 432x288 with 1 Axes>"
      ]
     },
     "metadata": {
      "needs_background": "light"
     },
     "output_type": "display_data"
    }
   ],
   "source": [
    "### Two-way ANOVA\n",
    "from statsmodels.formula.api import ols\n",
    "from statsmodels.stats.anova import anova_lm\n",
    "from statsmodels.graphics.factorplots import interaction_plot\n",
    "import matplotlib.pyplot as plt\n",
    "from scipy import stats\n",
    "import statsmodels.api as sm \n",
    "\n",
    "formula = 'inference_time ~ model_name_or_path + learning_rate + per_device_eval_batch_size + task_name + max_seq_length + per_device_eval_batch_size:max_seq_length'\n",
    "model = ols(formula, data3).fit()\n",
    "aov_table = anova_lm(model, typ=2)\n",
    "print(aov_table)\n",
    "\n",
    "\n",
    "# https://www.marsja.se/three-ways-to-carry-out-2-way-anova-with-python/\n",
    "\n",
    "res = model.resid \n",
    "fig = sm.qqplot(res, line='s')\n",
    "plt.show()"
   ]
  },
  {
   "cell_type": "markdown",
   "metadata": {
    "colab_type": "text",
    "id": "E4YPyrfLftBQ"
   },
   "source": [
    "#### ANOVA #####"
   ]
  },
  {
   "cell_type": "code",
   "execution_count": 48,
   "metadata": {
    "colab": {
     "base_uri": "https://localhost:8080/",
     "height": 228
    },
    "colab_type": "code",
    "id": "fkz5aEKhee6k",
    "outputId": "9d6c0bae-071d-49db-fd45-14fdb276f01c"
   },
   "outputs": [
    {
     "name": "stdout",
     "output_type": "stream",
     "text": [
      "                  sum_sq     df          F        PR(>F)\n",
      "seq_len_cat   658.221090    2.0  28.479173  6.316748e-12\n",
      "Residual     3050.832437  264.0        NaN           NaN\n",
      "                     sum_sq     df          F    PR(>F)\n",
      "batch_size_cat   282.980092    2.0  10.902677  0.000028\n",
      "Residual        3426.073435  264.0        NaN       NaN\n",
      "                         sum_sq     df          F        PR(>F)\n",
      "model_name_or_path  1044.694048    6.0  16.990979  1.499803e-16\n",
      "Residual            2664.359478  260.0        NaN           NaN\n",
      "                sum_sq     df         F    PR(>F)\n",
      "task_name    44.057010    4.0  0.787377  0.534245\n",
      "Residual   3664.996517  262.0       NaN       NaN\n"
     ]
    },
    {
     "name": "stderr",
     "output_type": "stream",
     "text": [
      "<ipython-input-48-656ff9e10fcf>:8: SettingWithCopyWarning: \n",
      "A value is trying to be set on a copy of a slice from a DataFrame.\n",
      "Try using .loc[row_indexer,col_indexer] = value instead\n",
      "\n",
      "See the caveats in the documentation: https://pandas.pydata.org/pandas-docs/stable/user_guide/indexing.html#returning-a-view-versus-a-copy\n",
      "  data3['seq_len_cat'] = data3.loc[:,'max_seq_length'].astype('category')\n",
      "<ipython-input-48-656ff9e10fcf>:11: SettingWithCopyWarning: \n",
      "A value is trying to be set on a copy of a slice from a DataFrame.\n",
      "Try using .loc[row_indexer,col_indexer] = value instead\n",
      "\n",
      "See the caveats in the documentation: https://pandas.pydata.org/pandas-docs/stable/user_guide/indexing.html#returning-a-view-versus-a-copy\n",
      "  data3['batch_size_cat'] = data3.loc[:,'per_device_eval_batch_size'].astype('category')\n"
     ]
    }
   ],
   "source": [
    "#!pip install statsmodels\n",
    "from statsmodels.formula.api import ols\n",
    "from statsmodels.stats.anova import anova_lm\n",
    "from scipy import stats\n",
    "import statsmodels.api as sm\n",
    "\n",
    "# seq_length_log als kat. Variable für ANOVA\n",
    "data3['seq_len_cat'] = data3.loc[:,'max_seq_length'].astype('category')\n",
    "mod_len = ols('inference_time ~ seq_len_cat', data=data3).fit()\n",
    "# seq_length_log als kat. Variable für ANOVA\n",
    "data3['batch_size_cat'] = data3.loc[:,'per_device_eval_batch_size'].astype('category')\n",
    "mod_bs = ols('inference_time ~ batch_size_cat', data=data3).fit()\n",
    "mod_type = ols('inference_time ~ model_name_or_path', data=data3).fit()\n",
    "mod_task = ols('inference_time ~ task_name', data=data3).fit()\n",
    "\n",
    "models = [mod_len, mod_bs, mod_type, mod_task]\n",
    "\n",
    "for m in models:\n",
    "    aov_table = sm.stats.anova_lm(m, typ=2)\n",
    "    print(aov_table)"
   ]
  },
  {
   "cell_type": "code",
   "execution_count": 137,
   "metadata": {},
   "outputs": [
    {
     "name": "stdout",
     "output_type": "stream",
     "text": [
      "0.6306011080741882 1.268590335310432e-23\n",
      "0.5522139072418213 1.25839535335115e-25\n",
      "0.6774969696998596 2.91455629755929e-22\n",
      "0.5276899337768555 3.38322597467145e-26\n"
     ]
    }
   ],
   "source": [
    "# Shapiro-Wilk test: check normal distribution of residuals; H0: data is drawn from normal distribution\n",
    "\n",
    "#import scipy.stats as stats\n",
    "\n",
    "for m in models:\n",
    "    w, pvalue = stats.shapiro(m.resid)\n",
    "    print(w, pvalue)\n",
    "\n",
    "# As the P-value is significant for all models, H0 is rejected. One cannot assume normality"
   ]
  },
  {
   "cell_type": "code",
   "execution_count": 49,
   "metadata": {},
   "outputs": [
    {
     "name": "stdout",
     "output_type": "stream",
     "text": [
      "inf 0.0\n"
     ]
    },
    {
     "name": "stderr",
     "output_type": "stream",
     "text": [
      "C:\\Users\\annko\\anaconda3\\lib\\site-packages\\scipy\\stats\\morestats.py:2268: RuntimeWarning: divide by zero encountered in log\n",
      "  numer = (Ntot*1.0 - k) * log(spsq) - np.sum((Ni - 1.0)*log(ssq), axis=0)\n"
     ]
    }
   ],
   "source": [
    "# Bartlett’s test to check the Homogeneity of variances. H0: samples from populations have equal variances.\n",
    "# not possible to perform this test for categorical variables (task_name and model_name_or_path)\n",
    "\n",
    "w, pvalue = stats.bartlett(data3['max_seq_length'], data3['per_device_train_batch_size'])\n",
    "print(w, pvalue)\n",
    "# p-value 0 --> Reject H0 (no equal variances )"
   ]
  },
  {
   "cell_type": "code",
   "execution_count": 51,
   "metadata": {},
   "outputs": [
    {
     "name": "stdout",
     "output_type": "stream",
     "text": [
      "Pairwise Tukeys range test w.r.t. maximum sequence length\n",
      "Multiple Comparison of Means - Tukey HSD, FWER=0.05\n",
      "==================================================\n",
      "group1 group2 meandiff p-adj  lower  upper  reject\n",
      "--------------------------------------------------\n",
      "   128    256   0.7842 0.283 -0.4308 1.9991  False\n",
      "   128    512     3.62 0.001  2.4248 4.8151   True\n",
      "   256    512   2.8358 0.001  1.6406  4.031   True\n",
      "--------------------------------------------------\n",
      "Pairwise Tukeys range test w.r.t. batch size\n",
      "Multiple Comparison of Means - Tukey HSD, FWER=0.05\n",
      "===================================================\n",
      "group1 group2 meandiff p-adj   lower  upper  reject\n",
      "---------------------------------------------------\n",
      "     8     16   0.8753 0.2388 -0.3976 2.1483  False\n",
      "     8     32   2.4858  0.001  1.2128 3.7587   True\n",
      "    16     32   1.6104 0.0088  0.3375 2.8833   True\n",
      "---------------------------------------------------\n",
      "Pairwise Tukeys range test w.r.t. model\n",
      "                Multiple Comparison of Means - Tukey HSD, FWER=0.05                 \n",
      "====================================================================================\n",
      "         group1                  group2         meandiff p-adj  lower  upper  reject\n",
      "------------------------------------------------------------------------------------\n",
      "         albert-base-v1         bert-base-cased    0.149   0.9 -2.3649 2.6629  False\n",
      "         albert-base-v1       bert-base-uncased    0.104   0.9 -1.9014 2.1094  False\n",
      "         albert-base-v1   distilbert-base-cased  -0.6732   0.9 -3.1871 1.8407  False\n",
      "         albert-base-v1 distilbert-base-uncased  -0.6776   0.9  -2.683 1.3278  False\n",
      "         albert-base-v1            roberta-base   0.1131   0.9 -1.8923 2.1185  False\n",
      "         albert-base-v1        xlnet-base-cased    5.072 0.001  3.0666 7.0774   True\n",
      "        bert-base-cased       bert-base-uncased   -0.045   0.9 -2.5589 2.4689  False\n",
      "        bert-base-cased   distilbert-base-cased  -0.8223   0.9 -3.7579 2.1133  False\n",
      "        bert-base-cased distilbert-base-uncased  -0.8266   0.9 -3.3405 1.6873  False\n",
      "        bert-base-cased            roberta-base  -0.0359   0.9 -2.5498  2.478  False\n",
      "        bert-base-cased        xlnet-base-cased   4.9229 0.001   2.409 7.4368   True\n",
      "      bert-base-uncased   distilbert-base-cased  -0.7772   0.9 -3.2911 1.7367  False\n",
      "      bert-base-uncased distilbert-base-uncased  -0.7816   0.9  -2.787 1.2238  False\n",
      "      bert-base-uncased            roberta-base   0.0091   0.9 -1.9963 2.0145  False\n",
      "      bert-base-uncased        xlnet-base-cased    4.968 0.001  2.9626 6.9734   True\n",
      "  distilbert-base-cased distilbert-base-uncased  -0.0043   0.9 -2.5182 2.5096  False\n",
      "  distilbert-base-cased            roberta-base   0.7863   0.9 -1.7276 3.3002  False\n",
      "  distilbert-base-cased        xlnet-base-cased   5.7452 0.001  3.2313 8.2591   True\n",
      "distilbert-base-uncased            roberta-base   0.7907   0.9 -1.2147 2.7961  False\n",
      "distilbert-base-uncased        xlnet-base-cased   5.7495 0.001  3.7441 7.7549   True\n",
      "           roberta-base        xlnet-base-cased   4.9589 0.001  2.9535 6.9643   True\n",
      "------------------------------------------------------------------------------------\n",
      "Pairwise Tukeys range test w.r.t. task\n",
      "Multiple Comparison of Means - Tukey HSD, FWER=0.05\n",
      "===================================================\n",
      "group1 group2 meandiff p-adj   lower  upper  reject\n",
      "---------------------------------------------------\n",
      "  CoLA   MRPC   0.2997    0.9 -1.6355 2.2349  False\n",
      "  CoLA    RTE   0.7267 0.7864 -1.1038 2.5572  False\n",
      "  CoLA  STS-B   0.3189    0.9 -1.6864 2.3241  False\n",
      "  CoLA   WNLI   1.1931 0.4775 -0.8121 3.1984  False\n",
      "  MRPC    RTE    0.427    0.9 -1.5083 2.3622  False\n",
      "  MRPC  STS-B   0.0191    0.9 -2.0821 2.1204  False\n",
      "  MRPC   WNLI   0.8934 0.7427 -1.2078 2.9947  False\n",
      "   RTE  STS-B  -0.4078    0.9 -2.4131 1.5974  False\n",
      "   RTE   WNLI   0.4665    0.9 -1.5388 2.4717  False\n",
      " STS-B   WNLI   0.8743 0.7761 -1.2916 3.0402  False\n",
      "---------------------------------------------------\n"
     ]
    }
   ],
   "source": [
    "## Tukey's range test \n",
    "### Brauch ich das ???\n",
    "from statsmodels.stats.multicomp import (pairwise_tukeyhsd,\n",
    "                                         MultiComparison)\n",
    "\n",
    "res_sq_len = pairwise_tukeyhsd(data3['inference_time'], data3['seq_len_cat'])\n",
    "print('Pairwise Tukeys range test w.r.t. maximum sequence length')\n",
    "print(res_sq_len)\n",
    "\n",
    "#mod = MultiComparison(data3['finetuning_time'], data3['max_seq_length'])\n",
    "#print(mod.tukeyhsd())\n",
    "\n",
    "## batch size\n",
    "res_bs = pairwise_tukeyhsd(data3['inference_time'], data3['batch_size_cat'])\n",
    "print('Pairwise Tukeys range test w.r.t. batch size')\n",
    "print(res_bs)\n",
    "\n",
    "## model \n",
    "res_model = pairwise_tukeyhsd(data3['inference_time'], data3['model_name_or_path'])\n",
    "print('Pairwise Tukeys range test w.r.t. model')\n",
    "print(res_model)\n",
    "\n",
    "## task\n",
    "res_task = pairwise_tukeyhsd(data3['inference_time'], data3['task_name'])\n",
    "print('Pairwise Tukeys range test w.r.t. task')\n",
    "print(res_task)"
   ]
  },
  {
   "cell_type": "markdown",
   "metadata": {
    "colab_type": "text",
    "id": "UjnW4t48i2zz"
   },
   "source": [
    "#### Linear regression model ####"
   ]
  },
  {
   "cell_type": "code",
   "execution_count": 54,
   "metadata": {},
   "outputs": [
    {
     "data": {
      "text/html": [
       "<table class=\"simpletable\">\n",
       "<caption>OLS Regression Results</caption>\n",
       "<tr>\n",
       "  <th>Dep. Variable:</th>     <td>inference_time</td>  <th>  R-squared:         </th> <td>   0.553</td>\n",
       "</tr>\n",
       "<tr>\n",
       "  <th>Model:</th>                   <td>OLS</td>       <th>  Adj. R-squared:    </th> <td>   0.532</td>\n",
       "</tr>\n",
       "<tr>\n",
       "  <th>Method:</th>             <td>Least Squares</td>  <th>  F-statistic:       </th> <td>   26.17</td>\n",
       "</tr>\n",
       "<tr>\n",
       "  <th>Date:</th>             <td>Fri, 23 Oct 2020</td> <th>  Prob (F-statistic):</th> <td>6.77e-38</td>\n",
       "</tr>\n",
       "<tr>\n",
       "  <th>Time:</th>                 <td>16:29:21</td>     <th>  Log-Likelihood:    </th> <td> -622.70</td>\n",
       "</tr>\n",
       "<tr>\n",
       "  <th>No. Observations:</th>      <td>   267</td>      <th>  AIC:               </th> <td>   1271.</td>\n",
       "</tr>\n",
       "<tr>\n",
       "  <th>Df Residuals:</th>          <td>   254</td>      <th>  BIC:               </th> <td>   1318.</td>\n",
       "</tr>\n",
       "<tr>\n",
       "  <th>Df Model:</th>              <td>    12</td>      <th>                     </th>     <td> </td>   \n",
       "</tr>\n",
       "<tr>\n",
       "  <th>Covariance Type:</th>      <td>nonrobust</td>    <th>                     </th>     <td> </td>   \n",
       "</tr>\n",
       "</table>\n",
       "<table class=\"simpletable\">\n",
       "<tr>\n",
       "                                               <td></td>                                                 <th>coef</th>     <th>std err</th>      <th>t</th>      <th>P>|t|</th>  <th>[0.025</th>    <th>0.975]</th>  \n",
       "</tr>\n",
       "<tr>\n",
       "  <th>Intercept</th>                                                                                  <td>   -3.0734</td> <td>    0.634</td> <td>   -4.849</td> <td> 0.000</td> <td>   -4.322</td> <td>   -1.825</td>\n",
       "</tr>\n",
       "<tr>\n",
       "  <th>C(model_name_or_path, Treatment(reference=\"bert-base-uncased\"))[T.albert-base-v1]</th>          <td>   -0.1040</td> <td>    0.539</td> <td>   -0.193</td> <td> 0.847</td> <td>   -1.165</td> <td>    0.957</td>\n",
       "</tr>\n",
       "<tr>\n",
       "  <th>C(model_name_or_path, Treatment(reference=\"bert-base-uncased\"))[T.bert-base-cased]</th>         <td>   -0.3116</td> <td>    0.695</td> <td>   -0.448</td> <td> 0.654</td> <td>   -1.681</td> <td>    1.058</td>\n",
       "</tr>\n",
       "<tr>\n",
       "  <th>C(model_name_or_path, Treatment(reference=\"bert-base-uncased\"))[T.distilbert-base-cased]</th>   <td>   -1.1339</td> <td>    0.695</td> <td>   -1.631</td> <td> 0.104</td> <td>   -2.503</td> <td>    0.235</td>\n",
       "</tr>\n",
       "<tr>\n",
       "  <th>C(model_name_or_path, Treatment(reference=\"bert-base-uncased\"))[T.distilbert-base-uncased]</th> <td>   -0.7816</td> <td>    0.539</td> <td>   -1.451</td> <td> 0.148</td> <td>   -1.843</td> <td>    0.279</td>\n",
       "</tr>\n",
       "<tr>\n",
       "  <th>C(model_name_or_path, Treatment(reference=\"bert-base-uncased\"))[T.roberta-base]</th>            <td>    0.0091</td> <td>    0.539</td> <td>    0.017</td> <td> 0.987</td> <td>   -1.052</td> <td>    1.070</td>\n",
       "</tr>\n",
       "<tr>\n",
       "  <th>C(model_name_or_path, Treatment(reference=\"bert-base-uncased\"))[T.xlnet-base-cased]</th>        <td>    4.9680</td> <td>    0.539</td> <td>    9.222</td> <td> 0.000</td> <td>    3.907</td> <td>    6.029</td>\n",
       "</tr>\n",
       "<tr>\n",
       "  <th>C(task_name, Treatment(reference=\"RTE\"))[T.CoLA]</th>                                           <td>   -0.7267</td> <td>    0.455</td> <td>   -1.596</td> <td> 0.112</td> <td>   -1.623</td> <td>    0.170</td>\n",
       "</tr>\n",
       "<tr>\n",
       "  <th>C(task_name, Treatment(reference=\"RTE\"))[T.MRPC]</th>                                           <td>   -0.9370</td> <td>    0.488</td> <td>   -1.918</td> <td> 0.056</td> <td>   -1.899</td> <td>    0.025</td>\n",
       "</tr>\n",
       "<tr>\n",
       "  <th>C(task_name, Treatment(reference=\"RTE\"))[T.STS-B]</th>                                          <td>   -0.8481</td> <td>    0.516</td> <td>   -1.644</td> <td> 0.101</td> <td>   -1.864</td> <td>    0.168</td>\n",
       "</tr>\n",
       "<tr>\n",
       "  <th>C(task_name, Treatment(reference=\"RTE\"))[T.WNLI]</th>                                           <td>    0.0262</td> <td>    0.516</td> <td>    0.051</td> <td> 0.960</td> <td>   -0.990</td> <td>    1.042</td>\n",
       "</tr>\n",
       "<tr>\n",
       "  <th>per_device_eval_batch_size</th>                                                                 <td>    0.1032</td> <td>    0.016</td> <td>    6.581</td> <td> 0.000</td> <td>    0.072</td> <td>    0.134</td>\n",
       "</tr>\n",
       "<tr>\n",
       "  <th>max_seq_length</th>                                                                             <td>    0.0100</td> <td>    0.001</td> <td>   10.245</td> <td> 0.000</td> <td>    0.008</td> <td>    0.012</td>\n",
       "</tr>\n",
       "</table>\n",
       "<table class=\"simpletable\">\n",
       "<tr>\n",
       "  <th>Omnibus:</th>       <td>204.969</td> <th>  Durbin-Watson:     </th> <td>   0.859</td>\n",
       "</tr>\n",
       "<tr>\n",
       "  <th>Prob(Omnibus):</th> <td> 0.000</td>  <th>  Jarque-Bera (JB):  </th> <td>3319.277</td>\n",
       "</tr>\n",
       "<tr>\n",
       "  <th>Skew:</th>          <td> 2.934</td>  <th>  Prob(JB):          </th> <td>    0.00</td>\n",
       "</tr>\n",
       "<tr>\n",
       "  <th>Kurtosis:</th>      <td>19.246</td>  <th>  Cond. No.          </th> <td>2.51e+03</td>\n",
       "</tr>\n",
       "</table><br/><br/>Warnings:<br/>[1] Standard Errors assume that the covariance matrix of the errors is correctly specified.<br/>[2] The condition number is large, 2.51e+03. This might indicate that there are<br/>strong multicollinearity or other numerical problems."
      ],
      "text/plain": [
       "<class 'statsmodels.iolib.summary.Summary'>\n",
       "\"\"\"\n",
       "                            OLS Regression Results                            \n",
       "==============================================================================\n",
       "Dep. Variable:         inference_time   R-squared:                       0.553\n",
       "Model:                            OLS   Adj. R-squared:                  0.532\n",
       "Method:                 Least Squares   F-statistic:                     26.17\n",
       "Date:                Fri, 23 Oct 2020   Prob (F-statistic):           6.77e-38\n",
       "Time:                        16:29:21   Log-Likelihood:                -622.70\n",
       "No. Observations:                 267   AIC:                             1271.\n",
       "Df Residuals:                     254   BIC:                             1318.\n",
       "Df Model:                          12                                         \n",
       "Covariance Type:            nonrobust                                         \n",
       "==============================================================================================================================================================\n",
       "                                                                                                 coef    std err          t      P>|t|      [0.025      0.975]\n",
       "--------------------------------------------------------------------------------------------------------------------------------------------------------------\n",
       "Intercept                                                                                     -3.0734      0.634     -4.849      0.000      -4.322      -1.825\n",
       "C(model_name_or_path, Treatment(reference=\"bert-base-uncased\"))[T.albert-base-v1]             -0.1040      0.539     -0.193      0.847      -1.165       0.957\n",
       "C(model_name_or_path, Treatment(reference=\"bert-base-uncased\"))[T.bert-base-cased]            -0.3116      0.695     -0.448      0.654      -1.681       1.058\n",
       "C(model_name_or_path, Treatment(reference=\"bert-base-uncased\"))[T.distilbert-base-cased]      -1.1339      0.695     -1.631      0.104      -2.503       0.235\n",
       "C(model_name_or_path, Treatment(reference=\"bert-base-uncased\"))[T.distilbert-base-uncased]    -0.7816      0.539     -1.451      0.148      -1.843       0.279\n",
       "C(model_name_or_path, Treatment(reference=\"bert-base-uncased\"))[T.roberta-base]                0.0091      0.539      0.017      0.987      -1.052       1.070\n",
       "C(model_name_or_path, Treatment(reference=\"bert-base-uncased\"))[T.xlnet-base-cased]            4.9680      0.539      9.222      0.000       3.907       6.029\n",
       "C(task_name, Treatment(reference=\"RTE\"))[T.CoLA]                                              -0.7267      0.455     -1.596      0.112      -1.623       0.170\n",
       "C(task_name, Treatment(reference=\"RTE\"))[T.MRPC]                                              -0.9370      0.488     -1.918      0.056      -1.899       0.025\n",
       "C(task_name, Treatment(reference=\"RTE\"))[T.STS-B]                                             -0.8481      0.516     -1.644      0.101      -1.864       0.168\n",
       "C(task_name, Treatment(reference=\"RTE\"))[T.WNLI]                                               0.0262      0.516      0.051      0.960      -0.990       1.042\n",
       "per_device_eval_batch_size                                                                     0.1032      0.016      6.581      0.000       0.072       0.134\n",
       "max_seq_length                                                                                 0.0100      0.001     10.245      0.000       0.008       0.012\n",
       "==============================================================================\n",
       "Omnibus:                      204.969   Durbin-Watson:                   0.859\n",
       "Prob(Omnibus):                  0.000   Jarque-Bera (JB):             3319.277\n",
       "Skew:                           2.934   Prob(JB):                         0.00\n",
       "Kurtosis:                      19.246   Cond. No.                     2.51e+03\n",
       "==============================================================================\n",
       "\n",
       "Warnings:\n",
       "[1] Standard Errors assume that the covariance matrix of the errors is correctly specified.\n",
       "[2] The condition number is large, 2.51e+03. This might indicate that there are\n",
       "strong multicollinearity or other numerical problems.\n",
       "\"\"\""
      ]
     },
     "execution_count": 54,
     "metadata": {},
     "output_type": "execute_result"
    }
   ],
   "source": [
    "from statsmodels.regression import linear_model\n",
    "import patsy\n",
    "from patsy.contrasts import Treatment\n",
    "\n",
    "# linear regression model w/o interaction between batch size & max. sequence length\n",
    "y, X = patsy.dmatrices('inference_time ~ C(model_name_or_path, Treatment(reference=\"bert-base-uncased\")) + C(task_name, Treatment(reference=\"RTE\")) + per_device_eval_batch_size + max_seq_length', \n",
    "                       data3)\n",
    "\n",
    "# linear regression model\n",
    "model = linear_model.OLS(y, X).fit()\n",
    "model.summary()"
   ]
  },
  {
   "cell_type": "code",
   "execution_count": 108,
   "metadata": {},
   "outputs": [
    {
     "name": "stdout",
     "output_type": "stream",
     "text": [
      "log(inference time)\n",
      "count    267.000000\n",
      "mean      -0.206390\n",
      "std        1.239700\n",
      "min       -2.391132\n",
      "25%       -1.141165\n",
      "50%       -0.465199\n",
      "75%        0.641127\n",
      "max        3.309604\n",
      "Name: inference_time_log, dtype: float64\n",
      "log(batch size)\n",
      "count    267.000000\n",
      "mean       2.772589\n",
      "std        0.567015\n",
      "min        2.079442\n",
      "25%        2.079442\n",
      "50%        2.772589\n",
      "75%        3.465736\n",
      "max        3.465736\n",
      "Name: batch_size_log, dtype: float64\n",
      "log(maximum sequence length)\n",
      "count    267.000000\n",
      "mean       5.560754\n",
      "std        0.569978\n",
      "min        4.852030\n",
      "25%        4.852030\n",
      "50%        5.545177\n",
      "75%        6.238325\n",
      "max        6.238325\n",
      "Name: seq_length_log, dtype: float64\n"
     ]
    },
    {
     "name": "stderr",
     "output_type": "stream",
     "text": [
      "<ipython-input-108-433fa35bb84e>:2: SettingWithCopyWarning: \n",
      "A value is trying to be set on a copy of a slice from a DataFrame.\n",
      "Try using .loc[row_indexer,col_indexer] = value instead\n",
      "\n",
      "See the caveats in the documentation: https://pandas.pydata.org/pandas-docs/stable/user_guide/indexing.html#returning-a-view-versus-a-copy\n",
      "  data3['inference_time_log'] = data3.inference_time.apply(lambda x: math.log(x))\n",
      "<ipython-input-108-433fa35bb84e>:4: SettingWithCopyWarning: \n",
      "A value is trying to be set on a copy of a slice from a DataFrame.\n",
      "Try using .loc[row_indexer,col_indexer] = value instead\n",
      "\n",
      "See the caveats in the documentation: https://pandas.pydata.org/pandas-docs/stable/user_guide/indexing.html#returning-a-view-versus-a-copy\n",
      "  data3['batch_size_log'] = data3.per_device_eval_batch_size.apply(lambda x: math.log(x))\n",
      "<ipython-input-108-433fa35bb84e>:5: SettingWithCopyWarning: \n",
      "A value is trying to be set on a copy of a slice from a DataFrame.\n",
      "Try using .loc[row_indexer,col_indexer] = value instead\n",
      "\n",
      "See the caveats in the documentation: https://pandas.pydata.org/pandas-docs/stable/user_guide/indexing.html#returning-a-view-versus-a-copy\n",
      "  data3['seq_length_log'] = data3.max_seq_length.apply(lambda x: math.log(x))\n"
     ]
    }
   ],
   "source": [
    "## distribution of inference time is right skewed --> Take the log of the fine-tuning time\n",
    "data3['inference_time_log'] = data3.inference_time.apply(lambda x: math.log(x))\n",
    "## Logarithmization of the variables maximum sequence length and batch size (because dependent variable was also logarithmized)\n",
    "data3['batch_size_log'] = data3.per_device_eval_batch_size.apply(lambda x: math.log(x))\n",
    "data3['seq_length_log'] = data3.max_seq_length.apply(lambda x: math.log(x))\n",
    "\n",
    "print(\"log(inference time)\")\n",
    "print(data3.inference_time_log.describe())\n",
    "print(\"log(batch size)\")\n",
    "print(data3.batch_size_log.describe())\n",
    "print(\"log(maximum sequence length)\")\n",
    "print(data3.seq_length_log.describe())"
   ]
  },
  {
   "cell_type": "code",
   "execution_count": 109,
   "metadata": {},
   "outputs": [
    {
     "data": {
      "text/html": [
       "<table class=\"simpletable\">\n",
       "<caption>OLS Regression Results</caption>\n",
       "<tr>\n",
       "  <th>Dep. Variable:</th>    <td>inference_time_log</td> <th>  R-squared:         </th> <td>   0.920</td> \n",
       "</tr>\n",
       "<tr>\n",
       "  <th>Model:</th>                    <td>OLS</td>        <th>  Adj. R-squared:    </th> <td>   0.916</td> \n",
       "</tr>\n",
       "<tr>\n",
       "  <th>Method:</th>              <td>Least Squares</td>   <th>  F-statistic:       </th> <td>   242.4</td> \n",
       "</tr>\n",
       "<tr>\n",
       "  <th>Date:</th>              <td>Sat, 24 Oct 2020</td>  <th>  Prob (F-statistic):</th> <td>1.62e-131</td>\n",
       "</tr>\n",
       "<tr>\n",
       "  <th>Time:</th>                  <td>11:43:50</td>      <th>  Log-Likelihood:    </th> <td> -99.039</td> \n",
       "</tr>\n",
       "<tr>\n",
       "  <th>No. Observations:</th>       <td>   267</td>       <th>  AIC:               </th> <td>   224.1</td> \n",
       "</tr>\n",
       "<tr>\n",
       "  <th>Df Residuals:</th>           <td>   254</td>       <th>  BIC:               </th> <td>   270.7</td> \n",
       "</tr>\n",
       "<tr>\n",
       "  <th>Df Model:</th>               <td>    12</td>       <th>                     </th>     <td> </td>    \n",
       "</tr>\n",
       "<tr>\n",
       "  <th>Covariance Type:</th>       <td>nonrobust</td>     <th>                     </th>     <td> </td>    \n",
       "</tr>\n",
       "</table>\n",
       "<table class=\"simpletable\">\n",
       "<tr>\n",
       "                                               <td></td>                                                 <th>coef</th>     <th>std err</th>      <th>t</th>      <th>P>|t|</th>  <th>[0.025</th>    <th>0.975]</th>  \n",
       "</tr>\n",
       "<tr>\n",
       "  <th>Intercept</th>                                                                                  <td>   -2.6125</td> <td>    0.089</td> <td>  -29.299</td> <td> 0.000</td> <td>   -2.788</td> <td>   -2.437</td>\n",
       "</tr>\n",
       "<tr>\n",
       "  <th>C(model_name_or_path, Treatment(reference=\"bert-base-uncased\"))[T.albert-base-v1]</th>          <td>   -0.0795</td> <td>    0.076</td> <td>   -1.048</td> <td> 0.295</td> <td>   -0.229</td> <td>    0.070</td>\n",
       "</tr>\n",
       "<tr>\n",
       "  <th>C(model_name_or_path, Treatment(reference=\"bert-base-uncased\"))[T.bert-base-cased]</th>         <td>   -0.0824</td> <td>    0.098</td> <td>   -0.843</td> <td> 0.400</td> <td>   -0.275</td> <td>    0.110</td>\n",
       "</tr>\n",
       "<tr>\n",
       "  <th>C(model_name_or_path, Treatment(reference=\"bert-base-uncased\"))[T.distilbert-base-cased]</th>   <td>   -0.9253</td> <td>    0.098</td> <td>   -9.460</td> <td> 0.000</td> <td>   -1.118</td> <td>   -0.733</td>\n",
       "</tr>\n",
       "<tr>\n",
       "  <th>C(model_name_or_path, Treatment(reference=\"bert-base-uncased\"))[T.distilbert-base-uncased]</th> <td>   -0.8215</td> <td>    0.076</td> <td>  -10.839</td> <td> 0.000</td> <td>   -0.971</td> <td>   -0.672</td>\n",
       "</tr>\n",
       "<tr>\n",
       "  <th>C(model_name_or_path, Treatment(reference=\"bert-base-uncased\"))[T.roberta-base]</th>            <td>    0.0037</td> <td>    0.076</td> <td>    0.049</td> <td> 0.961</td> <td>   -0.146</td> <td>    0.153</td>\n",
       "</tr>\n",
       "<tr>\n",
       "  <th>C(model_name_or_path, Treatment(reference=\"bert-base-uncased\"))[T.xlnet-base-cased]</th>        <td>    1.2977</td> <td>    0.076</td> <td>   17.123</td> <td> 0.000</td> <td>    1.148</td> <td>    1.447</td>\n",
       "</tr>\n",
       "<tr>\n",
       "  <th>C(task_name, Treatment(reference=\"RTE\"))[T.CoLA]</th>                                           <td>   -0.2377</td> <td>    0.064</td> <td>   -3.711</td> <td> 0.000</td> <td>   -0.364</td> <td>   -0.112</td>\n",
       "</tr>\n",
       "<tr>\n",
       "  <th>C(task_name, Treatment(reference=\"RTE\"))[T.MRPC]</th>                                           <td>   -0.2899</td> <td>    0.069</td> <td>   -4.219</td> <td> 0.000</td> <td>   -0.425</td> <td>   -0.155</td>\n",
       "</tr>\n",
       "<tr>\n",
       "  <th>C(task_name, Treatment(reference=\"RTE\"))[T.STS-B]</th>                                          <td>   -0.2560</td> <td>    0.073</td> <td>   -3.528</td> <td> 0.000</td> <td>   -0.399</td> <td>   -0.113</td>\n",
       "</tr>\n",
       "<tr>\n",
       "  <th>C(task_name, Treatment(reference=\"RTE\"))[T.WNLI]</th>                                           <td>    0.0104</td> <td>    0.073</td> <td>    0.144</td> <td> 0.886</td> <td>   -0.132</td> <td>    0.153</td>\n",
       "</tr>\n",
       "<tr>\n",
       "  <th>per_device_eval_batch_size</th>                                                                 <td>    0.0585</td> <td>    0.002</td> <td>   26.550</td> <td> 0.000</td> <td>    0.054</td> <td>    0.063</td>\n",
       "</tr>\n",
       "<tr>\n",
       "  <th>max_seq_length</th>                                                                             <td>    0.0049</td> <td>    0.000</td> <td>   35.461</td> <td> 0.000</td> <td>    0.005</td> <td>    0.005</td>\n",
       "</tr>\n",
       "</table>\n",
       "<table class=\"simpletable\">\n",
       "<tr>\n",
       "  <th>Omnibus:</th>       <td> 1.891</td> <th>  Durbin-Watson:     </th> <td>   1.143</td>\n",
       "</tr>\n",
       "<tr>\n",
       "  <th>Prob(Omnibus):</th> <td> 0.388</td> <th>  Jarque-Bera (JB):  </th> <td>   1.976</td>\n",
       "</tr>\n",
       "<tr>\n",
       "  <th>Skew:</th>          <td> 0.190</td> <th>  Prob(JB):          </th> <td>   0.372</td>\n",
       "</tr>\n",
       "<tr>\n",
       "  <th>Kurtosis:</th>      <td> 2.817</td> <th>  Cond. No.          </th> <td>2.51e+03</td>\n",
       "</tr>\n",
       "</table><br/><br/>Warnings:<br/>[1] Standard Errors assume that the covariance matrix of the errors is correctly specified.<br/>[2] The condition number is large, 2.51e+03. This might indicate that there are<br/>strong multicollinearity or other numerical problems."
      ],
      "text/plain": [
       "<class 'statsmodels.iolib.summary.Summary'>\n",
       "\"\"\"\n",
       "                            OLS Regression Results                            \n",
       "==============================================================================\n",
       "Dep. Variable:     inference_time_log   R-squared:                       0.920\n",
       "Model:                            OLS   Adj. R-squared:                  0.916\n",
       "Method:                 Least Squares   F-statistic:                     242.4\n",
       "Date:                Sat, 24 Oct 2020   Prob (F-statistic):          1.62e-131\n",
       "Time:                        11:43:50   Log-Likelihood:                -99.039\n",
       "No. Observations:                 267   AIC:                             224.1\n",
       "Df Residuals:                     254   BIC:                             270.7\n",
       "Df Model:                          12                                         \n",
       "Covariance Type:            nonrobust                                         \n",
       "==============================================================================================================================================================\n",
       "                                                                                                 coef    std err          t      P>|t|      [0.025      0.975]\n",
       "--------------------------------------------------------------------------------------------------------------------------------------------------------------\n",
       "Intercept                                                                                     -2.6125      0.089    -29.299      0.000      -2.788      -2.437\n",
       "C(model_name_or_path, Treatment(reference=\"bert-base-uncased\"))[T.albert-base-v1]             -0.0795      0.076     -1.048      0.295      -0.229       0.070\n",
       "C(model_name_or_path, Treatment(reference=\"bert-base-uncased\"))[T.bert-base-cased]            -0.0824      0.098     -0.843      0.400      -0.275       0.110\n",
       "C(model_name_or_path, Treatment(reference=\"bert-base-uncased\"))[T.distilbert-base-cased]      -0.9253      0.098     -9.460      0.000      -1.118      -0.733\n",
       "C(model_name_or_path, Treatment(reference=\"bert-base-uncased\"))[T.distilbert-base-uncased]    -0.8215      0.076    -10.839      0.000      -0.971      -0.672\n",
       "C(model_name_or_path, Treatment(reference=\"bert-base-uncased\"))[T.roberta-base]                0.0037      0.076      0.049      0.961      -0.146       0.153\n",
       "C(model_name_or_path, Treatment(reference=\"bert-base-uncased\"))[T.xlnet-base-cased]            1.2977      0.076     17.123      0.000       1.148       1.447\n",
       "C(task_name, Treatment(reference=\"RTE\"))[T.CoLA]                                              -0.2377      0.064     -3.711      0.000      -0.364      -0.112\n",
       "C(task_name, Treatment(reference=\"RTE\"))[T.MRPC]                                              -0.2899      0.069     -4.219      0.000      -0.425      -0.155\n",
       "C(task_name, Treatment(reference=\"RTE\"))[T.STS-B]                                             -0.2560      0.073     -3.528      0.000      -0.399      -0.113\n",
       "C(task_name, Treatment(reference=\"RTE\"))[T.WNLI]                                               0.0104      0.073      0.144      0.886      -0.132       0.153\n",
       "per_device_eval_batch_size                                                                     0.0585      0.002     26.550      0.000       0.054       0.063\n",
       "max_seq_length                                                                                 0.0049      0.000     35.461      0.000       0.005       0.005\n",
       "==============================================================================\n",
       "Omnibus:                        1.891   Durbin-Watson:                   1.143\n",
       "Prob(Omnibus):                  0.388   Jarque-Bera (JB):                1.976\n",
       "Skew:                           0.190   Prob(JB):                        0.372\n",
       "Kurtosis:                       2.817   Cond. No.                     2.51e+03\n",
       "==============================================================================\n",
       "\n",
       "Warnings:\n",
       "[1] Standard Errors assume that the covariance matrix of the errors is correctly specified.\n",
       "[2] The condition number is large, 2.51e+03. This might indicate that there are\n",
       "strong multicollinearity or other numerical problems.\n",
       "\"\"\""
      ]
     },
     "execution_count": 109,
     "metadata": {},
     "output_type": "execute_result"
    }
   ],
   "source": [
    "# linear regression model (with standardised independent variables and categorial variables)\n",
    "y, X = patsy.dmatrices('inference_time_log ~ C(model_name_or_path, Treatment(reference=\"bert-base-uncased\")) + C(task_name, Treatment(reference=\"RTE\")) + per_device_eval_batch_size + max_seq_length', \n",
    "                       data3)\n",
    "\n",
    "# linear regression model\n",
    "model = linear_model.OLS(y, X).fit()\n",
    "model.summary()\n",
    "\n",
    "# Jarque-Bera Test: H0 (residuals follow a normal distributio) is not rejected\n",
    "# Durbin-Watson test: d = 6.302 (not within the range of 1.5 and 2.5 --> autocorrelation could be problematic)"
   ]
  },
  {
   "cell_type": "code",
   "execution_count": 110,
   "metadata": {},
   "outputs": [
    {
     "data": {
      "text/plain": [
       "<Figure size 720x720 with 0 Axes>"
      ]
     },
     "metadata": {},
     "output_type": "display_data"
    },
    {
     "data": {
      "image/png": "[encoded data removed]",
      "text/plain": [
       "<Figure size 432x288 with 1 Axes>"
      ]
     },
     "metadata": {
      "needs_background": "light"
     },
     "output_type": "display_data"
    }
   ],
   "source": [
    "# residuals (QQ Plot)\n",
    "res = model.resid\n",
    "plt.figure(figsize = (10, 10))\n",
    "fig = sm.qqplot(res, line='s', fit = True)\n",
    "plt.xlabel('Theoretical Quantiles', fontsize = 16)\n",
    "plt.ylabel('Sample Quantiles', fontsize = 16)\n",
    "plt.title('Normal QQ-plot', fontsize = 18)\n",
    "plt.tight_layout()\n",
    "#plt.setp(ax.get_xticklabels(), rotation='horizontal', fontsize=16)\n",
    "#plt.setp(ax.get_yticklabels(), rotation='horizontal', fontsize=16)\n",
    "plt.show()\n",
    "fig.savefig('inference_time_qqplot.png')"
   ]
  },
  {
   "cell_type": "code",
   "execution_count": 111,
   "metadata": {},
   "outputs": [
    {
     "data": {
      "text/html": [
       "<div>\n",
       "<style scoped>\n",
       "    .dataframe tbody tr th:only-of-type {\n",
       "        vertical-align: middle;\n",
       "    }\n",
       "\n",
       "    .dataframe tbody tr th {\n",
       "        vertical-align: top;\n",
       "    }\n",
       "\n",
       "    .dataframe thead th {\n",
       "        text-align: right;\n",
       "    }\n",
       "</style>\n",
       "<table border=\"1\" class=\"dataframe\">\n",
       "  <thead>\n",
       "    <tr style=\"text-align: right;\">\n",
       "      <th></th>\n",
       "      <th>State</th>\n",
       "      <th>task_name</th>\n",
       "      <th>model_name_or_path</th>\n",
       "      <th>learning_rate</th>\n",
       "      <th>per_device_eval_batch_size</th>\n",
       "      <th>max_seq_length</th>\n",
       "      <th>eval_steps</th>\n",
       "      <th>eval_acc</th>\n",
       "      <th>eval_loss</th>\n",
       "      <th>eval_corr</th>\n",
       "      <th>...</th>\n",
       "      <th>inference_time</th>\n",
       "      <th>number_batches</th>\n",
       "      <th>tokens_per_batch</th>\n",
       "      <th>seq_len_cat</th>\n",
       "      <th>batch_size_cat</th>\n",
       "      <th>inference_time_log</th>\n",
       "      <th>batch_size_log</th>\n",
       "      <th>seq_length_log</th>\n",
       "      <th>model_encoded</th>\n",
       "      <th>task_encoded</th>\n",
       "    </tr>\n",
       "  </thead>\n",
       "  <tbody>\n",
       "    <tr>\n",
       "      <th>0</th>\n",
       "      <td>finished</td>\n",
       "      <td>WNLI</td>\n",
       "      <td>xlnet-base-cased</td>\n",
       "      <td>0.00005</td>\n",
       "      <td>32</td>\n",
       "      <td>512</td>\n",
       "      <td>1000</td>\n",
       "      <td>0.563380</td>\n",
       "      <td>0.687686</td>\n",
       "      <td>NaN</td>\n",
       "      <td>...</td>\n",
       "      <td>27.374284</td>\n",
       "      <td>2.21875</td>\n",
       "      <td>16384</td>\n",
       "      <td>512</td>\n",
       "      <td>32</td>\n",
       "      <td>3.309604</td>\n",
       "      <td>3.465736</td>\n",
       "      <td>6.238325</td>\n",
       "      <td>6</td>\n",
       "      <td>4</td>\n",
       "    </tr>\n",
       "    <tr>\n",
       "      <th>1</th>\n",
       "      <td>finished</td>\n",
       "      <td>WNLI</td>\n",
       "      <td>xlnet-base-cased</td>\n",
       "      <td>0.00005</td>\n",
       "      <td>16</td>\n",
       "      <td>512</td>\n",
       "      <td>1000</td>\n",
       "      <td>0.563380</td>\n",
       "      <td>0.692269</td>\n",
       "      <td>NaN</td>\n",
       "      <td>...</td>\n",
       "      <td>15.803596</td>\n",
       "      <td>4.43750</td>\n",
       "      <td>8192</td>\n",
       "      <td>512</td>\n",
       "      <td>16</td>\n",
       "      <td>2.760238</td>\n",
       "      <td>2.772589</td>\n",
       "      <td>6.238325</td>\n",
       "      <td>6</td>\n",
       "      <td>4</td>\n",
       "    </tr>\n",
       "    <tr>\n",
       "      <th>2</th>\n",
       "      <td>finished</td>\n",
       "      <td>WNLI</td>\n",
       "      <td>xlnet-base-cased</td>\n",
       "      <td>0.00005</td>\n",
       "      <td>8</td>\n",
       "      <td>512</td>\n",
       "      <td>1000</td>\n",
       "      <td>0.563380</td>\n",
       "      <td>0.695325</td>\n",
       "      <td>NaN</td>\n",
       "      <td>...</td>\n",
       "      <td>8.346511</td>\n",
       "      <td>8.87500</td>\n",
       "      <td>4096</td>\n",
       "      <td>512</td>\n",
       "      <td>8</td>\n",
       "      <td>2.121844</td>\n",
       "      <td>2.079442</td>\n",
       "      <td>6.238325</td>\n",
       "      <td>6</td>\n",
       "      <td>4</td>\n",
       "    </tr>\n",
       "    <tr>\n",
       "      <th>3</th>\n",
       "      <td>finished</td>\n",
       "      <td>WNLI</td>\n",
       "      <td>albert-base-v1</td>\n",
       "      <td>0.00005</td>\n",
       "      <td>32</td>\n",
       "      <td>512</td>\n",
       "      <td>1000</td>\n",
       "      <td>0.535211</td>\n",
       "      <td>0.705478</td>\n",
       "      <td>NaN</td>\n",
       "      <td>...</td>\n",
       "      <td>7.557276</td>\n",
       "      <td>2.21875</td>\n",
       "      <td>16384</td>\n",
       "      <td>512</td>\n",
       "      <td>32</td>\n",
       "      <td>2.022511</td>\n",
       "      <td>3.465736</td>\n",
       "      <td>6.238325</td>\n",
       "      <td>0</td>\n",
       "      <td>4</td>\n",
       "    </tr>\n",
       "    <tr>\n",
       "      <th>4</th>\n",
       "      <td>finished</td>\n",
       "      <td>WNLI</td>\n",
       "      <td>albert-base-v1</td>\n",
       "      <td>0.00005</td>\n",
       "      <td>16</td>\n",
       "      <td>512</td>\n",
       "      <td>1000</td>\n",
       "      <td>0.535211</td>\n",
       "      <td>0.703627</td>\n",
       "      <td>NaN</td>\n",
       "      <td>...</td>\n",
       "      <td>3.522335</td>\n",
       "      <td>4.43750</td>\n",
       "      <td>8192</td>\n",
       "      <td>512</td>\n",
       "      <td>16</td>\n",
       "      <td>1.259124</td>\n",
       "      <td>2.772589</td>\n",
       "      <td>6.238325</td>\n",
       "      <td>0</td>\n",
       "      <td>4</td>\n",
       "    </tr>\n",
       "  </tbody>\n",
       "</table>\n",
       "<p>5 rows × 30 columns</p>\n",
       "</div>"
      ],
      "text/plain": [
       "      State task_name model_name_or_path  learning_rate  \\\n",
       "0  finished      WNLI   xlnet-base-cased        0.00005   \n",
       "1  finished      WNLI   xlnet-base-cased        0.00005   \n",
       "2  finished      WNLI   xlnet-base-cased        0.00005   \n",
       "3  finished      WNLI     albert-base-v1        0.00005   \n",
       "4  finished      WNLI     albert-base-v1        0.00005   \n",
       "\n",
       "   per_device_eval_batch_size  max_seq_length  eval_steps  eval_acc  \\\n",
       "0                          32             512        1000  0.563380   \n",
       "1                          16             512        1000  0.563380   \n",
       "2                           8             512        1000  0.563380   \n",
       "3                          32             512        1000  0.535211   \n",
       "4                          16             512        1000  0.535211   \n",
       "\n",
       "   eval_loss eval_corr  ... inference_time number_batches tokens_per_batch  \\\n",
       "0   0.687686       NaN  ...      27.374284        2.21875            16384   \n",
       "1   0.692269       NaN  ...      15.803596        4.43750             8192   \n",
       "2   0.695325       NaN  ...       8.346511        8.87500             4096   \n",
       "3   0.705478       NaN  ...       7.557276        2.21875            16384   \n",
       "4   0.703627       NaN  ...       3.522335        4.43750             8192   \n",
       "\n",
       "  seq_len_cat batch_size_cat  inference_time_log batch_size_log  \\\n",
       "0         512             32            3.309604       3.465736   \n",
       "1         512             16            2.760238       2.772589   \n",
       "2         512              8            2.121844       2.079442   \n",
       "3         512             32            2.022511       3.465736   \n",
       "4         512             16            1.259124       2.772589   \n",
       "\n",
       "   seq_length_log  model_encoded  task_encoded  \n",
       "0        6.238325              6             4  \n",
       "1        6.238325              6             4  \n",
       "2        6.238325              6             4  \n",
       "3        6.238325              0             4  \n",
       "4        6.238325              0             4  \n",
       "\n",
       "[5 rows x 30 columns]"
      ]
     },
     "execution_count": 111,
     "metadata": {},
     "output_type": "execute_result"
    }
   ],
   "source": [
    "data3.head()"
   ]
  },
  {
   "cell_type": "markdown",
   "metadata": {},
   "source": [
    "#### Random Forest"
   ]
  },
  {
   "cell_type": "code",
   "execution_count": 112,
   "metadata": {
    "scrolled": true
   },
   "outputs": [
    {
     "name": "stderr",
     "output_type": "stream",
     "text": [
      "<ipython-input-112-30a4e8f3ad0a>:8: SettingWithCopyWarning: \n",
      "A value is trying to be set on a copy of a slice from a DataFrame.\n",
      "Try using .loc[row_indexer,col_indexer] = value instead\n",
      "\n",
      "See the caveats in the documentation: https://pandas.pydata.org/pandas-docs/stable/user_guide/indexing.html#returning-a-view-versus-a-copy\n",
      "  data3['model_encoded'] = le.transform(data3.model_name_or_path)\n"
     ]
    },
    {
     "data": {
      "text/plain": [
       "array([0, 1, 2, 3, 4, 5, 6])"
      ]
     },
     "execution_count": 112,
     "metadata": {},
     "output_type": "execute_result"
    }
   ],
   "source": [
    "# Encode model names \n",
    "from sklearn.preprocessing import LabelEncoder\n",
    "\n",
    "le = LabelEncoder()\n",
    "le.fit(np.unique(data3.model_name_or_path))\n",
    "LabelEncoder()\n",
    "list(le.classes_)\n",
    "data3['model_encoded'] = le.transform(data3.model_name_or_path)\n",
    "\n",
    "# print unique values of encoded model variable\n",
    "np.unique(data3.model_encoded)"
   ]
  },
  {
   "cell_type": "code",
   "execution_count": 113,
   "metadata": {},
   "outputs": [
    {
     "name": "stderr",
     "output_type": "stream",
     "text": [
      "<ipython-input-113-783387dd9e54>:8: SettingWithCopyWarning: \n",
      "A value is trying to be set on a copy of a slice from a DataFrame.\n",
      "Try using .loc[row_indexer,col_indexer] = value instead\n",
      "\n",
      "See the caveats in the documentation: https://pandas.pydata.org/pandas-docs/stable/user_guide/indexing.html#returning-a-view-versus-a-copy\n",
      "  data3['task_encoded'] = lenc.transform(data3.task_name)\n"
     ]
    },
    {
     "data": {
      "text/plain": [
       "array([0, 1, 2, 3, 4])"
      ]
     },
     "execution_count": 113,
     "metadata": {},
     "output_type": "execute_result"
    }
   ],
   "source": [
    "# Encode task names\n",
    "from sklearn.preprocessing import LabelEncoder\n",
    "\n",
    "lenc = LabelEncoder()\n",
    "lenc.fit(np.unique(data3.task_name))\n",
    "LabelEncoder()\n",
    "list(lenc.classes_)\n",
    "data3['task_encoded'] = lenc.transform(data3.task_name)\n",
    "\n",
    "# print unique values of encoded model variable\n",
    "np.unique(data3.task_encoded)"
   ]
  },
  {
   "cell_type": "code",
   "execution_count": 114,
   "metadata": {},
   "outputs": [
    {
     "name": "stdout",
     "output_type": "stream",
     "text": [
      "Mean Absolute Error: 0.33592045661049935\n",
      "Mean Squared Error: 0.17971684175188557\n",
      "Root Mean Squared Error: 0.4239302321749247\n"
     ]
    }
   ],
   "source": [
    "# Random Forest\n",
    "from sklearn.ensemble import RandomForestRegressor\n",
    "from sklearn.model_selection import train_test_split\n",
    "from sklearn.metrics import confusion_matrix\n",
    "from sklearn import metrics\n",
    "\n",
    "X = data3[['task_encoded', 'max_seq_length', 'per_device_eval_batch_size', 'model_encoded']]\n",
    "y = data3[['inference_time_log']]\n",
    "X_train, X_test, y_train, y_test = train_test_split(X, y, test_size=0.2, random_state=42)\n",
    "\n",
    "regr = RandomForestRegressor(max_depth=4, random_state=0, n_estimators = 500)\n",
    "regr.fit(X_train, np.ravel(y_train))\n",
    "y_pred = regr.predict(X_test)\n",
    "\n",
    "print('Mean Absolute Error:', metrics.mean_absolute_error(y_test, y_pred))\n",
    "print('Mean Squared Error:', metrics.mean_squared_error(y_test, y_pred))\n",
    "print('Root Mean Squared Error:', np.sqrt(metrics.mean_squared_error(y_test, y_pred)))\n",
    "\n",
    "# root mean squared error is 2746.44 which is greater than 10 percent of the average petrol consumption i.e. 576.77. "
   ]
  },
  {
   "cell_type": "code",
   "execution_count": 115,
   "metadata": {},
   "outputs": [
    {
     "name": "stdout",
     "output_type": "stream",
     "text": [
      "[0.01663667 0.50462102 0.23102093 0.24772138]\n"
     ]
    }
   ],
   "source": [
    "importances = regr.feature_importances_\n",
    "print(importances)"
   ]
  },
  {
   "cell_type": "code",
   "execution_count": 116,
   "metadata": {},
   "outputs": [
    {
     "name": "stdout",
     "output_type": "stream",
     "text": [
      "Feature: 0, Score: 0.01664\n",
      "Feature: 1, Score: 0.50462\n",
      "Feature: 2, Score: 0.23102\n",
      "Feature: 3, Score: 0.24772\n"
     ]
    },
    {
     "data": {
      "image/png": "[encoded data removed]",
      "text/plain": [
       "<Figure size 432x288 with 1 Axes>"
      ]
     },
     "metadata": {
      "needs_background": "light"
     },
     "output_type": "display_data"
    }
   ],
   "source": [
    "for i,v in enumerate(importances):\n",
    "    print('Feature: %0d, Score: %.5f' % (i,v))\n",
    "# plot feature importance\n",
    "plt.bar([x for x in range(len(importances))], importances)\n",
    "plt.show()\n",
    "\n",
    "# task_encoded, max_seq_length, per_device_eval_batch_size, model_encoded"
   ]
  },
  {
   "cell_type": "code",
   "execution_count": null,
   "metadata": {},
   "outputs": [],
   "source": [
    "### Hyperparameter optimization\n",
    "# https://towardsdatascience.com/hyperparameter-tuning-the-random-forest-in-python-using-scikit-learn-28d2aa77dd74"
   ]
  },
  {
   "cell_type": "code",
   "execution_count": null,
   "metadata": {},
   "outputs": [],
   "source": [
    "# Hyperparameter Tuning\n",
    "# Performance\n",
    "# Variable Importance\n",
    "# Prediction\n",
    "\n",
    "### Muss ich standardisieren??  (für lineare Regression??!)\n",
    "### --> weniger Multikollinearität"
   ]
  },
  {
   "cell_type": "code",
   "execution_count": null,
   "metadata": {},
   "outputs": [],
   "source": [
    "### nehme ich task_encoded oder num_examples mit rein??? (für predictions wahrscheinlich eher num_examples sinnvoll?!)\n",
    "### Vergleich ?!"
   ]
  },
  {
   "cell_type": "code",
   "execution_count": null,
   "metadata": {},
   "outputs": [],
   "source": [
    "### Oder doch lieber Gradiet Boosting, um Interaktionen 'einzufangen'??"
   ]
  },
  {
   "cell_type": "code",
   "execution_count": null,
   "metadata": {},
   "outputs": [],
   "source": [
    "### quadrierte maximum sequence length"
   ]
  },
  {
   "cell_type": "code",
   "execution_count": 32,
   "metadata": {},
   "outputs": [
    {
     "data": {
      "image/png": "[encoded data removed]",
      "text/plain": [
       "<Figure size 720x576 with 1 Axes>"
      ]
     },
     "metadata": {
      "needs_background": "light"
     },
     "output_type": "display_data"
    }
   ],
   "source": [
    "plt.figure(figsize = (10, 8))\n",
    "scatter = plt.scatter(data3.inference_time, data3.eval_acc)\n",
    "plt.ylabel('accuracy', fontsize = 16)\n",
    "plt.xlabel('inference time', fontsize = 16)\n",
    "plt.title('Scatterplot fine-tuning time and accuracy', fontsize = 18)\n",
    "plt.show()\n",
    "scatter.figure.savefig('scatter_inference_accuracy.png')"
   ]
  },
  {
   "cell_type": "code",
   "execution_count": 34,
   "metadata": {},
   "outputs": [
    {
     "data": {
      "text/plain": [
       "159"
      ]
     },
     "execution_count": 34,
     "metadata": {},
     "output_type": "execute_result"
    }
   ],
   "source": [
    "# delete all missing values of the accuracy to enable calculating the correlation\n",
    "\n",
    "data4 = data3.dropna(subset=['eval_acc', 'inference_time'])\n",
    "data4.shape[0]"
   ]
  },
  {
   "cell_type": "code",
   "execution_count": 35,
   "metadata": {},
   "outputs": [
    {
     "data": {
      "text/plain": [
       "array([[ 1.0000000e+00, -9.9917988e-04],\n",
       "       [-9.9917988e-04,  1.0000000e+00]])"
      ]
     },
     "execution_count": 35,
     "metadata": {},
     "output_type": "execute_result"
    }
   ],
   "source": [
    "np.corrcoef(data4.inference_time, data4.eval_acc)"
   ]
  },
  {
   "cell_type": "code",
   "execution_count": 88,
   "metadata": {},
   "outputs": [
    {
     "data": {
      "text/plain": [
       "51"
      ]
     },
     "execution_count": 88,
     "metadata": {},
     "output_type": "execute_result"
    }
   ],
   "source": [
    "data5 = data3.dropna(subset=['eval_f1', 'inference_time'])\n",
    "data5.shape[0]"
   ]
  },
  {
   "cell_type": "code",
   "execution_count": 90,
   "metadata": {},
   "outputs": [
    {
     "data": {
      "text/plain": [
       "array([[1.        , 0.11087352],\n",
       "       [0.11087352, 1.        ]])"
      ]
     },
     "execution_count": 90,
     "metadata": {},
     "output_type": "execute_result"
    }
   ],
   "source": [
    "np.corrcoef(data5.inference_time, data5.eval_f1.astype('float64'))"
   ]
  },
  {
   "cell_type": "code",
   "execution_count": 91,
   "metadata": {},
   "outputs": [
    {
     "data": {
      "text/plain": [
       "63"
      ]
     },
     "execution_count": 91,
     "metadata": {},
     "output_type": "execute_result"
    }
   ],
   "source": [
    "data6 = data3.dropna(subset=['eval_mcc', 'inference_time'])\n",
    "data6.shape[0]"
   ]
  },
  {
   "cell_type": "code",
   "execution_count": 92,
   "metadata": {},
   "outputs": [
    {
     "data": {
      "text/plain": [
       "array([[ 1.        , -0.23556001],\n",
       "       [-0.23556001,  1.        ]])"
      ]
     },
     "execution_count": 92,
     "metadata": {},
     "output_type": "execute_result"
    }
   ],
   "source": [
    "np.corrcoef(data6.inference_time, data6.eval_mcc.astype('float64'))"
   ]
  },
  {
   "cell_type": "code",
   "execution_count": 93,
   "metadata": {},
   "outputs": [
    {
     "data": {
      "text/plain": [
       "45"
      ]
     },
     "execution_count": 93,
     "metadata": {},
     "output_type": "execute_result"
    }
   ],
   "source": [
    "data7 = data3.dropna(subset=['eval_corr', 'inference_time'])\n",
    "data7.shape[0]"
   ]
  },
  {
   "cell_type": "code",
   "execution_count": 94,
   "metadata": {},
   "outputs": [
    {
     "data": {
      "text/plain": [
       "array([[ 1.        , -0.35353102],\n",
       "       [-0.35353102,  1.        ]])"
      ]
     },
     "execution_count": 94,
     "metadata": {},
     "output_type": "execute_result"
    }
   ],
   "source": [
    "np.corrcoef(data7.inference_time, data7.eval_corr.astype('float64'))"
   ]
  },
  {
   "cell_type": "code",
   "execution_count": 95,
   "metadata": {},
   "outputs": [
    {
     "data": {
      "text/plain": [
       "45"
      ]
     },
     "execution_count": 95,
     "metadata": {},
     "output_type": "execute_result"
    }
   ],
   "source": [
    "data8 = data3.dropna(subset=['eval_pearson', 'inference_time'])\n",
    "data8.shape[0]"
   ]
  },
  {
   "cell_type": "code",
   "execution_count": 96,
   "metadata": {},
   "outputs": [
    {
     "data": {
      "text/plain": [
       "array([[ 1.        , -0.35737557],\n",
       "       [-0.35737557,  1.        ]])"
      ]
     },
     "execution_count": 96,
     "metadata": {},
     "output_type": "execute_result"
    }
   ],
   "source": [
    "np.corrcoef(data8.inference_time, data8.eval_pearson.astype('float64'))"
   ]
  },
  {
   "cell_type": "code",
   "execution_count": 97,
   "metadata": {},
   "outputs": [
    {
     "data": {
      "text/plain": [
       "45"
      ]
     },
     "execution_count": 97,
     "metadata": {},
     "output_type": "execute_result"
    }
   ],
   "source": [
    "data9 = data3.dropna(subset=['eval_spearmanr', 'inference_time'])\n",
    "data9.shape[0]"
   ]
  },
  {
   "cell_type": "code",
   "execution_count": 98,
   "metadata": {},
   "outputs": [
    {
     "data": {
      "text/plain": [
       "array([[ 1.       , -0.3474667],\n",
       "       [-0.3474667,  1.       ]])"
      ]
     },
     "execution_count": 98,
     "metadata": {},
     "output_type": "execute_result"
    }
   ],
   "source": [
    "np.corrcoef(data9.inference_time, data9.eval_spearmanr.astype('float64'))"
   ]
  },
  {
   "cell_type": "code",
   "execution_count": 99,
   "metadata": {},
   "outputs": [
    {
     "data": {
      "text/plain": [
       "267"
      ]
     },
     "execution_count": 99,
     "metadata": {},
     "output_type": "execute_result"
    }
   ],
   "source": [
    "data10 = data3.dropna(subset=['eval_loss', 'inference_time'])\n",
    "data10.shape[0]"
   ]
  },
  {
   "cell_type": "code",
   "execution_count": 100,
   "metadata": {},
   "outputs": [
    {
     "data": {
      "text/plain": [
       "array([[1.        , 0.12884787],\n",
       "       [0.12884787, 1.        ]])"
      ]
     },
     "execution_count": 100,
     "metadata": {},
     "output_type": "execute_result"
    }
   ],
   "source": [
    "np.corrcoef(data10.inference_time, data10.eval_loss.astype('float64'))"
   ]
  },
  {
   "cell_type": "code",
   "execution_count": 37,
   "metadata": {},
   "outputs": [
    {
     "data": {
      "text/html": [
       "<div>\n",
       "<style scoped>\n",
       "    .dataframe tbody tr th:only-of-type {\n",
       "        vertical-align: middle;\n",
       "    }\n",
       "\n",
       "    .dataframe tbody tr th {\n",
       "        vertical-align: top;\n",
       "    }\n",
       "\n",
       "    .dataframe thead th {\n",
       "        text-align: right;\n",
       "    }\n",
       "</style>\n",
       "<table border=\"1\" class=\"dataframe\">\n",
       "  <thead>\n",
       "    <tr style=\"text-align: right;\">\n",
       "      <th></th>\n",
       "      <th>eval_acc</th>\n",
       "      <th>eval_corr</th>\n",
       "      <th>eval_f1</th>\n",
       "      <th>eval_mcc</th>\n",
       "      <th>eval_pearson</th>\n",
       "      <th>eval_spearmanr</th>\n",
       "    </tr>\n",
       "    <tr>\n",
       "      <th>task_name</th>\n",
       "      <th></th>\n",
       "      <th></th>\n",
       "      <th></th>\n",
       "      <th></th>\n",
       "      <th></th>\n",
       "      <th></th>\n",
       "    </tr>\n",
       "  </thead>\n",
       "  <tbody>\n",
       "    <tr>\n",
       "      <th>CoLA</th>\n",
       "      <td>0</td>\n",
       "      <td>0</td>\n",
       "      <td>0</td>\n",
       "      <td>63</td>\n",
       "      <td>0</td>\n",
       "      <td>0</td>\n",
       "    </tr>\n",
       "    <tr>\n",
       "      <th>MRPC</th>\n",
       "      <td>51</td>\n",
       "      <td>0</td>\n",
       "      <td>51</td>\n",
       "      <td>0</td>\n",
       "      <td>0</td>\n",
       "      <td>0</td>\n",
       "    </tr>\n",
       "    <tr>\n",
       "      <th>RTE</th>\n",
       "      <td>63</td>\n",
       "      <td>0</td>\n",
       "      <td>0</td>\n",
       "      <td>0</td>\n",
       "      <td>0</td>\n",
       "      <td>0</td>\n",
       "    </tr>\n",
       "    <tr>\n",
       "      <th>STS-B</th>\n",
       "      <td>0</td>\n",
       "      <td>45</td>\n",
       "      <td>0</td>\n",
       "      <td>0</td>\n",
       "      <td>45</td>\n",
       "      <td>45</td>\n",
       "    </tr>\n",
       "    <tr>\n",
       "      <th>WNLI</th>\n",
       "      <td>45</td>\n",
       "      <td>0</td>\n",
       "      <td>0</td>\n",
       "      <td>0</td>\n",
       "      <td>0</td>\n",
       "      <td>0</td>\n",
       "    </tr>\n",
       "  </tbody>\n",
       "</table>\n",
       "</div>"
      ],
      "text/plain": [
       "           eval_acc  eval_corr  eval_f1  eval_mcc  eval_pearson  \\\n",
       "task_name                                                         \n",
       "CoLA              0          0        0        63             0   \n",
       "MRPC             51          0       51         0             0   \n",
       "RTE              63          0        0         0             0   \n",
       "STS-B             0         45        0         0            45   \n",
       "WNLI             45          0        0         0             0   \n",
       "\n",
       "           eval_spearmanr  \n",
       "task_name                  \n",
       "CoLA                    0  \n",
       "MRPC                    0  \n",
       "RTE                     0  \n",
       "STS-B                  45  \n",
       "WNLI                    0  "
      ]
     },
     "execution_count": 37,
     "metadata": {},
     "output_type": "execute_result"
    }
   ],
   "source": [
    "data3[['eval_acc', 'eval_corr', 'eval_f1', 'eval_mcc',\n",
    "       'eval_pearson', 'eval_spearmanr', 'task_name']].groupby(\"task_name\").count()"
   ]
  }
 ],
 "metadata": {
  "colab": {
   "collapsed_sections": [],
   "name": "wandb_WNLI.ipynb",
   "provenance": []
  },
  "kernelspec": {
   "display_name": "Python 3",
   "language": "python",
   "name": "python3"
  },
  "language_info": {
   "codemirror_mode": {
    "name": "ipython",
    "version": 3
   },
   "file_extension": ".py",
   "mimetype": "text/x-python",
   "name": "python",
   "nbconvert_exporter": "python",
   "pygments_lexer": "ipython3",
   "version": "3.8.3"
  }
 },
 "nbformat": 4,
 "nbformat_minor": 1
}
