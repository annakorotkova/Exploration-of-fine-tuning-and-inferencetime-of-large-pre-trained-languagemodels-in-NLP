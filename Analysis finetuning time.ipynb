{
 "cells": [
  {
   "cell_type": "markdown",
   "metadata": {},
   "source": [
    "### Analysis  of finetuning time"
   ]
  },
  {
   "cell_type": "code",
   "execution_count": 1,
   "metadata": {
    "colab": {},
    "colab_type": "code",
    "id": "N8YMThFjBvSg",
    "scrolled": false
   },
   "outputs": [],
   "source": [
    "# load important modules\n",
    "\n",
    "import pandas as pd\n",
    "import numpy as np \n",
    "import matplotlib.pyplot as plt\n",
    "import seaborn as sns\n",
    "from collections import defaultdict\n",
    "import math"
   ]
  },
  {
   "cell_type": "markdown",
   "metadata": {},
   "source": [
    "#### Data preprocessing"
   ]
  },
  {
   "cell_type": "code",
   "execution_count": 2,
   "metadata": {},
   "outputs": [],
   "source": [
    "# WNLI\n",
    "wnli_uncased = pd.read_csv(\"C:/Users/annko/Documents/Masterthesis/wandb/finetuning time/WNLI_uncased.csv\", \n",
    "                   delimiter=',', decimal=',')\n",
    "# RTE\n",
    "rte_uncased = pd.read_csv(\"C:/Users/annko/Documents/Masterthesis/wandb/finetuning time/RTE_uncased.csv\", \n",
    "                   delimiter=',', decimal=',')\n",
    "rte_cased = pd.read_csv(\"C:/Users/annko/Documents/Masterthesis/wandb/finetuning time/RTE_cased.csv\", \n",
    "                   delimiter=',', decimal=',')\n",
    "\n",
    "# MRPC\n",
    "mrpc_uncased = pd.read_excel(\"C:/Users/annko/Documents/Masterthesis/wandb/finetuning time/MRPC_uncased.xlsx\", \n",
    "                   delimiter=',', decimal=',')\n",
    "mrpc_cased = pd.read_csv(\"C:/Users/annko/Documents/Masterthesis/wandb/finetuning time/MRPC_cased.csv\", \n",
    "                   delimiter=',', decimal=',')\n",
    "\n",
    "# CoLA\n",
    "cola_uncased = pd.read_excel(\"C:/Users/annko/Documents/Masterthesis/wandb/finetuning time/CoLa_uncased.xlsx\", \n",
    "                   delimiter=',', decimal=',')\n",
    "cola_cased = pd.read_csv(\"C:/Users/annko/Documents/Masterthesis/wandb/finetuning time/CoLa_cased.csv\", \n",
    "                   delimiter=',', decimal=',')\n",
    "\n",
    "# SST-B\n",
    "stsb_all = pd.read_excel(\"C:/Users/annko/Documents/Masterthesis/wandb/finetuning time/STS-B_all.xlsx\", \n",
    "                   delimiter=',', decimal=',')\n",
    "\n",
    "# STS-2\n",
    "sst2_all = pd.read_csv(\"C:/Users/annko/Documents/Masterthesis/wandb/finetuning time/SST-2_all.csv\", \n",
    "                   delimiter=',', decimal=',')\n",
    "\n",
    "# concatenate all datasets \n",
    "data = pd.concat([wnli_uncased, rte_uncased, rte_cased, mrpc_uncased, mrpc_cased, cola_uncased, \n",
    "                  cola_cased, stsb_all, sst2_all])"
   ]
  },
  {
   "cell_type": "code",
   "execution_count": 3,
   "metadata": {
    "colab": {
     "base_uri": "https://localhost:8080/",
     "height": 35
    },
    "colab_type": "code",
    "id": "VEI0ZBrrC81W",
    "outputId": "b2597b69-bf02-4918-ae2c-485abfbca777"
   },
   "outputs": [
    {
     "name": "stdout",
     "output_type": "stream",
     "text": [
      "(342, 18)\n"
     ]
    },
    {
     "data": {
      "text/html": [
       "<div>\n",
       "<style scoped>\n",
       "    .dataframe tbody tr th:only-of-type {\n",
       "        vertical-align: middle;\n",
       "    }\n",
       "\n",
       "    .dataframe tbody tr th {\n",
       "        vertical-align: top;\n",
       "    }\n",
       "\n",
       "    .dataframe thead th {\n",
       "        text-align: right;\n",
       "    }\n",
       "</style>\n",
       "<table border=\"1\" class=\"dataframe\">\n",
       "  <thead>\n",
       "    <tr style=\"text-align: right;\">\n",
       "      <th></th>\n",
       "      <th>State</th>\n",
       "      <th>task_name</th>\n",
       "      <th>model_name_or_path</th>\n",
       "      <th>learning_rate</th>\n",
       "      <th>per_device_train_batch_size</th>\n",
       "      <th>max_seq_length</th>\n",
       "      <th>eval_steps</th>\n",
       "      <th>eval_acc</th>\n",
       "      <th>eval_loss</th>\n",
       "      <th>eval_corr</th>\n",
       "      <th>eval_f1</th>\n",
       "      <th>eval_mcc</th>\n",
       "      <th>eval_pearson</th>\n",
       "      <th>eval_spearmanr</th>\n",
       "      <th>finetuning_time_list</th>\n",
       "      <th>finetuning_iters</th>\n",
       "      <th>loss</th>\n",
       "      <th>weight_decay</th>\n",
       "    </tr>\n",
       "  </thead>\n",
       "  <tbody>\n",
       "    <tr>\n",
       "      <th>193</th>\n",
       "      <td>finished</td>\n",
       "      <td>CoLA</td>\n",
       "      <td>bert-base-uncased</td>\n",
       "      <td>1e-05</td>\n",
       "      <td>16</td>\n",
       "      <td>256</td>\n",
       "      <td>1000.0</td>\n",
       "      <td>NaN</td>\n",
       "      <td>0.467358</td>\n",
       "      <td>NaN</td>\n",
       "      <td>NaN</td>\n",
       "      <td>0.477654</td>\n",
       "      <td>NaN</td>\n",
       "      <td>NaN</td>\n",
       "      <td>[2543.8515617847443,2592.991079568863,2477.751...</td>\n",
       "      <td>3</td>\n",
       "      <td>0.188806</td>\n",
       "      <td>0.01</td>\n",
       "    </tr>\n",
       "    <tr>\n",
       "      <th>74</th>\n",
       "      <td>finished</td>\n",
       "      <td>RTE</td>\n",
       "      <td>bert-base-uncased</td>\n",
       "      <td>0.00005</td>\n",
       "      <td>8</td>\n",
       "      <td>256</td>\n",
       "      <td>1000.0</td>\n",
       "      <td>0.6787003610108303</td>\n",
       "      <td>0.6243820326668875</td>\n",
       "      <td>NaN</td>\n",
       "      <td>NaN</td>\n",
       "      <td>NaN</td>\n",
       "      <td>NaN</td>\n",
       "      <td>NaN</td>\n",
       "      <td>[798.7048346996307,805.5616698265076,765.59285...</td>\n",
       "      <td>5</td>\n",
       "      <td>0.4813197720050812</td>\n",
       "      <td>0.01</td>\n",
       "    </tr>\n",
       "  </tbody>\n",
       "</table>\n",
       "</div>"
      ],
      "text/plain": [
       "        State task_name model_name_or_path learning_rate  \\\n",
       "193  finished      CoLA  bert-base-uncased         1e-05   \n",
       "74   finished       RTE  bert-base-uncased       0.00005   \n",
       "\n",
       "     per_device_train_batch_size  max_seq_length  eval_steps  \\\n",
       "193                           16             256      1000.0   \n",
       "74                             8             256      1000.0   \n",
       "\n",
       "               eval_acc           eval_loss  eval_corr eval_f1  eval_mcc  \\\n",
       "193                 NaN            0.467358        NaN     NaN  0.477654   \n",
       "74   0.6787003610108303  0.6243820326668875        NaN     NaN       NaN   \n",
       "\n",
       "     eval_pearson  eval_spearmanr  \\\n",
       "193           NaN             NaN   \n",
       "74            NaN             NaN   \n",
       "\n",
       "                                  finetuning_time_list  finetuning_iters  \\\n",
       "193  [2543.8515617847443,2592.991079568863,2477.751...                 3   \n",
       "74   [798.7048346996307,805.5616698265076,765.59285...                 5   \n",
       "\n",
       "                   loss weight_decay  \n",
       "193            0.188806         0.01  \n",
       "74   0.4813197720050812         0.01  "
      ]
     },
     "execution_count": 3,
     "metadata": {},
     "output_type": "execute_result"
    }
   ],
   "source": [
    "# only include important variables\n",
    "data2 = data[['State', 'task_name', 'model_name_or_path', 'learning_rate', 'per_device_train_batch_size', 'max_seq_length', \n",
    "              'eval_steps', 'eval_acc', 'eval_loss', 'eval_corr', 'eval_f1', 'eval_mcc', 'eval_pearson', 'eval_spearmanr',\n",
    "              'finetuning_time_list','finetuning_iters', 'loss', 'weight_decay']]\n",
    "data2.index = range(0,len(data2))\n",
    "\n",
    "print(data2.shape)\n",
    "data2.sample(2)"
   ]
  },
  {
   "cell_type": "code",
   "execution_count": 4,
   "metadata": {},
   "outputs": [
    {
     "name": "stderr",
     "output_type": "stream",
     "text": [
      "C:\\Users\\annko\\anaconda3\\lib\\site-packages\\pandas\\core\\indexing.py:845: SettingWithCopyWarning: \n",
      "A value is trying to be set on a copy of a slice from a DataFrame.\n",
      "Try using .loc[row_indexer,col_indexer] = value instead\n",
      "\n",
      "See the caveats in the documentation: https://pandas.pydata.org/pandas-docs/stable/user_guide/indexing.html#returning-a-view-versus-a-copy\n",
      "  self.obj[key] = _infer_fill_value(value)\n",
      "C:\\Users\\annko\\anaconda3\\lib\\site-packages\\pandas\\core\\indexing.py:966: SettingWithCopyWarning: \n",
      "A value is trying to be set on a copy of a slice from a DataFrame.\n",
      "Try using .loc[row_indexer,col_indexer] = value instead\n",
      "\n",
      "See the caveats in the documentation: https://pandas.pydata.org/pandas-docs/stable/user_guide/indexing.html#returning-a-view-versus-a-copy\n",
      "  self.obj[item] = s\n"
     ]
    }
   ],
   "source": [
    "# add column with number of observations\n",
    "data2.loc[(data2.task_name == 'WNLI'), 'num_examples'] = 635\n",
    "data2.loc[(data2.task_name == 'RTE'), 'num_examples'] = 2490\n",
    "data2.loc[(data2.task_name == 'MRPC'), 'num_examples'] = 3668\n",
    "data2.loc[(data2.task_name == 'STS-B'), 'num_examples'] = 5749\n",
    "data2.loc[(data2.task_name == 'CoLA'), 'num_examples'] = 8550\n",
    "data2.loc[(data2.task_name == 'SST-2'), 'num_examples'] = 67349"
   ]
  },
  {
   "cell_type": "code",
   "execution_count": 5,
   "metadata": {
    "colab": {
     "base_uri": "https://localhost:8080/",
     "height": 220
    },
    "colab_type": "code",
    "id": "TEtCeGqw2ti2",
    "outputId": "0eac272e-6c76-4839-e65b-8c2f27dcb931"
   },
   "outputs": [
    {
     "data": {
      "text/plain": [
       "291"
      ]
     },
     "execution_count": 5,
     "metadata": {},
     "output_type": "execute_result"
    }
   ],
   "source": [
    "# there are some runs in the dataset that failed/crashed --> only include finished runs\n",
    "data3 = data2.loc[data2.State == 'finished']\n",
    "\n",
    "data3.shape[0] # number of examples"
   ]
  },
  {
   "cell_type": "code",
   "execution_count": 6,
   "metadata": {
    "colab": {
     "base_uri": "https://localhost:8080/",
     "height": 295
    },
    "colab_type": "code",
    "id": "OIp_Yl7JDd9l",
    "outputId": "8a9c22f0-6d21-4fd9-e169-0716606f2f56",
    "scrolled": true
   },
   "outputs": [
    {
     "data": {
      "text/html": [
       "<div>\n",
       "<style scoped>\n",
       "    .dataframe tbody tr th:only-of-type {\n",
       "        vertical-align: middle;\n",
       "    }\n",
       "\n",
       "    .dataframe tbody tr th {\n",
       "        vertical-align: top;\n",
       "    }\n",
       "\n",
       "    .dataframe thead th {\n",
       "        text-align: right;\n",
       "    }\n",
       "</style>\n",
       "<table border=\"1\" class=\"dataframe\">\n",
       "  <thead>\n",
       "    <tr style=\"text-align: right;\">\n",
       "      <th></th>\n",
       "      <th>per_device_train_batch_size</th>\n",
       "      <th>max_seq_length</th>\n",
       "      <th>eval_steps</th>\n",
       "      <th>eval_corr</th>\n",
       "      <th>eval_pearson</th>\n",
       "      <th>eval_spearmanr</th>\n",
       "      <th>finetuning_iters</th>\n",
       "      <th>num_examples</th>\n",
       "    </tr>\n",
       "  </thead>\n",
       "  <tbody>\n",
       "    <tr>\n",
       "      <th>count</th>\n",
       "      <td>291.000000</td>\n",
       "      <td>291.000000</td>\n",
       "      <td>291.0</td>\n",
       "      <td>45.000000</td>\n",
       "      <td>45.000000</td>\n",
       "      <td>45.000000</td>\n",
       "      <td>291.000000</td>\n",
       "      <td>291.000000</td>\n",
       "    </tr>\n",
       "    <tr>\n",
       "      <th>mean</th>\n",
       "      <td>18.666667</td>\n",
       "      <td>300.865979</td>\n",
       "      <td>1000.0</td>\n",
       "      <td>0.867349</td>\n",
       "      <td>0.868051</td>\n",
       "      <td>0.866646</td>\n",
       "      <td>4.092784</td>\n",
       "      <td>11393.247423</td>\n",
       "    </tr>\n",
       "    <tr>\n",
       "      <th>std</th>\n",
       "      <td>9.994941</td>\n",
       "      <td>160.550323</td>\n",
       "      <td>0.0</td>\n",
       "      <td>0.019566</td>\n",
       "      <td>0.019871</td>\n",
       "      <td>0.019345</td>\n",
       "      <td>0.997402</td>\n",
       "      <td>20209.290545</td>\n",
       "    </tr>\n",
       "    <tr>\n",
       "      <th>min</th>\n",
       "      <td>8.000000</td>\n",
       "      <td>128.000000</td>\n",
       "      <td>1000.0</td>\n",
       "      <td>0.829953</td>\n",
       "      <td>0.827459</td>\n",
       "      <td>0.830657</td>\n",
       "      <td>3.000000</td>\n",
       "      <td>635.000000</td>\n",
       "    </tr>\n",
       "    <tr>\n",
       "      <th>25%</th>\n",
       "      <td>8.000000</td>\n",
       "      <td>128.000000</td>\n",
       "      <td>1000.0</td>\n",
       "      <td>0.851157</td>\n",
       "      <td>0.851222</td>\n",
       "      <td>0.850218</td>\n",
       "      <td>3.000000</td>\n",
       "      <td>2490.000000</td>\n",
       "    </tr>\n",
       "    <tr>\n",
       "      <th>50%</th>\n",
       "      <td>16.000000</td>\n",
       "      <td>256.000000</td>\n",
       "      <td>1000.0</td>\n",
       "      <td>0.874486</td>\n",
       "      <td>0.871842</td>\n",
       "      <td>0.877062</td>\n",
       "      <td>5.000000</td>\n",
       "      <td>3668.000000</td>\n",
       "    </tr>\n",
       "    <tr>\n",
       "      <th>75%</th>\n",
       "      <td>32.000000</td>\n",
       "      <td>512.000000</td>\n",
       "      <td>1000.0</td>\n",
       "      <td>0.884482</td>\n",
       "      <td>0.886117</td>\n",
       "      <td>0.882848</td>\n",
       "      <td>5.000000</td>\n",
       "      <td>8550.000000</td>\n",
       "    </tr>\n",
       "    <tr>\n",
       "      <th>max</th>\n",
       "      <td>32.000000</td>\n",
       "      <td>512.000000</td>\n",
       "      <td>1000.0</td>\n",
       "      <td>0.893516</td>\n",
       "      <td>0.892947</td>\n",
       "      <td>0.894086</td>\n",
       "      <td>5.000000</td>\n",
       "      <td>67349.000000</td>\n",
       "    </tr>\n",
       "  </tbody>\n",
       "</table>\n",
       "</div>"
      ],
      "text/plain": [
       "       per_device_train_batch_size  max_seq_length  eval_steps  eval_corr  \\\n",
       "count                   291.000000      291.000000       291.0  45.000000   \n",
       "mean                     18.666667      300.865979      1000.0   0.867349   \n",
       "std                       9.994941      160.550323         0.0   0.019566   \n",
       "min                       8.000000      128.000000      1000.0   0.829953   \n",
       "25%                       8.000000      128.000000      1000.0   0.851157   \n",
       "50%                      16.000000      256.000000      1000.0   0.874486   \n",
       "75%                      32.000000      512.000000      1000.0   0.884482   \n",
       "max                      32.000000      512.000000      1000.0   0.893516   \n",
       "\n",
       "       eval_pearson  eval_spearmanr  finetuning_iters  num_examples  \n",
       "count     45.000000       45.000000        291.000000    291.000000  \n",
       "mean       0.868051        0.866646          4.092784  11393.247423  \n",
       "std        0.019871        0.019345          0.997402  20209.290545  \n",
       "min        0.827459        0.830657          3.000000    635.000000  \n",
       "25%        0.851222        0.850218          3.000000   2490.000000  \n",
       "50%        0.871842        0.877062          5.000000   3668.000000  \n",
       "75%        0.886117        0.882848          5.000000   8550.000000  \n",
       "max        0.892947        0.894086          5.000000  67349.000000  "
      ]
     },
     "execution_count": 6,
     "metadata": {},
     "output_type": "execute_result"
    }
   ],
   "source": [
    "# Describe respective variables \n",
    "data3.describe()"
   ]
  },
  {
   "cell_type": "code",
   "execution_count": 7,
   "metadata": {},
   "outputs": [
    {
     "name": "stdout",
     "output_type": "stream",
     "text": [
      "<class 'pandas.core.frame.DataFrame'>\n",
      "Int64Index: 291 entries, 0 to 341\n",
      "Data columns (total 19 columns):\n",
      " #   Column                       Non-Null Count  Dtype  \n",
      "---  ------                       --------------  -----  \n",
      " 0   State                        291 non-null    object \n",
      " 1   task_name                    291 non-null    object \n",
      " 2   model_name_or_path           291 non-null    object \n",
      " 3   learning_rate                291 non-null    object \n",
      " 4   per_device_train_batch_size  291 non-null    int64  \n",
      " 5   max_seq_length               291 non-null    int64  \n",
      " 6   eval_steps                   291 non-null    float64\n",
      " 7   eval_acc                     192 non-null    object \n",
      " 8   eval_loss                    291 non-null    object \n",
      " 9   eval_corr                    45 non-null     float64\n",
      " 10  eval_f1                      51 non-null     object \n",
      " 11  eval_mcc                     54 non-null     object \n",
      " 12  eval_pearson                 45 non-null     float64\n",
      " 13  eval_spearmanr               45 non-null     float64\n",
      " 14  finetuning_time_list         291 non-null    object \n",
      " 15  finetuning_iters             291 non-null    int64  \n",
      " 16  loss                         225 non-null    object \n",
      " 17  weight_decay                 291 non-null    object \n",
      " 18  num_examples                 291 non-null    float64\n",
      "dtypes: float64(5), int64(3), object(11)\n",
      "memory usage: 45.5+ KB\n"
     ]
    }
   ],
   "source": [
    "# Regard info of several features (need to change the type of some variables)\n",
    "data3.info()"
   ]
  },
  {
   "cell_type": "code",
   "execution_count": 8,
   "metadata": {},
   "outputs": [],
   "source": [
    "# change the format of the finetuning list in order to ba able to work with it\n",
    "def timelist_transform(data = data3.finetuning_time_list):\n",
    "    \n",
    "    # save transformed results in defaultdict\n",
    "    time_dict = defaultdict(list)\n",
    "    counter = 0\n",
    "    \n",
    "    for row in data:\n",
    "        time_list = []\n",
    "        for i in row.strip('][').split(','):\n",
    "            time_list.append(float(i))\n",
    "        time_dict[data3.index[counter]] = time_list\n",
    "        counter += 1\n",
    "        \n",
    "    return time_dict"
   ]
  },
  {
   "cell_type": "code",
   "execution_count": 9,
   "metadata": {},
   "outputs": [
    {
     "name": "stderr",
     "output_type": "stream",
     "text": [
      "C:\\Users\\annko\\anaconda3\\lib\\site-packages\\pandas\\core\\indexing.py:966: SettingWithCopyWarning: \n",
      "A value is trying to be set on a copy of a slice from a DataFrame.\n",
      "Try using .loc[row_indexer,col_indexer] = value instead\n",
      "\n",
      "See the caveats in the documentation: https://pandas.pydata.org/pandas-docs/stable/user_guide/indexing.html#returning-a-view-versus-a-copy\n",
      "  self.obj[item] = s\n"
     ]
    }
   ],
   "source": [
    "# add transformed lists to dataframe\n",
    "finetuning_dict = timelist_transform(data3.finetuning_time_list)\n",
    "data3.loc[:,'finetuning_time_list'] = data3.index.map(finetuning_dict)"
   ]
  },
  {
   "cell_type": "code",
   "execution_count": 10,
   "metadata": {},
   "outputs": [
    {
     "name": "stdout",
     "output_type": "stream",
     "text": [
      "<class 'list'>\n",
      "<class 'float'>\n"
     ]
    },
    {
     "data": {
      "text/plain": [
       "258    [1389.448937416077, 1372.4952232837677, 1360.5...\n",
       "315    [8003.73255610466, 7846.35068321228, 7813.9086...\n",
       "Name: finetuning_time_list, dtype: object"
      ]
     },
     "execution_count": 10,
     "metadata": {},
     "output_type": "execute_result"
    }
   ],
   "source": [
    "# check if type conversion succeeded\n",
    "print(type(data3.finetuning_time_list[9])) # list\n",
    "print(type(data3.finetuning_time_list[9][1])) #float\n",
    "data3.finetuning_time_list.sample(2)"
   ]
  },
  {
   "cell_type": "code",
   "execution_count": 11,
   "metadata": {
    "colab": {
     "base_uri": "https://localhost:8080/",
     "height": 299
    },
    "colab_type": "code",
    "id": "LqMSk8FSPwJA",
    "outputId": "b10ec5b1-f96b-46f4-873a-4653e95aff1a"
   },
   "outputs": [],
   "source": [
    "# change variable types\n",
    "data3.loc[:,'model_name_or_path'] = data3.loc[:,'model_name_or_path'].astype('category')\n",
    "data3.loc[:,'task_name'] = data3.loc[:,'task_name'].astype('category')\n",
    "data3.loc[:,'learning_rate'] = data3.loc[:,'learning_rate'].astype('float64')\n",
    "data3.loc[:,'eval_acc'] = data3.loc[:,'eval_acc'].astype('float64')\n",
    "data3.loc[:,'eval_loss'] = data3.loc[:,'eval_loss'].astype('float64')\n",
    "data3.loc[:,'num_examples'] = data3.loc[:,'num_examples'].astype('int64')"
   ]
  },
  {
   "cell_type": "code",
   "execution_count": 12,
   "metadata": {},
   "outputs": [
    {
     "name": "stderr",
     "output_type": "stream",
     "text": [
      "<ipython-input-12-faadc63ac68c>:2: SettingWithCopyWarning: \n",
      "A value is trying to be set on a copy of a slice from a DataFrame.\n",
      "Try using .loc[row_indexer,col_indexer] = value instead\n",
      "\n",
      "See the caveats in the documentation: https://pandas.pydata.org/pandas-docs/stable/user_guide/indexing.html#returning-a-view-versus-a-copy\n",
      "  data3['finetuning_time'] = data3.loc[:,'finetuning_time_list'].apply(lambda x: min(x))\n"
     ]
    }
   ],
   "source": [
    "# calculate minimal finetuning_time\n",
    "data3['finetuning_time'] = data3.loc[:,'finetuning_time_list'].apply(lambda x: min(x))"
   ]
  },
  {
   "cell_type": "code",
   "execution_count": 33,
   "metadata": {},
   "outputs": [
    {
     "name": "stderr",
     "output_type": "stream",
     "text": [
      "C:\\Users\\annko\\anaconda3\\lib\\site-packages\\pandas\\core\\indexing.py:966: SettingWithCopyWarning: \n",
      "A value is trying to be set on a copy of a slice from a DataFrame.\n",
      "Try using .loc[row_indexer,col_indexer] = value instead\n",
      "\n",
      "See the caveats in the documentation: https://pandas.pydata.org/pandas-docs/stable/user_guide/indexing.html#returning-a-view-versus-a-copy\n",
      "  self.obj[item] = s\n"
     ]
    }
   ],
   "source": [
    "# learning rate value of MRPC was not recognized properly -> added manually\n",
    "data3.loc[(data3.task_name == 'MRPC'), 'learning_rate'] = 3e-5"
   ]
  },
  {
   "cell_type": "markdown",
   "metadata": {},
   "source": [
    "#### Descriptive analysis"
   ]
  },
  {
   "cell_type": "code",
   "execution_count": 21,
   "metadata": {},
   "outputs": [
    {
     "name": "stdout",
     "output_type": "stream",
     "text": [
      "Maximal finetuning time\n",
      " \n",
      "State                                                                   finished\n",
      "task_name                                                                  SST-2\n",
      "model_name_or_path                                             bert-base-uncased\n",
      "learning_rate                                                              1e-05\n",
      "per_device_train_batch_size                                                   32\n",
      "max_seq_length                                                               512\n",
      "eval_steps                                                                  1000\n",
      "eval_acc                                                                0.917431\n",
      "eval_loss                                                               0.220054\n",
      "eval_corr                                                                    NaN\n",
      "eval_f1                                                                      NaN\n",
      "eval_mcc                                                                     NaN\n",
      "eval_pearson                                                                 NaN\n",
      "eval_spearmanr                                                               NaN\n",
      "finetuning_time_list           [59687.96769976616, 59139.08946490288, 60683.6...\n",
      "finetuning_iters                                                               3\n",
      "loss                                                                         NaN\n",
      "weight_decay                                                                0.01\n",
      "num_examples                                                               67349\n",
      "finetuning_time                                                          59139.1\n",
      "Name: 303, dtype: object\n",
      " \n",
      "Minimal finetuning time\n",
      " \n",
      "State                                                                   finished\n",
      "task_name                                                                   WNLI\n",
      "model_name_or_path                                       distilbert-base-uncased\n",
      "learning_rate                                                              2e-05\n",
      "per_device_train_batch_size                                                   32\n",
      "max_seq_length                                                               128\n",
      "eval_steps                                                                  1000\n",
      "eval_acc                                                                0.408451\n",
      "eval_loss                                                                 0.6938\n",
      "eval_corr                                                                    NaN\n",
      "eval_f1                                                                      NaN\n",
      "eval_mcc                                                                     NaN\n",
      "eval_pearson                                                                 NaN\n",
      "eval_spearmanr                                                               NaN\n",
      "finetuning_time_list           [44.831969022750854, 41.752259254455566, 40.28...\n",
      "finetuning_iters                                                               5\n",
      "loss                                                           0.275855553150177\n",
      "weight_decay                                                                0.01\n",
      "num_examples                                                                 635\n",
      "finetuning_time                                                          40.2865\n",
      "Name: 39, dtype: object\n"
     ]
    }
   ],
   "source": [
    "# print maximum finetuning time\n",
    "print('Maximal finetuning time')\n",
    "print(' ')\n",
    "print(data3.loc[data3.finetuning_time.idxmax(axis=0),:])\n",
    "\n",
    "# minimal finetuning time\n",
    "print(' ')\n",
    "print('Minimal finetuning time')\n",
    "print(' ')\n",
    "print(data3.loc[data3.finetuning_time.idxmin(axis=0),:])"
   ]
  },
  {
   "cell_type": "code",
   "execution_count": 22,
   "metadata": {},
   "outputs": [
    {
     "data": {
      "text/html": [
       "<div>\n",
       "<style scoped>\n",
       "    .dataframe tbody tr th:only-of-type {\n",
       "        vertical-align: middle;\n",
       "    }\n",
       "\n",
       "    .dataframe tbody tr th {\n",
       "        vertical-align: top;\n",
       "    }\n",
       "\n",
       "    .dataframe thead th {\n",
       "        text-align: right;\n",
       "    }\n",
       "</style>\n",
       "<table border=\"1\" class=\"dataframe\">\n",
       "  <thead>\n",
       "    <tr style=\"text-align: right;\">\n",
       "      <th></th>\n",
       "      <th>State</th>\n",
       "      <th>task_name</th>\n",
       "      <th>model_name_or_path</th>\n",
       "      <th>learning_rate</th>\n",
       "      <th>per_device_train_batch_size</th>\n",
       "      <th>max_seq_length</th>\n",
       "      <th>eval_steps</th>\n",
       "      <th>eval_acc</th>\n",
       "      <th>eval_loss</th>\n",
       "      <th>eval_corr</th>\n",
       "      <th>eval_f1</th>\n",
       "      <th>eval_mcc</th>\n",
       "      <th>eval_pearson</th>\n",
       "      <th>eval_spearmanr</th>\n",
       "      <th>finetuning_time_list</th>\n",
       "      <th>finetuning_iters</th>\n",
       "      <th>loss</th>\n",
       "      <th>weight_decay</th>\n",
       "      <th>num_examples</th>\n",
       "      <th>finetuning_time</th>\n",
       "    </tr>\n",
       "  </thead>\n",
       "  <tbody>\n",
       "    <tr>\n",
       "      <th>0</th>\n",
       "      <td>finished</td>\n",
       "      <td>WNLI</td>\n",
       "      <td>xlnet-base-cased</td>\n",
       "      <td>0.00002</td>\n",
       "      <td>32</td>\n",
       "      <td>512</td>\n",
       "      <td>1000.0</td>\n",
       "      <td>0.492958</td>\n",
       "      <td>0.707652</td>\n",
       "      <td>NaN</td>\n",
       "      <td>NaN</td>\n",
       "      <td>NaN</td>\n",
       "      <td>NaN</td>\n",
       "      <td>NaN</td>\n",
       "      <td>[1511.446849346161, 1453.9288070201874, 1480.7...</td>\n",
       "      <td>5</td>\n",
       "      <td>0.28129574060440066</td>\n",
       "      <td>0.01</td>\n",
       "      <td>635</td>\n",
       "      <td>1453.928807</td>\n",
       "    </tr>\n",
       "    <tr>\n",
       "      <th>1</th>\n",
       "      <td>finished</td>\n",
       "      <td>WNLI</td>\n",
       "      <td>xlnet-base-cased</td>\n",
       "      <td>0.00002</td>\n",
       "      <td>16</td>\n",
       "      <td>512</td>\n",
       "      <td>1000.0</td>\n",
       "      <td>0.507042</td>\n",
       "      <td>0.707963</td>\n",
       "      <td>NaN</td>\n",
       "      <td>NaN</td>\n",
       "      <td>NaN</td>\n",
       "      <td>NaN</td>\n",
       "      <td>NaN</td>\n",
       "      <td>[1437.6936128139496, 1419.2357952594757, 1443....</td>\n",
       "      <td>5</td>\n",
       "      <td>0.5560731422901154</td>\n",
       "      <td>0.01</td>\n",
       "      <td>635</td>\n",
       "      <td>1419.235795</td>\n",
       "    </tr>\n",
       "    <tr>\n",
       "      <th>2</th>\n",
       "      <td>finished</td>\n",
       "      <td>WNLI</td>\n",
       "      <td>xlnet-base-cased</td>\n",
       "      <td>0.00002</td>\n",
       "      <td>8</td>\n",
       "      <td>512</td>\n",
       "      <td>1000.0</td>\n",
       "      <td>0.563380</td>\n",
       "      <td>0.704241</td>\n",
       "      <td>NaN</td>\n",
       "      <td>NaN</td>\n",
       "      <td>NaN</td>\n",
       "      <td>NaN</td>\n",
       "      <td>NaN</td>\n",
       "      <td>[1697.3308124542236, 1648.7515692710876, 1653....</td>\n",
       "      <td>5</td>\n",
       "      <td>0.726203420162201</td>\n",
       "      <td>0.01</td>\n",
       "      <td>635</td>\n",
       "      <td>1648.751569</td>\n",
       "    </tr>\n",
       "    <tr>\n",
       "      <th>3</th>\n",
       "      <td>finished</td>\n",
       "      <td>WNLI</td>\n",
       "      <td>albert-base-v1</td>\n",
       "      <td>0.00002</td>\n",
       "      <td>32</td>\n",
       "      <td>512</td>\n",
       "      <td>1000.0</td>\n",
       "      <td>0.422535</td>\n",
       "      <td>0.706421</td>\n",
       "      <td>NaN</td>\n",
       "      <td>NaN</td>\n",
       "      <td>NaN</td>\n",
       "      <td>NaN</td>\n",
       "      <td>NaN</td>\n",
       "      <td>[525.2835969924927, 575.5731990337372, 594.096...</td>\n",
       "      <td>5</td>\n",
       "      <td>0.27751596450805666</td>\n",
       "      <td>0.01</td>\n",
       "      <td>635</td>\n",
       "      <td>525.283597</td>\n",
       "    </tr>\n",
       "    <tr>\n",
       "      <th>4</th>\n",
       "      <td>finished</td>\n",
       "      <td>WNLI</td>\n",
       "      <td>albert-base-v1</td>\n",
       "      <td>0.00002</td>\n",
       "      <td>16</td>\n",
       "      <td>512</td>\n",
       "      <td>1000.0</td>\n",
       "      <td>0.464789</td>\n",
       "      <td>0.702587</td>\n",
       "      <td>NaN</td>\n",
       "      <td>NaN</td>\n",
       "      <td>NaN</td>\n",
       "      <td>NaN</td>\n",
       "      <td>NaN</td>\n",
       "      <td>[363.27685737609863, 343.1901717185974, 347.72...</td>\n",
       "      <td>5</td>\n",
       "      <td>0.5606631636619568</td>\n",
       "      <td>0.01</td>\n",
       "      <td>635</td>\n",
       "      <td>343.190172</td>\n",
       "    </tr>\n",
       "  </tbody>\n",
       "</table>\n",
       "</div>"
      ],
      "text/plain": [
       "      State task_name model_name_or_path  learning_rate  \\\n",
       "0  finished      WNLI   xlnet-base-cased        0.00002   \n",
       "1  finished      WNLI   xlnet-base-cased        0.00002   \n",
       "2  finished      WNLI   xlnet-base-cased        0.00002   \n",
       "3  finished      WNLI     albert-base-v1        0.00002   \n",
       "4  finished      WNLI     albert-base-v1        0.00002   \n",
       "\n",
       "   per_device_train_batch_size  max_seq_length  eval_steps  eval_acc  \\\n",
       "0                           32             512      1000.0  0.492958   \n",
       "1                           16             512      1000.0  0.507042   \n",
       "2                            8             512      1000.0  0.563380   \n",
       "3                           32             512      1000.0  0.422535   \n",
       "4                           16             512      1000.0  0.464789   \n",
       "\n",
       "   eval_loss  eval_corr eval_f1 eval_mcc  eval_pearson  eval_spearmanr  \\\n",
       "0   0.707652        NaN     NaN      NaN           NaN             NaN   \n",
       "1   0.707963        NaN     NaN      NaN           NaN             NaN   \n",
       "2   0.704241        NaN     NaN      NaN           NaN             NaN   \n",
       "3   0.706421        NaN     NaN      NaN           NaN             NaN   \n",
       "4   0.702587        NaN     NaN      NaN           NaN             NaN   \n",
       "\n",
       "                                finetuning_time_list  finetuning_iters  \\\n",
       "0  [1511.446849346161, 1453.9288070201874, 1480.7...                 5   \n",
       "1  [1437.6936128139496, 1419.2357952594757, 1443....                 5   \n",
       "2  [1697.3308124542236, 1648.7515692710876, 1653....                 5   \n",
       "3  [525.2835969924927, 575.5731990337372, 594.096...                 5   \n",
       "4  [363.27685737609863, 343.1901717185974, 347.72...                 5   \n",
       "\n",
       "                  loss weight_decay  num_examples  finetuning_time  \n",
       "0  0.28129574060440066         0.01           635      1453.928807  \n",
       "1   0.5560731422901154         0.01           635      1419.235795  \n",
       "2    0.726203420162201         0.01           635      1648.751569  \n",
       "3  0.27751596450805666         0.01           635       525.283597  \n",
       "4   0.5606631636619568         0.01           635       343.190172  "
      ]
     },
     "execution_count": 22,
     "metadata": {},
     "output_type": "execute_result"
    }
   ],
   "source": [
    "data3.head()"
   ]
  },
  {
   "cell_type": "code",
   "execution_count": 23,
   "metadata": {
    "scrolled": true
   },
   "outputs": [
    {
     "data": {
      "text/plain": [
       "count      291.000000\n",
       "mean      3670.464459\n",
       "std       7650.926723\n",
       "min         40.286524\n",
       "25%        508.681280\n",
       "50%       1195.345378\n",
       "75%       2802.766183\n",
       "max      59139.089465\n",
       "Name: finetuning_time, dtype: float64"
      ]
     },
     "execution_count": 23,
     "metadata": {},
     "output_type": "execute_result"
    }
   ],
   "source": [
    "# describe fine-tuning time\n",
    "data3.finetuning_time.describe()"
   ]
  },
  {
   "cell_type": "code",
   "execution_count": 24,
   "metadata": {},
   "outputs": [],
   "source": [
    "# regard statistical key values, such as median, etc of fine-tuning time\n",
    "median = data3.finetuning_time.median()\n",
    "upper_quartile = data3.finetuning_time.quantile(0.75)\n",
    "lower_quartile = data3.finetuning_time.quantile(0.25)\n",
    "maximum = data3.finetuning_time.max()\n",
    "\n",
    "iqr = upper_quartile - lower_quartile\n",
    "upper_whisker = data3.finetuning_time[data3.finetuning_time<=upper_quartile+1.5*iqr].max()\n",
    "lower_whisker = data3.finetuning_time[data3.finetuning_time>=lower_quartile-1.5*iqr].min()"
   ]
  },
  {
   "cell_type": "code",
   "execution_count": 25,
   "metadata": {
    "scrolled": true
   },
   "outputs": [
    {
     "name": "stdout",
     "output_type": "stream",
     "text": [
      "Minimum:  40.28652381896973\n",
      "Lower whisker:  40.28652381896973\n",
      "Median:  1195.345378160477\n",
      "Upper whisker:  5848.839823246002\n",
      "Maximum:  59139.08946490288\n"
     ]
    }
   ],
   "source": [
    "print(\"Minimum: \", data3.finetuning_time.min())\n",
    "print(\"Lower whisker: \", lower_whisker)\n",
    "print(\"Median: \", median)\n",
    "print(\"Upper whisker: \", upper_whisker)\n",
    "print(\"Maximum: \", maximum)"
   ]
  },
  {
   "cell_type": "code",
   "execution_count": 60,
   "metadata": {
    "scrolled": false
   },
   "outputs": [
    {
     "data": {
      "image/png": "[encoded data removed]",
      "text/plain": [
       "<Figure size 720x576 with 1 Axes>"
      ]
     },
     "metadata": {
      "needs_background": "light"
     },
     "output_type": "display_data"
    }
   ],
   "source": [
    "# Boxplot of fine-tuning time\n",
    "\n",
    "plt.figure(figsize = (10, 8))\n",
    "ax = sns.boxplot(y = 'finetuning_time', data = data3)\n",
    "ax.set_yticks([lower_whisker, upper_whisker, 10000, 20000, 30000, 40000, 50000, maximum])\n",
    "plt.ylabel('fine-tuning time', fontsize = 16)\n",
    "#plt.title('Boxplot of finetuning time', fontsize = 18)\n",
    "plt.setp(ax.get_yticklabels(), rotation='horizontal', fontsize=16)\n",
    "plt.show()\n",
    "ax.figure.savefig('finetuning_time_boxplot.png')"
   ]
  },
  {
   "cell_type": "code",
   "execution_count": 61,
   "metadata": {},
   "outputs": [
    {
     "data": {
      "image/png": "[encoded data removed]",
      "text/plain": [
       "<Figure size 720x576 with 1 Axes>"
      ]
     },
     "metadata": {
      "needs_background": "light"
     },
     "output_type": "display_data"
    }
   ],
   "source": [
    "# Plot density of fine-tuning time \n",
    "\n",
    "plt.figure(figsize = (10, 8))\n",
    "data3.finetuning_time.plot(kind = 'kde', grid = True,linestyle = '-')\n",
    "plt.xlabel('finetuning_time', fontsize = 12)\n",
    "plt.ylabel('Density', fontsize = 12)\n",
    "plt.title('Density of fine-tuning time', fontsize = 12)\n",
    "plt.setp(ax.get_xticklabels(), rotation='horizontal', fontsize=12)\n",
    "plt.setp(ax.get_yticklabels(), rotation='horizontal', fontsize=12)\n",
    "plt.show()"
   ]
  },
  {
   "cell_type": "code",
   "execution_count": 62,
   "metadata": {},
   "outputs": [
    {
     "data": {
      "image/png": "[encoded data removed]",
      "text/plain": [
       "<Figure size 720x576 with 1 Axes>"
      ]
     },
     "metadata": {
      "needs_background": "light"
     },
     "output_type": "display_data"
    }
   ],
   "source": [
    "# Histogram fine-tuning time\n",
    "\n",
    "plt.figure(figsize = (10, 8))\n",
    "ax = data3.finetuning_time.plot(kind = 'hist', bins = 20)\n",
    "ax.set_xticks([0, 10000, 20000, 30000, 40000, 50000, 60000])\n",
    "plt.xlabel('finetuning time', fontsize = 16)\n",
    "plt.ylabel('Frequency', fontsize = 16)\n",
    "#plt.title('Frequency of fine-tuning time', fontsize = 18)\n",
    "plt.setp(ax.get_xticklabels(), rotation='horizontal', fontsize=16)\n",
    "plt.setp(ax.get_yticklabels(), rotation='horizontal', fontsize=16)\n",
    "plt.show()\n",
    "ax.figure.savefig('finetuning_time_hist.png')"
   ]
  },
  {
   "cell_type": "code",
   "execution_count": 29,
   "metadata": {},
   "outputs": [
    {
     "name": "stdout",
     "output_type": "stream",
     "text": [
      "[219  31  12   7   3   6   5   1   1   0   0   0   2   0   2   0   0   0\n",
      "   0   2]\n",
      "[4.02865238e+01 2.99522667e+03 5.95016682e+03 8.90510696e+03\n",
      " 1.18600471e+04 1.48149873e+04 1.77699274e+04 2.07248676e+04\n",
      " 2.36798077e+04 2.66347478e+04 2.95896880e+04 3.25446281e+04\n",
      " 3.54995683e+04 3.84545084e+04 4.14094486e+04 4.43643887e+04\n",
      " 4.73193289e+04 5.02742690e+04 5.32292092e+04 5.61841493e+04\n",
      " 5.91390895e+04]\n"
     ]
    }
   ],
   "source": [
    "counts, bin_edges = np.histogram(data3.finetuning_time, bins=20)\n",
    "print(counts)\n",
    "print(bin_edges)"
   ]
  },
  {
   "cell_type": "markdown",
   "metadata": {
    "colab_type": "text",
    "id": "LFd1wN5AQCcj"
   },
   "source": [
    "#### Plot correlations"
   ]
  },
  {
   "cell_type": "code",
   "execution_count": 63,
   "metadata": {
    "colab": {
     "base_uri": "https://localhost:8080/",
     "height": 346
    },
    "colab_type": "code",
    "id": "1cXgNLWNdl4I",
    "outputId": "a4251f65-fbf9-45f2-b279-66aaf2257f3e"
   },
   "outputs": [
    {
     "data": {
      "text/html": [
       "<div>\n",
       "<style scoped>\n",
       "    .dataframe tbody tr th:only-of-type {\n",
       "        vertical-align: middle;\n",
       "    }\n",
       "\n",
       "    .dataframe tbody tr th {\n",
       "        vertical-align: top;\n",
       "    }\n",
       "\n",
       "    .dataframe thead th {\n",
       "        text-align: right;\n",
       "    }\n",
       "</style>\n",
       "<table border=\"1\" class=\"dataframe\">\n",
       "  <thead>\n",
       "    <tr style=\"text-align: right;\">\n",
       "      <th></th>\n",
       "      <th>per_device_train_batch_size</th>\n",
       "      <th>max_seq_length</th>\n",
       "      <th>num_examples</th>\n",
       "      <th>finetuning_time</th>\n",
       "    </tr>\n",
       "  </thead>\n",
       "  <tbody>\n",
       "    <tr>\n",
       "      <th>per_device_train_batch_size</th>\n",
       "      <td>1.000000e+00</td>\n",
       "      <td>-2.638424e-17</td>\n",
       "      <td>-7.949518e-18</td>\n",
       "      <td>0.011134</td>\n",
       "    </tr>\n",
       "    <tr>\n",
       "      <th>max_seq_length</th>\n",
       "      <td>-2.638424e-17</td>\n",
       "      <td>1.000000e+00</td>\n",
       "      <td>-4.856864e-02</td>\n",
       "      <td>0.261017</td>\n",
       "    </tr>\n",
       "    <tr>\n",
       "      <th>num_examples</th>\n",
       "      <td>-7.949518e-18</td>\n",
       "      <td>-4.856864e-02</td>\n",
       "      <td>1.000000e+00</td>\n",
       "      <td>0.732855</td>\n",
       "    </tr>\n",
       "    <tr>\n",
       "      <th>finetuning_time</th>\n",
       "      <td>1.113437e-02</td>\n",
       "      <td>2.610169e-01</td>\n",
       "      <td>7.328552e-01</td>\n",
       "      <td>1.000000</td>\n",
       "    </tr>\n",
       "  </tbody>\n",
       "</table>\n",
       "</div>"
      ],
      "text/plain": [
       "                             per_device_train_batch_size  max_seq_length  \\\n",
       "per_device_train_batch_size                 1.000000e+00   -2.638424e-17   \n",
       "max_seq_length                             -2.638424e-17    1.000000e+00   \n",
       "num_examples                               -7.949518e-18   -4.856864e-02   \n",
       "finetuning_time                             1.113437e-02    2.610169e-01   \n",
       "\n",
       "                             num_examples  finetuning_time  \n",
       "per_device_train_batch_size -7.949518e-18         0.011134  \n",
       "max_seq_length              -4.856864e-02         0.261017  \n",
       "num_examples                 1.000000e+00         0.732855  \n",
       "finetuning_time              7.328552e-01         1.000000  "
      ]
     },
     "execution_count": 63,
     "metadata": {},
     "output_type": "execute_result"
    }
   ],
   "source": [
    "# Correlation matrix\n",
    "data_sub = data3[[\"per_device_train_batch_size\", \"max_seq_length\", \"num_examples\", \"finetuning_time\"]] \n",
    "                    # \"eval_acc\", \"eval_loss\", \"learning_rate\",\n",
    "data_sub.corr()"
   ]
  },
  {
   "cell_type": "code",
   "execution_count": 64,
   "metadata": {},
   "outputs": [
    {
     "data": {
      "text/plain": [
       "Index(['per_device_train_batch_size', 'max_seq_length', 'num_examples',\n",
       "       'finetuning_time'],\n",
       "      dtype='object')"
      ]
     },
     "execution_count": 64,
     "metadata": {},
     "output_type": "execute_result"
    }
   ],
   "source": [
    "data_sub.columns"
   ]
  },
  {
   "cell_type": "code",
   "execution_count": 65,
   "metadata": {
    "colab": {
     "base_uri": "https://localhost:8080/",
     "height": 238
    },
    "colab_type": "code",
    "id": "5e4yGjESeObI",
    "outputId": "9c15fca6-2db1-47e0-c6e4-e7208347122a",
    "scrolled": false
   },
   "outputs": [
    {
     "data": {
      "image/png": "[encoded data removed]",
      "text/plain": [
       "<Figure size 792x792 with 2 Axes>"
      ]
     },
     "metadata": {
      "needs_background": "light"
     },
     "output_type": "display_data"
    }
   ],
   "source": [
    "# correlation matrix plot\n",
    "plt.rcParams['font.size'] = 16\n",
    "plt.figure(figsize=(11,11))\n",
    "ht = sns.heatmap(data_sub.corr(), annot=True, linewidths=.5, fmt= '.2f', cmap=\"YlGnBu\", annot_kws={'size':18})\n",
    "plt.xticks(np.arange(len(data_sub.columns))+0.5, labels = ['batch size', 'sequence length', 'task size', 'fine-tuning time'], \n",
    "           fontsize = 16, rotation='horizontal')\n",
    "plt.yticks(np.arange(len(data_sub.columns))+0.5, labels = ['batch size', 'sequence length', 'task size', 'fine-tuning time'], \n",
    "           fontsize = 16)\n",
    "#plt.title('Correlation plot', fontsize = 18)\n",
    "plt.show()\n",
    "ht.figure.savefig('finetuning_correlation_plot.png', bbox_inches='tight')"
   ]
  },
  {
   "cell_type": "code",
   "execution_count": 66,
   "metadata": {
    "colab": {
     "base_uri": "https://localhost:8080/",
     "height": 543
    },
    "colab_type": "code",
    "id": "Ahe3OG9KgM3U",
    "outputId": "dc3fab57-b4d9-4e12-9c59-e143ba27ca04"
   },
   "outputs": [
    {
     "data": {
      "image/png": "[encoded data removed]",
      "text/plain": [
       "<Figure size 720x576 with 1 Axes>"
      ]
     },
     "metadata": {
      "needs_background": "light"
     },
     "output_type": "display_data"
    }
   ],
   "source": [
    "# Boxplots for fine-tuning time, gouped by learning rate\n",
    "\n",
    "plt.figure(figsize = (10, 8))\n",
    "ax = sns.boxplot(x = 'learning_rate', y = 'finetuning_time', hue = 'task_name', data = data3, dodge = False)\n",
    "plt.ylabel('finetuning time', fontsize = 16)\n",
    "plt.xlabel('learning rate', fontsize = 16)\n",
    "#plt.title('Boxplot of fine-tuning time by learning rate', fontsize = 18)\n",
    "plt.setp(ax.get_xticklabels(), rotation='horizontal', fontsize=16)\n",
    "plt.setp(ax.get_yticklabels(), rotation='horizontal', fontsize=16)\n",
    "plt.show()\n",
    "#ax.figure.savefig('finetuning_time_hist.png')"
   ]
  },
  {
   "cell_type": "code",
   "execution_count": 67,
   "metadata": {},
   "outputs": [
    {
     "data": {
      "image/png": "[encoded data removed]",
      "text/plain": [
       "<Figure size 720x576 with 1 Axes>"
      ]
     },
     "metadata": {
      "needs_background": "light"
     },
     "output_type": "display_data"
    }
   ],
   "source": [
    "# Boxplots for fine-tuning time, gouped by task_name\n",
    "\n",
    "plt.figure(figsize = (10, 8))\n",
    "ax = sns.boxplot(x = 'task_name', y = 'finetuning_time', data = data3)\n",
    "plt.ylabel('fine-tuning time', fontsize = 16)\n",
    "plt.xlabel('task name', fontsize = 16)\n",
    "#plt.title('Boxplot of fine-tuning time by task name', fontsize = 18)\n",
    "plt.setp(ax.get_xticklabels(), rotation='horizontal', fontsize=16)\n",
    "plt.setp(ax.get_yticklabels(), rotation='horizontal', fontsize=16)\n",
    "plt.show()\n",
    "ax.figure.savefig('finetuning_time_task.png')"
   ]
  },
  {
   "cell_type": "code",
   "execution_count": 59,
   "metadata": {},
   "outputs": [
    {
     "data": {
      "text/html": [
       "<div>\n",
       "<style scoped>\n",
       "    .dataframe tbody tr th:only-of-type {\n",
       "        vertical-align: middle;\n",
       "    }\n",
       "\n",
       "    .dataframe tbody tr th {\n",
       "        vertical-align: top;\n",
       "    }\n",
       "\n",
       "    .dataframe thead th {\n",
       "        text-align: right;\n",
       "    }\n",
       "</style>\n",
       "<table border=\"1\" class=\"dataframe\">\n",
       "  <thead>\n",
       "    <tr style=\"text-align: right;\">\n",
       "      <th></th>\n",
       "      <th>count</th>\n",
       "      <th>mean</th>\n",
       "      <th>std</th>\n",
       "      <th>min</th>\n",
       "      <th>25%</th>\n",
       "      <th>50%</th>\n",
       "      <th>75%</th>\n",
       "      <th>max</th>\n",
       "    </tr>\n",
       "    <tr>\n",
       "      <th>task_name</th>\n",
       "      <th></th>\n",
       "      <th></th>\n",
       "      <th></th>\n",
       "      <th></th>\n",
       "      <th></th>\n",
       "      <th></th>\n",
       "      <th></th>\n",
       "      <th></th>\n",
       "    </tr>\n",
       "  </thead>\n",
       "  <tbody>\n",
       "    <tr>\n",
       "      <th>CoLA</th>\n",
       "      <td>54.0</td>\n",
       "      <td>2555.160422</td>\n",
       "      <td>1858.062815</td>\n",
       "      <td>523.532929</td>\n",
       "      <td>1144.698240</td>\n",
       "      <td>2100.402163</td>\n",
       "      <td>3082.478353</td>\n",
       "      <td>6988.001138</td>\n",
       "    </tr>\n",
       "    <tr>\n",
       "      <th>MRPC</th>\n",
       "      <td>51.0</td>\n",
       "      <td>1764.874162</td>\n",
       "      <td>1970.488601</td>\n",
       "      <td>229.857931</td>\n",
       "      <td>642.096134</td>\n",
       "      <td>1050.338825</td>\n",
       "      <td>2193.667961</td>\n",
       "      <td>10063.199610</td>\n",
       "    </tr>\n",
       "    <tr>\n",
       "      <th>RTE</th>\n",
       "      <td>63.0</td>\n",
       "      <td>1062.062172</td>\n",
       "      <td>1247.668389</td>\n",
       "      <td>154.806281</td>\n",
       "      <td>367.913215</td>\n",
       "      <td>636.692311</td>\n",
       "      <td>1400.431524</td>\n",
       "      <td>6667.964992</td>\n",
       "    </tr>\n",
       "    <tr>\n",
       "      <th>SST-2</th>\n",
       "      <td>33.0</td>\n",
       "      <td>19175.277571</td>\n",
       "      <td>14623.082097</td>\n",
       "      <td>4017.149742</td>\n",
       "      <td>9599.713058</td>\n",
       "      <td>15637.086031</td>\n",
       "      <td>20238.673438</td>\n",
       "      <td>59139.089465</td>\n",
       "    </tr>\n",
       "    <tr>\n",
       "      <th>STS-B</th>\n",
       "      <td>45.0</td>\n",
       "      <td>2812.326184</td>\n",
       "      <td>3362.888811</td>\n",
       "      <td>368.410827</td>\n",
       "      <td>931.664032</td>\n",
       "      <td>1655.719302</td>\n",
       "      <td>3538.610994</td>\n",
       "      <td>16341.794860</td>\n",
       "    </tr>\n",
       "    <tr>\n",
       "      <th>WNLI</th>\n",
       "      <td>45.0</td>\n",
       "      <td>308.203499</td>\n",
       "      <td>359.025950</td>\n",
       "      <td>40.286524</td>\n",
       "      <td>102.659339</td>\n",
       "      <td>179.500145</td>\n",
       "      <td>392.959456</td>\n",
       "      <td>1648.751569</td>\n",
       "    </tr>\n",
       "  </tbody>\n",
       "</table>\n",
       "</div>"
      ],
      "text/plain": [
       "           count          mean           std          min          25%  \\\n",
       "task_name                                                                \n",
       "CoLA        54.0   2555.160422   1858.062815   523.532929  1144.698240   \n",
       "MRPC        51.0   1764.874162   1970.488601   229.857931   642.096134   \n",
       "RTE         63.0   1062.062172   1247.668389   154.806281   367.913215   \n",
       "SST-2       33.0  19175.277571  14623.082097  4017.149742  9599.713058   \n",
       "STS-B       45.0   2812.326184   3362.888811   368.410827   931.664032   \n",
       "WNLI        45.0    308.203499    359.025950    40.286524   102.659339   \n",
       "\n",
       "                    50%           75%           max  \n",
       "task_name                                            \n",
       "CoLA        2100.402163   3082.478353   6988.001138  \n",
       "MRPC        1050.338825   2193.667961  10063.199610  \n",
       "RTE          636.692311   1400.431524   6667.964992  \n",
       "SST-2      15637.086031  20238.673438  59139.089465  \n",
       "STS-B       1655.719302   3538.610994  16341.794860  \n",
       "WNLI         179.500145    392.959456   1648.751569  "
      ]
     },
     "execution_count": 59,
     "metadata": {},
     "output_type": "execute_result"
    }
   ],
   "source": [
    "data3.groupby('task_name').finetuning_time.describe()"
   ]
  },
  {
   "cell_type": "code",
   "execution_count": 60,
   "metadata": {},
   "outputs": [
    {
     "data": {
      "text/html": [
       "<div>\n",
       "<style scoped>\n",
       "    .dataframe tbody tr th:only-of-type {\n",
       "        vertical-align: middle;\n",
       "    }\n",
       "\n",
       "    .dataframe tbody tr th {\n",
       "        vertical-align: top;\n",
       "    }\n",
       "\n",
       "    .dataframe thead th {\n",
       "        text-align: right;\n",
       "    }\n",
       "</style>\n",
       "<table border=\"1\" class=\"dataframe\">\n",
       "  <thead>\n",
       "    <tr style=\"text-align: right;\">\n",
       "      <th></th>\n",
       "      <th>count</th>\n",
       "      <th>mean</th>\n",
       "      <th>std</th>\n",
       "      <th>min</th>\n",
       "      <th>25%</th>\n",
       "      <th>50%</th>\n",
       "      <th>75%</th>\n",
       "      <th>max</th>\n",
       "    </tr>\n",
       "    <tr>\n",
       "      <th>task_name</th>\n",
       "      <th></th>\n",
       "      <th></th>\n",
       "      <th></th>\n",
       "      <th></th>\n",
       "      <th></th>\n",
       "      <th></th>\n",
       "      <th></th>\n",
       "      <th></th>\n",
       "    </tr>\n",
       "  </thead>\n",
       "  <tbody>\n",
       "    <tr>\n",
       "      <th>CoLA</th>\n",
       "      <td>54.0</td>\n",
       "      <td>2555.160422</td>\n",
       "      <td>1858.062815</td>\n",
       "      <td>523.532929</td>\n",
       "      <td>1144.698240</td>\n",
       "      <td>2100.402163</td>\n",
       "      <td>3082.478353</td>\n",
       "      <td>6988.001138</td>\n",
       "    </tr>\n",
       "    <tr>\n",
       "      <th>MRPC</th>\n",
       "      <td>42.0</td>\n",
       "      <td>1258.801212</td>\n",
       "      <td>867.453451</td>\n",
       "      <td>229.857931</td>\n",
       "      <td>549.726374</td>\n",
       "      <td>998.022020</td>\n",
       "      <td>2055.596293</td>\n",
       "      <td>3387.689235</td>\n",
       "    </tr>\n",
       "    <tr>\n",
       "      <th>RTE</th>\n",
       "      <td>54.0</td>\n",
       "      <td>765.297633</td>\n",
       "      <td>573.804412</td>\n",
       "      <td>154.806281</td>\n",
       "      <td>354.879209</td>\n",
       "      <td>597.763485</td>\n",
       "      <td>920.093928</td>\n",
       "      <td>2280.374817</td>\n",
       "    </tr>\n",
       "    <tr>\n",
       "      <th>SST-2</th>\n",
       "      <td>33.0</td>\n",
       "      <td>19175.277571</td>\n",
       "      <td>14623.082097</td>\n",
       "      <td>4017.149742</td>\n",
       "      <td>9599.713058</td>\n",
       "      <td>15637.086031</td>\n",
       "      <td>20238.673438</td>\n",
       "      <td>59139.089465</td>\n",
       "    </tr>\n",
       "    <tr>\n",
       "      <th>STS-B</th>\n",
       "      <td>36.0</td>\n",
       "      <td>1826.584819</td>\n",
       "      <td>1286.466172</td>\n",
       "      <td>368.410827</td>\n",
       "      <td>839.701883</td>\n",
       "      <td>1422.468729</td>\n",
       "      <td>2502.439291</td>\n",
       "      <td>5132.771498</td>\n",
       "    </tr>\n",
       "    <tr>\n",
       "      <th>WNLI</th>\n",
       "      <td>36.0</td>\n",
       "      <td>204.458432</td>\n",
       "      <td>151.469859</td>\n",
       "      <td>40.286524</td>\n",
       "      <td>91.640265</td>\n",
       "      <td>154.513943</td>\n",
       "      <td>275.554493</td>\n",
       "      <td>589.084243</td>\n",
       "    </tr>\n",
       "  </tbody>\n",
       "</table>\n",
       "</div>"
      ],
      "text/plain": [
       "           count          mean           std          min          25%  \\\n",
       "task_name                                                                \n",
       "CoLA        54.0   2555.160422   1858.062815   523.532929  1144.698240   \n",
       "MRPC        42.0   1258.801212    867.453451   229.857931   549.726374   \n",
       "RTE         54.0    765.297633    573.804412   154.806281   354.879209   \n",
       "SST-2       33.0  19175.277571  14623.082097  4017.149742  9599.713058   \n",
       "STS-B       36.0   1826.584819   1286.466172   368.410827   839.701883   \n",
       "WNLI        36.0    204.458432    151.469859    40.286524    91.640265   \n",
       "\n",
       "                    50%           75%           max  \n",
       "task_name                                            \n",
       "CoLA        2100.402163   3082.478353   6988.001138  \n",
       "MRPC         998.022020   2055.596293   3387.689235  \n",
       "RTE          597.763485    920.093928   2280.374817  \n",
       "SST-2      15637.086031  20238.673438  59139.089465  \n",
       "STS-B       1422.468729   2502.439291   5132.771498  \n",
       "WNLI         154.513943    275.554493    589.084243  "
      ]
     },
     "execution_count": 60,
     "metadata": {},
     "output_type": "execute_result"
    }
   ],
   "source": [
    "data3[data3.model_name_or_path != 'xlnet-base-cased'].groupby('task_name').finetuning_time.describe()"
   ]
  },
  {
   "cell_type": "code",
   "execution_count": 68,
   "metadata": {},
   "outputs": [
    {
     "data": {
      "image/png": "[encoded data removed]",
      "text/plain": [
       "<Figure size 720x576 with 1 Axes>"
      ]
     },
     "metadata": {
      "needs_background": "light"
     },
     "output_type": "display_data"
    }
   ],
   "source": [
    "# Boxplots for fine-tuning time, gouped by number pf examples\n",
    "\n",
    "plt.figure(figsize = (10, 8))\n",
    "ax = sns.boxplot(x = 'num_examples', y = 'finetuning_time', data = data3, hue = 'task_name', dodge=False, \n",
    "                 palette = sns.color_palette('Set1'))\n",
    "plt.legend(loc='upper left')\n",
    "plt.ylabel('fine-tuning time', fontsize = 16)\n",
    "plt.xlabel('number of examples', fontsize = 16)\n",
    "#plt.title('Boxplot of fine-tuning time by number of examples', fontsize = 18) \n",
    "plt.setp(ax.get_xticklabels(), rotation='horizontal', fontsize=16)\n",
    "plt.setp(ax.get_yticklabels(), rotation='horizontal', fontsize=16)\n",
    "plt.show()\n",
    "ax.figure.savefig('finetuning_time_number.png')"
   ]
  },
  {
   "cell_type": "code",
   "execution_count": 69,
   "metadata": {
    "colab": {
     "base_uri": "https://localhost:8080/",
     "height": 598
    },
    "colab_type": "code",
    "id": "2WSBH9gYhN0W",
    "outputId": "68d48a76-d0a7-45e0-b0ae-30f0005a7990"
   },
   "outputs": [
    {
     "data": {
      "image/png": "[encoded data removed]",
      "text/plain": [
       "<Figure size 720x576 with 1 Axes>"
      ]
     },
     "metadata": {
      "needs_background": "light"
     },
     "output_type": "display_data"
    }
   ],
   "source": [
    "# Boxplots for fine-tuning time, grouped by batch size\n",
    "\n",
    "plt.figure(figsize = (10, 8))\n",
    "ax = sns.boxplot(x = 'per_device_train_batch_size', y = 'finetuning_time', data = data3, palette = sns.color_palette('YlOrBr'))\n",
    "plt.ylabel('fine-tuning time', fontsize = 16)\n",
    "plt.xlabel('batch size', fontsize = 16)\n",
    "#plt.title('Boxplot of fine-tuning time by batch size', fontsize = 18)\n",
    "plt.setp(ax.get_xticklabels(), rotation='horizontal', fontsize=16)\n",
    "plt.setp(ax.get_yticklabels(), rotation='horizontal', fontsize=16)\n",
    "plt.show()\n",
    "ax.figure.savefig('finetuning_time_batch_size.png')"
   ]
  },
  {
   "cell_type": "code",
   "execution_count": 34,
   "metadata": {},
   "outputs": [
    {
     "data": {
      "text/html": [
       "<div>\n",
       "<style scoped>\n",
       "    .dataframe tbody tr th:only-of-type {\n",
       "        vertical-align: middle;\n",
       "    }\n",
       "\n",
       "    .dataframe tbody tr th {\n",
       "        vertical-align: top;\n",
       "    }\n",
       "\n",
       "    .dataframe thead th {\n",
       "        text-align: right;\n",
       "    }\n",
       "</style>\n",
       "<table border=\"1\" class=\"dataframe\">\n",
       "  <thead>\n",
       "    <tr style=\"text-align: right;\">\n",
       "      <th></th>\n",
       "      <th>count</th>\n",
       "      <th>mean</th>\n",
       "      <th>std</th>\n",
       "      <th>min</th>\n",
       "      <th>25%</th>\n",
       "      <th>50%</th>\n",
       "      <th>75%</th>\n",
       "      <th>max</th>\n",
       "    </tr>\n",
       "    <tr>\n",
       "      <th>per_device_train_batch_size</th>\n",
       "      <th></th>\n",
       "      <th></th>\n",
       "      <th></th>\n",
       "      <th></th>\n",
       "      <th></th>\n",
       "      <th></th>\n",
       "      <th></th>\n",
       "      <th></th>\n",
       "    </tr>\n",
       "  </thead>\n",
       "  <tbody>\n",
       "    <tr>\n",
       "      <th>8</th>\n",
       "      <td>97.0</td>\n",
       "      <td>3784.033027</td>\n",
       "      <td>7286.163882</td>\n",
       "      <td>64.281345</td>\n",
       "      <td>605.507078</td>\n",
       "      <td>1318.680864</td>\n",
       "      <td>2581.861437</td>\n",
       "      <td>43090.039219</td>\n",
       "    </tr>\n",
       "    <tr>\n",
       "      <th>16</th>\n",
       "      <td>97.0</td>\n",
       "      <td>3341.013022</td>\n",
       "      <td>6447.097114</td>\n",
       "      <td>47.965026</td>\n",
       "      <td>493.829632</td>\n",
       "      <td>1135.566654</td>\n",
       "      <td>2477.751551</td>\n",
       "      <td>37749.208026</td>\n",
       "    </tr>\n",
       "    <tr>\n",
       "      <th>32</th>\n",
       "      <td>97.0</td>\n",
       "      <td>3886.347327</td>\n",
       "      <td>9055.744924</td>\n",
       "      <td>40.286524</td>\n",
       "      <td>461.683720</td>\n",
       "      <td>1033.939928</td>\n",
       "      <td>3179.976545</td>\n",
       "      <td>59139.089465</td>\n",
       "    </tr>\n",
       "  </tbody>\n",
       "</table>\n",
       "</div>"
      ],
      "text/plain": [
       "                             count         mean          std        min  \\\n",
       "per_device_train_batch_size                                               \n",
       "8                             97.0  3784.033027  7286.163882  64.281345   \n",
       "16                            97.0  3341.013022  6447.097114  47.965026   \n",
       "32                            97.0  3886.347327  9055.744924  40.286524   \n",
       "\n",
       "                                    25%          50%          75%  \\\n",
       "per_device_train_batch_size                                         \n",
       "8                            605.507078  1318.680864  2581.861437   \n",
       "16                           493.829632  1135.566654  2477.751551   \n",
       "32                           461.683720  1033.939928  3179.976545   \n",
       "\n",
       "                                      max  \n",
       "per_device_train_batch_size                \n",
       "8                            43090.039219  \n",
       "16                           37749.208026  \n",
       "32                           59139.089465  "
      ]
     },
     "execution_count": 34,
     "metadata": {},
     "output_type": "execute_result"
    }
   ],
   "source": [
    "data3.groupby('per_device_train_batch_size').finetuning_time.describe()"
   ]
  },
  {
   "cell_type": "code",
   "execution_count": 41,
   "metadata": {},
   "outputs": [
    {
     "data": {
      "text/html": [
       "<div>\n",
       "<style scoped>\n",
       "    .dataframe tbody tr th:only-of-type {\n",
       "        vertical-align: middle;\n",
       "    }\n",
       "\n",
       "    .dataframe tbody tr th {\n",
       "        vertical-align: top;\n",
       "    }\n",
       "\n",
       "    .dataframe thead th {\n",
       "        text-align: right;\n",
       "    }\n",
       "</style>\n",
       "<table border=\"1\" class=\"dataframe\">\n",
       "  <thead>\n",
       "    <tr style=\"text-align: right;\">\n",
       "      <th></th>\n",
       "      <th>count</th>\n",
       "      <th>mean</th>\n",
       "      <th>std</th>\n",
       "      <th>min</th>\n",
       "      <th>25%</th>\n",
       "      <th>50%</th>\n",
       "      <th>75%</th>\n",
       "      <th>max</th>\n",
       "    </tr>\n",
       "    <tr>\n",
       "      <th>per_device_train_batch_size</th>\n",
       "      <th></th>\n",
       "      <th></th>\n",
       "      <th></th>\n",
       "      <th></th>\n",
       "      <th></th>\n",
       "      <th></th>\n",
       "      <th></th>\n",
       "      <th></th>\n",
       "    </tr>\n",
       "  </thead>\n",
       "  <tbody>\n",
       "    <tr>\n",
       "      <th>8</th>\n",
       "      <td>69.0</td>\n",
       "      <td>1738.413097</td>\n",
       "      <td>2338.832905</td>\n",
       "      <td>64.281345</td>\n",
       "      <td>409.567721</td>\n",
       "      <td>1119.747446</td>\n",
       "      <td>1786.740488</td>\n",
       "      <td>16341.794860</td>\n",
       "    </tr>\n",
       "    <tr>\n",
       "      <th>16</th>\n",
       "      <td>69.0</td>\n",
       "      <td>1526.286199</td>\n",
       "      <td>1937.406274</td>\n",
       "      <td>47.965026</td>\n",
       "      <td>370.360437</td>\n",
       "      <td>847.892424</td>\n",
       "      <td>1667.434809</td>\n",
       "      <td>12545.816008</td>\n",
       "    </tr>\n",
       "    <tr>\n",
       "      <th>32</th>\n",
       "      <td>69.0</td>\n",
       "      <td>1739.828463</td>\n",
       "      <td>2304.825883</td>\n",
       "      <td>40.286524</td>\n",
       "      <td>324.649789</td>\n",
       "      <td>952.751559</td>\n",
       "      <td>2076.652052</td>\n",
       "      <td>13471.597539</td>\n",
       "    </tr>\n",
       "  </tbody>\n",
       "</table>\n",
       "</div>"
      ],
      "text/plain": [
       "                             count         mean          std        min  \\\n",
       "per_device_train_batch_size                                               \n",
       "8                            69.0   1738.413097  2338.832905  64.281345   \n",
       "16                           69.0   1526.286199  1937.406274  47.965026   \n",
       "32                           69.0   1739.828463  2304.825883  40.286524   \n",
       "\n",
       "                                    25%          50%          75%  \\\n",
       "per_device_train_batch_size                                         \n",
       "8                            409.567721  1119.747446  1786.740488   \n",
       "16                           370.360437  847.892424   1667.434809   \n",
       "32                           324.649789  952.751559   2076.652052   \n",
       "\n",
       "                                      max  \n",
       "per_device_train_batch_size                \n",
       "8                            16341.794860  \n",
       "16                           12545.816008  \n",
       "32                           13471.597539  "
      ]
     },
     "execution_count": 41,
     "metadata": {},
     "output_type": "execute_result"
    }
   ],
   "source": [
    "# for a fair comparison, exclude SST-2 and MRPC (because albert crashed for seq len = 512 and MRPC failed\n",
    "# for bert-cased und distilbert-cased with 128 and 256)\n",
    "data3[(data3.task_name != 'MRPC') & \n",
    "      (data3.task_name != 'SST-2')].groupby('per_device_train_batch_size').finetuning_time.describe()"
   ]
  },
  {
   "cell_type": "code",
   "execution_count": 40,
   "metadata": {},
   "outputs": [
    {
     "data": {
      "text/html": [
       "<div>\n",
       "<style scoped>\n",
       "    .dataframe tbody tr th:only-of-type {\n",
       "        vertical-align: middle;\n",
       "    }\n",
       "\n",
       "    .dataframe tbody tr th {\n",
       "        vertical-align: top;\n",
       "    }\n",
       "\n",
       "    .dataframe thead th {\n",
       "        text-align: right;\n",
       "    }\n",
       "</style>\n",
       "<table border=\"1\" class=\"dataframe\">\n",
       "  <thead>\n",
       "    <tr style=\"text-align: right;\">\n",
       "      <th></th>\n",
       "      <th></th>\n",
       "      <th>count</th>\n",
       "      <th>mean</th>\n",
       "      <th>std</th>\n",
       "      <th>min</th>\n",
       "      <th>25%</th>\n",
       "      <th>50%</th>\n",
       "      <th>75%</th>\n",
       "      <th>max</th>\n",
       "    </tr>\n",
       "    <tr>\n",
       "      <th>max_seq_length</th>\n",
       "      <th>per_device_train_batch_size</th>\n",
       "      <th></th>\n",
       "      <th></th>\n",
       "      <th></th>\n",
       "      <th></th>\n",
       "      <th></th>\n",
       "      <th></th>\n",
       "      <th></th>\n",
       "      <th></th>\n",
       "    </tr>\n",
       "  </thead>\n",
       "  <tbody>\n",
       "    <tr>\n",
       "      <th rowspan=\"3\" valign=\"top\">128</th>\n",
       "      <th>8</th>\n",
       "      <td>23.0</td>\n",
       "      <td>738.865493</td>\n",
       "      <td>547.447761</td>\n",
       "      <td>64.281345</td>\n",
       "      <td>253.879957</td>\n",
       "      <td>613.991491</td>\n",
       "      <td>1157.557138</td>\n",
       "      <td>1786.740488</td>\n",
       "    </tr>\n",
       "    <tr>\n",
       "      <th>16</th>\n",
       "      <td>23.0</td>\n",
       "      <td>563.207616</td>\n",
       "      <td>411.543627</td>\n",
       "      <td>47.965026</td>\n",
       "      <td>194.265080</td>\n",
       "      <td>431.713296</td>\n",
       "      <td>879.104954</td>\n",
       "      <td>1263.127977</td>\n",
       "    </tr>\n",
       "    <tr>\n",
       "      <th>32</th>\n",
       "      <td>23.0</td>\n",
       "      <td>536.486247</td>\n",
       "      <td>454.408521</td>\n",
       "      <td>40.286524</td>\n",
       "      <td>191.540546</td>\n",
       "      <td>368.410827</td>\n",
       "      <td>740.438399</td>\n",
       "      <td>1942.087265</td>\n",
       "    </tr>\n",
       "    <tr>\n",
       "      <th rowspan=\"3\" valign=\"top\">256</th>\n",
       "      <th>8</th>\n",
       "      <td>23.0</td>\n",
       "      <td>1256.955835</td>\n",
       "      <td>1002.262373</td>\n",
       "      <td>102.304002</td>\n",
       "      <td>420.980400</td>\n",
       "      <td>1000.772385</td>\n",
       "      <td>1722.855572</td>\n",
       "      <td>3908.210365</td>\n",
       "    </tr>\n",
       "    <tr>\n",
       "      <th>16</th>\n",
       "      <td>23.0</td>\n",
       "      <td>1269.804995</td>\n",
       "      <td>1151.505883</td>\n",
       "      <td>90.233817</td>\n",
       "      <td>464.760164</td>\n",
       "      <td>815.130262</td>\n",
       "      <td>1895.693114</td>\n",
       "      <td>5027.712478</td>\n",
       "    </tr>\n",
       "    <tr>\n",
       "      <th>32</th>\n",
       "      <td>23.0</td>\n",
       "      <td>1095.391246</td>\n",
       "      <td>1018.183618</td>\n",
       "      <td>73.739370</td>\n",
       "      <td>372.959155</td>\n",
       "      <td>665.150294</td>\n",
       "      <td>1669.519499</td>\n",
       "      <td>4523.116153</td>\n",
       "    </tr>\n",
       "    <tr>\n",
       "      <th rowspan=\"3\" valign=\"top\">512</th>\n",
       "      <th>8</th>\n",
       "      <td>23.0</td>\n",
       "      <td>3219.417965</td>\n",
       "      <td>3467.499662</td>\n",
       "      <td>203.470000</td>\n",
       "      <td>1178.910309</td>\n",
       "      <td>1916.330025</td>\n",
       "      <td>4468.258628</td>\n",
       "      <td>16341.794860</td>\n",
       "    </tr>\n",
       "    <tr>\n",
       "      <th>16</th>\n",
       "      <td>23.0</td>\n",
       "      <td>2745.845985</td>\n",
       "      <td>2741.011044</td>\n",
       "      <td>169.152534</td>\n",
       "      <td>1008.406205</td>\n",
       "      <td>1542.900919</td>\n",
       "      <td>4058.184060</td>\n",
       "      <td>12545.816008</td>\n",
       "    </tr>\n",
       "    <tr>\n",
       "      <th>32</th>\n",
       "      <td>23.0</td>\n",
       "      <td>3587.607895</td>\n",
       "      <td>3107.876908</td>\n",
       "      <td>253.009267</td>\n",
       "      <td>1223.499772</td>\n",
       "      <td>2285.639877</td>\n",
       "      <td>5427.713994</td>\n",
       "      <td>13471.597539</td>\n",
       "    </tr>\n",
       "  </tbody>\n",
       "</table>\n",
       "</div>"
      ],
      "text/plain": [
       "                                            count         mean          std  \\\n",
       "max_seq_length per_device_train_batch_size                                    \n",
       "128            8                            23.0   738.865493   547.447761    \n",
       "               16                           23.0   563.207616   411.543627    \n",
       "               32                           23.0   536.486247   454.408521    \n",
       "256            8                            23.0   1256.955835  1002.262373   \n",
       "               16                           23.0   1269.804995  1151.505883   \n",
       "               32                           23.0   1095.391246  1018.183618   \n",
       "512            8                            23.0   3219.417965  3467.499662   \n",
       "               16                           23.0   2745.845985  2741.011044   \n",
       "               32                           23.0   3587.607895  3107.876908   \n",
       "\n",
       "                                                   min          25%  \\\n",
       "max_seq_length per_device_train_batch_size                            \n",
       "128            8                            64.281345   253.879957    \n",
       "               16                           47.965026   194.265080    \n",
       "               32                           40.286524   191.540546    \n",
       "256            8                            102.304002  420.980400    \n",
       "               16                           90.233817   464.760164    \n",
       "               32                           73.739370   372.959155    \n",
       "512            8                            203.470000  1178.910309   \n",
       "               16                           169.152534  1008.406205   \n",
       "               32                           253.009267  1223.499772   \n",
       "\n",
       "                                                    50%          75%  \\\n",
       "max_seq_length per_device_train_batch_size                             \n",
       "128            8                            613.991491   1157.557138   \n",
       "               16                           431.713296   879.104954    \n",
       "               32                           368.410827   740.438399    \n",
       "256            8                            1000.772385  1722.855572   \n",
       "               16                           815.130262   1895.693114   \n",
       "               32                           665.150294   1669.519499   \n",
       "512            8                            1916.330025  4468.258628   \n",
       "               16                           1542.900919  4058.184060   \n",
       "               32                           2285.639877  5427.713994   \n",
       "\n",
       "                                                     max  \n",
       "max_seq_length per_device_train_batch_size                \n",
       "128            8                            1786.740488   \n",
       "               16                           1263.127977   \n",
       "               32                           1942.087265   \n",
       "256            8                            3908.210365   \n",
       "               16                           5027.712478   \n",
       "               32                           4523.116153   \n",
       "512            8                            16341.794860  \n",
       "               16                           12545.816008  \n",
       "               32                           13471.597539  "
      ]
     },
     "execution_count": 40,
     "metadata": {},
     "output_type": "execute_result"
    }
   ],
   "source": [
    "# have a look at fine-tuning time grouped by maximum sequence length and batch size (w/o MRPC and SST-2)\n",
    "data3[(data3.task_name != 'MRPC') & \n",
    "      (data3.task_name != 'SST-2')].groupby(['max_seq_length', 'per_device_train_batch_size']).finetuning_time.describe()"
   ]
  },
  {
   "cell_type": "code",
   "execution_count": 70,
   "metadata": {
    "colab": {
     "base_uri": "https://localhost:8080/",
     "height": 598
    },
    "colab_type": "code",
    "id": "GzWbmJGnhwTl",
    "outputId": "9be0ef3c-3a70-4e87-fef5-26caa8659e8c"
   },
   "outputs": [
    {
     "data": {
      "image/png": "[encoded data removed]",
      "text/plain": [
       "<Figure size 720x576 with 1 Axes>"
      ]
     },
     "metadata": {
      "needs_background": "light"
     },
     "output_type": "display_data"
    }
   ],
   "source": [
    "# Boxplots for fine-tuning time, gouped by max sequence length\n",
    "\n",
    "plt.figure(figsize = (10, 8))\n",
    "ax = sns.boxplot(x = 'max_seq_length', y = 'finetuning_time', data = data3, palette = sns.color_palette('rocket_r'))\n",
    "plt.xlabel('maximum sequence length', fontsize = 16)\n",
    "plt.ylabel('fine-tuning time', fontsize = 16)\n",
    "#plt.title('Boxplot of fine-tuning time by maximum sequence length', fontsize = 18)\n",
    "plt.setp(ax.get_xticklabels(), rotation='horizontal', fontsize=16)\n",
    "plt.setp(ax.get_yticklabels(), rotation='horizontal', fontsize=16)\n",
    "plt.show()\n",
    "ax.figure.savefig('finetuning_time_seq_length.png')"
   ]
  },
  {
   "cell_type": "code",
   "execution_count": 38,
   "metadata": {},
   "outputs": [
    {
     "data": {
      "text/html": [
       "<div>\n",
       "<style scoped>\n",
       "    .dataframe tbody tr th:only-of-type {\n",
       "        vertical-align: middle;\n",
       "    }\n",
       "\n",
       "    .dataframe tbody tr th {\n",
       "        vertical-align: top;\n",
       "    }\n",
       "\n",
       "    .dataframe thead th {\n",
       "        text-align: right;\n",
       "    }\n",
       "</style>\n",
       "<table border=\"1\" class=\"dataframe\">\n",
       "  <thead>\n",
       "    <tr style=\"text-align: right;\">\n",
       "      <th></th>\n",
       "      <th>count</th>\n",
       "      <th>mean</th>\n",
       "      <th>std</th>\n",
       "      <th>min</th>\n",
       "      <th>25%</th>\n",
       "      <th>50%</th>\n",
       "      <th>75%</th>\n",
       "      <th>max</th>\n",
       "    </tr>\n",
       "    <tr>\n",
       "      <th>max_seq_length</th>\n",
       "      <th></th>\n",
       "      <th></th>\n",
       "      <th></th>\n",
       "      <th></th>\n",
       "      <th></th>\n",
       "      <th></th>\n",
       "      <th></th>\n",
       "      <th></th>\n",
       "    </tr>\n",
       "  </thead>\n",
       "  <tbody>\n",
       "    <tr>\n",
       "      <th>128</th>\n",
       "      <td>96.0</td>\n",
       "      <td>1572.247147</td>\n",
       "      <td>2754.049584</td>\n",
       "      <td>40.286524</td>\n",
       "      <td>304.245083</td>\n",
       "      <td>597.625219</td>\n",
       "      <td>1102.268287</td>\n",
       "      <td>12611.020743</td>\n",
       "    </tr>\n",
       "    <tr>\n",
       "      <th>256</th>\n",
       "      <td>96.0</td>\n",
       "      <td>3034.404364</td>\n",
       "      <td>5130.206896</td>\n",
       "      <td>73.739370</td>\n",
       "      <td>561.979796</td>\n",
       "      <td>1133.516020</td>\n",
       "      <td>2333.340849</td>\n",
       "      <td>20238.673438</td>\n",
       "    </tr>\n",
       "    <tr>\n",
       "      <th>512</th>\n",
       "      <td>99.0</td>\n",
       "      <td>6321.884974</td>\n",
       "      <td>11337.728899</td>\n",
       "      <td>169.152534</td>\n",
       "      <td>1366.014475</td>\n",
       "      <td>2314.634986</td>\n",
       "      <td>5318.496162</td>\n",
       "      <td>59139.089465</td>\n",
       "    </tr>\n",
       "  </tbody>\n",
       "</table>\n",
       "</div>"
      ],
      "text/plain": [
       "                count         mean           std         min          25%  \\\n",
       "max_seq_length                                                              \n",
       "128              96.0  1572.247147   2754.049584   40.286524   304.245083   \n",
       "256              96.0  3034.404364   5130.206896   73.739370   561.979796   \n",
       "512              99.0  6321.884974  11337.728899  169.152534  1366.014475   \n",
       "\n",
       "                        50%          75%           max  \n",
       "max_seq_length                                          \n",
       "128              597.625219  1102.268287  12611.020743  \n",
       "256             1133.516020  2333.340849  20238.673438  \n",
       "512             2314.634986  5318.496162  59139.089465  "
      ]
     },
     "execution_count": 38,
     "metadata": {},
     "output_type": "execute_result"
    }
   ],
   "source": [
    "data3.groupby('max_seq_length').finetuning_time.describe()"
   ]
  },
  {
   "cell_type": "code",
   "execution_count": 71,
   "metadata": {
    "colab": {
     "base_uri": "https://localhost:8080/",
     "height": 598
    },
    "colab_type": "code",
    "id": "rN9w5Iurh8Qq",
    "outputId": "0375eaec-e997-40f9-fcd1-52c985aa315d"
   },
   "outputs": [
    {
     "name": "stderr",
     "output_type": "stream",
     "text": [
      "C:\\Users\\annko\\anaconda3\\lib\\site-packages\\pandas\\core\\indexing.py:966: SettingWithCopyWarning: \n",
      "A value is trying to be set on a copy of a slice from a DataFrame.\n",
      "Try using .loc[row_indexer,col_indexer] = value instead\n",
      "\n",
      "See the caveats in the documentation: https://pandas.pydata.org/pandas-docs/stable/user_guide/indexing.html#returning-a-view-versus-a-copy\n",
      "  self.obj[item] = s\n"
     ]
    },
    {
     "data": {
      "image/png": "[encoded data removed]",
      "text/plain": [
       "<Figure size 720x576 with 1 Axes>"
      ]
     },
     "metadata": {
      "needs_background": "light"
     },
     "output_type": "display_data"
    }
   ],
   "source": [
    "# Boxplots for fine-tuning time, gouped by tokens per batch\n",
    "\n",
    "# add tokens per batch to dataset\n",
    "data3.loc[:,'tokens_per_batch'] = data3.apply(lambda row: (row['per_device_train_batch_size']*row['max_seq_length']), axis=1)\n",
    "\n",
    "plt.figure(figsize = (10, 8))\n",
    "ax = sns.boxplot(x = 'tokens_per_batch', y = 'finetuning_time', data = data3, palette = sns.color_palette('magma'))\n",
    "plt.ylabel('fine-tuning time', fontsize = 16)\n",
    "plt.xlabel('tokens per batch', fontsize = 16)\n",
    "#plt.title('Boxplot of fine-tuning time by tokens per batch', fontsize = 18)\n",
    "plt.setp(ax.get_xticklabels(), rotation='horizontal', fontsize=16)\n",
    "plt.setp(ax.get_yticklabels(), rotation='horizontal', fontsize=16)\n",
    "plt.show()\n",
    "ax.figure.savefig('finetuning_time_tokensperbatch.png')"
   ]
  },
  {
   "cell_type": "code",
   "execution_count": 40,
   "metadata": {},
   "outputs": [
    {
     "data": {
      "text/html": [
       "<div>\n",
       "<style scoped>\n",
       "    .dataframe tbody tr th:only-of-type {\n",
       "        vertical-align: middle;\n",
       "    }\n",
       "\n",
       "    .dataframe tbody tr th {\n",
       "        vertical-align: top;\n",
       "    }\n",
       "\n",
       "    .dataframe thead th {\n",
       "        text-align: right;\n",
       "    }\n",
       "</style>\n",
       "<table border=\"1\" class=\"dataframe\">\n",
       "  <thead>\n",
       "    <tr style=\"text-align: right;\">\n",
       "      <th></th>\n",
       "      <th>count</th>\n",
       "      <th>mean</th>\n",
       "      <th>std</th>\n",
       "      <th>min</th>\n",
       "      <th>25%</th>\n",
       "      <th>50%</th>\n",
       "      <th>75%</th>\n",
       "      <th>max</th>\n",
       "    </tr>\n",
       "    <tr>\n",
       "      <th>tokens_per_batch</th>\n",
       "      <th></th>\n",
       "      <th></th>\n",
       "      <th></th>\n",
       "      <th></th>\n",
       "      <th></th>\n",
       "      <th></th>\n",
       "      <th></th>\n",
       "      <th></th>\n",
       "    </tr>\n",
       "  </thead>\n",
       "  <tbody>\n",
       "    <tr>\n",
       "      <th>1024</th>\n",
       "      <td>32.0</td>\n",
       "      <td>1896.557662</td>\n",
       "      <td>3301.528223</td>\n",
       "      <td>64.281345</td>\n",
       "      <td>405.658132</td>\n",
       "      <td>756.602975</td>\n",
       "      <td>1366.075103</td>\n",
       "      <td>12611.020743</td>\n",
       "    </tr>\n",
       "    <tr>\n",
       "      <th>2048</th>\n",
       "      <td>64.0</td>\n",
       "      <td>2386.760667</td>\n",
       "      <td>4477.477111</td>\n",
       "      <td>47.965026</td>\n",
       "      <td>395.288926</td>\n",
       "      <td>794.601026</td>\n",
       "      <td>1592.432712</td>\n",
       "      <td>20238.673438</td>\n",
       "    </tr>\n",
       "    <tr>\n",
       "      <th>4096</th>\n",
       "      <td>97.0</td>\n",
       "      <td>3558.849864</td>\n",
       "      <td>7136.960276</td>\n",
       "      <td>40.286524</td>\n",
       "      <td>453.579524</td>\n",
       "      <td>1071.686663</td>\n",
       "      <td>2685.961267</td>\n",
       "      <td>43090.039219</td>\n",
       "    </tr>\n",
       "    <tr>\n",
       "      <th>8192</th>\n",
       "      <td>65.0</td>\n",
       "      <td>3998.779063</td>\n",
       "      <td>7259.420583</td>\n",
       "      <td>73.739370</td>\n",
       "      <td>653.791794</td>\n",
       "      <td>1437.023063</td>\n",
       "      <td>3410.899668</td>\n",
       "      <td>37749.208026</td>\n",
       "    </tr>\n",
       "    <tr>\n",
       "      <th>16384</th>\n",
       "      <td>33.0</td>\n",
       "      <td>7561.622839</td>\n",
       "      <td>14139.999589</td>\n",
       "      <td>253.009267</td>\n",
       "      <td>1453.928807</td>\n",
       "      <td>3164.878497</td>\n",
       "      <td>6485.429604</td>\n",
       "      <td>59139.089465</td>\n",
       "    </tr>\n",
       "  </tbody>\n",
       "</table>\n",
       "</div>"
      ],
      "text/plain": [
       "                  count         mean           std         min          25%  \\\n",
       "tokens_per_batch                                                              \n",
       "1024               32.0  1896.557662   3301.528223   64.281345   405.658132   \n",
       "2048               64.0  2386.760667   4477.477111   47.965026   395.288926   \n",
       "4096               97.0  3558.849864   7136.960276   40.286524   453.579524   \n",
       "8192               65.0  3998.779063   7259.420583   73.739370   653.791794   \n",
       "16384              33.0  7561.622839  14139.999589  253.009267  1453.928807   \n",
       "\n",
       "                          50%          75%           max  \n",
       "tokens_per_batch                                          \n",
       "1024               756.602975  1366.075103  12611.020743  \n",
       "2048               794.601026  1592.432712  20238.673438  \n",
       "4096              1071.686663  2685.961267  43090.039219  \n",
       "8192              1437.023063  3410.899668  37749.208026  \n",
       "16384             3164.878497  6485.429604  59139.089465  "
      ]
     },
     "execution_count": 40,
     "metadata": {},
     "output_type": "execute_result"
    }
   ],
   "source": [
    "data3.groupby('tokens_per_batch').finetuning_time.describe()"
   ]
  },
  {
   "cell_type": "code",
   "execution_count": 72,
   "metadata": {
    "colab": {
     "base_uri": "https://localhost:8080/",
     "height": 543
    },
    "colab_type": "code",
    "id": "GQJnfm4e9dpA",
    "outputId": "73e997a6-dfb8-4399-8c3b-959585a0b94a"
   },
   "outputs": [
    {
     "data": {
      "image/png": "[encoded data removed]",
      "text/plain": [
       "<Figure size 1728x720 with 1 Axes>"
      ]
     },
     "metadata": {
      "needs_background": "light"
     },
     "output_type": "display_data"
    }
   ],
   "source": [
    "# Boxplots for fine-tuning time, gouped by model \n",
    "\n",
    "plt.figure(figsize = (24, 10))\n",
    "ax = sns.boxplot(x = 'model_name_or_path', y = 'finetuning_time', data = data3, palette = sns.color_palette(\"Set2\"))\n",
    "plt.ylabel('fine-tuning time', fontsize = 18)\n",
    "plt.xlabel('model name', fontsize = 18)\n",
    "#plt.title('Boxplot of fine-tuning time by model', fontsize = 20)\n",
    "plt.setp(ax.get_xticklabels(), rotation=45, fontsize=18)\n",
    "plt.setp(ax.get_yticklabels(), rotation='horizontal', fontsize=18)\n",
    "plt.show()\n",
    "ax.figure.savefig('finetuning_time_models.png', bbox_inches='tight')"
   ]
  },
  {
   "cell_type": "code",
   "execution_count": 43,
   "metadata": {},
   "outputs": [
    {
     "data": {
      "text/html": [
       "<div>\n",
       "<style scoped>\n",
       "    .dataframe tbody tr th:only-of-type {\n",
       "        vertical-align: middle;\n",
       "    }\n",
       "\n",
       "    .dataframe tbody tr th {\n",
       "        vertical-align: top;\n",
       "    }\n",
       "\n",
       "    .dataframe thead th {\n",
       "        text-align: right;\n",
       "    }\n",
       "</style>\n",
       "<table border=\"1\" class=\"dataframe\">\n",
       "  <thead>\n",
       "    <tr style=\"text-align: right;\">\n",
       "      <th></th>\n",
       "      <th>count</th>\n",
       "      <th>mean</th>\n",
       "      <th>std</th>\n",
       "      <th>min</th>\n",
       "      <th>25%</th>\n",
       "      <th>50%</th>\n",
       "      <th>75%</th>\n",
       "      <th>max</th>\n",
       "    </tr>\n",
       "    <tr>\n",
       "      <th>model_name_or_path</th>\n",
       "      <th></th>\n",
       "      <th></th>\n",
       "      <th></th>\n",
       "      <th></th>\n",
       "      <th></th>\n",
       "      <th></th>\n",
       "      <th></th>\n",
       "      <th></th>\n",
       "    </tr>\n",
       "  </thead>\n",
       "  <tbody>\n",
       "    <tr>\n",
       "      <th>albert-base-v1</th>\n",
       "      <td>51.0</td>\n",
       "      <td>2801.667096</td>\n",
       "      <td>4291.786384</td>\n",
       "      <td>75.501637</td>\n",
       "      <td>501.544123</td>\n",
       "      <td>1096.441900</td>\n",
       "      <td>2782.319082</td>\n",
       "      <td>19153.571484</td>\n",
       "    </tr>\n",
       "    <tr>\n",
       "      <th>bert-base-cased</th>\n",
       "      <td>21.0</td>\n",
       "      <td>2116.260848</td>\n",
       "      <td>1718.908362</td>\n",
       "      <td>323.242815</td>\n",
       "      <td>744.541753</td>\n",
       "      <td>1567.902107</td>\n",
       "      <td>2490.166188</td>\n",
       "      <td>6485.429604</td>\n",
       "    </tr>\n",
       "    <tr>\n",
       "      <th>bert-base-uncased</th>\n",
       "      <td>54.0</td>\n",
       "      <td>5448.909548</td>\n",
       "      <td>11216.587055</td>\n",
       "      <td>79.490505</td>\n",
       "      <td>566.110434</td>\n",
       "      <td>1388.864147</td>\n",
       "      <td>3596.261203</td>\n",
       "      <td>59139.089465</td>\n",
       "    </tr>\n",
       "    <tr>\n",
       "      <th>distilbert-base-cased</th>\n",
       "      <td>21.0</td>\n",
       "      <td>1003.987066</td>\n",
       "      <td>810.388556</td>\n",
       "      <td>154.806281</td>\n",
       "      <td>445.314242</td>\n",
       "      <td>817.478578</td>\n",
       "      <td>1195.345378</td>\n",
       "      <td>3164.878497</td>\n",
       "    </tr>\n",
       "    <tr>\n",
       "      <th>distilbert-base-uncased</th>\n",
       "      <td>54.0</td>\n",
       "      <td>2633.088138</td>\n",
       "      <td>5248.098842</td>\n",
       "      <td>40.286524</td>\n",
       "      <td>283.258810</td>\n",
       "      <td>659.471044</td>\n",
       "      <td>1822.972749</td>\n",
       "      <td>26147.164209</td>\n",
       "    </tr>\n",
       "    <tr>\n",
       "      <th>roberta-base</th>\n",
       "      <td>54.0</td>\n",
       "      <td>5430.333326</td>\n",
       "      <td>11186.496445</td>\n",
       "      <td>79.554176</td>\n",
       "      <td>593.083385</td>\n",
       "      <td>1410.363709</td>\n",
       "      <td>3618.054065</td>\n",
       "      <td>59108.727824</td>\n",
       "    </tr>\n",
       "    <tr>\n",
       "      <th>xlnet-base-cased</th>\n",
       "      <td>36.0</td>\n",
       "      <td>3611.918187</td>\n",
       "      <td>4097.207193</td>\n",
       "      <td>147.439662</td>\n",
       "      <td>813.428770</td>\n",
       "      <td>1848.710774</td>\n",
       "      <td>5117.679508</td>\n",
       "      <td>16341.794860</td>\n",
       "    </tr>\n",
       "  </tbody>\n",
       "</table>\n",
       "</div>"
      ],
      "text/plain": [
       "                         count         mean           std         min  \\\n",
       "model_name_or_path                                                      \n",
       "albert-base-v1            51.0  2801.667096   4291.786384   75.501637   \n",
       "bert-base-cased           21.0  2116.260848   1718.908362  323.242815   \n",
       "bert-base-uncased         54.0  5448.909548  11216.587055   79.490505   \n",
       "distilbert-base-cased     21.0  1003.987066    810.388556  154.806281   \n",
       "distilbert-base-uncased   54.0  2633.088138   5248.098842   40.286524   \n",
       "roberta-base              54.0  5430.333326  11186.496445   79.554176   \n",
       "xlnet-base-cased          36.0  3611.918187   4097.207193  147.439662   \n",
       "\n",
       "                                25%          50%          75%           max  \n",
       "model_name_or_path                                                           \n",
       "albert-base-v1           501.544123  1096.441900  2782.319082  19153.571484  \n",
       "bert-base-cased          744.541753  1567.902107  2490.166188   6485.429604  \n",
       "bert-base-uncased        566.110434  1388.864147  3596.261203  59139.089465  \n",
       "distilbert-base-cased    445.314242   817.478578  1195.345378   3164.878497  \n",
       "distilbert-base-uncased  283.258810   659.471044  1822.972749  26147.164209  \n",
       "roberta-base             593.083385  1410.363709  3618.054065  59108.727824  \n",
       "xlnet-base-cased         813.428770  1848.710774  5117.679508  16341.794860  "
      ]
     },
     "execution_count": 43,
     "metadata": {},
     "output_type": "execute_result"
    }
   ],
   "source": [
    "data3.groupby('model_name_or_path').finetuning_time.describe()"
   ]
  },
  {
   "cell_type": "code",
   "execution_count": 44,
   "metadata": {},
   "outputs": [
    {
     "data": {
      "text/html": [
       "<div>\n",
       "<style scoped>\n",
       "    .dataframe tbody tr th:only-of-type {\n",
       "        vertical-align: middle;\n",
       "    }\n",
       "\n",
       "    .dataframe tbody tr th {\n",
       "        vertical-align: top;\n",
       "    }\n",
       "\n",
       "    .dataframe thead th {\n",
       "        text-align: right;\n",
       "    }\n",
       "</style>\n",
       "<table border=\"1\" class=\"dataframe\">\n",
       "  <thead>\n",
       "    <tr style=\"text-align: right;\">\n",
       "      <th></th>\n",
       "      <th>count</th>\n",
       "      <th>mean</th>\n",
       "      <th>std</th>\n",
       "      <th>min</th>\n",
       "      <th>25%</th>\n",
       "      <th>50%</th>\n",
       "      <th>75%</th>\n",
       "      <th>max</th>\n",
       "    </tr>\n",
       "    <tr>\n",
       "      <th>model_name_or_path</th>\n",
       "      <th></th>\n",
       "      <th></th>\n",
       "      <th></th>\n",
       "      <th></th>\n",
       "      <th></th>\n",
       "      <th></th>\n",
       "      <th></th>\n",
       "      <th></th>\n",
       "    </tr>\n",
       "  </thead>\n",
       "  <tbody>\n",
       "    <tr>\n",
       "      <th>albert-base-v1</th>\n",
       "      <td>36.0</td>\n",
       "      <td>1075.275297</td>\n",
       "      <td>1070.577960</td>\n",
       "      <td>75.501637</td>\n",
       "      <td>367.505944</td>\n",
       "      <td>627.153322</td>\n",
       "      <td>1434.964555</td>\n",
       "      <td>4442.835321</td>\n",
       "    </tr>\n",
       "    <tr>\n",
       "      <th>bert-base-cased</th>\n",
       "      <td>12.0</td>\n",
       "      <td>1374.347986</td>\n",
       "      <td>983.411587</td>\n",
       "      <td>323.242815</td>\n",
       "      <td>588.115497</td>\n",
       "      <td>1106.335517</td>\n",
       "      <td>2171.477857</td>\n",
       "      <td>3387.689235</td>\n",
       "    </tr>\n",
       "    <tr>\n",
       "      <th>bert-base-uncased</th>\n",
       "      <td>36.0</td>\n",
       "      <td>1179.372929</td>\n",
       "      <td>1164.524809</td>\n",
       "      <td>79.490505</td>\n",
       "      <td>392.293464</td>\n",
       "      <td>733.114647</td>\n",
       "      <td>1588.101322</td>\n",
       "      <td>5132.771498</td>\n",
       "    </tr>\n",
       "    <tr>\n",
       "      <th>distilbert-base-cased</th>\n",
       "      <td>12.0</td>\n",
       "      <td>626.629744</td>\n",
       "      <td>387.688118</td>\n",
       "      <td>154.806281</td>\n",
       "      <td>286.128951</td>\n",
       "      <td>556.901028</td>\n",
       "      <td>963.545499</td>\n",
       "      <td>1219.951793</td>\n",
       "    </tr>\n",
       "    <tr>\n",
       "      <th>distilbert-base-uncased</th>\n",
       "      <td>36.0</td>\n",
       "      <td>572.284356</td>\n",
       "      <td>532.335330</td>\n",
       "      <td>40.286524</td>\n",
       "      <td>201.344868</td>\n",
       "      <td>392.042302</td>\n",
       "      <td>810.511111</td>\n",
       "      <td>2285.639877</td>\n",
       "    </tr>\n",
       "    <tr>\n",
       "      <th>roberta-base</th>\n",
       "      <td>36.0</td>\n",
       "      <td>1153.665956</td>\n",
       "      <td>1045.488240</td>\n",
       "      <td>79.554176</td>\n",
       "      <td>404.979798</td>\n",
       "      <td>780.359628</td>\n",
       "      <td>1611.469272</td>\n",
       "      <td>4056.350114</td>\n",
       "    </tr>\n",
       "    <tr>\n",
       "      <th>xlnet-base-cased</th>\n",
       "      <td>36.0</td>\n",
       "      <td>3611.918187</td>\n",
       "      <td>4097.207193</td>\n",
       "      <td>147.439662</td>\n",
       "      <td>813.428770</td>\n",
       "      <td>1848.710774</td>\n",
       "      <td>5117.679508</td>\n",
       "      <td>16341.794860</td>\n",
       "    </tr>\n",
       "  </tbody>\n",
       "</table>\n",
       "</div>"
      ],
      "text/plain": [
       "                         count         mean          std         min  \\\n",
       "model_name_or_path                                                     \n",
       "albert-base-v1            36.0  1075.275297  1070.577960   75.501637   \n",
       "bert-base-cased           12.0  1374.347986   983.411587  323.242815   \n",
       "bert-base-uncased         36.0  1179.372929  1164.524809   79.490505   \n",
       "distilbert-base-cased     12.0   626.629744   387.688118  154.806281   \n",
       "distilbert-base-uncased   36.0   572.284356   532.335330   40.286524   \n",
       "roberta-base              36.0  1153.665956  1045.488240   79.554176   \n",
       "xlnet-base-cased          36.0  3611.918187  4097.207193  147.439662   \n",
       "\n",
       "                                25%          50%          75%           max  \n",
       "model_name_or_path                                                           \n",
       "albert-base-v1           367.505944   627.153322  1434.964555   4442.835321  \n",
       "bert-base-cased          588.115497  1106.335517  2171.477857   3387.689235  \n",
       "bert-base-uncased        392.293464   733.114647  1588.101322   5132.771498  \n",
       "distilbert-base-cased    286.128951   556.901028   963.545499   1219.951793  \n",
       "distilbert-base-uncased  201.344868   392.042302   810.511111   2285.639877  \n",
       "roberta-base             404.979798   780.359628  1611.469272   4056.350114  \n",
       "xlnet-base-cased         813.428770  1848.710774  5117.679508  16341.794860  "
      ]
     },
     "execution_count": 44,
     "metadata": {},
     "output_type": "execute_result"
    }
   ],
   "source": [
    "# for a fair comparison of albert-base-v1, bert-base-uncase, distilbert-base-uncased, roberta-based and xlnet-base-cased\n",
    "data3[(data3.task_name != 'SST-2') & (data3.task_name != 'CoLA')].groupby('model_name_or_path').finetuning_time.describe()"
   ]
  },
  {
   "cell_type": "code",
   "execution_count": 45,
   "metadata": {},
   "outputs": [
    {
     "data": {
      "text/html": [
       "<div>\n",
       "<style scoped>\n",
       "    .dataframe tbody tr th:only-of-type {\n",
       "        vertical-align: middle;\n",
       "    }\n",
       "\n",
       "    .dataframe tbody tr th {\n",
       "        vertical-align: top;\n",
       "    }\n",
       "\n",
       "    .dataframe thead th {\n",
       "        text-align: right;\n",
       "    }\n",
       "</style>\n",
       "<table border=\"1\" class=\"dataframe\">\n",
       "  <thead>\n",
       "    <tr style=\"text-align: right;\">\n",
       "      <th></th>\n",
       "      <th>count</th>\n",
       "      <th>mean</th>\n",
       "      <th>std</th>\n",
       "      <th>min</th>\n",
       "      <th>25%</th>\n",
       "      <th>50%</th>\n",
       "      <th>75%</th>\n",
       "      <th>max</th>\n",
       "    </tr>\n",
       "    <tr>\n",
       "      <th>model_name_or_path</th>\n",
       "      <th></th>\n",
       "      <th></th>\n",
       "      <th></th>\n",
       "      <th></th>\n",
       "      <th></th>\n",
       "      <th></th>\n",
       "      <th></th>\n",
       "      <th></th>\n",
       "    </tr>\n",
       "  </thead>\n",
       "  <tbody>\n",
       "    <tr>\n",
       "      <th>albert-base-v1</th>\n",
       "      <td>18.0</td>\n",
       "      <td>1909.441578</td>\n",
       "      <td>1879.558587</td>\n",
       "      <td>281.549841</td>\n",
       "      <td>570.139381</td>\n",
       "      <td>1333.502730</td>\n",
       "      <td>2121.668384</td>\n",
       "      <td>6988.001138</td>\n",
       "    </tr>\n",
       "    <tr>\n",
       "      <th>bert-base-cased</th>\n",
       "      <td>18.0</td>\n",
       "      <td>2032.219288</td>\n",
       "      <td>1835.907131</td>\n",
       "      <td>323.242815</td>\n",
       "      <td>737.836038</td>\n",
       "      <td>1491.652815</td>\n",
       "      <td>2437.718345</td>\n",
       "      <td>6485.429604</td>\n",
       "    </tr>\n",
       "    <tr>\n",
       "      <th>bert-base-uncased</th>\n",
       "      <td>18.0</td>\n",
       "      <td>2021.613583</td>\n",
       "      <td>1882.954403</td>\n",
       "      <td>311.810163</td>\n",
       "      <td>668.917447</td>\n",
       "      <td>1462.708257</td>\n",
       "      <td>2406.047478</td>\n",
       "      <td>6851.452623</td>\n",
       "    </tr>\n",
       "    <tr>\n",
       "      <th>distilbert-base-cased</th>\n",
       "      <td>18.0</td>\n",
       "      <td>984.625470</td>\n",
       "      <td>876.536279</td>\n",
       "      <td>154.806281</td>\n",
       "      <td>389.148531</td>\n",
       "      <td>732.419346</td>\n",
       "      <td>1138.613173</td>\n",
       "      <td>3164.878497</td>\n",
       "    </tr>\n",
       "    <tr>\n",
       "      <th>distilbert-base-uncased</th>\n",
       "      <td>18.0</td>\n",
       "      <td>990.582898</td>\n",
       "      <td>901.430203</td>\n",
       "      <td>166.221296</td>\n",
       "      <td>354.879209</td>\n",
       "      <td>714.199761</td>\n",
       "      <td>1158.236192</td>\n",
       "      <td>3179.976545</td>\n",
       "    </tr>\n",
       "    <tr>\n",
       "      <th>roberta-base</th>\n",
       "      <td>18.0</td>\n",
       "      <td>2022.891348</td>\n",
       "      <td>1843.994073</td>\n",
       "      <td>324.649789</td>\n",
       "      <td>726.806673</td>\n",
       "      <td>1490.211808</td>\n",
       "      <td>2374.519669</td>\n",
       "      <td>6664.232317</td>\n",
       "    </tr>\n",
       "    <tr>\n",
       "      <th>xlnet-base-cased</th>\n",
       "      <td>9.0</td>\n",
       "      <td>2842.649404</td>\n",
       "      <td>2392.003695</td>\n",
       "      <td>600.458358</td>\n",
       "      <td>824.491574</td>\n",
       "      <td>1910.681060</td>\n",
       "      <td>5387.580599</td>\n",
       "      <td>6667.964992</td>\n",
       "    </tr>\n",
       "  </tbody>\n",
       "</table>\n",
       "</div>"
      ],
      "text/plain": [
       "                         count         mean          std         min  \\\n",
       "model_name_or_path                                                     \n",
       "albert-base-v1            18.0  1909.441578  1879.558587  281.549841   \n",
       "bert-base-cased           18.0  2032.219288  1835.907131  323.242815   \n",
       "bert-base-uncased         18.0  2021.613583  1882.954403  311.810163   \n",
       "distilbert-base-cased     18.0   984.625470   876.536279  154.806281   \n",
       "distilbert-base-uncased   18.0   990.582898   901.430203  166.221296   \n",
       "roberta-base              18.0  2022.891348  1843.994073  324.649789   \n",
       "xlnet-base-cased           9.0  2842.649404  2392.003695  600.458358   \n",
       "\n",
       "                                25%          50%          75%          max  \n",
       "model_name_or_path                                                          \n",
       "albert-base-v1           570.139381  1333.502730  2121.668384  6988.001138  \n",
       "bert-base-cased          737.836038  1491.652815  2437.718345  6485.429604  \n",
       "bert-base-uncased        668.917447  1462.708257  2406.047478  6851.452623  \n",
       "distilbert-base-cased    389.148531   732.419346  1138.613173  3164.878497  \n",
       "distilbert-base-uncased  354.879209   714.199761  1158.236192  3179.976545  \n",
       "roberta-base             726.806673  1490.211808  2374.519669  6664.232317  \n",
       "xlnet-base-cased         824.491574  1910.681060  5387.580599  6667.964992  "
      ]
     },
     "execution_count": 45,
     "metadata": {},
     "output_type": "execute_result"
    }
   ],
   "source": [
    "# for a fair comparison of models (especially considering cased versions)\n",
    "data3[(data3.task_name == 'CoLA') | (data3.task_name == 'RTE')].groupby('model_name_or_path').finetuning_time.describe()"
   ]
  },
  {
   "cell_type": "code",
   "execution_count": 35,
   "metadata": {},
   "outputs": [],
   "source": [
    "# Overview over fine-tuning time, grouped by every regarded hyperparameter\n",
    "\n",
    "table = data3.groupby(['model_name_or_path', 'num_examples', 'max_seq_length', \n",
    "                       'per_device_train_batch_size']).finetuning_time.median()\n",
    "table.to_excel(\"finetuning_time_table.xlsx\")"
   ]
  },
  {
   "cell_type": "markdown",
   "metadata": {
    "colab_type": "text",
    "id": "E4YPyrfLftBQ"
   },
   "source": [
    "#### ANOVA #####"
   ]
  },
  {
   "cell_type": "code",
   "execution_count": 45,
   "metadata": {
    "colab": {
     "base_uri": "https://localhost:8080/",
     "height": 228
    },
    "colab_type": "code",
    "id": "fkz5aEKhee6k",
    "outputId": "9d6c0bae-071d-49db-fd45-14fdb276f01c"
   },
   "outputs": [
    {
     "name": "stdout",
     "output_type": "stream",
     "text": [
      "                   sum_sq     df          F    PR(>F)\n",
      "seq_len_cat  1.157454e+09    2.0  10.536817  0.000038\n",
      "Residual     1.581818e+10  288.0        NaN       NaN\n",
      "                      sum_sq     df         F    PR(>F)\n",
      "batch_size_cat  1.630002e+07    2.0  0.138402  0.870807\n",
      "Residual        1.695934e+10  288.0       NaN       NaN\n",
      "                          sum_sq     df         F    PR(>F)\n",
      "model_name_or_path  6.348097e+08    6.0  1.838809  0.091525\n",
      "Residual            1.634083e+10  284.0       NaN       NaN\n",
      "                 sum_sq     df          F        PR(>F)\n",
      "task_name  9.156031e+09    5.0  66.741701  5.534676e-46\n",
      "Residual   7.819606e+09  285.0        NaN           NaN\n"
     ]
    },
    {
     "name": "stderr",
     "output_type": "stream",
     "text": [
      "<ipython-input-45-03d9e557e219>:8: SettingWithCopyWarning: \n",
      "A value is trying to be set on a copy of a slice from a DataFrame.\n",
      "Try using .loc[row_indexer,col_indexer] = value instead\n",
      "\n",
      "See the caveats in the documentation: https://pandas.pydata.org/pandas-docs/stable/user_guide/indexing.html#returning-a-view-versus-a-copy\n",
      "  data3['seq_len_cat'] = data3.loc[:,'max_seq_length'].astype('category')\n",
      "<ipython-input-45-03d9e557e219>:11: SettingWithCopyWarning: \n",
      "A value is trying to be set on a copy of a slice from a DataFrame.\n",
      "Try using .loc[row_indexer,col_indexer] = value instead\n",
      "\n",
      "See the caveats in the documentation: https://pandas.pydata.org/pandas-docs/stable/user_guide/indexing.html#returning-a-view-versus-a-copy\n",
      "  data3['batch_size_cat'] = data3.loc[:,'per_device_train_batch_size'].astype('category')\n"
     ]
    }
   ],
   "source": [
    "#!pip install statsmodels\n",
    "from statsmodels.formula.api import ols\n",
    "from statsmodels.stats.anova import anova_lm\n",
    "from scipy import stats\n",
    "import statsmodels.api as sm\n",
    "\n",
    "# seq_length_log als kat. Variable für ANOVA\n",
    "data3['seq_len_cat'] = data3.loc[:,'max_seq_length'].astype('category')\n",
    "mod_len = ols('finetuning_time ~ seq_len_cat', data=data3).fit()\n",
    "# seq_length_log als kat. Variable für ANOVA\n",
    "data3['batch_size_cat'] = data3.loc[:,'per_device_train_batch_size'].astype('category')\n",
    "mod_bs = ols('finetuning_time ~ batch_size_cat', data=data3).fit()\n",
    "mod_type = ols('finetuning_time ~ model_name_or_path', data=data3).fit()\n",
    "mod_task = ols('finetuning_time ~ task_name', data=data3).fit()\n",
    "\n",
    "models = [mod_len, mod_bs, mod_type, mod_task]\n",
    "\n",
    "for m in models:\n",
    "    aov_table = sm.stats.anova_lm(m, typ=2)\n",
    "    print(aov_table)"
   ]
  },
  {
   "cell_type": "code",
   "execution_count": 46,
   "metadata": {
    "scrolled": false
   },
   "outputs": [
    {
     "name": "stdout",
     "output_type": "stream",
     "text": [
      "Pairwise Tukeys range test w.r.t. maximum sequence length\n",
      "   Multiple Comparison of Means - Tukey HSD, FWER=0.05    \n",
      "==========================================================\n",
      "group1 group2  meandiff p-adj    lower      upper   reject\n",
      "----------------------------------------------------------\n",
      "   128    256 1462.1572 0.3607 -1058.0767 3982.3911  False\n",
      "   128    512 4749.6378  0.001  2248.5695 7250.7062   True\n",
      "   256    512 3287.4806 0.0061   786.4122  5788.549   True\n",
      "----------------------------------------------------------\n",
      "Pairwise Tukeys range test w.r.t. batch size\n",
      "   Multiple Comparison of Means - Tukey HSD, FWER=0.05   \n",
      "=========================================================\n",
      "group1 group2 meandiff p-adj    lower      upper   reject\n",
      "---------------------------------------------------------\n",
      "     8     16  -443.02    0.9  -3039.092  2153.052  False\n",
      "     8     32 102.3143    0.9 -2493.7577 2698.3863  False\n",
      "    16     32 545.3343 0.8611 -2050.7377 3141.4063  False\n",
      "---------------------------------------------------------\n",
      "Pairwise Tukeys range test w.r.t. model\n",
      "                      Multiple Comparison of Means - Tukey HSD, FWER=0.05                      \n",
      "===============================================================================================\n",
      "         group1                  group2          meandiff  p-adj     lower      upper    reject\n",
      "-----------------------------------------------------------------------------------------------\n",
      "         albert-base-v1         bert-base-cased  -685.4062    0.9  -6525.8029  5154.9904  False\n",
      "         albert-base-v1       bert-base-uncased  2647.2425 0.5495   -1751.044  7045.5289  False\n",
      "         albert-base-v1   distilbert-base-cased   -1797.68    0.9  -7638.0767  4042.7166  False\n",
      "         albert-base-v1 distilbert-base-uncased   -168.579    0.9  -4566.8654  4229.7075  False\n",
      "         albert-base-v1            roberta-base  2628.6662 0.5569  -1769.6202  7026.9527  False\n",
      "         albert-base-v1        xlnet-base-cased   810.2511    0.9  -4093.1127  5713.6149  False\n",
      "        bert-base-cased       bert-base-uncased  3332.6487 0.5956  -2460.2367  9125.5341  False\n",
      "        bert-base-cased   distilbert-base-cased -1112.2738    0.9  -8063.7362  5839.1887  False\n",
      "        bert-base-cased distilbert-base-uncased   516.8273    0.9  -5276.0581  6309.7127  False\n",
      "        bert-base-cased            roberta-base  3314.0725 0.6012  -2478.8129  9106.9579  False\n",
      "        bert-base-cased        xlnet-base-cased  1495.6573    0.9  -4689.4517  7680.7664  False\n",
      "      bert-base-uncased   distilbert-base-cased -4444.9225  0.258 -10237.8079  1347.9629  False\n",
      "      bert-base-uncased distilbert-base-uncased -2815.8214 0.4646  -7150.8199  1519.1771  False\n",
      "      bert-base-uncased            roberta-base   -18.5762    0.9  -4353.5747  4316.4223  False\n",
      "      bert-base-uncased        xlnet-base-cased -1836.9914    0.9   -6683.667  3009.6843  False\n",
      "  distilbert-base-cased distilbert-base-uncased  1629.1011    0.9  -4163.7843  7421.9865  False\n",
      "  distilbert-base-cased            roberta-base  4426.3463 0.2628  -1366.5391 10219.2316  False\n",
      "  distilbert-base-cased        xlnet-base-cased  2607.9311 0.8621  -3577.1779  8793.0402  False\n",
      "distilbert-base-uncased            roberta-base  2797.2452 0.4727  -1537.7533  7132.2437  False\n",
      "distilbert-base-uncased        xlnet-base-cased     978.83    0.9  -3867.8456  5825.5057  False\n",
      "           roberta-base        xlnet-base-cased -1818.4151    0.9  -6665.0908  3028.2605  False\n",
      "-----------------------------------------------------------------------------------------------\n",
      "Pairwise Tukeys range test w.r.t. task\n",
      "      Multiple Comparison of Means - Tukey HSD, FWER=0.05      \n",
      "===============================================================\n",
      "group1 group2   meandiff  p-adj     lower       upper    reject\n",
      "---------------------------------------------------------------\n",
      "  CoLA   MRPC   -790.2863    0.9  -3724.8517   2144.2792  False\n",
      "  CoLA    RTE  -1493.0982 0.6218  -4280.2261   1294.0296  False\n",
      "  CoLA  SST-2  16620.1171  0.001  13299.3617  19940.8726   True\n",
      "  CoLA  STS-B    257.1658    0.9  -2776.3453   3290.6768  False\n",
      "  CoLA   WNLI  -2246.9569 0.2773   -5280.468    786.5541  False\n",
      "  MRPC    RTE    -702.812    0.9  -3533.7358   2128.1118  False\n",
      "  MRPC  SST-2  17410.4034  0.001  14052.8053  20768.0015   True\n",
      "  MRPC  STS-B    1047.452    0.9  -2026.3465   4121.2505  False\n",
      "  MRPC   WNLI  -1456.6707 0.7236  -4530.4692   1617.1278  False\n",
      "   RTE  SST-2  18113.2154  0.001  14883.6841  21342.7467   True\n",
      "   RTE  STS-B    1750.264 0.5213  -1183.1034   4683.6315  False\n",
      "   RTE   WNLI   -753.8587    0.9  -3687.2261   2179.5088  False\n",
      " SST-2  STS-B -16362.9514  0.001 -19807.3642 -12918.5386   True\n",
      " SST-2   WNLI -18867.0741  0.001 -22311.4869 -15422.6613   True\n",
      " STS-B   WNLI  -2504.1227 0.2109  -5672.5217    664.2763  False\n",
      "---------------------------------------------------------------\n"
     ]
    }
   ],
   "source": [
    "## Tukey's range test \n",
    "from statsmodels.stats.multicomp import pairwise_tukeyhsd\n",
    "\n",
    "# maximum sequence length\n",
    "res_sq_len = pairwise_tukeyhsd(data3['finetuning_time'], data3['seq_len_cat'])\n",
    "print('Pairwise Tukeys range test w.r.t. maximum sequence length')\n",
    "print(res_sq_len)\n",
    "\n",
    "# batch size\n",
    "res_bs = pairwise_tukeyhsd(data3['finetuning_time'], data3['batch_size_cat'])\n",
    "print('Pairwise Tukeys range test w.r.t. batch size')\n",
    "print(res_bs)\n",
    "\n",
    "# model \n",
    "res_model = pairwise_tukeyhsd(data3['finetuning_time'], data3['model_name_or_path'])\n",
    "print('Pairwise Tukeys range test w.r.t. model')\n",
    "print(res_model)\n",
    "\n",
    "# task\n",
    "res_task = pairwise_tukeyhsd(data3['finetuning_time'], data3['task_name'])\n",
    "print('Pairwise Tukeys range test w.r.t. task')\n",
    "print(res_task)"
   ]
  },
  {
   "cell_type": "markdown",
   "metadata": {},
   "source": [
    "#### Test ANOVA assumptions (not necessarily needed for my analysis because the ANOVA is just an ad-on)"
   ]
  },
  {
   "cell_type": "code",
   "execution_count": 47,
   "metadata": {},
   "outputs": [
    {
     "name": "stdout",
     "output_type": "stream",
     "text": [
      "0.53741455078125 5.27663166156705e-27\n",
      "0.4649805426597595 1.258119754702038e-28\n",
      "0.5473810434341431 9.140948850407807e-27\n",
      "0.5569232106208801 1.5608443470789738e-26\n"
     ]
    }
   ],
   "source": [
    "# Shapiro-Wilk test: check normal distribution of residuals; H0: data is drawn from normal distribution\n",
    "\n",
    "#import scipy.stats as stats\n",
    "\n",
    "for m in models:\n",
    "    w, pvalue = stats.shapiro(m.resid)\n",
    "    print(w, pvalue)\n",
    "\n",
    "# As the P-values are significant, we reject null hypothesis and conclude that data is not drawn from normal distribution"
   ]
  },
  {
   "cell_type": "code",
   "execution_count": 48,
   "metadata": {},
   "outputs": [
    {
     "name": "stdout",
     "output_type": "stream",
     "text": [
      "1208.5209151186648 8.579698089072475e-265\n"
     ]
    }
   ],
   "source": [
    "# Bartlett’s test to check the Homogeneity of variances. H0: samples from populations have equal variances.\n",
    "# not possible to perform this test for categorical variables (task_name and model_name_or_path)\n",
    "\n",
    "w, pvalue = stats.bartlett(data3['max_seq_length'], data3['per_device_train_batch_size'])\n",
    "print(w, pvalue)\n",
    "# p-value very low --> Reject H0 (no equal variances)"
   ]
  },
  {
   "cell_type": "markdown",
   "metadata": {
    "colab_type": "text",
    "id": "UjnW4t48i2zz"
   },
   "source": [
    "#### Linear regression model ####\n",
    "Reference categories: \n",
    "- task: RTE\n",
    "- model: bert-base-uncased"
   ]
  },
  {
   "cell_type": "code",
   "execution_count": 49,
   "metadata": {},
   "outputs": [],
   "source": [
    "from statsmodels.regression import linear_model\n",
    "import patsy\n",
    "from patsy.contrasts import Treatment"
   ]
  },
  {
   "cell_type": "code",
   "execution_count": 37,
   "metadata": {},
   "outputs": [
    {
     "data": {
      "text/html": [
       "<table class=\"simpletable\">\n",
       "<caption>OLS Regression Results</caption>\n",
       "<tr>\n",
       "  <th>Dep. Variable:</th>     <td>finetuning_time</td> <th>  R-squared:         </th> <td>   0.659</td>\n",
       "</tr>\n",
       "<tr>\n",
       "  <th>Model:</th>                   <td>OLS</td>       <th>  Adj. R-squared:    </th> <td>   0.643</td>\n",
       "</tr>\n",
       "<tr>\n",
       "  <th>Method:</th>             <td>Least Squares</td>  <th>  F-statistic:       </th> <td>   41.19</td>\n",
       "</tr>\n",
       "<tr>\n",
       "  <th>Date:</th>             <td>Thu, 05 Nov 2020</td> <th>  Prob (F-statistic):</th> <td>4.61e-57</td>\n",
       "</tr>\n",
       "<tr>\n",
       "  <th>Time:</th>                 <td>16:01:28</td>     <th>  Log-Likelihood:    </th> <td> -2858.1</td>\n",
       "</tr>\n",
       "<tr>\n",
       "  <th>No. Observations:</th>      <td>   291</td>      <th>  AIC:               </th> <td>   5744.</td>\n",
       "</tr>\n",
       "<tr>\n",
       "  <th>Df Residuals:</th>          <td>   277</td>      <th>  BIC:               </th> <td>   5796.</td>\n",
       "</tr>\n",
       "<tr>\n",
       "  <th>Df Model:</th>              <td>    13</td>      <th>                     </th>     <td> </td>   \n",
       "</tr>\n",
       "<tr>\n",
       "  <th>Covariance Type:</th>      <td>nonrobust</td>    <th>                     </th>     <td> </td>   \n",
       "</tr>\n",
       "</table>\n",
       "<table class=\"simpletable\">\n",
       "<tr>\n",
       "                                               <td></td>                                                 <th>coef</th>     <th>std err</th>      <th>t</th>      <th>P>|t|</th>  <th>[0.025</th>    <th>0.975]</th>  \n",
       "</tr>\n",
       "<tr>\n",
       "  <th>Intercept</th>                                                                                  <td>-2479.2257</td> <td> 1093.158</td> <td>   -2.268</td> <td> 0.024</td> <td>-4631.177</td> <td> -327.274</td>\n",
       "</tr>\n",
       "<tr>\n",
       "  <th>C(model_name_or_path, Treatment(reference=\"bert-base-uncased\"))[T.albert-base-v1]</th>          <td>-1581.7411</td> <td>  893.841</td> <td>   -1.770</td> <td> 0.078</td> <td>-3341.325</td> <td>  177.843</td>\n",
       "</tr>\n",
       "<tr>\n",
       "  <th>C(model_name_or_path, Treatment(reference=\"bert-base-uncased\"))[T.bert-base-cased]</th>         <td>-1103.8545</td> <td> 1223.042</td> <td>   -0.903</td> <td> 0.368</td> <td>-3511.492</td> <td> 1303.783</td>\n",
       "</tr>\n",
       "<tr>\n",
       "  <th>C(model_name_or_path, Treatment(reference=\"bert-base-uncased\"))[T.distilbert-base-cased]</th>   <td>-2216.1283</td> <td> 1223.042</td> <td>   -1.812</td> <td> 0.071</td> <td>-4623.766</td> <td>  191.509</td>\n",
       "</tr>\n",
       "<tr>\n",
       "  <th>C(model_name_or_path, Treatment(reference=\"bert-base-uncased\"))[T.distilbert-base-uncased]</th> <td>-2815.8214</td> <td>  879.696</td> <td>   -3.201</td> <td> 0.002</td> <td>-4547.561</td> <td>-1084.082</td>\n",
       "</tr>\n",
       "<tr>\n",
       "  <th>C(model_name_or_path, Treatment(reference=\"bert-base-uncased\"))[T.roberta-base]</th>            <td>  -18.5762</td> <td>  879.696</td> <td>   -0.021</td> <td> 0.983</td> <td>-1750.315</td> <td> 1713.163</td>\n",
       "</tr>\n",
       "<tr>\n",
       "  <th>C(model_name_or_path, Treatment(reference=\"bert-base-uncased\"))[T.xlnet-base-cased]</th>        <td> 1527.9566</td> <td> 1005.060</td> <td>    1.520</td> <td> 0.130</td> <td> -450.569</td> <td> 3506.483</td>\n",
       "</tr>\n",
       "<tr>\n",
       "  <th>C(task_name, Treatment(reference=\"RTE\"))[T.CoLA]</th>                                           <td> 1895.5711</td> <td>  856.552</td> <td>    2.213</td> <td> 0.028</td> <td>  209.394</td> <td> 3581.749</td>\n",
       "</tr>\n",
       "<tr>\n",
       "  <th>C(task_name, Treatment(reference=\"RTE\"))[T.MRPC]</th>                                           <td>  162.1582</td> <td>  873.985</td> <td>    0.186</td> <td> 0.853</td> <td>-1558.338</td> <td> 1882.655</td>\n",
       "</tr>\n",
       "<tr>\n",
       "  <th>C(task_name, Treatment(reference=\"RTE\"))[T.SST-2]</th>                                          <td> 1.856e+04</td> <td> 1023.114</td> <td>   18.145</td> <td> 0.000</td> <td> 1.66e+04</td> <td> 2.06e+04</td>\n",
       "</tr>\n",
       "<tr>\n",
       "  <th>C(task_name, Treatment(reference=\"RTE\"))[T.STS-B]</th>                                          <td> 1441.0197</td> <td>  923.713</td> <td>    1.560</td> <td> 0.120</td> <td> -377.370</td> <td> 3259.409</td>\n",
       "</tr>\n",
       "<tr>\n",
       "  <th>C(task_name, Treatment(reference=\"RTE\"))[T.WNLI]</th>                                           <td>-1063.1029</td> <td>  923.713</td> <td>   -1.151</td> <td> 0.251</td> <td>-2881.492</td> <td>  755.287</td>\n",
       "</tr>\n",
       "<tr>\n",
       "  <th>per_device_train_batch_size</th>                                                                <td>    8.5231</td> <td>   26.856</td> <td>    0.317</td> <td> 0.751</td> <td>  -44.344</td> <td>   61.390</td>\n",
       "</tr>\n",
       "<tr>\n",
       "  <th>max_seq_length</th>                                                                             <td>   14.2938</td> <td>    1.682</td> <td>    8.496</td> <td> 0.000</td> <td>   10.982</td> <td>   17.606</td>\n",
       "</tr>\n",
       "</table>\n",
       "<table class=\"simpletable\">\n",
       "<tr>\n",
       "  <th>Omnibus:</th>       <td>281.773</td> <th>  Durbin-Watson:     </th> <td>   0.881</td> \n",
       "</tr>\n",
       "<tr>\n",
       "  <th>Prob(Omnibus):</th> <td> 0.000</td>  <th>  Jarque-Bera (JB):  </th> <td>10540.132</td>\n",
       "</tr>\n",
       "<tr>\n",
       "  <th>Skew:</th>          <td> 3.852</td>  <th>  Prob(JB):          </th> <td>    0.00</td> \n",
       "</tr>\n",
       "<tr>\n",
       "  <th>Kurtosis:</th>      <td>31.460</td>  <th>  Cond. No.          </th> <td>2.51e+03</td> \n",
       "</tr>\n",
       "</table><br/><br/>Warnings:<br/>[1] Standard Errors assume that the covariance matrix of the errors is correctly specified.<br/>[2] The condition number is large, 2.51e+03. This might indicate that there are<br/>strong multicollinearity or other numerical problems."
      ],
      "text/plain": [
       "<class 'statsmodels.iolib.summary.Summary'>\n",
       "\"\"\"\n",
       "                            OLS Regression Results                            \n",
       "==============================================================================\n",
       "Dep. Variable:        finetuning_time   R-squared:                       0.659\n",
       "Model:                            OLS   Adj. R-squared:                  0.643\n",
       "Method:                 Least Squares   F-statistic:                     41.19\n",
       "Date:                Thu, 05 Nov 2020   Prob (F-statistic):           4.61e-57\n",
       "Time:                        16:01:28   Log-Likelihood:                -2858.1\n",
       "No. Observations:                 291   AIC:                             5744.\n",
       "Df Residuals:                     277   BIC:                             5796.\n",
       "Df Model:                          13                                         \n",
       "Covariance Type:            nonrobust                                         \n",
       "==============================================================================================================================================================\n",
       "                                                                                                 coef    std err          t      P>|t|      [0.025      0.975]\n",
       "--------------------------------------------------------------------------------------------------------------------------------------------------------------\n",
       "Intercept                                                                                  -2479.2257   1093.158     -2.268      0.024   -4631.177    -327.274\n",
       "C(model_name_or_path, Treatment(reference=\"bert-base-uncased\"))[T.albert-base-v1]          -1581.7411    893.841     -1.770      0.078   -3341.325     177.843\n",
       "C(model_name_or_path, Treatment(reference=\"bert-base-uncased\"))[T.bert-base-cased]         -1103.8545   1223.042     -0.903      0.368   -3511.492    1303.783\n",
       "C(model_name_or_path, Treatment(reference=\"bert-base-uncased\"))[T.distilbert-base-cased]   -2216.1283   1223.042     -1.812      0.071   -4623.766     191.509\n",
       "C(model_name_or_path, Treatment(reference=\"bert-base-uncased\"))[T.distilbert-base-uncased] -2815.8214    879.696     -3.201      0.002   -4547.561   -1084.082\n",
       "C(model_name_or_path, Treatment(reference=\"bert-base-uncased\"))[T.roberta-base]              -18.5762    879.696     -0.021      0.983   -1750.315    1713.163\n",
       "C(model_name_or_path, Treatment(reference=\"bert-base-uncased\"))[T.xlnet-base-cased]         1527.9566   1005.060      1.520      0.130    -450.569    3506.483\n",
       "C(task_name, Treatment(reference=\"RTE\"))[T.CoLA]                                            1895.5711    856.552      2.213      0.028     209.394    3581.749\n",
       "C(task_name, Treatment(reference=\"RTE\"))[T.MRPC]                                             162.1582    873.985      0.186      0.853   -1558.338    1882.655\n",
       "C(task_name, Treatment(reference=\"RTE\"))[T.SST-2]                                           1.856e+04   1023.114     18.145      0.000    1.66e+04    2.06e+04\n",
       "C(task_name, Treatment(reference=\"RTE\"))[T.STS-B]                                           1441.0197    923.713      1.560      0.120    -377.370    3259.409\n",
       "C(task_name, Treatment(reference=\"RTE\"))[T.WNLI]                                           -1063.1029    923.713     -1.151      0.251   -2881.492     755.287\n",
       "per_device_train_batch_size                                                                    8.5231     26.856      0.317      0.751     -44.344      61.390\n",
       "max_seq_length                                                                                14.2938      1.682      8.496      0.000      10.982      17.606\n",
       "==============================================================================\n",
       "Omnibus:                      281.773   Durbin-Watson:                   0.881\n",
       "Prob(Omnibus):                  0.000   Jarque-Bera (JB):            10540.132\n",
       "Skew:                           3.852   Prob(JB):                         0.00\n",
       "Kurtosis:                      31.460   Cond. No.                     2.51e+03\n",
       "==============================================================================\n",
       "\n",
       "Warnings:\n",
       "[1] Standard Errors assume that the covariance matrix of the errors is correctly specified.\n",
       "[2] The condition number is large, 2.51e+03. This might indicate that there are\n",
       "strong multicollinearity or other numerical problems.\n",
       "\"\"\""
      ]
     },
     "execution_count": 37,
     "metadata": {},
     "output_type": "execute_result"
    }
   ],
   "source": [
    "# linear regression model (w/o transformation of variables)\n",
    "\n",
    "y, X = patsy.dmatrices('finetuning_time ~ C(model_name_or_path, Treatment(reference=\"bert-base-uncased\")) + C(task_name, Treatment(reference=\"RTE\")) + per_device_train_batch_size + max_seq_length', \n",
    "                       data3)\n",
    "\n",
    "# linear regression model\n",
    "model = linear_model.OLS(y, X).fit()\n",
    "model.summary()"
   ]
  },
  {
   "cell_type": "code",
   "execution_count": 59,
   "metadata": {},
   "outputs": [
    {
     "name": "stderr",
     "output_type": "stream",
     "text": [
      "<ipython-input-59-266c9dfb7fea>:2: SettingWithCopyWarning: \n",
      "A value is trying to be set on a copy of a slice from a DataFrame.\n",
      "Try using .loc[row_indexer,col_indexer] = value instead\n",
      "\n",
      "See the caveats in the documentation: https://pandas.pydata.org/pandas-docs/stable/user_guide/indexing.html#returning-a-view-versus-a-copy\n",
      "  data3['finetuning_time_log'] = data3.finetuning_time.apply(lambda x: math.log(x))\n"
     ]
    },
    {
     "data": {
      "text/plain": [
       "count    291.000000\n",
       "mean       7.145580\n",
       "std        1.419689\n",
       "min        3.696017\n",
       "25%        6.231395\n",
       "50%        7.086190\n",
       "75%        7.938295\n",
       "max       10.987647\n",
       "Name: finetuning_time_log, dtype: float64"
      ]
     },
     "execution_count": 59,
     "metadata": {},
     "output_type": "execute_result"
    }
   ],
   "source": [
    "# distribution of fine-tuning time is right skewed --> Take the log of the fine-tuning time\n",
    "data3['finetuning_time_log'] = data3.finetuning_time.apply(lambda x: math.log(x))\n",
    "data3.finetuning_time_log.describe()"
   ]
  },
  {
   "cell_type": "code",
   "execution_count": 39,
   "metadata": {
    "scrolled": false
   },
   "outputs": [
    {
     "data": {
      "text/html": [
       "<table class=\"simpletable\">\n",
       "<caption>OLS Regression Results</caption>\n",
       "<tr>\n",
       "  <th>Dep. Variable:</th>    <td>finetuning_time_log</td> <th>  R-squared:         </th> <td>   0.984</td> \n",
       "</tr>\n",
       "<tr>\n",
       "  <th>Model:</th>                    <td>OLS</td>         <th>  Adj. R-squared:    </th> <td>   0.983</td> \n",
       "</tr>\n",
       "<tr>\n",
       "  <th>Method:</th>              <td>Least Squares</td>    <th>  F-statistic:       </th> <td>   1274.</td> \n",
       "</tr>\n",
       "<tr>\n",
       "  <th>Date:</th>              <td>Thu, 05 Nov 2020</td>   <th>  Prob (F-statistic):</th> <td>1.78e-238</td>\n",
       "</tr>\n",
       "<tr>\n",
       "  <th>Time:</th>                  <td>16:01:36</td>       <th>  Log-Likelihood:    </th> <td>  83.297</td> \n",
       "</tr>\n",
       "<tr>\n",
       "  <th>No. Observations:</th>       <td>   291</td>        <th>  AIC:               </th> <td>  -138.6</td> \n",
       "</tr>\n",
       "<tr>\n",
       "  <th>Df Residuals:</th>           <td>   277</td>        <th>  BIC:               </th> <td>  -87.17</td> \n",
       "</tr>\n",
       "<tr>\n",
       "  <th>Df Model:</th>               <td>    13</td>        <th>                     </th>     <td> </td>    \n",
       "</tr>\n",
       "<tr>\n",
       "  <th>Covariance Type:</th>       <td>nonrobust</td>      <th>                     </th>     <td> </td>    \n",
       "</tr>\n",
       "</table>\n",
       "<table class=\"simpletable\">\n",
       "<tr>\n",
       "                                               <td></td>                                                 <th>coef</th>     <th>std err</th>      <th>t</th>      <th>P>|t|</th>  <th>[0.025</th>    <th>0.975]</th>  \n",
       "</tr>\n",
       "<tr>\n",
       "  <th>Intercept</th>                                                                                  <td>    5.5126</td> <td>    0.045</td> <td>  123.746</td> <td> 0.000</td> <td>    5.425</td> <td>    5.600</td>\n",
       "</tr>\n",
       "<tr>\n",
       "  <th>C(model_name_or_path, Treatment(reference=\"bert-base-uncased\"))[T.albert-base-v1]</th>          <td>   -0.0953</td> <td>    0.036</td> <td>   -2.616</td> <td> 0.009</td> <td>   -0.167</td> <td>   -0.024</td>\n",
       "</tr>\n",
       "<tr>\n",
       "  <th>C(model_name_or_path, Treatment(reference=\"bert-base-uncased\"))[T.bert-base-cased]</th>         <td>    0.0127</td> <td>    0.050</td> <td>    0.254</td> <td> 0.799</td> <td>   -0.085</td> <td>    0.111</td>\n",
       "</tr>\n",
       "<tr>\n",
       "  <th>C(model_name_or_path, Treatment(reference=\"bert-base-uncased\"))[T.distilbert-base-cased]</th>   <td>   -0.7139</td> <td>    0.050</td> <td>  -14.323</td> <td> 0.000</td> <td>   -0.812</td> <td>   -0.616</td>\n",
       "</tr>\n",
       "<tr>\n",
       "  <th>C(model_name_or_path, Treatment(reference=\"bert-base-uncased\"))[T.distilbert-base-uncased]</th> <td>   -0.6955</td> <td>    0.036</td> <td>  -19.400</td> <td> 0.000</td> <td>   -0.766</td> <td>   -0.625</td>\n",
       "</tr>\n",
       "<tr>\n",
       "  <th>C(model_name_or_path, Treatment(reference=\"bert-base-uncased\"))[T.roberta-base]</th>            <td>    0.0075</td> <td>    0.036</td> <td>    0.209</td> <td> 0.835</td> <td>   -0.063</td> <td>    0.078</td>\n",
       "</tr>\n",
       "<tr>\n",
       "  <th>C(model_name_or_path, Treatment(reference=\"bert-base-uncased\"))[T.xlnet-base-cased]</th>        <td>    0.9598</td> <td>    0.041</td> <td>   23.434</td> <td> 0.000</td> <td>    0.879</td> <td>    1.040</td>\n",
       "</tr>\n",
       "<tr>\n",
       "  <th>C(task_name, Treatment(reference=\"RTE\"))[T.CoLA]</th>                                           <td>    1.2047</td> <td>    0.035</td> <td>   34.513</td> <td> 0.000</td> <td>    1.136</td> <td>    1.273</td>\n",
       "</tr>\n",
       "<tr>\n",
       "  <th>C(task_name, Treatment(reference=\"RTE\"))[T.MRPC]</th>                                           <td>    0.3593</td> <td>    0.036</td> <td>   10.089</td> <td> 0.000</td> <td>    0.289</td> <td>    0.429</td>\n",
       "</tr>\n",
       "<tr>\n",
       "  <th>C(task_name, Treatment(reference=\"RTE\"))[T.SST-2]</th>                                          <td>    3.2659</td> <td>    0.042</td> <td>   78.333</td> <td> 0.000</td> <td>    3.184</td> <td>    3.348</td>\n",
       "</tr>\n",
       "<tr>\n",
       "  <th>C(task_name, Treatment(reference=\"RTE\"))[T.STS-B]</th>                                          <td>    0.8380</td> <td>    0.038</td> <td>   22.262</td> <td> 0.000</td> <td>    0.764</td> <td>    0.912</td>\n",
       "</tr>\n",
       "<tr>\n",
       "  <th>C(task_name, Treatment(reference=\"RTE\"))[T.WNLI]</th>                                           <td>   -1.3674</td> <td>    0.038</td> <td>  -36.327</td> <td> 0.000</td> <td>   -1.442</td> <td>   -1.293</td>\n",
       "</tr>\n",
       "<tr>\n",
       "  <th>per_device_train_batch_size</th>                                                                <td>   -0.0041</td> <td>    0.001</td> <td>   -3.704</td> <td> 0.000</td> <td>   -0.006</td> <td>   -0.002</td>\n",
       "</tr>\n",
       "<tr>\n",
       "  <th>max_seq_length</th>                                                                             <td>    0.0040</td> <td> 6.86e-05</td> <td>   58.657</td> <td> 0.000</td> <td>    0.004</td> <td>    0.004</td>\n",
       "</tr>\n",
       "</table>\n",
       "<table class=\"simpletable\">\n",
       "<tr>\n",
       "  <th>Omnibus:</th>       <td> 4.954</td> <th>  Durbin-Watson:     </th> <td>   1.821</td>\n",
       "</tr>\n",
       "<tr>\n",
       "  <th>Prob(Omnibus):</th> <td> 0.084</td> <th>  Jarque-Bera (JB):  </th> <td>   4.832</td>\n",
       "</tr>\n",
       "<tr>\n",
       "  <th>Skew:</th>          <td>-0.315</td> <th>  Prob(JB):          </th> <td>  0.0893</td>\n",
       "</tr>\n",
       "<tr>\n",
       "  <th>Kurtosis:</th>      <td> 3.042</td> <th>  Cond. No.          </th> <td>2.51e+03</td>\n",
       "</tr>\n",
       "</table><br/><br/>Warnings:<br/>[1] Standard Errors assume that the covariance matrix of the errors is correctly specified.<br/>[2] The condition number is large, 2.51e+03. This might indicate that there are<br/>strong multicollinearity or other numerical problems."
      ],
      "text/plain": [
       "<class 'statsmodels.iolib.summary.Summary'>\n",
       "\"\"\"\n",
       "                             OLS Regression Results                            \n",
       "===============================================================================\n",
       "Dep. Variable:     finetuning_time_log   R-squared:                       0.984\n",
       "Model:                             OLS   Adj. R-squared:                  0.983\n",
       "Method:                  Least Squares   F-statistic:                     1274.\n",
       "Date:                 Thu, 05 Nov 2020   Prob (F-statistic):          1.78e-238\n",
       "Time:                         16:01:36   Log-Likelihood:                 83.297\n",
       "No. Observations:                  291   AIC:                            -138.6\n",
       "Df Residuals:                      277   BIC:                            -87.17\n",
       "Df Model:                           13                                         \n",
       "Covariance Type:             nonrobust                                         \n",
       "==============================================================================================================================================================\n",
       "                                                                                                 coef    std err          t      P>|t|      [0.025      0.975]\n",
       "--------------------------------------------------------------------------------------------------------------------------------------------------------------\n",
       "Intercept                                                                                      5.5126      0.045    123.746      0.000       5.425       5.600\n",
       "C(model_name_or_path, Treatment(reference=\"bert-base-uncased\"))[T.albert-base-v1]             -0.0953      0.036     -2.616      0.009      -0.167      -0.024\n",
       "C(model_name_or_path, Treatment(reference=\"bert-base-uncased\"))[T.bert-base-cased]             0.0127      0.050      0.254      0.799      -0.085       0.111\n",
       "C(model_name_or_path, Treatment(reference=\"bert-base-uncased\"))[T.distilbert-base-cased]      -0.7139      0.050    -14.323      0.000      -0.812      -0.616\n",
       "C(model_name_or_path, Treatment(reference=\"bert-base-uncased\"))[T.distilbert-base-uncased]    -0.6955      0.036    -19.400      0.000      -0.766      -0.625\n",
       "C(model_name_or_path, Treatment(reference=\"bert-base-uncased\"))[T.roberta-base]                0.0075      0.036      0.209      0.835      -0.063       0.078\n",
       "C(model_name_or_path, Treatment(reference=\"bert-base-uncased\"))[T.xlnet-base-cased]            0.9598      0.041     23.434      0.000       0.879       1.040\n",
       "C(task_name, Treatment(reference=\"RTE\"))[T.CoLA]                                               1.2047      0.035     34.513      0.000       1.136       1.273\n",
       "C(task_name, Treatment(reference=\"RTE\"))[T.MRPC]                                               0.3593      0.036     10.089      0.000       0.289       0.429\n",
       "C(task_name, Treatment(reference=\"RTE\"))[T.SST-2]                                              3.2659      0.042     78.333      0.000       3.184       3.348\n",
       "C(task_name, Treatment(reference=\"RTE\"))[T.STS-B]                                              0.8380      0.038     22.262      0.000       0.764       0.912\n",
       "C(task_name, Treatment(reference=\"RTE\"))[T.WNLI]                                              -1.3674      0.038    -36.327      0.000      -1.442      -1.293\n",
       "per_device_train_batch_size                                                                   -0.0041      0.001     -3.704      0.000      -0.006      -0.002\n",
       "max_seq_length                                                                                 0.0040   6.86e-05     58.657      0.000       0.004       0.004\n",
       "==============================================================================\n",
       "Omnibus:                        4.954   Durbin-Watson:                   1.821\n",
       "Prob(Omnibus):                  0.084   Jarque-Bera (JB):                4.832\n",
       "Skew:                          -0.315   Prob(JB):                       0.0893\n",
       "Kurtosis:                       3.042   Cond. No.                     2.51e+03\n",
       "==============================================================================\n",
       "\n",
       "Warnings:\n",
       "[1] Standard Errors assume that the covariance matrix of the errors is correctly specified.\n",
       "[2] The condition number is large, 2.51e+03. This might indicate that there are\n",
       "strong multicollinearity or other numerical problems.\n",
       "\"\"\""
      ]
     },
     "execution_count": 39,
     "metadata": {},
     "output_type": "execute_result"
    }
   ],
   "source": [
    "# log-linear regression model with logarithmized fine-tuning time\n",
    "\n",
    "y, X = patsy.dmatrices('finetuning_time_log ~ C(model_name_or_path, Treatment(reference=\"bert-base-uncased\")) + C(task_name, Treatment(reference=\"RTE\")) + per_device_train_batch_size + max_seq_length', \n",
    "                       data3)\n",
    "\n",
    "# linear regression model\n",
    "model = linear_model.OLS(y, X).fit()\n",
    "model.summary()\n",
    "\n",
    "# Jarque-Bera Test: H0 (residuals follow a normal distributio) is rejected\n",
    "# Durbin-Watson test: d = 1.82 (within the range of 1.5 and 2.5 --> autocorrelation should not be problematic)\n",
    "\n",
    "# R^2 of log-linear regression model is higher (0.984) than the one of the linear regression model (0.659)\n",
    "# --> Use log-linear regression model "
   ]
  },
  {
   "cell_type": "code",
   "execution_count": 40,
   "metadata": {},
   "outputs": [
    {
     "name": "stderr",
     "output_type": "stream",
     "text": [
      "<ipython-input-40-51c140a4f20d>:3: SettingWithCopyWarning: \n",
      "A value is trying to be set on a copy of a slice from a DataFrame.\n",
      "Try using .loc[row_indexer,col_indexer] = value instead\n",
      "\n",
      "See the caveats in the documentation: https://pandas.pydata.org/pandas-docs/stable/user_guide/indexing.html#returning-a-view-versus-a-copy\n",
      "  data3['seq_len_quadr'] = data3.max_seq_length.apply(lambda x: x**2)\n"
     ]
    },
    {
     "data": {
      "text/html": [
       "<table class=\"simpletable\">\n",
       "<caption>OLS Regression Results</caption>\n",
       "<tr>\n",
       "  <th>Dep. Variable:</th>    <td>finetuning_time_log</td> <th>  R-squared:         </th> <td>   0.974</td> \n",
       "</tr>\n",
       "<tr>\n",
       "  <th>Model:</th>                    <td>OLS</td>         <th>  Adj. R-squared:    </th> <td>   0.973</td> \n",
       "</tr>\n",
       "<tr>\n",
       "  <th>Method:</th>              <td>Least Squares</td>    <th>  F-statistic:       </th> <td>   807.9</td> \n",
       "</tr>\n",
       "<tr>\n",
       "  <th>Date:</th>              <td>Thu, 05 Nov 2020</td>   <th>  Prob (F-statistic):</th> <td>1.20e-211</td>\n",
       "</tr>\n",
       "<tr>\n",
       "  <th>Time:</th>                  <td>16:06:22</td>       <th>  Log-Likelihood:    </th> <td>  18.345</td> \n",
       "</tr>\n",
       "<tr>\n",
       "  <th>No. Observations:</th>       <td>   291</td>        <th>  AIC:               </th> <td>  -8.689</td> \n",
       "</tr>\n",
       "<tr>\n",
       "  <th>Df Residuals:</th>           <td>   277</td>        <th>  BIC:               </th> <td>   42.74</td> \n",
       "</tr>\n",
       "<tr>\n",
       "  <th>Df Model:</th>               <td>    13</td>        <th>                     </th>     <td> </td>    \n",
       "</tr>\n",
       "<tr>\n",
       "  <th>Covariance Type:</th>       <td>nonrobust</td>      <th>                     </th>     <td> </td>    \n",
       "</tr>\n",
       "</table>\n",
       "<table class=\"simpletable\">\n",
       "<tr>\n",
       "                                               <td></td>                                                 <th>coef</th>     <th>std err</th>      <th>t</th>      <th>P>|t|</th>  <th>[0.025</th>    <th>0.975]</th>  \n",
       "</tr>\n",
       "<tr>\n",
       "  <th>Intercept</th>                                                                                  <td>    6.0366</td> <td>    0.052</td> <td>  116.692</td> <td> 0.000</td> <td>    5.935</td> <td>    6.138</td>\n",
       "</tr>\n",
       "<tr>\n",
       "  <th>C(model_name_or_path, Treatment(reference=\"bert-base-uncased\"))[T.albert-base-v1]</th>          <td>   -0.0945</td> <td>    0.046</td> <td>   -2.075</td> <td> 0.039</td> <td>   -0.184</td> <td>   -0.005</td>\n",
       "</tr>\n",
       "<tr>\n",
       "  <th>C(model_name_or_path, Treatment(reference=\"bert-base-uncased\"))[T.bert-base-cased]</th>         <td>    0.0106</td> <td>    0.062</td> <td>    0.171</td> <td> 0.865</td> <td>   -0.112</td> <td>    0.133</td>\n",
       "</tr>\n",
       "<tr>\n",
       "  <th>C(model_name_or_path, Treatment(reference=\"bert-base-uncased\"))[T.distilbert-base-cased]</th>   <td>   -0.7159</td> <td>    0.062</td> <td>  -11.490</td> <td> 0.000</td> <td>   -0.839</td> <td>   -0.593</td>\n",
       "</tr>\n",
       "<tr>\n",
       "  <th>C(model_name_or_path, Treatment(reference=\"bert-base-uncased\"))[T.distilbert-base-uncased]</th> <td>   -0.6955</td> <td>    0.045</td> <td>  -15.519</td> <td> 0.000</td> <td>   -0.784</td> <td>   -0.607</td>\n",
       "</tr>\n",
       "<tr>\n",
       "  <th>C(model_name_or_path, Treatment(reference=\"bert-base-uncased\"))[T.roberta-base]</th>            <td>    0.0075</td> <td>    0.045</td> <td>    0.167</td> <td> 0.868</td> <td>   -0.081</td> <td>    0.096</td>\n",
       "</tr>\n",
       "<tr>\n",
       "  <th>C(model_name_or_path, Treatment(reference=\"bert-base-uncased\"))[T.xlnet-base-cased]</th>        <td>    0.9602</td> <td>    0.051</td> <td>   18.753</td> <td> 0.000</td> <td>    0.859</td> <td>    1.061</td>\n",
       "</tr>\n",
       "<tr>\n",
       "  <th>C(task_name, Treatment(reference=\"RTE\"))[T.CoLA]</th>                                           <td>    1.2048</td> <td>    0.044</td> <td>   27.611</td> <td> 0.000</td> <td>    1.119</td> <td>    1.291</td>\n",
       "</tr>\n",
       "<tr>\n",
       "  <th>C(task_name, Treatment(reference=\"RTE\"))[T.MRPC]</th>                                           <td>    0.3574</td> <td>    0.045</td> <td>    8.026</td> <td> 0.000</td> <td>    0.270</td> <td>    0.445</td>\n",
       "</tr>\n",
       "<tr>\n",
       "  <th>C(task_name, Treatment(reference=\"RTE\"))[T.SST-2]</th>                                          <td>    3.2666</td> <td>    0.052</td> <td>   62.674</td> <td> 0.000</td> <td>    3.164</td> <td>    3.369</td>\n",
       "</tr>\n",
       "<tr>\n",
       "  <th>C(task_name, Treatment(reference=\"RTE\"))[T.STS-B]</th>                                          <td>    0.8374</td> <td>    0.047</td> <td>   17.795</td> <td> 0.000</td> <td>    0.745</td> <td>    0.930</td>\n",
       "</tr>\n",
       "<tr>\n",
       "  <th>C(task_name, Treatment(reference=\"RTE\"))[T.WNLI]</th>                                           <td>   -1.3681</td> <td>    0.047</td> <td>  -29.074</td> <td> 0.000</td> <td>   -1.461</td> <td>   -1.275</td>\n",
       "</tr>\n",
       "<tr>\n",
       "  <th>per_device_train_batch_size</th>                                                                <td>   -0.0041</td> <td>    0.001</td> <td>   -2.963</td> <td> 0.003</td> <td>   -0.007</td> <td>   -0.001</td>\n",
       "</tr>\n",
       "<tr>\n",
       "  <th>seq_len_quadr</th>                                                                              <td> 5.906e-06</td> <td> 1.29e-07</td> <td>   45.847</td> <td> 0.000</td> <td> 5.65e-06</td> <td> 6.16e-06</td>\n",
       "</tr>\n",
       "</table>\n",
       "<table class=\"simpletable\">\n",
       "<tr>\n",
       "  <th>Omnibus:</th>       <td>10.199</td> <th>  Durbin-Watson:     </th> <td>   1.319</td>\n",
       "</tr>\n",
       "<tr>\n",
       "  <th>Prob(Omnibus):</th> <td> 0.006</td> <th>  Jarque-Bera (JB):  </th> <td>   8.489</td>\n",
       "</tr>\n",
       "<tr>\n",
       "  <th>Skew:</th>          <td>-0.334</td> <th>  Prob(JB):          </th> <td>  0.0143</td>\n",
       "</tr>\n",
       "<tr>\n",
       "  <th>Kurtosis:</th>      <td> 2.497</td> <th>  Cond. No.          </th> <td>1.16e+06</td>\n",
       "</tr>\n",
       "</table><br/><br/>Warnings:<br/>[1] Standard Errors assume that the covariance matrix of the errors is correctly specified.<br/>[2] The condition number is large, 1.16e+06. This might indicate that there are<br/>strong multicollinearity or other numerical problems."
      ],
      "text/plain": [
       "<class 'statsmodels.iolib.summary.Summary'>\n",
       "\"\"\"\n",
       "                             OLS Regression Results                            \n",
       "===============================================================================\n",
       "Dep. Variable:     finetuning_time_log   R-squared:                       0.974\n",
       "Model:                             OLS   Adj. R-squared:                  0.973\n",
       "Method:                  Least Squares   F-statistic:                     807.9\n",
       "Date:                 Thu, 05 Nov 2020   Prob (F-statistic):          1.20e-211\n",
       "Time:                         16:06:22   Log-Likelihood:                 18.345\n",
       "No. Observations:                  291   AIC:                            -8.689\n",
       "Df Residuals:                      277   BIC:                             42.74\n",
       "Df Model:                           13                                         \n",
       "Covariance Type:             nonrobust                                         \n",
       "==============================================================================================================================================================\n",
       "                                                                                                 coef    std err          t      P>|t|      [0.025      0.975]\n",
       "--------------------------------------------------------------------------------------------------------------------------------------------------------------\n",
       "Intercept                                                                                      6.0366      0.052    116.692      0.000       5.935       6.138\n",
       "C(model_name_or_path, Treatment(reference=\"bert-base-uncased\"))[T.albert-base-v1]             -0.0945      0.046     -2.075      0.039      -0.184      -0.005\n",
       "C(model_name_or_path, Treatment(reference=\"bert-base-uncased\"))[T.bert-base-cased]             0.0106      0.062      0.171      0.865      -0.112       0.133\n",
       "C(model_name_or_path, Treatment(reference=\"bert-base-uncased\"))[T.distilbert-base-cased]      -0.7159      0.062    -11.490      0.000      -0.839      -0.593\n",
       "C(model_name_or_path, Treatment(reference=\"bert-base-uncased\"))[T.distilbert-base-uncased]    -0.6955      0.045    -15.519      0.000      -0.784      -0.607\n",
       "C(model_name_or_path, Treatment(reference=\"bert-base-uncased\"))[T.roberta-base]                0.0075      0.045      0.167      0.868      -0.081       0.096\n",
       "C(model_name_or_path, Treatment(reference=\"bert-base-uncased\"))[T.xlnet-base-cased]            0.9602      0.051     18.753      0.000       0.859       1.061\n",
       "C(task_name, Treatment(reference=\"RTE\"))[T.CoLA]                                               1.2048      0.044     27.611      0.000       1.119       1.291\n",
       "C(task_name, Treatment(reference=\"RTE\"))[T.MRPC]                                               0.3574      0.045      8.026      0.000       0.270       0.445\n",
       "C(task_name, Treatment(reference=\"RTE\"))[T.SST-2]                                              3.2666      0.052     62.674      0.000       3.164       3.369\n",
       "C(task_name, Treatment(reference=\"RTE\"))[T.STS-B]                                              0.8374      0.047     17.795      0.000       0.745       0.930\n",
       "C(task_name, Treatment(reference=\"RTE\"))[T.WNLI]                                              -1.3681      0.047    -29.074      0.000      -1.461      -1.275\n",
       "per_device_train_batch_size                                                                   -0.0041      0.001     -2.963      0.003      -0.007      -0.001\n",
       "seq_len_quadr                                                                               5.906e-06   1.29e-07     45.847      0.000    5.65e-06    6.16e-06\n",
       "==============================================================================\n",
       "Omnibus:                       10.199   Durbin-Watson:                   1.319\n",
       "Prob(Omnibus):                  0.006   Jarque-Bera (JB):                8.489\n",
       "Skew:                          -0.334   Prob(JB):                       0.0143\n",
       "Kurtosis:                       2.497   Cond. No.                     1.16e+06\n",
       "==============================================================================\n",
       "\n",
       "Warnings:\n",
       "[1] Standard Errors assume that the covariance matrix of the errors is correctly specified.\n",
       "[2] The condition number is large, 1.16e+06. This might indicate that there are\n",
       "strong multicollinearity or other numerical problems.\n",
       "\"\"\""
      ]
     },
     "execution_count": 40,
     "metadata": {},
     "output_type": "execute_result"
    }
   ],
   "source": [
    "# regression model (with logarithmized fine-tuning time and quadr. max. seq. length)\n",
    "\n",
    "data3['seq_len_quadr'] = data3.max_seq_length.apply(lambda x: x**2)\n",
    "\n",
    "y, X = patsy.dmatrices('finetuning_time_log ~ C(model_name_or_path, Treatment(reference=\"bert-base-uncased\")) + C(task_name, Treatment(reference=\"RTE\")) + per_device_train_batch_size + seq_len_quadr', \n",
    "                       data3)\n",
    "\n",
    "# regression model\n",
    "model = linear_model.OLS(y, X).fit()\n",
    "model.summary()\n",
    "\n",
    "## R^2 is worse (0.974) than the one of log-linear regression model (0.984) --> stick with log-linear regression model"
   ]
  },
  {
   "cell_type": "code",
   "execution_count": 43,
   "metadata": {},
   "outputs": [
    {
     "data": {
      "text/html": [
       "<table class=\"simpletable\">\n",
       "<caption>OLS Regression Results</caption>\n",
       "<tr>\n",
       "  <th>Dep. Variable:</th>    <td>finetuning_time_log</td> <th>  R-squared:         </th> <td>   0.989</td> \n",
       "</tr>\n",
       "<tr>\n",
       "  <th>Model:</th>                    <td>OLS</td>         <th>  Adj. R-squared:    </th> <td>   0.988</td> \n",
       "</tr>\n",
       "<tr>\n",
       "  <th>Method:</th>              <td>Least Squares</td>    <th>  F-statistic:       </th> <td>   1721.</td> \n",
       "</tr>\n",
       "<tr>\n",
       "  <th>Date:</th>              <td>Thu, 05 Nov 2020</td>   <th>  Prob (F-statistic):</th> <td>2.93e-259</td>\n",
       "</tr>\n",
       "<tr>\n",
       "  <th>Time:</th>                  <td>16:16:33</td>       <th>  Log-Likelihood:    </th> <td>  137.58</td> \n",
       "</tr>\n",
       "<tr>\n",
       "  <th>No. Observations:</th>       <td>   291</td>        <th>  AIC:               </th> <td>  -245.2</td> \n",
       "</tr>\n",
       "<tr>\n",
       "  <th>Df Residuals:</th>           <td>   276</td>        <th>  BIC:               </th> <td>  -190.1</td> \n",
       "</tr>\n",
       "<tr>\n",
       "  <th>Df Model:</th>               <td>    14</td>        <th>                     </th>     <td> </td>    \n",
       "</tr>\n",
       "<tr>\n",
       "  <th>Covariance Type:</th>       <td>nonrobust</td>      <th>                     </th>     <td> </td>    \n",
       "</tr>\n",
       "</table>\n",
       "<table class=\"simpletable\">\n",
       "<tr>\n",
       "                                               <td></td>                                                 <th>coef</th>     <th>std err</th>      <th>t</th>      <th>P>|t|</th>  <th>[0.025</th>    <th>0.975]</th>  \n",
       "</tr>\n",
       "<tr>\n",
       "  <th>Intercept</th>                                                                                  <td>    5.8687</td> <td>    0.049</td> <td>  120.099</td> <td> 0.000</td> <td>    5.773</td> <td>    5.965</td>\n",
       "</tr>\n",
       "<tr>\n",
       "  <th>C(model_name_or_path, Treatment(reference=\"bert-base-uncased\"))[T.albert-base-v1]</th>          <td>   -0.0953</td> <td>    0.030</td> <td>   -3.147</td> <td> 0.002</td> <td>   -0.155</td> <td>   -0.036</td>\n",
       "</tr>\n",
       "<tr>\n",
       "  <th>C(model_name_or_path, Treatment(reference=\"bert-base-uncased\"))[T.bert-base-cased]</th>         <td>    0.0127</td> <td>    0.041</td> <td>    0.306</td> <td> 0.760</td> <td>   -0.069</td> <td>    0.094</td>\n",
       "</tr>\n",
       "<tr>\n",
       "  <th>C(model_name_or_path, Treatment(reference=\"bert-base-uncased\"))[T.distilbert-base-cased]</th>   <td>   -0.7139</td> <td>    0.041</td> <td>  -17.229</td> <td> 0.000</td> <td>   -0.795</td> <td>   -0.632</td>\n",
       "</tr>\n",
       "<tr>\n",
       "  <th>C(model_name_or_path, Treatment(reference=\"bert-base-uncased\"))[T.distilbert-base-uncased]</th> <td>   -0.6955</td> <td>    0.030</td> <td>  -23.337</td> <td> 0.000</td> <td>   -0.754</td> <td>   -0.637</td>\n",
       "</tr>\n",
       "<tr>\n",
       "  <th>C(model_name_or_path, Treatment(reference=\"bert-base-uncased\"))[T.roberta-base]</th>            <td>    0.0075</td> <td>    0.030</td> <td>    0.251</td> <td> 0.802</td> <td>   -0.051</td> <td>    0.066</td>\n",
       "</tr>\n",
       "<tr>\n",
       "  <th>C(model_name_or_path, Treatment(reference=\"bert-base-uncased\"))[T.xlnet-base-cased]</th>        <td>    0.9598</td> <td>    0.034</td> <td>   28.188</td> <td> 0.000</td> <td>    0.893</td> <td>    1.027</td>\n",
       "</tr>\n",
       "<tr>\n",
       "  <th>C(task_name, Treatment(reference=\"RTE\"))[T.CoLA]</th>                                           <td>    1.2047</td> <td>    0.029</td> <td>   41.515</td> <td> 0.000</td> <td>    1.148</td> <td>    1.262</td>\n",
       "</tr>\n",
       "<tr>\n",
       "  <th>C(task_name, Treatment(reference=\"RTE\"))[T.MRPC]</th>                                           <td>    0.3593</td> <td>    0.030</td> <td>   12.136</td> <td> 0.000</td> <td>    0.301</td> <td>    0.418</td>\n",
       "</tr>\n",
       "<tr>\n",
       "  <th>C(task_name, Treatment(reference=\"RTE\"))[T.SST-2]</th>                                          <td>    3.2659</td> <td>    0.035</td> <td>   94.226</td> <td> 0.000</td> <td>    3.198</td> <td>    3.334</td>\n",
       "</tr>\n",
       "<tr>\n",
       "  <th>C(task_name, Treatment(reference=\"RTE\"))[T.STS-B]</th>                                          <td>    0.8380</td> <td>    0.031</td> <td>   26.779</td> <td> 0.000</td> <td>    0.776</td> <td>    0.900</td>\n",
       "</tr>\n",
       "<tr>\n",
       "  <th>C(task_name, Treatment(reference=\"RTE\"))[T.WNLI]</th>                                           <td>   -1.3674</td> <td>    0.031</td> <td>  -43.698</td> <td> 0.000</td> <td>   -1.429</td> <td>   -1.306</td>\n",
       "</tr>\n",
       "<tr>\n",
       "  <th>per_device_train_batch_size</th>                                                                <td>   -0.0231</td> <td>    0.002</td> <td>  -11.954</td> <td> 0.000</td> <td>   -0.027</td> <td>   -0.019</td>\n",
       "</tr>\n",
       "<tr>\n",
       "  <th>max_seq_length</th>                                                                             <td>    0.0028</td> <td>    0.000</td> <td>   23.584</td> <td> 0.000</td> <td>    0.003</td> <td>    0.003</td>\n",
       "</tr>\n",
       "<tr>\n",
       "  <th>per_device_train_batch_size:max_seq_length</th>                                                 <td> 6.342e-05</td> <td> 5.68e-06</td> <td>   11.172</td> <td> 0.000</td> <td> 5.22e-05</td> <td> 7.46e-05</td>\n",
       "</tr>\n",
       "</table>\n",
       "<table class=\"simpletable\">\n",
       "<tr>\n",
       "  <th>Omnibus:</th>       <td>61.145</td> <th>  Durbin-Watson:     </th> <td>   1.368</td>\n",
       "</tr>\n",
       "<tr>\n",
       "  <th>Prob(Omnibus):</th> <td> 0.000</td> <th>  Jarque-Bera (JB):  </th> <td> 227.187</td>\n",
       "</tr>\n",
       "<tr>\n",
       "  <th>Skew:</th>          <td>-0.840</td> <th>  Prob(JB):          </th> <td>4.64e-50</td>\n",
       "</tr>\n",
       "<tr>\n",
       "  <th>Kurtosis:</th>      <td> 6.989</td> <th>  Cond. No.          </th> <td>5.45e+04</td>\n",
       "</tr>\n",
       "</table><br/><br/>Warnings:<br/>[1] Standard Errors assume that the covariance matrix of the errors is correctly specified.<br/>[2] The condition number is large, 5.45e+04. This might indicate that there are<br/>strong multicollinearity or other numerical problems."
      ],
      "text/plain": [
       "<class 'statsmodels.iolib.summary.Summary'>\n",
       "\"\"\"\n",
       "                             OLS Regression Results                            \n",
       "===============================================================================\n",
       "Dep. Variable:     finetuning_time_log   R-squared:                       0.989\n",
       "Model:                             OLS   Adj. R-squared:                  0.988\n",
       "Method:                  Least Squares   F-statistic:                     1721.\n",
       "Date:                 Thu, 05 Nov 2020   Prob (F-statistic):          2.93e-259\n",
       "Time:                         16:16:33   Log-Likelihood:                 137.58\n",
       "No. Observations:                  291   AIC:                            -245.2\n",
       "Df Residuals:                      276   BIC:                            -190.1\n",
       "Df Model:                           14                                         \n",
       "Covariance Type:             nonrobust                                         \n",
       "==============================================================================================================================================================\n",
       "                                                                                                 coef    std err          t      P>|t|      [0.025      0.975]\n",
       "--------------------------------------------------------------------------------------------------------------------------------------------------------------\n",
       "Intercept                                                                                      5.8687      0.049    120.099      0.000       5.773       5.965\n",
       "C(model_name_or_path, Treatment(reference=\"bert-base-uncased\"))[T.albert-base-v1]             -0.0953      0.030     -3.147      0.002      -0.155      -0.036\n",
       "C(model_name_or_path, Treatment(reference=\"bert-base-uncased\"))[T.bert-base-cased]             0.0127      0.041      0.306      0.760      -0.069       0.094\n",
       "C(model_name_or_path, Treatment(reference=\"bert-base-uncased\"))[T.distilbert-base-cased]      -0.7139      0.041    -17.229      0.000      -0.795      -0.632\n",
       "C(model_name_or_path, Treatment(reference=\"bert-base-uncased\"))[T.distilbert-base-uncased]    -0.6955      0.030    -23.337      0.000      -0.754      -0.637\n",
       "C(model_name_or_path, Treatment(reference=\"bert-base-uncased\"))[T.roberta-base]                0.0075      0.030      0.251      0.802      -0.051       0.066\n",
       "C(model_name_or_path, Treatment(reference=\"bert-base-uncased\"))[T.xlnet-base-cased]            0.9598      0.034     28.188      0.000       0.893       1.027\n",
       "C(task_name, Treatment(reference=\"RTE\"))[T.CoLA]                                               1.2047      0.029     41.515      0.000       1.148       1.262\n",
       "C(task_name, Treatment(reference=\"RTE\"))[T.MRPC]                                               0.3593      0.030     12.136      0.000       0.301       0.418\n",
       "C(task_name, Treatment(reference=\"RTE\"))[T.SST-2]                                              3.2659      0.035     94.226      0.000       3.198       3.334\n",
       "C(task_name, Treatment(reference=\"RTE\"))[T.STS-B]                                              0.8380      0.031     26.779      0.000       0.776       0.900\n",
       "C(task_name, Treatment(reference=\"RTE\"))[T.WNLI]                                              -1.3674      0.031    -43.698      0.000      -1.429      -1.306\n",
       "per_device_train_batch_size                                                                   -0.0231      0.002    -11.954      0.000      -0.027      -0.019\n",
       "max_seq_length                                                                                 0.0028      0.000     23.584      0.000       0.003       0.003\n",
       "per_device_train_batch_size:max_seq_length                                                  6.342e-05   5.68e-06     11.172      0.000    5.22e-05    7.46e-05\n",
       "==============================================================================\n",
       "Omnibus:                       61.145   Durbin-Watson:                   1.368\n",
       "Prob(Omnibus):                  0.000   Jarque-Bera (JB):              227.187\n",
       "Skew:                          -0.840   Prob(JB):                     4.64e-50\n",
       "Kurtosis:                       6.989   Cond. No.                     5.45e+04\n",
       "==============================================================================\n",
       "\n",
       "Warnings:\n",
       "[1] Standard Errors assume that the covariance matrix of the errors is correctly specified.\n",
       "[2] The condition number is large, 5.45e+04. This might indicate that there are\n",
       "strong multicollinearity or other numerical problems.\n",
       "\"\"\""
      ]
     },
     "execution_count": 43,
     "metadata": {},
     "output_type": "execute_result"
    }
   ],
   "source": [
    "# log-linear regression model with logarithmized fine-tuning time and interaction between maximum sequence length and batch size\n",
    "\n",
    "y, X = patsy.dmatrices('finetuning_time_log ~ C(model_name_or_path, Treatment(reference=\"bert-base-uncased\")) + C(task_name, Treatment(reference=\"RTE\")) + per_device_train_batch_size + max_seq_length + per_device_train_batch_size:max_seq_length', \n",
    "                       data3)\n",
    "\n",
    "# log-linear regression model\n",
    "model = linear_model.OLS(y, X).fit()\n",
    "model.summary()\n",
    "\n",
    "# R^2 is slightly better (0.989) than the one of log-linear regression (0.984) model BUT since the other model is more comprehensive \n",
    "# --> stick with log-linear regression model (w/o interaction)"
   ]
  },
  {
   "cell_type": "code",
   "execution_count": 50,
   "metadata": {},
   "outputs": [
    {
     "data": {
      "text/plain": [
       "<Figure size 720x720 with 0 Axes>"
      ]
     },
     "metadata": {},
     "output_type": "display_data"
    },
    {
     "data": {
      "image/png": "[encoded data removed]",
      "text/plain": [
       "<Figure size 432x288 with 1 Axes>"
      ]
     },
     "metadata": {
      "needs_background": "light"
     },
     "output_type": "display_data"
    }
   ],
   "source": [
    "# residuals (QQ Plot)\n",
    "res = model.resid\n",
    "plt.figure(figsize = (10, 10))\n",
    "fig = sm.qqplot(res, line='s', fit = True)\n",
    "plt.xlabel('Theoretical Quantiles', fontsize = 16)\n",
    "plt.ylabel('Sample Quantiles', fontsize = 16)\n",
    "plt.title('Normal QQ-plot', fontsize = 18)\n",
    "plt.tight_layout()\n",
    "plt.show()\n",
    "fig.savefig('finetuning_time_qqplot.png')"
   ]
  },
  {
   "cell_type": "markdown",
   "metadata": {},
   "source": [
    "#### Random Forest"
   ]
  },
  {
   "cell_type": "code",
   "execution_count": 51,
   "metadata": {
    "scrolled": true
   },
   "outputs": [
    {
     "name": "stderr",
     "output_type": "stream",
     "text": [
      "<ipython-input-51-30a4e8f3ad0a>:8: SettingWithCopyWarning: \n",
      "A value is trying to be set on a copy of a slice from a DataFrame.\n",
      "Try using .loc[row_indexer,col_indexer] = value instead\n",
      "\n",
      "See the caveats in the documentation: https://pandas.pydata.org/pandas-docs/stable/user_guide/indexing.html#returning-a-view-versus-a-copy\n",
      "  data3['model_encoded'] = le.transform(data3.model_name_or_path)\n"
     ]
    },
    {
     "data": {
      "text/plain": [
       "array([0, 1, 2, 3, 4, 5, 6])"
      ]
     },
     "execution_count": 51,
     "metadata": {},
     "output_type": "execute_result"
    }
   ],
   "source": [
    "# Encode model names \n",
    "from sklearn.preprocessing import LabelEncoder\n",
    "\n",
    "le = LabelEncoder()\n",
    "le.fit(np.unique(data3.model_name_or_path))\n",
    "LabelEncoder()\n",
    "list(le.classes_)\n",
    "data3['model_encoded'] = le.transform(data3.model_name_or_path)\n",
    "\n",
    "# print unique values of encoded model variable\n",
    "np.unique(data3.model_encoded)"
   ]
  },
  {
   "cell_type": "code",
   "execution_count": 52,
   "metadata": {},
   "outputs": [
    {
     "name": "stderr",
     "output_type": "stream",
     "text": [
      "<ipython-input-52-712906d2410e>:7: SettingWithCopyWarning: \n",
      "A value is trying to be set on a copy of a slice from a DataFrame.\n",
      "Try using .loc[row_indexer,col_indexer] = value instead\n",
      "\n",
      "See the caveats in the documentation: https://pandas.pydata.org/pandas-docs/stable/user_guide/indexing.html#returning-a-view-versus-a-copy\n",
      "  data3['task_encoded'] = lenc.transform(data3.task_name)\n"
     ]
    },
    {
     "data": {
      "text/plain": [
       "array([0, 1, 2, 3, 4, 5])"
      ]
     },
     "execution_count": 52,
     "metadata": {},
     "output_type": "execute_result"
    }
   ],
   "source": [
    "# Encode task names\n",
    "\n",
    "lenc = LabelEncoder()\n",
    "lenc.fit(np.unique(data3.task_name))\n",
    "LabelEncoder()\n",
    "list(lenc.classes_)\n",
    "data3['task_encoded'] = lenc.transform(data3.task_name)\n",
    "\n",
    "# print unique values of encoded model variable\n",
    "np.unique(data3.task_encoded)"
   ]
  },
  {
   "cell_type": "code",
   "execution_count": 55,
   "metadata": {},
   "outputs": [
    {
     "name": "stdout",
     "output_type": "stream",
     "text": [
      "Mean Absolute Error: 0.2017959869885542\n",
      "Mean Squared Error: 0.08746914359880092\n",
      "Root Mean Squared Error: 0.29575182771844527\n"
     ]
    }
   ],
   "source": [
    "# Random Forest\n",
    "from sklearn.ensemble import RandomForestRegressor\n",
    "from sklearn.model_selection import train_test_split\n",
    "from sklearn.metrics import confusion_matrix\n",
    "from sklearn import metrics\n",
    "\n",
    "X = data3[['task_encoded', 'max_seq_length', 'per_device_train_batch_size', 'model_encoded']]\n",
    "y = data3[['finetuning_time_log']]\n",
    "X_train, X_test, y_train, y_test = train_test_split(X, y, test_size=0.3, random_state=42)\n",
    "\n",
    "regr = RandomForestRegressor(max_depth=10, random_state=0, n_estimators = 500)\n",
    "regr.fit(X_train, np.ravel(y_train))\n",
    "y_pred = regr.predict(X_test)\n",
    "\n",
    "print('Mean Absolute Error:', metrics.mean_absolute_error(y_test, y_pred))\n",
    "print('Mean Squared Error:', metrics.mean_squared_error(y_test, y_pred))\n",
    "print('Root Mean Squared Error:', np.sqrt(metrics.mean_squared_error(y_test, y_pred)))"
   ]
  },
  {
   "cell_type": "code",
   "execution_count": 56,
   "metadata": {},
   "outputs": [
    {
     "name": "stdout",
     "output_type": "stream",
     "text": [
      "[0.65583664 0.23278287 0.01502755 0.09635294]\n"
     ]
    }
   ],
   "source": [
    "importances = regr.feature_importances_\n",
    "print(importances)"
   ]
  },
  {
   "cell_type": "code",
   "execution_count": 57,
   "metadata": {},
   "outputs": [
    {
     "name": "stdout",
     "output_type": "stream",
     "text": [
      "Feature: 0, Score: 0.65584\n",
      "Feature: 1, Score: 0.23278\n",
      "Feature: 2, Score: 0.01503\n",
      "Feature: 3, Score: 0.09635\n"
     ]
    },
    {
     "data": {
      "image/png": "[encoded data removed]",
      "text/plain": [
       "<Figure size 432x288 with 1 Axes>"
      ]
     },
     "metadata": {
      "needs_background": "light"
     },
     "output_type": "display_data"
    }
   ],
   "source": [
    "for i,v in enumerate(importances):\n",
    "    print('Feature: %0d, Score: %.5f' % (i,v))\n",
    "# plot feature importance\n",
    "plt.bar([x for x in range(len(importances))], importances)\n",
    "plt.show()\n",
    "\n",
    "# task_encoded, max_seq_length, per_device_train_batch_size, model_encoded"
   ]
  },
  {
   "cell_type": "markdown",
   "metadata": {},
   "source": [
    "#### Relation between fine-tuning time and performance measures"
   ]
  },
  {
   "cell_type": "code",
   "execution_count": 58,
   "metadata": {},
   "outputs": [
    {
     "data": {
      "text/plain": [
       "array(['Agent', 'Created', 'Name', 'Notes', 'Runtime', 'State', 'Sweep',\n",
       "       'Tags', 'Training time', 'User', '__cached__setup_devices',\n",
       "       'adam_epsilon', 'data_dir', 'dataloader_drop_last', 'debug',\n",
       "       'do_eval', 'do_predict', 'do_train', 'epoch', 'eval_acc',\n",
       "       'eval_acc_and_f1', 'eval_corr', 'eval_f1', 'eval_loss', 'eval_mcc',\n",
       "       'eval_pearson', 'eval_spearmanr', 'eval_steps',\n",
       "       'evaluate_during_training', 'finetuning_iters', 'finetuning_time',\n",
       "       'finetuning_time_list', 'fp16', 'fp16_opt_level',\n",
       "       'gradient_accumulation_steps', 'inference_time',\n",
       "       'inference_time_list', 'learning_rate', 'local_rank',\n",
       "       'logging_dir', 'logging_first_step', 'logging_steps', 'loss',\n",
       "       'max_grad_norm', 'max_seq_length', 'max_steps',\n",
       "       'model_name_or_path', 'no_cuda', 'num_train_epochs', 'output_dir',\n",
       "       'overwrite_output_dir', 'past_index', 'per_device_eval_batch_size',\n",
       "       'per_device_train_batch_size', 'per_gpu_train_batch_size',\n",
       "       'save_steps', 'seed', 'task_name', 'tpu_metrics_debug',\n",
       "       'warmup_steps', 'weight_decay'], dtype=object)"
      ]
     },
     "execution_count": 58,
     "metadata": {},
     "output_type": "execute_result"
    }
   ],
   "source": [
    "np.unique(data.columns)"
   ]
  },
  {
   "cell_type": "code",
   "execution_count": 81,
   "metadata": {},
   "outputs": [
    {
     "data": {
      "text/html": [
       "<div>\n",
       "<style scoped>\n",
       "    .dataframe tbody tr th:only-of-type {\n",
       "        vertical-align: middle;\n",
       "    }\n",
       "\n",
       "    .dataframe tbody tr th {\n",
       "        vertical-align: top;\n",
       "    }\n",
       "\n",
       "    .dataframe thead th {\n",
       "        text-align: right;\n",
       "    }\n",
       "</style>\n",
       "<table border=\"1\" class=\"dataframe\">\n",
       "  <thead>\n",
       "    <tr style=\"text-align: right;\">\n",
       "      <th></th>\n",
       "      <th>loss</th>\n",
       "      <th>eval_acc</th>\n",
       "      <th>eval_corr</th>\n",
       "      <th>eval_f1</th>\n",
       "      <th>eval_mcc</th>\n",
       "      <th>eval_pearson</th>\n",
       "      <th>eval_spearmanr</th>\n",
       "    </tr>\n",
       "    <tr>\n",
       "      <th>task_name</th>\n",
       "      <th></th>\n",
       "      <th></th>\n",
       "      <th></th>\n",
       "      <th></th>\n",
       "      <th></th>\n",
       "      <th></th>\n",
       "      <th></th>\n",
       "    </tr>\n",
       "  </thead>\n",
       "  <tbody>\n",
       "    <tr>\n",
       "      <th>CoLA</th>\n",
       "      <td>36</td>\n",
       "      <td>0</td>\n",
       "      <td>0</td>\n",
       "      <td>0</td>\n",
       "      <td>54</td>\n",
       "      <td>0</td>\n",
       "      <td>0</td>\n",
       "    </tr>\n",
       "    <tr>\n",
       "      <th>MRPC</th>\n",
       "      <td>51</td>\n",
       "      <td>51</td>\n",
       "      <td>0</td>\n",
       "      <td>51</td>\n",
       "      <td>0</td>\n",
       "      <td>0</td>\n",
       "      <td>0</td>\n",
       "    </tr>\n",
       "    <tr>\n",
       "      <th>RTE</th>\n",
       "      <td>63</td>\n",
       "      <td>63</td>\n",
       "      <td>0</td>\n",
       "      <td>0</td>\n",
       "      <td>0</td>\n",
       "      <td>0</td>\n",
       "      <td>0</td>\n",
       "    </tr>\n",
       "    <tr>\n",
       "      <th>SST-2</th>\n",
       "      <td>0</td>\n",
       "      <td>33</td>\n",
       "      <td>0</td>\n",
       "      <td>0</td>\n",
       "      <td>0</td>\n",
       "      <td>0</td>\n",
       "      <td>0</td>\n",
       "    </tr>\n",
       "    <tr>\n",
       "      <th>STS-B</th>\n",
       "      <td>30</td>\n",
       "      <td>0</td>\n",
       "      <td>45</td>\n",
       "      <td>0</td>\n",
       "      <td>0</td>\n",
       "      <td>45</td>\n",
       "      <td>45</td>\n",
       "    </tr>\n",
       "    <tr>\n",
       "      <th>WNLI</th>\n",
       "      <td>45</td>\n",
       "      <td>45</td>\n",
       "      <td>0</td>\n",
       "      <td>0</td>\n",
       "      <td>0</td>\n",
       "      <td>0</td>\n",
       "      <td>0</td>\n",
       "    </tr>\n",
       "  </tbody>\n",
       "</table>\n",
       "</div>"
      ],
      "text/plain": [
       "           loss  eval_acc  eval_corr  eval_f1  eval_mcc  eval_pearson  \\\n",
       "task_name                                                               \n",
       "CoLA         36         0          0        0        54             0   \n",
       "MRPC         51        51          0       51         0             0   \n",
       "RTE          63        63          0        0         0             0   \n",
       "SST-2         0        33          0        0         0             0   \n",
       "STS-B        30         0         45        0         0            45   \n",
       "WNLI         45        45          0        0         0             0   \n",
       "\n",
       "           eval_spearmanr  \n",
       "task_name                  \n",
       "CoLA                    0  \n",
       "MRPC                    0  \n",
       "RTE                     0  \n",
       "SST-2                   0  \n",
       "STS-B                  45  \n",
       "WNLI                    0  "
      ]
     },
     "execution_count": 81,
     "metadata": {},
     "output_type": "execute_result"
    }
   ],
   "source": [
    "data3[['loss', 'eval_acc', 'eval_corr', 'eval_f1', 'eval_mcc',\n",
    "       'eval_pearson', 'eval_spearmanr', 'task_name']].groupby(\"task_name\").count()\n",
    "\n",
    "# the majority of tasks incorporates the accuracy as performance measure \n",
    "# --> analysis of the relation between fine-tuning time and the accuracy is the main focus"
   ]
  },
  {
   "cell_type": "code",
   "execution_count": 73,
   "metadata": {},
   "outputs": [
    {
     "data": {
      "image/png": "[encoded data removed]",
      "text/plain": [
       "<Figure size 720x576 with 1 Axes>"
      ]
     },
     "metadata": {
      "needs_background": "light"
     },
     "output_type": "display_data"
    }
   ],
   "source": [
    "plt.figure(figsize = (10, 8))\n",
    "scatter = plt.scatter(data3.finetuning_time, data3.eval_acc)\n",
    "plt.ylabel('accuracy', fontsize = 16)\n",
    "plt.xlabel('fine-tuning time', fontsize = 16)\n",
    "#plt.title('Scatterplot fine-tuning time and accuracy', fontsize = 18)\n",
    "plt.show()\n",
    "scatter.figure.savefig('scatter_finetuning_accuracy.png')"
   ]
  },
  {
   "cell_type": "code",
   "execution_count": 65,
   "metadata": {},
   "outputs": [
    {
     "data": {
      "text/plain": [
       "192"
      ]
     },
     "execution_count": 65,
     "metadata": {},
     "output_type": "execute_result"
    }
   ],
   "source": [
    "# delete all missing values of the accuracy to enable calculating the correlation\n",
    "\n",
    "data4 = data3.dropna(subset=['eval_acc', 'finetuning_time'])\n",
    "data4.shape[0]"
   ]
  },
  {
   "cell_type": "markdown",
   "metadata": {},
   "source": [
    "#### Further exploration"
   ]
  },
  {
   "cell_type": "code",
   "execution_count": 66,
   "metadata": {},
   "outputs": [
    {
     "data": {
      "text/plain": [
       "array([[1.        , 0.51546416],\n",
       "       [0.51546416, 1.        ]])"
      ]
     },
     "execution_count": 66,
     "metadata": {},
     "output_type": "execute_result"
    }
   ],
   "source": [
    "np.corrcoef(data4.finetuning_time, data4.eval_acc)"
   ]
  },
  {
   "cell_type": "code",
   "execution_count": 67,
   "metadata": {},
   "outputs": [
    {
     "data": {
      "text/html": [
       "<table class=\"simpletable\">\n",
       "<caption>OLS Regression Results</caption>\n",
       "<tr>\n",
       "  <th>Dep. Variable:</th>        <td>eval_acc</td>     <th>  R-squared:         </th> <td>   0.266</td>\n",
       "</tr>\n",
       "<tr>\n",
       "  <th>Model:</th>                   <td>OLS</td>       <th>  Adj. R-squared:    </th> <td>   0.262</td>\n",
       "</tr>\n",
       "<tr>\n",
       "  <th>Method:</th>             <td>Least Squares</td>  <th>  F-statistic:       </th> <td>   68.75</td>\n",
       "</tr>\n",
       "<tr>\n",
       "  <th>Date:</th>             <td>Fri, 30 Oct 2020</td> <th>  Prob (F-statistic):</th> <td>2.00e-14</td>\n",
       "</tr>\n",
       "<tr>\n",
       "  <th>Time:</th>                 <td>08:25:31</td>     <th>  Log-Likelihood:    </th> <td>  105.73</td>\n",
       "</tr>\n",
       "<tr>\n",
       "  <th>No. Observations:</th>      <td>   192</td>      <th>  AIC:               </th> <td>  -207.5</td>\n",
       "</tr>\n",
       "<tr>\n",
       "  <th>Df Residuals:</th>          <td>   190</td>      <th>  BIC:               </th> <td>  -200.9</td>\n",
       "</tr>\n",
       "<tr>\n",
       "  <th>Df Model:</th>              <td>     1</td>      <th>                     </th>     <td> </td>   \n",
       "</tr>\n",
       "<tr>\n",
       "  <th>Covariance Type:</th>      <td>nonrobust</td>    <th>                     </th>     <td> </td>   \n",
       "</tr>\n",
       "</table>\n",
       "<table class=\"simpletable\">\n",
       "<tr>\n",
       "         <td></td>            <th>coef</th>     <th>std err</th>      <th>t</th>      <th>P>|t|</th>  <th>[0.025</th>    <th>0.975]</th>  \n",
       "</tr>\n",
       "<tr>\n",
       "  <th>Intercept</th>       <td>    0.6492</td> <td>    0.011</td> <td>   58.349</td> <td> 0.000</td> <td>    0.627</td> <td>    0.671</td>\n",
       "</tr>\n",
       "<tr>\n",
       "  <th>finetuning_time</th> <td> 9.152e-06</td> <td>  1.1e-06</td> <td>    8.292</td> <td> 0.000</td> <td> 6.97e-06</td> <td> 1.13e-05</td>\n",
       "</tr>\n",
       "</table>\n",
       "<table class=\"simpletable\">\n",
       "<tr>\n",
       "  <th>Omnibus:</th>       <td>71.982</td> <th>  Durbin-Watson:     </th> <td>   0.373</td>\n",
       "</tr>\n",
       "<tr>\n",
       "  <th>Prob(Omnibus):</th> <td> 0.000</td> <th>  Jarque-Bera (JB):  </th> <td>  10.977</td>\n",
       "</tr>\n",
       "<tr>\n",
       "  <th>Skew:</th>          <td>-0.063</td> <th>  Prob(JB):          </th> <td> 0.00413</td>\n",
       "</tr>\n",
       "<tr>\n",
       "  <th>Kurtosis:</th>      <td> 1.836</td> <th>  Cond. No.          </th> <td>1.11e+04</td>\n",
       "</tr>\n",
       "</table><br/><br/>Warnings:<br/>[1] Standard Errors assume that the covariance matrix of the errors is correctly specified.<br/>[2] The condition number is large, 1.11e+04. This might indicate that there are<br/>strong multicollinearity or other numerical problems."
      ],
      "text/plain": [
       "<class 'statsmodels.iolib.summary.Summary'>\n",
       "\"\"\"\n",
       "                            OLS Regression Results                            \n",
       "==============================================================================\n",
       "Dep. Variable:               eval_acc   R-squared:                       0.266\n",
       "Model:                            OLS   Adj. R-squared:                  0.262\n",
       "Method:                 Least Squares   F-statistic:                     68.75\n",
       "Date:                Fri, 30 Oct 2020   Prob (F-statistic):           2.00e-14\n",
       "Time:                        08:25:31   Log-Likelihood:                 105.73\n",
       "No. Observations:                 192   AIC:                            -207.5\n",
       "Df Residuals:                     190   BIC:                            -200.9\n",
       "Df Model:                           1                                         \n",
       "Covariance Type:            nonrobust                                         \n",
       "===================================================================================\n",
       "                      coef    std err          t      P>|t|      [0.025      0.975]\n",
       "-----------------------------------------------------------------------------------\n",
       "Intercept           0.6492      0.011     58.349      0.000       0.627       0.671\n",
       "finetuning_time  9.152e-06    1.1e-06      8.292      0.000    6.97e-06    1.13e-05\n",
       "==============================================================================\n",
       "Omnibus:                       71.982   Durbin-Watson:                   0.373\n",
       "Prob(Omnibus):                  0.000   Jarque-Bera (JB):               10.977\n",
       "Skew:                          -0.063   Prob(JB):                      0.00413\n",
       "Kurtosis:                       1.836   Cond. No.                     1.11e+04\n",
       "==============================================================================\n",
       "\n",
       "Warnings:\n",
       "[1] Standard Errors assume that the covariance matrix of the errors is correctly specified.\n",
       "[2] The condition number is large, 1.11e+04. This might indicate that there are\n",
       "strong multicollinearity or other numerical problems.\n",
       "\"\"\""
      ]
     },
     "execution_count": 67,
     "metadata": {},
     "output_type": "execute_result"
    }
   ],
   "source": [
    "# linear regression model\n",
    "acc, finetuning_4 = patsy.dmatrices('eval_acc ~ finetuning_time', data4)\n",
    "\n",
    "# linear regression model\n",
    "model_4 = linear_model.OLS(acc, finetuning_4).fit()\n",
    "model_4.summary()"
   ]
  },
  {
   "cell_type": "code",
   "execution_count": 68,
   "metadata": {},
   "outputs": [
    {
     "data": {
      "text/plain": [
       "Index(['State', 'task_name', 'model_name_or_path', 'learning_rate',\n",
       "       'per_device_train_batch_size', 'max_seq_length', 'eval_steps',\n",
       "       'eval_acc', 'eval_loss', 'eval_corr', 'eval_f1', 'eval_mcc',\n",
       "       'eval_pearson', 'eval_spearmanr', 'finetuning_time_list',\n",
       "       'finetuning_iters', 'loss', 'weight_decay', 'num_examples',\n",
       "       'finetuning_time', 'tokens_per_batch', 'seq_len_cat', 'batch_size_cat',\n",
       "       'finetuning_time_log', 'batch_size_log', 'seq_length_log',\n",
       "       'model_encoded', 'task_encoded'],\n",
       "      dtype='object')"
      ]
     },
     "execution_count": 68,
     "metadata": {},
     "output_type": "execute_result"
    }
   ],
   "source": [
    "data3.columns"
   ]
  },
  {
   "cell_type": "code",
   "execution_count": 69,
   "metadata": {},
   "outputs": [
    {
     "data": {
      "text/plain": [
       "51"
      ]
     },
     "execution_count": 69,
     "metadata": {},
     "output_type": "execute_result"
    }
   ],
   "source": [
    "data5 = data3.dropna(subset=['eval_f1', 'finetuning_time'])\n",
    "data5.shape[0]"
   ]
  },
  {
   "cell_type": "code",
   "execution_count": 70,
   "metadata": {},
   "outputs": [
    {
     "data": {
      "text/plain": [
       "array([[1.        , 0.04036483],\n",
       "       [0.04036483, 1.        ]])"
      ]
     },
     "execution_count": 70,
     "metadata": {},
     "output_type": "execute_result"
    }
   ],
   "source": [
    "np.corrcoef(data5.finetuning_time, data5.eval_f1.astype('float64'))"
   ]
  },
  {
   "cell_type": "code",
   "execution_count": 71,
   "metadata": {},
   "outputs": [
    {
     "data": {
      "text/plain": [
       "54"
      ]
     },
     "execution_count": 71,
     "metadata": {},
     "output_type": "execute_result"
    }
   ],
   "source": [
    "data6 = data3.dropna(subset=['eval_mcc', 'finetuning_time'])\n",
    "data6.shape[0]"
   ]
  },
  {
   "cell_type": "code",
   "execution_count": 72,
   "metadata": {},
   "outputs": [
    {
     "data": {
      "text/plain": [
       "array([[1.       , 0.2163285],\n",
       "       [0.2163285, 1.       ]])"
      ]
     },
     "execution_count": 72,
     "metadata": {},
     "output_type": "execute_result"
    }
   ],
   "source": [
    "np.corrcoef(data6.finetuning_time, data6.eval_mcc.astype('float64'))"
   ]
  },
  {
   "cell_type": "code",
   "execution_count": 73,
   "metadata": {},
   "outputs": [
    {
     "data": {
      "text/plain": [
       "45"
      ]
     },
     "execution_count": 73,
     "metadata": {},
     "output_type": "execute_result"
    }
   ],
   "source": [
    "data7 = data3.dropna(subset=['eval_corr', 'finetuning_time'])\n",
    "data7.shape[0]"
   ]
  },
  {
   "cell_type": "code",
   "execution_count": 74,
   "metadata": {},
   "outputs": [
    {
     "data": {
      "text/plain": [
       "array([[ 1.        , -0.25472292],\n",
       "       [-0.25472292,  1.        ]])"
      ]
     },
     "execution_count": 74,
     "metadata": {},
     "output_type": "execute_result"
    }
   ],
   "source": [
    "np.corrcoef(data7.finetuning_time, data7.eval_corr.astype('float64'))"
   ]
  },
  {
   "cell_type": "code",
   "execution_count": 75,
   "metadata": {},
   "outputs": [
    {
     "data": {
      "text/plain": [
       "45"
      ]
     },
     "execution_count": 75,
     "metadata": {},
     "output_type": "execute_result"
    }
   ],
   "source": [
    "data8 = data3.dropna(subset=['eval_pearson', 'finetuning_time'])\n",
    "data8.shape[0]"
   ]
  },
  {
   "cell_type": "code",
   "execution_count": 76,
   "metadata": {},
   "outputs": [
    {
     "data": {
      "text/plain": [
       "array([[ 1.        , -0.24787451],\n",
       "       [-0.24787451,  1.        ]])"
      ]
     },
     "execution_count": 76,
     "metadata": {},
     "output_type": "execute_result"
    }
   ],
   "source": [
    "np.corrcoef(data8.finetuning_time, data8.eval_pearson.astype('float64'))"
   ]
  },
  {
   "cell_type": "code",
   "execution_count": 77,
   "metadata": {},
   "outputs": [
    {
     "data": {
      "text/plain": [
       "45"
      ]
     },
     "execution_count": 77,
     "metadata": {},
     "output_type": "execute_result"
    }
   ],
   "source": [
    "data9 = data3.dropna(subset=['eval_spearmanr', 'finetuning_time'])\n",
    "data9.shape[0]"
   ]
  },
  {
   "cell_type": "code",
   "execution_count": 78,
   "metadata": {},
   "outputs": [
    {
     "data": {
      "image/png": "[encoded data removed]",
      "text/plain": [
       "<Figure size 432x288 with 1 Axes>"
      ]
     },
     "metadata": {
      "needs_background": "light"
     },
     "output_type": "display_data"
    }
   ],
   "source": [
    "plt.scatter(data9.finetuning_time, data8.eval_spearmanr)\n",
    "plt.ylabel('eval_spearmanr')\n",
    "plt.xlabel('fine-tuning time')\n",
    "plt.show()"
   ]
  },
  {
   "cell_type": "code",
   "execution_count": 79,
   "metadata": {},
   "outputs": [
    {
     "data": {
      "text/html": [
       "<table class=\"simpletable\">\n",
       "<caption>OLS Regression Results</caption>\n",
       "<tr>\n",
       "  <th>Dep. Variable:</th>     <td>eval_spearmanr</td>  <th>  R-squared:         </th> <td>   0.068</td>\n",
       "</tr>\n",
       "<tr>\n",
       "  <th>Model:</th>                   <td>OLS</td>       <th>  Adj. R-squared:    </th> <td>   0.046</td>\n",
       "</tr>\n",
       "<tr>\n",
       "  <th>Method:</th>             <td>Least Squares</td>  <th>  F-statistic:       </th> <td>   3.135</td>\n",
       "</tr>\n",
       "<tr>\n",
       "  <th>Date:</th>             <td>Fri, 30 Oct 2020</td> <th>  Prob (F-statistic):</th>  <td>0.0837</td> \n",
       "</tr>\n",
       "<tr>\n",
       "  <th>Time:</th>                 <td>08:25:45</td>     <th>  Log-Likelihood:    </th> <td>  115.78</td>\n",
       "</tr>\n",
       "<tr>\n",
       "  <th>No. Observations:</th>      <td>    45</td>      <th>  AIC:               </th> <td>  -227.6</td>\n",
       "</tr>\n",
       "<tr>\n",
       "  <th>Df Residuals:</th>          <td>    43</td>      <th>  BIC:               </th> <td>  -223.9</td>\n",
       "</tr>\n",
       "<tr>\n",
       "  <th>Df Model:</th>              <td>     1</td>      <th>                     </th>     <td> </td>   \n",
       "</tr>\n",
       "<tr>\n",
       "  <th>Covariance Type:</th>      <td>nonrobust</td>    <th>                     </th>     <td> </td>   \n",
       "</tr>\n",
       "</table>\n",
       "<table class=\"simpletable\">\n",
       "<tr>\n",
       "         <td></td>            <th>coef</th>     <th>std err</th>      <th>t</th>      <th>P>|t|</th>  <th>[0.025</th>    <th>0.975]</th>  \n",
       "</tr>\n",
       "<tr>\n",
       "  <th>Intercept</th>       <td>    0.8709</td> <td>    0.004</td> <td>  236.105</td> <td> 0.000</td> <td>    0.863</td> <td>    0.878</td>\n",
       "</tr>\n",
       "<tr>\n",
       "  <th>finetuning_time</th> <td>-1.499e-06</td> <td> 8.47e-07</td> <td>   -1.771</td> <td> 0.084</td> <td>-3.21e-06</td> <td> 2.09e-07</td>\n",
       "</tr>\n",
       "</table>\n",
       "<table class=\"simpletable\">\n",
       "<tr>\n",
       "  <th>Omnibus:</th>       <td>12.634</td> <th>  Durbin-Watson:     </th> <td>   0.993</td>\n",
       "</tr>\n",
       "<tr>\n",
       "  <th>Prob(Omnibus):</th> <td> 0.002</td> <th>  Jarque-Bera (JB):  </th> <td>   4.173</td>\n",
       "</tr>\n",
       "<tr>\n",
       "  <th>Skew:</th>          <td>-0.426</td> <th>  Prob(JB):          </th> <td>   0.124</td>\n",
       "</tr>\n",
       "<tr>\n",
       "  <th>Kurtosis:</th>      <td> 1.776</td> <th>  Cond. No.          </th> <td>5.70e+03</td>\n",
       "</tr>\n",
       "</table><br/><br/>Warnings:<br/>[1] Standard Errors assume that the covariance matrix of the errors is correctly specified.<br/>[2] The condition number is large, 5.7e+03. This might indicate that there are<br/>strong multicollinearity or other numerical problems."
      ],
      "text/plain": [
       "<class 'statsmodels.iolib.summary.Summary'>\n",
       "\"\"\"\n",
       "                            OLS Regression Results                            \n",
       "==============================================================================\n",
       "Dep. Variable:         eval_spearmanr   R-squared:                       0.068\n",
       "Model:                            OLS   Adj. R-squared:                  0.046\n",
       "Method:                 Least Squares   F-statistic:                     3.135\n",
       "Date:                Fri, 30 Oct 2020   Prob (F-statistic):             0.0837\n",
       "Time:                        08:25:45   Log-Likelihood:                 115.78\n",
       "No. Observations:                  45   AIC:                            -227.6\n",
       "Df Residuals:                      43   BIC:                            -223.9\n",
       "Df Model:                           1                                         \n",
       "Covariance Type:            nonrobust                                         \n",
       "===================================================================================\n",
       "                      coef    std err          t      P>|t|      [0.025      0.975]\n",
       "-----------------------------------------------------------------------------------\n",
       "Intercept           0.8709      0.004    236.105      0.000       0.863       0.878\n",
       "finetuning_time -1.499e-06   8.47e-07     -1.771      0.084   -3.21e-06    2.09e-07\n",
       "==============================================================================\n",
       "Omnibus:                       12.634   Durbin-Watson:                   0.993\n",
       "Prob(Omnibus):                  0.002   Jarque-Bera (JB):                4.173\n",
       "Skew:                          -0.426   Prob(JB):                        0.124\n",
       "Kurtosis:                       1.776   Cond. No.                     5.70e+03\n",
       "==============================================================================\n",
       "\n",
       "Warnings:\n",
       "[1] Standard Errors assume that the covariance matrix of the errors is correctly specified.\n",
       "[2] The condition number is large, 5.7e+03. This might indicate that there are\n",
       "strong multicollinearity or other numerical problems.\n",
       "\"\"\""
      ]
     },
     "execution_count": 79,
     "metadata": {},
     "output_type": "execute_result"
    }
   ],
   "source": [
    "# linear regression model\n",
    "spearman, finetuning_9 = patsy.dmatrices('eval_spearmanr ~ finetuning_time', data9)\n",
    "\n",
    "# linear regression model\n",
    "model_9 = linear_model.OLS(spearman, finetuning_9).fit()\n",
    "model_9.summary()"
   ]
  },
  {
   "cell_type": "code",
   "execution_count": 80,
   "metadata": {},
   "outputs": [
    {
     "data": {
      "text/plain": [
       "array([[ 1.        , -0.26066475],\n",
       "       [-0.26066475,  1.        ]])"
      ]
     },
     "execution_count": 80,
     "metadata": {},
     "output_type": "execute_result"
    }
   ],
   "source": [
    "np.corrcoef(data9.finetuning_time, data9.eval_spearmanr.astype('float64'))"
   ]
  }
 ],
 "metadata": {
  "colab": {
   "collapsed_sections": [],
   "name": "wandb_WNLI.ipynb",
   "provenance": []
  },
  "kernelspec": {
   "display_name": "Python 3",
   "language": "python",
   "name": "python3"
  },
  "language_info": {
   "codemirror_mode": {
    "name": "ipython",
    "version": 3
   },
   "file_extension": ".py",
   "mimetype": "text/x-python",
   "name": "python",
   "nbconvert_exporter": "python",
   "pygments_lexer": "ipython3",
   "version": "3.8.3"
  }
 },
 "nbformat": 4,
 "nbformat_minor": 1
}
