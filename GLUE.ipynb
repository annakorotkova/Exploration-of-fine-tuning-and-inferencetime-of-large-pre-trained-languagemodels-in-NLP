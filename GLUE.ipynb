{
 "cells": [
  {
   "cell_type": "code",
   "execution_count": 1,
   "metadata": {},
   "outputs": [
    {
     "name": "stdout",
     "output_type": "stream",
     "text": [
      "Requirement already satisfied: ipdb in c:\\users\\annko\\anaconda3\\lib\\site-packages (0.13.4)\n",
      "Requirement already satisfied: setuptools in c:\\users\\annko\\anaconda3\\lib\\site-packages (from ipdb) (49.2.0.post20200714)\n",
      "Requirement already satisfied: ipython>=5.1.0; python_version >= \"3.4\" in c:\\users\\annko\\anaconda3\\lib\\site-packages (from ipdb) (7.16.1)\n",
      "Requirement already satisfied: prompt-toolkit!=3.0.0,!=3.0.1,<3.1.0,>=2.0.0 in c:\\users\\annko\\anaconda3\\lib\\site-packages (from ipython>=5.1.0; python_version >= \"3.4\"->ipdb) (3.0.5)\n",
      "Requirement already satisfied: decorator in c:\\users\\annko\\anaconda3\\lib\\site-packages (from ipython>=5.1.0; python_version >= \"3.4\"->ipdb) (4.4.2)\n",
      "Requirement already satisfied: jedi>=0.10 in c:\\users\\annko\\anaconda3\\lib\\site-packages (from ipython>=5.1.0; python_version >= \"3.4\"->ipdb) (0.17.1)\n",
      "Requirement already satisfied: pygments in c:\\users\\annko\\anaconda3\\lib\\site-packages (from ipython>=5.1.0; python_version >= \"3.4\"->ipdb) (2.6.1)\n",
      "Requirement already satisfied: backcall in c:\\users\\annko\\anaconda3\\lib\\site-packages (from ipython>=5.1.0; python_version >= \"3.4\"->ipdb) (0.2.0)\n",
      "Requirement already satisfied: pickleshare in c:\\users\\annko\\anaconda3\\lib\\site-packages (from ipython>=5.1.0; python_version >= \"3.4\"->ipdb) (0.7.5)\n",
      "Requirement already satisfied: colorama; sys_platform == \"win32\" in c:\\users\\annko\\anaconda3\\lib\\site-packages (from ipython>=5.1.0; python_version >= \"3.4\"->ipdb) (0.4.3)\n",
      "Requirement already satisfied: traitlets>=4.2 in c:\\users\\annko\\anaconda3\\lib\\site-packages (from ipython>=5.1.0; python_version >= \"3.4\"->ipdb) (4.3.3)\n",
      "Requirement already satisfied: wcwidth in c:\\users\\annko\\anaconda3\\lib\\site-packages (from prompt-toolkit!=3.0.0,!=3.0.1,<3.1.0,>=2.0.0->ipython>=5.1.0; python_version >= \"3.4\"->ipdb) (0.2.5)\n",
      "Requirement already satisfied: parso<0.8.0,>=0.7.0 in c:\\users\\annko\\anaconda3\\lib\\site-packages (from jedi>=0.10->ipython>=5.1.0; python_version >= \"3.4\"->ipdb) (0.7.0)\n",
      "Requirement already satisfied: ipython-genutils in c:\\users\\annko\\anaconda3\\lib\\site-packages (from traitlets>=4.2->ipython>=5.1.0; python_version >= \"3.4\"->ipdb) (0.2.0)\n",
      "Requirement already satisfied: six in c:\\users\\annko\\anaconda3\\lib\\site-packages (from traitlets>=4.2->ipython>=5.1.0; python_version >= \"3.4\"->ipdb) (1.15.0)\n",
      "Requirement already satisfied: tensorboardX in c:\\users\\annko\\anaconda3\\lib\\site-packages (2.1)\n",
      "Requirement already satisfied: numpy in c:\\users\\annko\\anaconda3\\lib\\site-packages (from tensorboardX) (1.18.5)\n",
      "Requirement already satisfied: six in c:\\users\\annko\\anaconda3\\lib\\site-packages (from tensorboardX) (1.15.0)\n",
      "Requirement already satisfied: protobuf>=3.8.0 in c:\\users\\annko\\anaconda3\\lib\\site-packages (from tensorboardX) (3.13.0)\n",
      "Requirement already satisfied: setuptools in c:\\users\\annko\\anaconda3\\lib\\site-packages (from protobuf>=3.8.0->tensorboardX) (49.2.0.post20200714)\n"
     ]
    }
   ],
   "source": [
    "# load important modules\n",
    "\n",
    "import numpy\n",
    "import nltk\n",
    "import sklearn\n",
    "!pip install ipdb\n",
    "import ipdb\n",
    "!pip install tensorboardX\n",
    "import tensorboardX\n",
    "import pytorch as torch"
   ]
  },
  {
   "cell_type": "code",
   "execution_count": 2,
   "metadata": {},
   "outputs": [
    {
     "name": "stderr",
     "output_type": "stream",
     "text": [
      "fatal: destination path 'GLUE-baselines' already exists and is not an empty directory.\n",
      "fatal: destination path 'paraphrase_identification' already exists and is not an empty directory.\n"
     ]
    }
   ],
   "source": [
    "# Clone GitHub repository to enable downloading GLUE data\n",
    "!git clone https://github.com/nyu-mll/GLUE-baselines\n",
    "!git clone https://github.com/wasiahmad/paraphrase_identification.git"
   ]
  },
  {
   "cell_type": "code",
   "execution_count": 7,
   "metadata": {},
   "outputs": [
    {
     "name": "stdout",
     "output_type": "stream",
     "text": [
      "Downloading and extracting CoLA...\n",
      "\tCompleted!\n",
      "Downloading and extracting SST...\n",
      "\tCompleted!\n",
      "Processing MRPC...\n",
      "\tCompleted!\n",
      "Downloading and extracting QQP...\n",
      "\tCompleted!\n",
      "Downloading and extracting STS...\n",
      "\tCompleted!\n",
      "Downloading and extracting MNLI...\n",
      "\tCompleted!\n",
      "Downloading and extracting SNLI...\n",
      "\tCompleted!\n",
      "Downloading and extracting QNLI...\n",
      "\tCompleted!\n",
      "Downloading and extracting RTE...\n",
      "\tCompleted!\n",
      "Downloading and extracting WNLI...\n",
      "\tCompleted!\n",
      "Downloading and extracting diagnostic...\n",
      "\tCompleted!\n"
     ]
    }
   ],
   "source": [
    "# Download GLUE data\n",
    "!python GLUE-baselines/download_glue_data.py --data_dir=\"C:/Users/annko/Documents/Masterthesis/Masterthesis\" --tasks all --path_to_mrpc=paraphrase_identification/dataset/msr-paraphrase-corpus"
   ]
  },
  {
   "cell_type": "code",
   "execution_count": 8,
   "metadata": {},
   "outputs": [],
   "source": [
    "import pandas as pd\n",
    "import matplotlib.pyplot as plt\n",
    "from scipy import stats\n",
    "import numpy as np\n",
    "from collections import defaultdict\n",
    "import math"
   ]
  },
  {
   "cell_type": "code",
   "execution_count": 9,
   "metadata": {},
   "outputs": [
    {
     "name": "stderr",
     "output_type": "stream",
     "text": [
      "<ipython-input-9-1d609790f022>:7: ParserWarning: Falling back to the 'python' engine because the 'c' engine does not support regex separators (separators > 1 char and different from '\\s+' are interpreted as regex); you can avoid this warning by specifying engine='python'.\n",
      "  wnli_train = pd.read_csv(\"{}/WNLI/train.tsv\".format(data_dir), delimiter='\\\\t')\n",
      "<ipython-input-9-1d609790f022>:8: ParserWarning: Falling back to the 'python' engine because the 'c' engine does not support regex separators (separators > 1 char and different from '\\s+' are interpreted as regex); you can avoid this warning by specifying engine='python'.\n",
      "  wnli_dev = pd.read_csv(\"{}/WNLI/dev.tsv\".format(data_dir), delimiter='\\\\t')\n",
      "<ipython-input-9-1d609790f022>:11: ParserWarning: Falling back to the 'python' engine because the 'c' engine does not support regex separators (separators > 1 char and different from '\\s+' are interpreted as regex); you can avoid this warning by specifying engine='python'.\n",
      "  rte_train = pd.read_csv(\"{}/RTE/train.tsv\".format(data_dir), delimiter='\\\\t')\n",
      "<ipython-input-9-1d609790f022>:12: ParserWarning: Falling back to the 'python' engine because the 'c' engine does not support regex separators (separators > 1 char and different from '\\s+' are interpreted as regex); you can avoid this warning by specifying engine='python'.\n",
      "  rte_dev = pd.read_csv(\"{}/RTE/dev.tsv\".format(data_dir), delimiter='\\\\t')\n",
      "<ipython-input-9-1d609790f022>:15: ParserWarning: Falling back to the 'python' engine because the 'c' engine does not support regex separators (separators > 1 char and different from '\\s+' are interpreted as regex); you can avoid this warning by specifying engine='python'.\n",
      "  mrpc_train = pd.read_csv(\"{}/MRPC/train.tsv\".format(data_dir), delimiter='\\\\t', header=None, skiprows=1,\n",
      "<ipython-input-9-1d609790f022>:17: ParserWarning: Falling back to the 'python' engine because the 'c' engine does not support regex separators (separators > 1 char and different from '\\s+' are interpreted as regex); you can avoid this warning by specifying engine='python'.\n",
      "  mrpc_dev = pd.read_csv(\"{}/MRPC/dev.tsv\".format(data_dir), delimiter='\\\\t', header=None, skiprows=1,\n",
      "<ipython-input-9-1d609790f022>:21: ParserWarning: Falling back to the 'python' engine because the 'c' engine does not support regex separators (separators > 1 char and different from '\\s+' are interpreted as regex); you can avoid this warning by specifying engine='python'.\n",
      "  stsb_train = pd.read_csv(\"{}/STS-B/train.tsv\".format(data_dir), delimiter='\\\\t')\n",
      "<ipython-input-9-1d609790f022>:22: ParserWarning: Falling back to the 'python' engine because the 'c' engine does not support regex separators (separators > 1 char and different from '\\s+' are interpreted as regex); you can avoid this warning by specifying engine='python'.\n",
      "  stsb_dev = pd.read_csv(\"{}/STS-B/dev.tsv\".format(data_dir), delimiter='\\\\t')\n",
      "<ipython-input-9-1d609790f022>:35: ParserWarning: Falling back to the 'python' engine because the 'c' engine does not support regex separators (separators > 1 char and different from '\\s+' are interpreted as regex); you can avoid this warning by specifying engine='python'.\n",
      "  qqp_train = pd.read_csv(\"{}/QQP/train.tsv\".format(data_dir), delimiter='\\\\t', quotechar='\"')\n",
      "<ipython-input-9-1d609790f022>:36: ParserWarning: Falling back to the 'python' engine because the 'c' engine does not support regex separators (separators > 1 char and different from '\\s+' are interpreted as regex); you can avoid this warning by specifying engine='python'.\n",
      "  qqp_dev = pd.read_csv(\"{}/QQP/dev.tsv\".format(data_dir), delimiter='\\\\t', quotechar='\"')\n",
      "<ipython-input-9-1d609790f022>:39: ParserWarning: Falling back to the 'python' engine because the 'c' engine does not support regex separators (separators > 1 char and different from '\\s+' are interpreted as regex); you can avoid this warning by specifying engine='python'.\n",
      "  qnli_train = pd.read_csv(\"{}/QNLI/train.tsv\".format(data_dir), delimiter='\\\\t')\n",
      "<ipython-input-9-1d609790f022>:40: ParserWarning: Falling back to the 'python' engine because the 'c' engine does not support regex separators (separators > 1 char and different from '\\s+' are interpreted as regex); you can avoid this warning by specifying engine='python'.\n",
      "  qnli_dev = pd.read_csv(\"{}/QNLI/dev.tsv\".format(data_dir), delimiter='\\\\t')\n",
      "<ipython-input-9-1d609790f022>:43: ParserWarning: Falling back to the 'python' engine because the 'c' engine does not support regex separators (separators > 1 char and different from '\\s+' are interpreted as regex); you can avoid this warning by specifying engine='python'.\n",
      "  mnli_train = pd.read_csv(\"{}/MNLI/train.tsv\".format(data_dir), delimiter='\\\\t')\n",
      "<ipython-input-9-1d609790f022>:44: ParserWarning: Falling back to the 'python' engine because the 'c' engine does not support regex separators (separators > 1 char and different from '\\s+' are interpreted as regex); you can avoid this warning by specifying engine='python'.\n",
      "  mnli_dev_m = pd.read_csv(\"{}/MNLI/dev_matched.tsv\".format(data_dir), delimiter='\\\\t')\n",
      "<ipython-input-9-1d609790f022>:45: ParserWarning: Falling back to the 'python' engine because the 'c' engine does not support regex separators (separators > 1 char and different from '\\s+' are interpreted as regex); you can avoid this warning by specifying engine='python'.\n",
      "  mnli_dev_mism = pd.read_csv(\"{}/MNLI/dev_mismatched.tsv\".format(data_dir), delimiter='\\\\t')\n"
     ]
    }
   ],
   "source": [
    "# define data direction to read data\n",
    "data_dir = \"C:/Users/annko/Documents/Masterthesis/Masterthesis/\"\n",
    "\n",
    "# read respective GLUE tasks\n",
    "\n",
    "# WNLI\n",
    "wnli_train = pd.read_csv(\"{}/WNLI/train.tsv\".format(data_dir), delimiter='\\\\t')\n",
    "wnli_dev = pd.read_csv(\"{}/WNLI/dev.tsv\".format(data_dir), delimiter='\\\\t')\n",
    "\n",
    "# RTE\n",
    "rte_train = pd.read_csv(\"{}/RTE/train.tsv\".format(data_dir), delimiter='\\\\t')\n",
    "rte_dev = pd.read_csv(\"{}/RTE/dev.tsv\".format(data_dir), delimiter='\\\\t')\n",
    "\n",
    "# MRPC\n",
    "mrpc_train = pd.read_csv(\"{}/MRPC/train.tsv\".format(data_dir), delimiter='\\\\t', header=None, skiprows=1, \n",
    "                    names=['Quality', 'ID1', 'ID2', 'String2', 'String'])\n",
    "mrpc_dev = pd.read_csv(\"{}/MRPC/dev.tsv\".format(data_dir), delimiter='\\\\t', header=None, skiprows=1, \n",
    "                  names=['Quality', 'ID1', 'ID2', 'String2', 'String'])\n",
    "\n",
    "# STS-B\n",
    "stsb_train = pd.read_csv(\"{}/STS-B/train.tsv\".format(data_dir), delimiter='\\\\t')\n",
    "stsb_dev = pd.read_csv(\"{}/STS-B/dev.tsv\".format(data_dir), delimiter='\\\\t')\n",
    "\n",
    "# CoLA\n",
    "cola_train = pd.read_csv(\"{}/CoLA/train.tsv\".format(data_dir), delimiter='\\t', header=None, skiprows=1, \n",
    "                    names=['sentence_source', 'label', 'label_notes', 'sentence'])\n",
    "cola_dev = pd.read_csv(\"{}/CoLA/dev.tsv\".format(data_dir), delimiter='\\t', header=None, skiprows=1, \n",
    "                  names=['sentence_source', 'label', 'label_notes', 'sentence'])\n",
    "\n",
    "# SST-2\n",
    "sst2_train = pd.read_csv(\"{}/SST-2/train.tsv\".format(data_dir), delimiter='\\t')\n",
    "sst2_dev = pd.read_csv(\"{}/SST-2/dev.tsv\".format(data_dir), delimiter='\\t')\n",
    "\n",
    "# QQP\n",
    "qqp_train = pd.read_csv(\"{}/QQP/train.tsv\".format(data_dir), delimiter='\\\\t', quotechar='\"')\n",
    "qqp_dev = pd.read_csv(\"{}/QQP/dev.tsv\".format(data_dir), delimiter='\\\\t', quotechar='\"')\n",
    "\n",
    "# QNLI\n",
    "qnli_train = pd.read_csv(\"{}/QNLI/train.tsv\".format(data_dir), delimiter='\\\\t')\n",
    "qnli_dev = pd.read_csv(\"{}/QNLI/dev.tsv\".format(data_dir), delimiter='\\\\t')\n",
    "\n",
    "# MNLI\n",
    "mnli_train = pd.read_csv(\"{}/MNLI/train.tsv\".format(data_dir), delimiter='\\\\t')\n",
    "mnli_dev_m = pd.read_csv(\"{}/MNLI/dev_matched.tsv\".format(data_dir), delimiter='\\\\t')\n",
    "mnli_dev_mism = pd.read_csv(\"{}/MNLI/dev_mismatched.tsv\".format(data_dir), delimiter='\\\\t')"
   ]
  },
  {
   "cell_type": "code",
   "execution_count": null,
   "metadata": {},
   "outputs": [],
   "source": [
    "# have a look at data samples\n",
    "datalist = [wnli_train, rte_train, mrpc_train, stsb_train, cola_train, sst2_train, qqp_train, qnli_train, mnli_train]\n",
    "data_names = ['WNLI', 'RTE', 'MRPC', 'STS-B', 'CoLA', 'SST-2', 'QQP', 'QNLI', 'MNLI']\n",
    "\n",
    "pd.set_option('display.max_colwidth', -1) # to enable viewing whole sentences\n",
    "\n",
    "counter = 0\n",
    "for data in datalist:\n",
    "    print(data_names[counter])\n",
    "    print(data.sample(3))\n",
    "    print('\\n')\n",
    "    counter += 1"
   ]
  },
  {
   "cell_type": "code",
   "execution_count": null,
   "metadata": {
    "scrolled": true
   },
   "outputs": [],
   "source": [
    "# regard info of respective GLUE tasks\n",
    "counter = 0\n",
    "for data in datalist:\n",
    "    print(data_names[counter])\n",
    "    print(data.info())\n",
    "    print('\\n')\n",
    "    counter += 1\n",
    "    \n",
    "# WNLI, MRPC, STS-B, SST-2, CoLA, QQP and QNLI contain numeric labels; RTE and MNLI contains labels with categoric values"
   ]
  },
  {
   "cell_type": "code",
   "execution_count": null,
   "metadata": {},
   "outputs": [],
   "source": [
    "# distingish respective label names\n",
    "counter = 0\n",
    "for i in datalist:\n",
    "    print(data_names[counter])\n",
    "    print(i.columns)\n",
    "    print('\\n')\n",
    "    counter += 1"
   ]
  },
  {
   "cell_type": "code",
   "execution_count": null,
   "metadata": {},
   "outputs": [],
   "source": [
    "def label_counts_cat(data, data_label, dataname):\n",
    "    print('{}'.format(dataname))\n",
    "    print('Number of sentences: {:,}'.format(len(data)))\n",
    "    print(data_label.value_counts(normalize=True))\n",
    "    print('\\n')"
   ]
  },
  {
   "cell_type": "code",
   "execution_count": null,
   "metadata": {},
   "outputs": [],
   "source": [
    "# print number of sentences and value counts of respective labels\n",
    "label_list = [wnli_train.label, rte_train.label, mrpc_train.Quality, stsb_train.score, cola_train.label, sst2_train.label, \n",
    "             qqp_train.is_duplicate, qnli_train.label, mnli_train.gold_label]\n",
    "\n",
    "counter = 0\n",
    "for i in datalist:\n",
    "    label_counts_cat(i, label_list[counter], data_names[counter])\n",
    "    counter += 1"
   ]
  },
  {
   "cell_type": "code",
   "execution_count": 5,
   "metadata": {},
   "outputs": [
    {
     "ename": "NameError",
     "evalue": "name 'stsb_train' is not defined",
     "output_type": "error",
     "traceback": [
      "\u001b[1;31m---------------------------------------------------------------------------\u001b[0m",
      "\u001b[1;31mNameError\u001b[0m                                 Traceback (most recent call last)",
      "\u001b[1;32m<ipython-input-5-6163852e4573>\u001b[0m in \u001b[0;36m<module>\u001b[1;34m\u001b[0m\n\u001b[0;32m      2\u001b[0m \u001b[1;33m\u001b[0m\u001b[0m\n\u001b[0;32m      3\u001b[0m \u001b[0mplt\u001b[0m\u001b[1;33m.\u001b[0m\u001b[0mfigure\u001b[0m\u001b[1;33m(\u001b[0m\u001b[0mfigsize\u001b[0m \u001b[1;33m=\u001b[0m \u001b[1;33m(\u001b[0m\u001b[1;36m10\u001b[0m\u001b[1;33m,\u001b[0m \u001b[1;36m8\u001b[0m\u001b[1;33m)\u001b[0m\u001b[1;33m)\u001b[0m\u001b[1;33m\u001b[0m\u001b[1;33m\u001b[0m\u001b[0m\n\u001b[1;32m----> 4\u001b[1;33m n, bins, patches = plt.hist(x=stsb_train.score, bins='auto', color='#0504aa',\n\u001b[0m\u001b[0;32m      5\u001b[0m                             alpha=0.7, rwidth=0.85)\n\u001b[0;32m      6\u001b[0m \u001b[0mplt\u001b[0m\u001b[1;33m.\u001b[0m\u001b[0mgrid\u001b[0m\u001b[1;33m(\u001b[0m\u001b[0maxis\u001b[0m\u001b[1;33m=\u001b[0m\u001b[1;34m'y'\u001b[0m\u001b[1;33m,\u001b[0m \u001b[0malpha\u001b[0m\u001b[1;33m=\u001b[0m\u001b[1;36m0.75\u001b[0m\u001b[1;33m)\u001b[0m\u001b[1;33m\u001b[0m\u001b[1;33m\u001b[0m\u001b[0m\n",
      "\u001b[1;31mNameError\u001b[0m: name 'stsb_train' is not defined"
     ]
    },
    {
     "data": {
      "text/plain": [
       "<Figure size 720x576 with 0 Axes>"
      ]
     },
     "metadata": {},
     "output_type": "display_data"
    }
   ],
   "source": [
    "### Histogram for STS-B\n",
    "\n",
    "plt.figure(figsize = (10, 8))\n",
    "n, bins, patches = plt.hist(x=stsb_train.score, bins='auto', color='#0504aa',\n",
    "                            alpha=0.7, rwidth=0.85)\n",
    "plt.grid(axis='y', alpha=0.75)\n",
    "plt.xlabel('Value', fontsize = 16)\n",
    "plt.ylabel('Frequency', fontsize = 16)\n",
    "# plt.title('Distribution of STS-B scores', fontsize = 18)\n",
    "maxfreq = n.max()\n",
    "# Set a clean upper y-axis limit.\n",
    "plt.ylim(ymax=np.ceil(maxfreq / 10) * 10 if maxfreq % 10 else maxfreq + 10)\n",
    "plt.setp(ax.get_xticklabels(), rotation='horizontal', fontsize=16)\n",
    "plt.setp(ax.get_yticklabels(), rotation='horizontal', fontsize=16)\n",
    "\n",
    "plt.savefig('stsb-hist.png')"
   ]
  },
  {
   "cell_type": "code",
   "execution_count": 26,
   "metadata": {},
   "outputs": [
    {
     "name": "stdout",
     "output_type": "stream",
     "text": [
      "WNLI\n",
      "Number of sentences: 71\n",
      "\n",
      "\n",
      "RTE\n",
      "Number of sentences: 277\n",
      "\n",
      "\n",
      "MRPC\n",
      "Number of sentences: 408\n",
      "\n",
      "\n",
      "STS-B\n",
      "Number of sentences: 1,042\n",
      "\n",
      "\n",
      "CoLA\n",
      "Number of sentences: 1,500\n",
      "\n",
      "\n",
      "SST-2\n",
      "Number of sentences: 872\n",
      "\n",
      "\n",
      "QQP\n",
      "Number of sentences: 40,431\n",
      "\n",
      "\n",
      "QNLI\n",
      "Number of sentences: 5,732\n",
      "\n",
      "\n",
      "MNLI_matched\n",
      "Number of sentences: 9,815\n",
      "\n",
      "\n",
      "MNLI_mismatched\n",
      "Number of sentences: 9,832\n",
      "\n",
      "\n"
     ]
    }
   ],
   "source": [
    "# print number of examples for development sets\n",
    "dev_list = [wnli_dev, rte_dev, mrpc_dev, cola_dev, stsb_dev, sst2_dev, qqp_dev, qnli_dev, mnli_dev_m, mnli_dev_mism]\n",
    "dev_names = ['WNLI', 'RTE', 'MRPC', 'STS-B', 'CoLA', 'SST-2', 'QQP', 'QNLI', 'MNLI_matched', 'MNLI_mismatched']\n",
    "\n",
    "counter = 0\n",
    "for dev in dev_list:\n",
    "    print('{}'.format(dev_names[counter]))\n",
    "    print('Number of sentences: {:,}'.format(dev.shape[0]))\n",
    "    print('\\n')\n",
    "    counter += 1"
   ]
  }
 ],
 "metadata": {
  "kernelspec": {
   "display_name": "Python 3",
   "language": "python",
   "name": "python3"
  },
  "language_info": {
   "codemirror_mode": {
    "name": "ipython",
    "version": 3
   },
   "file_extension": ".py",
   "mimetype": "text/x-python",
   "name": "python",
   "nbconvert_exporter": "python",
   "pygments_lexer": "ipython3",
   "version": "3.8.3"
  }
 },
 "nbformat": 4,
 "nbformat_minor": 4
}
